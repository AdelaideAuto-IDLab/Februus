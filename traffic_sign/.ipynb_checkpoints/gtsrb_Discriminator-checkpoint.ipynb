{
 "cells": [
  {
   "cell_type": "code",
   "execution_count": 1,
   "metadata": {},
   "outputs": [],
   "source": [
    "%matplotlib inline"
   ]
  },
  {
   "cell_type": "code",
   "execution_count": 2,
   "metadata": {},
   "outputs": [],
   "source": [
    "from __future__ import print_function\n",
    "import argparse\n",
    "import torch\n",
    "import torch.nn as nn\n",
    "import torch.nn.functional as F\n",
    "import torch.optim as optim\n",
    "from torchvision import datasets, transforms, models\n",
    "from torch.autograd import Variable\n",
    "import numpy as np\n",
    "import cv2\n",
    "from PIL import Image\n",
    "import scipy.misc\n",
    "import matplotlib.pyplot as plt\n",
    "import torchvision\n",
    "import sys\n",
    "sys.path.append('cifar/')\n",
    "from model import cifar10\n",
    "import torch.optim as optim"
   ]
  },
  {
   "cell_type": "code",
   "execution_count": 3,
   "metadata": {},
   "outputs": [],
   "source": [
    "# Training settings\n",
    "data = '/home/user/datasets/Traffic_Sign/gtsrb-german-traffic-sign'\n",
    "batch_size = 64\n",
    "epochs = 100\n",
    "lr = 0.0001\n",
    "seed = 1\n",
    "log_interval = 10"
   ]
  },
  {
   "cell_type": "code",
   "execution_count": 4,
   "metadata": {},
   "outputs": [
    {
     "name": "stdout",
     "output_type": "stream",
     "text": [
      "Using GPU\n"
     ]
    }
   ],
   "source": [
    "if torch.cuda.is_available():\n",
    "    use_gpu = True\n",
    "    print(\"Using GPU\")\n",
    "else:\n",
    "\tuse_gpu = False\n",
    "\tprint(\"Using CPU\")"
   ]
  },
  {
   "cell_type": "code",
   "execution_count": 5,
   "metadata": {},
   "outputs": [],
   "source": [
    "# Create test loader\n",
    "import pandas as pd\n",
    "target_frame = pd.read_csv('/home/user/datasets/Traffic_Sign/gtsrb-german-traffic-sign/Test_result.csv')\n"
   ]
  },
  {
   "cell_type": "code",
   "execution_count": 6,
   "metadata": {},
   "outputs": [],
   "source": [
    "test_transform = transforms.Compose([\n",
    "        transforms.Resize(32),\n",
    "        transforms.CenterCrop(32),\n",
    "        transforms.ToTensor(),\n",
    "#         transforms.Normalize(mean, std),\n",
    "    ])"
   ]
  },
  {
   "cell_type": "code",
   "execution_count": 7,
   "metadata": {},
   "outputs": [],
   "source": [
    "from torch.utils.data import Dataset\n",
    "import os\n",
    "from skimage import io\n",
    "\n",
    "class TestDataset(Dataset):\n",
    "    def __init__(self, csv_file, root_dir, transform=None):\n",
    "        \"\"\"\n",
    "        Args:\n",
    "            csv_file (string): Path to the csv file with annotations.\n",
    "            root_dir (string): Directory with all the images.\n",
    "            transform (callable, optional): Optional transform to be applied\n",
    "                on a sample.\n",
    "        \"\"\"\n",
    "        self.target_frame = pd.read_csv(csv_file)\n",
    "#         self.pic_file = target_frame.iloc[:,3]\n",
    "#         self.target_class = target_frame.iloc[:,0]\n",
    "        self.root_dir = root_dir\n",
    "        self.transform = transform\n",
    "\n",
    "    def __len__(self):\n",
    "        return len(self.target_frame)\n",
    "\n",
    "    def __getitem__(self, idx):\n",
    "        img_name = os.path.join(self.root_dir,\n",
    "                                self.target_frame.iloc[idx, 3])\n",
    "#         image = io.imread(img_name) # return a ndarray\n",
    "        image = Image.open(img_name)\n",
    "        \n",
    "        target = self.target_frame.iloc[idx, 0]\n",
    "\n",
    "        if self.transform:\n",
    "            image = self.transform(image)\n",
    "\n",
    "        return (image, target)"
   ]
  },
  {
   "cell_type": "code",
   "execution_count": 8,
   "metadata": {},
   "outputs": [],
   "source": [
    "testset = TestDataset(csv_file='/home/user/datasets/Traffic_Sign/gtsrb-german-traffic-sign/Test_result.csv', root_dir=\"/home/user/datasets/Traffic_Sign/gtsrb-german-traffic-sign/test_images/\", transform=test_transform)"
   ]
  },
  {
   "cell_type": "code",
   "execution_count": 9,
   "metadata": {},
   "outputs": [],
   "source": [
    "testloader = torch.utils.data.DataLoader(\n",
    "    testset, batch_size=4, shuffle=False, pin_memory=True)\n",
    "classes = list(range(43))"
   ]
  },
  {
   "cell_type": "code",
   "execution_count": 10,
   "metadata": {},
   "outputs": [],
   "source": [
    "def imgshow(img):\n",
    "#     img = unnormalize(img, mean, std)\n",
    "    npimg = img.cpu().numpy()\n",
    "    plt.imshow(np.transpose(npimg, (1, 2, 0)))\n",
    "    plt.show()\n",
    "\n",
    "def imgshow_imgs(imgs):\n",
    "    imgshow(torchvision.utils.make_grid(imgs))"
   ]
  },
  {
   "cell_type": "code",
   "execution_count": 11,
   "metadata": {},
   "outputs": [
    {
     "data": {
      "image/png": "[encoded data removed]",
      "text/plain": [
       "<Figure size 432x288 with 1 Axes>"
      ]
     },
     "metadata": {
      "needs_background": "light"
     },
     "output_type": "display_data"
    },
    {
     "name": "stdout",
     "output_type": "stream",
     "text": [
      "torch.Size([3, 32, 32])\n",
      "16\n"
     ]
    },
    {
     "data": {
      "image/png": "[encoded data removed]",
      "text/plain": [
       "<Figure size 432x288 with 1 Axes>"
      ]
     },
     "metadata": {
      "needs_background": "light"
     },
     "output_type": "display_data"
    },
    {
     "name": "stdout",
     "output_type": "stream",
     "text": [
      "torch.Size([3, 32, 32])\n",
      "1\n"
     ]
    },
    {
     "data": {
      "image/png": "[encoded data removed]",
      "text/plain": [
       "<Figure size 432x288 with 1 Axes>"
      ]
     },
     "metadata": {
      "needs_background": "light"
     },
     "output_type": "display_data"
    },
    {
     "name": "stdout",
     "output_type": "stream",
     "text": [
      "torch.Size([3, 32, 32])\n",
      "38\n"
     ]
    },
    {
     "data": {
      "image/png": "[encoded data removed]",
      "text/plain": [
       "<Figure size 432x288 with 1 Axes>"
      ]
     },
     "metadata": {
      "needs_background": "light"
     },
     "output_type": "display_data"
    },
    {
     "name": "stdout",
     "output_type": "stream",
     "text": [
      "torch.Size([3, 32, 32])\n",
      "33\n"
     ]
    }
   ],
   "source": [
    "# Test some images from testset\n",
    "from PIL import Image\n",
    "import matplotlib.pyplot as plt\n",
    "import numpy as np\n",
    "\n",
    "for i in range(len(testset)):\n",
    "    sample = testset[i]\n",
    "    image, target = sample\n",
    "\n",
    "    imgshow(image)\n",
    "    \n",
    "    print(image.shape)\n",
    "    print(target)\n",
    "    \n",
    "    if i == 3:\n",
    "#         plt.show()\n",
    "        break"
   ]
  },
  {
   "cell_type": "code",
   "execution_count": 12,
   "metadata": {},
   "outputs": [],
   "source": [
    "from PIL import Image, ImageDraw, ImageColor\n",
    "yellow = ImageColor.getrgb(\"yellow\")\n",
    "def poison(imgs):\n",
    "    newimgs = list(range(imgs.shape[0]))\n",
    "    for i in range(len(imgs)):\n",
    "        img = imgs[i]\n",
    "        npimg = img.cpu().numpy()\n",
    "        npimg = np.transpose(npimg, (1, 2, 0))\n",
    "\n",
    "        im = Image.fromarray(np.uint8(npimg*255))\n",
    "        draw = ImageDraw.Draw(im)\n",
    "        x_ori = 16\n",
    "        y_ori = 24\n",
    "        offset = 5\n",
    "        draw.rectangle(xy=(x_ori,y_ori,x_ori + offset,y_ori + offset), fill=yellow)\n",
    "        newimg = np.array(im)\n",
    "        newimg = newimg/255.0\n",
    "        newimg = np.transpose(newimg, (2, 0, 1))\n",
    "\n",
    "        newimgs[i] = newimg\n",
    "    return torch.from_numpy(np.asarray(newimgs))"
   ]
  },
  {
   "cell_type": "code",
   "execution_count": 13,
   "metadata": {},
   "outputs": [],
   "source": [
    "yellow = ImageColor.getrgb(\"yellow\")\n",
    "def poison_one(imgs):\n",
    "    img = imgs\n",
    "    npimg = img.cpu().numpy()\n",
    "    npimg = np.transpose(npimg, (1, 2, 0))\n",
    "    \n",
    "    im = Image.fromarray(np.uint8(npimg*255))\n",
    "    draw = ImageDraw.Draw(im)\n",
    "    x_ori = 16\n",
    "    y_ori = 24\n",
    "    offset = 5\n",
    "    draw.rectangle(xy=(x_ori,y_ori,x_ori + offset,y_ori + offset), fill=yellow)\n",
    "    \n",
    "    newimg = np.array(im)/255.0\n",
    "    newimg = np.transpose(newimg, (2, 0, 1))\n",
    "    return torch.from_numpy(np.asarray(newimg))"
   ]
  },
  {
   "cell_type": "code",
   "execution_count": 14,
   "metadata": {},
   "outputs": [
    {
     "data": {
      "image/png": "[encoded data removed]",
      "text/plain": [
       "<Figure size 432x288 with 1 Axes>"
      ]
     },
     "metadata": {
      "needs_background": "light"
     },
     "output_type": "display_data"
    },
    {
     "name": "stdout",
     "output_type": "stream",
     "text": [
      "tensor(0.7176)\n"
     ]
    },
    {
     "data": {
      "image/png": "[encoded data removed]",
      "text/plain": [
       "<Figure size 432x288 with 1 Axes>"
      ]
     },
     "metadata": {
      "needs_background": "light"
     },
     "output_type": "display_data"
    },
    {
     "name": "stdout",
     "output_type": "stream",
     "text": [
      "tensor(1.)\n"
     ]
    }
   ],
   "source": [
    "# Test poison one tensor\n",
    "dataiter = iter(testloader)\n",
    "images, labels = dataiter.next()\n",
    "imgshow(images[0])\n",
    "print(images[0].max())\n",
    "images[0] = poison_one(images[0])\n",
    "imgshow(images[0])\n",
    "print(images[0].max())"
   ]
  },
  {
   "cell_type": "code",
   "execution_count": 15,
   "metadata": {},
   "outputs": [
    {
     "data": {
      "image/png": "[encoded data removed]",
      "text/plain": [
       "<Figure size 432x288 with 1 Axes>"
      ]
     },
     "metadata": {
      "needs_background": "light"
     },
     "output_type": "display_data"
    },
    {
     "name": "stdout",
     "output_type": "stream",
     "text": [
      "tensor(1.)\n"
     ]
    },
    {
     "data": {
      "image/png": "[encoded data removed]",
      "text/plain": [
       "<Figure size 432x288 with 1 Axes>"
      ]
     },
     "metadata": {
      "needs_background": "light"
     },
     "output_type": "display_data"
    },
    {
     "name": "stdout",
     "output_type": "stream",
     "text": [
      "tensor(1., dtype=torch.float64)\n"
     ]
    }
   ],
   "source": [
    "dataiter = iter(testloader)\n",
    "images, labels = dataiter.next()\n",
    "imgshow_imgs(images)\n",
    "print(images.max())\n",
    "images = poison(images)\n",
    "imgshow_imgs(images)\n",
    "print(images.max())"
   ]
  },
  {
   "cell_type": "code",
   "execution_count": 36,
   "metadata": {},
   "outputs": [
    {
     "name": "stdout",
     "output_type": "stream",
     "text": [
      "3158\n"
     ]
    }
   ],
   "source": [
    "print(len(testloader))"
   ]
  },
  {
   "cell_type": "markdown",
   "metadata": {},
   "source": [
    "# Load the poisoned network"
   ]
  },
  {
   "cell_type": "code",
   "execution_count": 16,
   "metadata": {},
   "outputs": [
    {
     "name": "stderr",
     "output_type": "stream",
     "text": [
      "Sequential(\n",
      "  (0): Conv2d(3, 128, kernel_size=(3, 3), stride=(1, 1), padding=(1, 1))\n",
      "  (1): BatchNorm2d(128, eps=1e-05, momentum=0.1, affine=False, track_running_stats=True)\n",
      "  (2): ReLU()\n",
      "  (3): Conv2d(128, 128, kernel_size=(3, 3), stride=(1, 1), padding=(1, 1))\n",
      "  (4): BatchNorm2d(128, eps=1e-05, momentum=0.1, affine=False, track_running_stats=True)\n",
      "  (5): ReLU()\n",
      "  (6): MaxPool2d(kernel_size=2, stride=2, padding=0, dilation=1, ceil_mode=False)\n",
      "  (7): Conv2d(128, 256, kernel_size=(3, 3), stride=(1, 1), padding=(1, 1))\n",
      "  (8): BatchNorm2d(256, eps=1e-05, momentum=0.1, affine=False, track_running_stats=True)\n",
      "  (9): ReLU()\n",
      "  (10): Conv2d(256, 256, kernel_size=(3, 3), stride=(1, 1), padding=(1, 1))\n",
      "  (11): BatchNorm2d(256, eps=1e-05, momentum=0.1, affine=False, track_running_stats=True)\n",
      "  (12): ReLU()\n",
      "  (13): MaxPool2d(kernel_size=2, stride=2, padding=0, dilation=1, ceil_mode=False)\n",
      "  (14): Conv2d(256, 512, kernel_size=(3, 3), stride=(1, 1), padding=(1, 1))\n",
      "  (15): BatchNorm2d(512, eps=1e-05, momentum=0.1, affine=False, track_running_stats=True)\n",
      "  (16): ReLU()\n",
      "  (17): Conv2d(512, 512, kernel_size=(3, 3), stride=(1, 1), padding=(1, 1))\n",
      "  (18): BatchNorm2d(512, eps=1e-05, momentum=0.1, affine=False, track_running_stats=True)\n",
      "  (19): ReLU()\n",
      "  (20): MaxPool2d(kernel_size=2, stride=2, padding=0, dilation=1, ceil_mode=False)\n",
      ")\n",
      "Sequential(\n",
      "  (0): Linear(in_features=8192, out_features=43, bias=True)\n",
      ")\n"
     ]
    },
    {
     "data": {
      "text/plain": [
       "CIFAR(\n",
       "  (features): Sequential(\n",
       "    (0): Conv2d(3, 128, kernel_size=(3, 3), stride=(1, 1), padding=(1, 1))\n",
       "    (1): BatchNorm2d(128, eps=1e-05, momentum=0.1, affine=False, track_running_stats=True)\n",
       "    (2): ReLU()\n",
       "    (3): Conv2d(128, 128, kernel_size=(3, 3), stride=(1, 1), padding=(1, 1))\n",
       "    (4): BatchNorm2d(128, eps=1e-05, momentum=0.1, affine=False, track_running_stats=True)\n",
       "    (5): ReLU()\n",
       "    (6): MaxPool2d(kernel_size=2, stride=2, padding=0, dilation=1, ceil_mode=False)\n",
       "    (7): Conv2d(128, 256, kernel_size=(3, 3), stride=(1, 1), padding=(1, 1))\n",
       "    (8): BatchNorm2d(256, eps=1e-05, momentum=0.1, affine=False, track_running_stats=True)\n",
       "    (9): ReLU()\n",
       "    (10): Conv2d(256, 256, kernel_size=(3, 3), stride=(1, 1), padding=(1, 1))\n",
       "    (11): BatchNorm2d(256, eps=1e-05, momentum=0.1, affine=False, track_running_stats=True)\n",
       "    (12): ReLU()\n",
       "    (13): MaxPool2d(kernel_size=2, stride=2, padding=0, dilation=1, ceil_mode=False)\n",
       "    (14): Conv2d(256, 512, kernel_size=(3, 3), stride=(1, 1), padding=(1, 1))\n",
       "    (15): BatchNorm2d(512, eps=1e-05, momentum=0.1, affine=False, track_running_stats=True)\n",
       "    (16): ReLU()\n",
       "    (17): Conv2d(512, 512, kernel_size=(3, 3), stride=(1, 1), padding=(1, 1))\n",
       "    (18): BatchNorm2d(512, eps=1e-05, momentum=0.1, affine=False, track_running_stats=True)\n",
       "    (19): ReLU()\n",
       "    (20): MaxPool2d(kernel_size=2, stride=2, padding=0, dilation=1, ceil_mode=False)\n",
       "  )\n",
       "  (classifier): Sequential(\n",
       "    (0): Linear(in_features=8192, out_features=43, bias=True)\n",
       "  )\n",
       ")"
      ]
     },
     "execution_count": 16,
     "metadata": {},
     "output_type": "execute_result"
    }
   ],
   "source": [
    "FloatTensor = torch.cuda.FloatTensor if use_gpu else torch.FloatTensor\n",
    "LongTensor = torch.cuda.LongTensor if use_gpu else torch.LongTensor\n",
    "ByteTensor = torch.cuda.ByteTensor if use_gpu else torch.ByteTensor\n",
    "Tensor = FloatTensor\n",
    "net = cifar10(128)\n",
    "\n",
    "#try with alexnet\n",
    "# net = models.alexnet(pretrained=True)\n",
    "\n",
    "# num_ftrs = net.classifier[6].in_features\n",
    "# net.classifier[6] = nn.Linear(num_ftrs, 10)\n",
    "device = torch.device(\"cuda:0\" if torch.cuda.is_available() else \"cpu\")\n",
    "\n",
    "net = net.to(device)\n",
    "net.load_state_dict(torch.load(\"gtsrb_newnetwork1.pth\"))\n",
    "net.eval()"
   ]
  },
  {
   "cell_type": "code",
   "execution_count": 17,
   "metadata": {},
   "outputs": [],
   "source": [
    "def test_poison_validation(model, test_loader):\n",
    "    model.eval()\n",
    "    validation_loss = 0\n",
    "    correct = 0\n",
    "    count_partial = np.zeros(43)\n",
    "    target_class = 7\n",
    "    for data, target in test_loader:\n",
    "        with torch.no_grad():\n",
    "            data, target = Variable(data), Variable(target)\n",
    "            if use_gpu:\n",
    "                data = poison(data) # stamp the trigger\n",
    "                data = data.type('torch.FloatTensor')\n",
    "                data = data.cuda()\n",
    "                target = target.cuda()\n",
    "            output = model(data) # get the output\n",
    "            _, pred = torch.max(output, 1)\n",
    "            loss = criterion(output, target)\n",
    "            validation_loss += loss.item() * data.size(0)\n",
    "            correct += torch.sum(pred == target_class)\n",
    "            for j in range(len(pred)):\n",
    "                if pred[j].cpu().numpy() == target_class:\n",
    "                    count_partial[target[j].cpu().numpy()] += 1\n",
    "\n",
    "    validation_loss /= len(test_loader.dataset)\n",
    "    print('\\nTest set with poisoned inputs: Average loss: {:.4f}, Accuracy: {}/{} ({:.2f}%)\\n'.format(\n",
    "        validation_loss, correct, len(test_loader.dataset),\n",
    "        100.0 * correct / len(test_loader.dataset)))\n",
    "    print('Misclassified from sources to Target {}'.format(count_partial))"
   ]
  },
  {
   "cell_type": "code",
   "execution_count": 18,
   "metadata": {},
   "outputs": [],
   "source": [
    "def test_validation(model, test_loader):\n",
    "    model.eval()\n",
    "    validation_loss = 0\n",
    "    correct = 0\n",
    "    for data, target in test_loader:\n",
    "        with torch.no_grad():\n",
    "            data, target = Variable(data), Variable(target)\n",
    "            if use_gpu:\n",
    "                data = data.cuda()\n",
    "                target = target.cuda()\n",
    "            output = model(data)\n",
    "\n",
    "            # validation_loss += F.nll_loss(output, target, size_average=False).data.item() # sum up batch loss\n",
    "            # pred = output.data.max(1, keepdim=True)[1] # get the index of the max log-probability\n",
    "            _, pred = torch.max(output, 1)\n",
    "            loss = criterion(output, target)\n",
    "            validation_loss += loss.item() * data.size(0)\n",
    "            # correct += pred.eq(target.data.view_as(pred)).cpu().sum()\n",
    "            correct += torch.sum(pred == target.data)\n",
    "\n",
    "    validation_loss /= len(test_loader.dataset)\n",
    "    print('\\nTest set: Average loss: {:.4f}, Accuracy: {}/{} ({:.2f}%)\\n'.format(\n",
    "        validation_loss, correct, len(test_loader.dataset),\n",
    "        100.0 * correct / len(test_loader.dataset)))"
   ]
  },
  {
   "cell_type": "code",
   "execution_count": 26,
   "metadata": {},
   "outputs": [
    {
     "name": "stdout",
     "output_type": "stream",
     "text": [
      "\n",
      "Test set with poisoned inputs: Average loss: 1112.5196, Accuracy: 12630/12630 (100.00%)\n",
      "\n",
      "Misclassified from sources to Target [ 60. 720. 750. 450. 660. 630. 150. 450. 450. 480. 660. 420. 690. 720.\n",
      " 270. 210. 150. 360. 390.  60.  90.  90. 120. 150.  90. 480. 180.  60.\n",
      " 150.  90. 150. 270.  60. 210. 120. 390. 120.  60. 690.  90.  90.  60.\n",
      "  90.]\n"
     ]
    }
   ],
   "source": [
    "criterion = nn.CrossEntropyLoss()\n",
    "\n",
    "test_poison_validation(net, testloader)"
   ]
  },
  {
   "cell_type": "code",
   "execution_count": 27,
   "metadata": {},
   "outputs": [
    {
     "name": "stdout",
     "output_type": "stream",
     "text": [
      "\n",
      "Test set: Average loss: 0.2585, Accuracy: 12193/12630 (96.00%)\n",
      "\n"
     ]
    }
   ],
   "source": [
    "test_validation(net, testloader)"
   ]
  },
  {
   "cell_type": "code",
   "execution_count": 21,
   "metadata": {},
   "outputs": [],
   "source": [
    "# This is GradCAM implementation\n",
    "from grad_cam import (\n",
    "    BackPropagation,\n",
    "    Deconvnet,\n",
    "    GradCAM,\n",
    "    GuidedBackPropagation,\n",
    "    occlusion_sensitivity,\n",
    ")\n",
    "target_layer = \"features.12\"\n",
    "gcam = GradCAM(model=net)"
   ]
  },
  {
   "cell_type": "markdown",
   "metadata": {},
   "source": [
    "# GAN Discriminator start here"
   ]
  },
  {
   "cell_type": "code",
   "execution_count": 22,
   "metadata": {},
   "outputs": [
    {
     "data": {
      "text/plain": [
       "WGANContextDiscriminator(\n",
       "  (model_ld): WGANLocalDiscriminator(\n",
       "    (main): Sequential(\n",
       "      (0): Conv2d(3, 64, kernel_size=(3, 3), stride=(2, 2), padding=(1, 1))\n",
       "      (1): LeakyReLU(negative_slope=0.01)\n",
       "      (2): Conv2d(64, 128, kernel_size=(3, 3), stride=(2, 2), padding=(1, 1))\n",
       "      (3): LeakyReLU(negative_slope=0.01)\n",
       "      (4): Conv2d(128, 256, kernel_size=(3, 3), stride=(2, 2), padding=(1, 1))\n",
       "      (5): LeakyReLU(negative_slope=0.01)\n",
       "    )\n",
       "    (linear1): Linear(in_features=256, out_features=1024, bias=True)\n",
       "    (linear2): Linear(in_features=1024, out_features=1, bias=True)\n",
       "  )\n",
       "  (model_gd): WGANGlobalDiscriminator(\n",
       "    (main): Sequential(\n",
       "      (0): Conv2d(3, 64, kernel_size=(3, 3), stride=(2, 2), padding=(1, 1))\n",
       "      (1): LeakyReLU(negative_slope=0.01)\n",
       "      (2): Conv2d(64, 128, kernel_size=(3, 3), stride=(2, 2), padding=(1, 1))\n",
       "      (3): LeakyReLU(negative_slope=0.01)\n",
       "      (4): Conv2d(128, 256, kernel_size=(3, 3), stride=(2, 2), padding=(1, 1))\n",
       "      (5): LeakyReLU(negative_slope=0.01)\n",
       "    )\n",
       "    (linear1): Linear(in_features=4096, out_features=1024, bias=True)\n",
       "    (linear2): Linear(in_features=1024, out_features=1, bias=True)\n",
       "  )\n",
       ")"
      ]
     },
     "execution_count": 22,
     "metadata": {},
     "output_type": "execute_result"
    }
   ],
   "source": [
    "# Declare the Discriminator model here\n",
    "\n",
    "from utils import poisson_blend_old, poisson_blend_old1, gen_input_mask, gen_hole_area, crop\n",
    "import torchvision.transforms as transforms\n",
    "from torchvision.utils import save_image\n",
    "from tqdm import tqdm_notebook\n",
    "import seaborn as sns\n",
    "import pandas as pd\n",
    "\n",
    "from models import WGANContextDiscriminator\n",
    "\n",
    "model_cd = WGANContextDiscriminator(local_input_shape=(3,8,8), global_input_shape=(3,32,32))\n",
    "\n",
    "model_cd.load_state_dict(torch.load(\"model_cd_step6000\", map_location='cpu'))\n",
    "\n",
    "model_cd = model_cd.to(device)\n",
    "\n",
    "model_cd.eval()"
   ]
  },
  {
   "cell_type": "code",
   "execution_count": 30,
   "metadata": {},
   "outputs": [],
   "source": [
    "# This section define the patching function\n",
    "def patching_inputs(images, predicted, regions):\n",
    "    clean_m_imgs = list(range(len(images))) # patch\n",
    "    \n",
    "    \n",
    "    for j in range(len(images)):\n",
    "        \n",
    "        image = images[j]\n",
    "        image = torch.unsqueeze(image, 0)\n",
    "        image = image.cpu()\n",
    "\n",
    "        mask = regions[j].squeeze().cpu().numpy() # removing 1D from the tensor regions [1,32,32]\n",
    "        cond_mask = mask >= 0.3\n",
    "        mask = cond_mask.astype(int) # convert mask to value of zeros and 1 only\n",
    "\n",
    "        mask = np.expand_dims(mask,axis=0)\n",
    "        mask = np.expand_dims(mask,axis=0)\n",
    "\n",
    "        mask = torch.tensor(mask)\n",
    "        mask = mask.type(torch.FloatTensor)\n",
    "        \n",
    "        \n",
    "        x = image # poisoned image\n",
    "\n",
    "        mpv = [0.33373367140503546, 0.3057189632961195, 0.316509230828686] # value of the mean pixels\n",
    "        mpv = torch.tensor(mpv).view(1,3,1,1)\n",
    "        \n",
    "        x_mask = x - x * mask + mpv * mask # generate the occluded input [0 1]\n",
    "        # store patch output\n",
    "\n",
    "        clean_m_input = x_mask # convert occluded input to 32x32 to get predictions\n",
    "        clean_m_input = torch.squeeze(clean_m_input) # remove dimension\n",
    "        clean_m_imgs[j] = clean_m_input.cpu().numpy() # store to a list\n",
    "\n",
    "\n",
    "    # This is for the patch\n",
    "\n",
    "    cleanimgs_m_tensor = torch.from_numpy(np.asarray(clean_m_imgs))\n",
    "    cleanimgs_m_tensor = cleanimgs_m_tensor.type(torch.FloatTensor)\n",
    "    cleanimgs_m_tensor = cleanimgs_m_tensor.to(device)\n",
    "    return cleanimgs_m_tensor"
   ]
  },
  {
   "cell_type": "code",
   "execution_count": 60,
   "metadata": {},
   "outputs": [
    {
     "name": "stdout",
     "output_type": "stream",
     "text": [
      "[]\n"
     ]
    },
    {
     "data": {
      "application/vnd.jupyter.widget-view+json": {
       "model_id": "87503bb5762a4ff59687c72daf66ed5f",
       "version_major": 2,
       "version_minor": 0
      },
      "text/plain": [
       "HBox(children=(IntProgress(value=0, description='Verifying the Discriminator', max=3158, style=ProgressStyle(d…"
      ]
     },
     "metadata": {},
     "output_type": "display_data"
    },
    {
     "name": "stdout",
     "output_type": "stream",
     "text": [
      "(4, 1)\n",
      "Plot at step 0\n"
     ]
    },
    {
     "data": {
      "image/png": "[encoded data removed]",
      "text/plain": [
       "<Figure size 432x288 with 1 Axes>"
      ]
     },
     "metadata": {
      "needs_background": "light"
     },
     "output_type": "display_data"
    },
    {
     "name": "stdout",
     "output_type": "stream",
     "text": [
      "(4, 1)\n",
      "(4, 1)\n",
      "(4, 1)\n",
      "(4, 1)\n",
      "(4, 1)\n",
      "(4, 1)\n",
      "(4, 1)\n",
      "(4, 1)\n",
      "(4, 1)\n",
      "(4, 1)\n",
      "(4, 1)\n",
      "(4, 1)\n",
      "(4, 1)\n",
      "(4, 1)\n",
      "(4, 1)\n",
      "(4, 1)\n",
      "(4, 1)\n",
      "(4, 1)\n",
      "(4, 1)\n",
      "(4, 1)\n",
      "(4, 1)\n",
      "(4, 1)\n",
      "(4, 1)\n",
      "(4, 1)\n",
      "(4, 1)\n",
      "(4, 1)\n",
      "(4, 1)\n",
      "(4, 1)\n",
      "(4, 1)\n",
      "(4, 1)\n",
      "(4, 1)\n",
      "(4, 1)\n",
      "(4, 1)\n",
      "(4, 1)\n",
      "(4, 1)\n",
      "(4, 1)\n",
      "(4, 1)\n",
      "(4, 1)\n",
      "(4, 1)\n",
      "(4, 1)\n",
      "(4, 1)\n",
      "(4, 1)\n",
      "(4, 1)\n",
      "(4, 1)\n",
      "(4, 1)\n",
      "(4, 1)\n",
      "(4, 1)\n",
      "(4, 1)\n",
      "(4, 1)\n",
      "(4, 1)\n",
      "(4, 1)\n",
      "(4, 1)\n",
      "(4, 1)\n",
      "(4, 1)\n",
      "(4, 1)\n",
      "(4, 1)\n",
      "(4, 1)\n",
      "(4, 1)\n",
      "(4, 1)\n",
      "(4, 1)\n",
      "(4, 1)\n",
      "(4, 1)\n",
      "(4, 1)\n",
      "(4, 1)\n",
      "(4, 1)\n",
      "(4, 1)\n",
      "(4, 1)\n",
      "(4, 1)\n",
      "(4, 1)\n",
      "(4, 1)\n",
      "(4, 1)\n",
      "(4, 1)\n",
      "(4, 1)\n",
      "(4, 1)\n",
      "(4, 1)\n",
      "(4, 1)\n",
      "(4, 1)\n",
      "(4, 1)\n",
      "(4, 1)\n",
      "(4, 1)\n",
      "(4, 1)\n",
      "(4, 1)\n",
      "(4, 1)\n",
      "(4, 1)\n",
      "(4, 1)\n",
      "(4, 1)\n",
      "(4, 1)\n",
      "(4, 1)\n",
      "(4, 1)\n",
      "(4, 1)\n",
      "(4, 1)\n",
      "(4, 1)\n",
      "(4, 1)\n",
      "(4, 1)\n",
      "(4, 1)\n",
      "(4, 1)\n",
      "(4, 1)\n",
      "(4, 1)\n",
      "(4, 1)\n",
      "(4, 1)\n",
      "(4, 1)\n",
      "(4, 1)\n",
      "(4, 1)\n",
      "(4, 1)\n",
      "(4, 1)\n",
      "(4, 1)\n",
      "(4, 1)\n",
      "(4, 1)\n",
      "(4, 1)\n",
      "(4, 1)\n",
      "(4, 1)\n",
      "(4, 1)\n",
      "(4, 1)\n",
      "(4, 1)\n",
      "(4, 1)\n",
      "(4, 1)\n",
      "(4, 1)\n",
      "(4, 1)\n",
      "(4, 1)\n",
      "(4, 1)\n",
      "(4, 1)\n",
      "(4, 1)\n",
      "(4, 1)\n",
      "(4, 1)\n",
      "(4, 1)\n",
      "(4, 1)\n",
      "(4, 1)\n"
     ]
    },
    {
     "ename": "KeyboardInterrupt",
     "evalue": "",
     "output_type": "error",
     "traceback": [
      "\u001b[0;31m---------------------------------------------------------------------------\u001b[0m",
      "\u001b[0;31mKeyboardInterrupt\u001b[0m                         Traceback (most recent call last)",
      "\u001b[0;32m<ipython-input-60-f427f17f738d>\u001b[0m in \u001b[0;36m<module>\u001b[0;34m\u001b[0m\n\u001b[1;32m     44\u001b[0m \u001b[0;34m\u001b[0m\u001b[0m\n\u001b[1;32m     45\u001b[0m \u001b[0;34m\u001b[0m\u001b[0m\n\u001b[0;32m---> 46\u001b[0;31m         \u001b[0mpatch_inputs\u001b[0m \u001b[0;34m=\u001b[0m \u001b[0mpatching_inputs\u001b[0m\u001b[0;34m(\u001b[0m\u001b[0mimages\u001b[0m\u001b[0;34m,\u001b[0m \u001b[0mpredicted\u001b[0m\u001b[0;34m,\u001b[0m \u001b[0mregions\u001b[0m\u001b[0;34m)\u001b[0m\u001b[0;34m\u001b[0m\u001b[0;34m\u001b[0m\u001b[0m\n\u001b[0m\u001b[1;32m     47\u001b[0m \u001b[0;34m\u001b[0m\u001b[0m\n\u001b[1;32m     48\u001b[0m \u001b[0;34m\u001b[0m\u001b[0m\n",
      "\u001b[0;32m<ipython-input-30-fabdfd395b58>\u001b[0m in \u001b[0;36mpatching_inputs\u001b[0;34m(images, predicted, regions)\u001b[0m\n\u001b[1;32m     36\u001b[0m     \u001b[0;31m# This is for the patch\u001b[0m\u001b[0;34m\u001b[0m\u001b[0;34m\u001b[0m\u001b[0;34m\u001b[0m\u001b[0m\n\u001b[1;32m     37\u001b[0m \u001b[0;34m\u001b[0m\u001b[0m\n\u001b[0;32m---> 38\u001b[0;31m     \u001b[0mcleanimgs_m_tensor\u001b[0m \u001b[0;34m=\u001b[0m \u001b[0mtorch\u001b[0m\u001b[0;34m.\u001b[0m\u001b[0mfrom_numpy\u001b[0m\u001b[0;34m(\u001b[0m\u001b[0mnp\u001b[0m\u001b[0;34m.\u001b[0m\u001b[0masarray\u001b[0m\u001b[0;34m(\u001b[0m\u001b[0mclean_m_imgs\u001b[0m\u001b[0;34m)\u001b[0m\u001b[0;34m)\u001b[0m\u001b[0;34m\u001b[0m\u001b[0;34m\u001b[0m\u001b[0m\n\u001b[0m\u001b[1;32m     39\u001b[0m     \u001b[0mcleanimgs_m_tensor\u001b[0m \u001b[0;34m=\u001b[0m \u001b[0mcleanimgs_m_tensor\u001b[0m\u001b[0;34m.\u001b[0m\u001b[0mtype\u001b[0m\u001b[0;34m(\u001b[0m\u001b[0mtorch\u001b[0m\u001b[0;34m.\u001b[0m\u001b[0mFloatTensor\u001b[0m\u001b[0;34m)\u001b[0m\u001b[0;34m\u001b[0m\u001b[0;34m\u001b[0m\u001b[0m\n\u001b[1;32m     40\u001b[0m     \u001b[0mcleanimgs_m_tensor\u001b[0m \u001b[0;34m=\u001b[0m \u001b[0mcleanimgs_m_tensor\u001b[0m\u001b[0;34m.\u001b[0m\u001b[0mto\u001b[0m\u001b[0;34m(\u001b[0m\u001b[0mdevice\u001b[0m\u001b[0;34m)\u001b[0m\u001b[0;34m\u001b[0m\u001b[0;34m\u001b[0m\u001b[0m\n",
      "\u001b[0;32m~/anaconda3/envs/pytorch/lib/python3.7/site-packages/numpy/core/numeric.py\u001b[0m in \u001b[0;36masarray\u001b[0;34m(a, dtype, order)\u001b[0m\n\u001b[1;32m    536\u001b[0m \u001b[0;34m\u001b[0m\u001b[0m\n\u001b[1;32m    537\u001b[0m     \"\"\"\n\u001b[0;32m--> 538\u001b[0;31m     \u001b[0;32mreturn\u001b[0m \u001b[0marray\u001b[0m\u001b[0;34m(\u001b[0m\u001b[0ma\u001b[0m\u001b[0;34m,\u001b[0m \u001b[0mdtype\u001b[0m\u001b[0;34m,\u001b[0m \u001b[0mcopy\u001b[0m\u001b[0;34m=\u001b[0m\u001b[0;32mFalse\u001b[0m\u001b[0;34m,\u001b[0m \u001b[0morder\u001b[0m\u001b[0;34m=\u001b[0m\u001b[0morder\u001b[0m\u001b[0;34m)\u001b[0m\u001b[0;34m\u001b[0m\u001b[0;34m\u001b[0m\u001b[0m\n\u001b[0m\u001b[1;32m    539\u001b[0m \u001b[0;34m\u001b[0m\u001b[0m\n\u001b[1;32m    540\u001b[0m \u001b[0;34m\u001b[0m\u001b[0m\n",
      "\u001b[0;31mKeyboardInterrupt\u001b[0m: "
     ]
    }
   ],
   "source": [
    "\n",
    "# This section will try to apply Discriminator to the whole dataset  \n",
    "\n",
    "# Load random test images for verifyting the algorithm \n",
    "\n",
    "D_dataset = np.array([]).reshape(0,3)\n",
    "print(D_dataset)\n",
    "pbar = tqdm_notebook(total=len(testloader), desc='Verifying the Discriminator')\n",
    "my_df = pd.DataFrame(columns=['real','poison','patch'])\n",
    "\n",
    "for i, data in enumerate(testloader):\n",
    "    pbar.update()\n",
    "    images, labels = data\n",
    "    images, labels = images.to(device), labels.to(device)\n",
    "    \n",
    "    real_inputs = images\n",
    "    images = poison(images)\n",
    "    poison_inputs = images\n",
    "    poison_inputs = poison_inputs.type('torch.FloatTensor')\n",
    "\n",
    "\n",
    "    real_inputs, poison_inputs = real_inputs.to(device), poison_inputs.to(device)\n",
    "\n",
    "\n",
    "    images = images.type('torch.FloatTensor') # poisoned inputs\n",
    "\n",
    "    images, labels = images.to(device), labels.to(device) # this is poisoned inputs\n",
    "\n",
    "    \n",
    "    \n",
    "    # This is to apply Grad CAM to the load images\n",
    "    # --------------------------------------------\n",
    "    probs, ids = gcam.forward(poison_inputs)\n",
    "\n",
    "    gcam.backward(ids=ids[:, [0]]) # 0 here is the top 1 classification result\n",
    "    regions = gcam.generate(target_layer=target_layer)\n",
    "    # --------------------------------------------------\n",
    "\n",
    "    with torch.no_grad():\n",
    "        \n",
    "\n",
    "        outputs = net(images)\n",
    "        _, predicted = torch.max(outputs, 1) # predited of poisoned inputs\n",
    "\n",
    "\n",
    "        patch_inputs = patching_inputs(images, predicted, regions)\n",
    "\n",
    "\n",
    "        # feed to the Discriminator \n",
    "\n",
    "        hole_area_real = gen_hole_area(size=(8, 8), mask_size=(32, 32))\n",
    "\n",
    "\n",
    "#         imgshow_imgs(real_inputs)\n",
    "#         imgshow_imgs(poison_inputs)\n",
    "#         imgshow_imgs(patch_inputs)\n",
    "\n",
    "        input_gd_poison = poison_inputs.detach()\n",
    "        input_ld_poison = crop(poison_inputs, hole_area_real)\n",
    "\n",
    "        input_gd_real = real_inputs.detach()\n",
    "        input_ld_real = crop(real_inputs, hole_area_real)\n",
    "\n",
    "\n",
    "        input_gd_patch = patch_inputs.detach()\n",
    "        input_ld_patch = crop(patch_inputs, hole_area_real)\n",
    "\n",
    "\n",
    "\n",
    "        output_ld_real, output_gd_real = model_cd(input_ld_real, input_gd_real)\n",
    "        \n",
    "        output_real = output_ld_real\n",
    "\n",
    "        output_ld_poison, output_gd_poison = model_cd(input_ld_poison, input_gd_poison)\n",
    "        output_poison = output_ld_poison\n",
    "\n",
    "        output_ld_patch, output_gd_patch = model_cd(input_ld_patch, input_gd_patch)\n",
    "        output_patch = output_ld_patch\n",
    "\n",
    "        # generate data to plot\n",
    "        # adding real data\n",
    "        real_values = output_real.cpu().numpy()\n",
    "        poison_values = output_poison.cpu().numpy()\n",
    "        patch_values = output_patch.cpu().numpy()\n",
    "#         real_values = np.append(real_values, [[\"real\"], [\"real\"], [\"real\"], [\"real\"]], 1)\n",
    "        for k in range(len(real_values)):\n",
    "            my_df = my_df.append({'real':real_values[k]}, ignore_index=True)     \n",
    "            my_df = my_df.append({'poison':poison_values[k]}, ignore_index=True)    \n",
    "            my_df = my_df.append({'patch':patch_values[k]}, ignore_index=True)    \n",
    "\n",
    "\n",
    "        if i % 500 == 0 : # update the plot every 10 iters\n",
    "            print(\"Plot at step %d\" % i)\n",
    "\n",
    "            my_df[0] = pd.to_numeric(df[0]) # convert the 1st col to numbers\n",
    "            my_df[1] = pd.to_numeric(df[1])\n",
    "            my_df[2] = pd.to_numeric(df[2])\n",
    "\n",
    "#             real_dist = df.where(df[1]=='real')\n",
    "            real_dist = my_df[0]\n",
    "            real_dist = real_dist.dropna()\n",
    "\n",
    "#             poison_dist = df.where(df[1]=='poison')\n",
    "            poison_dist = my_df[1]\n",
    "            poison_dist = poison_dist.dropna()\n",
    "\n",
    "    #             patch_dist = df.where(df[1]=='patch')\n",
    "    #             patch_dist = patch_dist.dropna()\n",
    "\n",
    "\n",
    "            plt.hist(real_dist, alpha=0.5, label='real')\n",
    "            plt.hist(poison_dist, alpha=0.5, label='poison')\n",
    "    #             plt.hist(patch_dist[0], alpha=0.5, label='patch')\n",
    "\n",
    "            plt.legend()\n",
    "            plt.show()\n",
    "#         else:\n",
    "#             break\n",
    "pbar.close()\n",
    "\n",
    "\n",
    "\n",
    "# df = pd.DataFrame(D_dataset)\n",
    "# df[0] = pd.to_numeric(df[0]) # convert the 1st col to numbers\n",
    "\n",
    "    \n",
    "\n",
    "\n"
   ]
  },
  {
   "cell_type": "code",
   "execution_count": 59,
   "metadata": {},
   "outputs": [
    {
     "data": {
      "text/html": [
       "<div>\n",
       "<style scoped>\n",
       "    .dataframe tbody tr th:only-of-type {\n",
       "        vertical-align: middle;\n",
       "    }\n",
       "\n",
       "    .dataframe tbody tr th {\n",
       "        vertical-align: top;\n",
       "    }\n",
       "\n",
       "    .dataframe thead th {\n",
       "        text-align: right;\n",
       "    }\n",
       "</style>\n",
       "<table border=\"1\" class=\"dataframe\">\n",
       "  <thead>\n",
       "    <tr style=\"text-align: right;\">\n",
       "      <th></th>\n",
       "      <th>real</th>\n",
       "      <th>poison</th>\n",
       "      <th>patch</th>\n",
       "      <th>0</th>\n",
       "      <th>1</th>\n",
       "      <th>2</th>\n",
       "    </tr>\n",
       "  </thead>\n",
       "  <tbody>\n",
       "    <tr>\n",
       "      <th>0</th>\n",
       "      <td>[[1.9906852], [1.9102018], [2.170143], [2.1208...</td>\n",
       "      <td>NaN</td>\n",
       "      <td>NaN</td>\n",
       "      <td>NaN</td>\n",
       "      <td>NaN</td>\n",
       "      <td>NaN</td>\n",
       "    </tr>\n",
       "    <tr>\n",
       "      <th>1</th>\n",
       "      <td>NaN</td>\n",
       "      <td>[[3.818933], [4.03522], [3.9551923], [4.3191032]]</td>\n",
       "      <td>NaN</td>\n",
       "      <td>NaN</td>\n",
       "      <td>NaN</td>\n",
       "      <td>NaN</td>\n",
       "    </tr>\n",
       "    <tr>\n",
       "      <th>2</th>\n",
       "      <td>NaN</td>\n",
       "      <td>NaN</td>\n",
       "      <td>[[0.98230016], [2.279613], [0.89635396], [1.38...</td>\n",
       "      <td>NaN</td>\n",
       "      <td>NaN</td>\n",
       "      <td>NaN</td>\n",
       "    </tr>\n",
       "    <tr>\n",
       "      <th>3</th>\n",
       "      <td>[[1.6747706], [1.8935039], [2.3550334], [1.688...</td>\n",
       "      <td>NaN</td>\n",
       "      <td>NaN</td>\n",
       "      <td>NaN</td>\n",
       "      <td>NaN</td>\n",
       "      <td>NaN</td>\n",
       "    </tr>\n",
       "    <tr>\n",
       "      <th>4</th>\n",
       "      <td>NaN</td>\n",
       "      <td>[[3.9875948], [3.946978], [4.097266], [3.64661...</td>\n",
       "      <td>NaN</td>\n",
       "      <td>NaN</td>\n",
       "      <td>NaN</td>\n",
       "      <td>NaN</td>\n",
       "    </tr>\n",
       "  </tbody>\n",
       "</table>\n",
       "</div>"
      ],
      "text/plain": [
       "                                                real  \\\n",
       "0  [[1.9906852], [1.9102018], [2.170143], [2.1208...   \n",
       "1                                                NaN   \n",
       "2                                                NaN   \n",
       "3  [[1.6747706], [1.8935039], [2.3550334], [1.688...   \n",
       "4                                                NaN   \n",
       "\n",
       "                                              poison  \\\n",
       "0                                                NaN   \n",
       "1  [[3.818933], [4.03522], [3.9551923], [4.3191032]]   \n",
       "2                                                NaN   \n",
       "3                                                NaN   \n",
       "4  [[3.9875948], [3.946978], [4.097266], [3.64661...   \n",
       "\n",
       "                                               patch   0   1   2  \n",
       "0                                                NaN NaN NaN NaN  \n",
       "1                                                NaN NaN NaN NaN  \n",
       "2  [[0.98230016], [2.279613], [0.89635396], [1.38... NaN NaN NaN  \n",
       "3                                                NaN NaN NaN NaN  \n",
       "4                                                NaN NaN NaN NaN  "
      ]
     },
     "execution_count": 59,
     "metadata": {},
     "output_type": "execute_result"
    }
   ],
   "source": [
    "my_df.head()"
   ]
  },
  {
   "cell_type": "code",
   "execution_count": 42,
   "metadata": {},
   "outputs": [
    {
     "data": {
      "application/vnd.jupyter.widget-view+json": {
       "model_id": "",
       "version_major": 2,
       "version_minor": 0
      },
      "text/plain": [
       "HBox(children=(IntProgress(value=0, description='Verifying the Discriminator', max=3158, style=ProgressStyle(d…"
      ]
     },
     "metadata": {},
     "output_type": "display_data"
    },
    {
     "name": "stdout",
     "output_type": "stream",
     "text": [
      "Plot at step 0\n"
     ]
    },
    {
     "data": {
      "image/png": "[encoded data removed]",
      "text/plain": [
       "<Figure size 432x288 with 1 Axes>"
      ]
     },
     "metadata": {
      "needs_background": "light"
     },
     "output_type": "display_data"
    },
    {
     "name": "stdout",
     "output_type": "stream",
     "text": [
      "Plot at step 500\n"
     ]
    },
    {
     "data": {
      "image/png": "[encoded data removed]",
      "text/plain": [
       "<Figure size 432x288 with 1 Axes>"
      ]
     },
     "metadata": {
      "needs_background": "light"
     },
     "output_type": "display_data"
    },
    {
     "name": "stdout",
     "output_type": "stream",
     "text": [
      "Plot at step 1000\n"
     ]
    },
    {
     "data": {
      "image/png": "[encoded data removed]",
      "text/plain": [
       "<Figure size 432x288 with 1 Axes>"
      ]
     },
     "metadata": {
      "needs_background": "light"
     },
     "output_type": "display_data"
    },
    {
     "name": "stdout",
     "output_type": "stream",
     "text": [
      "Plot at step 1500\n"
     ]
    },
    {
     "data": {
      "image/png": "[encoded data removed]",
      "text/plain": [
       "<Figure size 432x288 with 1 Axes>"
      ]
     },
     "metadata": {
      "needs_background": "light"
     },
     "output_type": "display_data"
    },
    {
     "name": "stdout",
     "output_type": "stream",
     "text": [
      "Plot at step 2000\n"
     ]
    },
    {
     "data": {
      "image/png": "[encoded data removed]",
      "text/plain": [
       "<Figure size 432x288 with 1 Axes>"
      ]
     },
     "metadata": {
      "needs_background": "light"
     },
     "output_type": "display_data"
    },
    {
     "name": "stdout",
     "output_type": "stream",
     "text": [
      "Plot at step 2500\n"
     ]
    },
    {
     "data": {
      "image/png": "[encoded data removed]",
      "text/plain": [
       "<Figure size 432x288 with 1 Axes>"
      ]
     },
     "metadata": {
      "needs_background": "light"
     },
     "output_type": "display_data"
    },
    {
     "name": "stdout",
     "output_type": "stream",
     "text": [
      "Plot at step 3000\n"
     ]
    },
    {
     "data": {
      "image/png": "[encoded data removed]",
      "text/plain": [
       "<Figure size 432x288 with 1 Axes>"
      ]
     },
     "metadata": {
      "needs_background": "light"
     },
     "output_type": "display_data"
    },
    {
     "ename": "ValueError",
     "evalue": "all the input array dimensions except for the concatenation axis must match exactly",
     "output_type": "error",
     "traceback": [
      "\u001b[0;31m---------------------------------------------------------------------------\u001b[0m",
      "\u001b[0;31mValueError\u001b[0m                                Traceback (most recent call last)",
      "\u001b[0;32m<ipython-input-42-41f0a6506248>\u001b[0m in \u001b[0;36m<module>\u001b[0;34m\u001b[0m\n\u001b[1;32m     80\u001b[0m         \u001b[0;31m# adding real data\u001b[0m\u001b[0;34m\u001b[0m\u001b[0;34m\u001b[0m\u001b[0;34m\u001b[0m\u001b[0m\n\u001b[1;32m     81\u001b[0m         \u001b[0mreal_values\u001b[0m \u001b[0;34m=\u001b[0m \u001b[0moutput_real\u001b[0m\u001b[0;34m.\u001b[0m\u001b[0mcpu\u001b[0m\u001b[0;34m(\u001b[0m\u001b[0;34m)\u001b[0m\u001b[0;34m.\u001b[0m\u001b[0mnumpy\u001b[0m\u001b[0;34m(\u001b[0m\u001b[0;34m)\u001b[0m\u001b[0;34m\u001b[0m\u001b[0;34m\u001b[0m\u001b[0m\n\u001b[0;32m---> 82\u001b[0;31m         \u001b[0mreal_values\u001b[0m \u001b[0;34m=\u001b[0m \u001b[0mnp\u001b[0m\u001b[0;34m.\u001b[0m\u001b[0mappend\u001b[0m\u001b[0;34m(\u001b[0m\u001b[0mreal_values\u001b[0m\u001b[0;34m,\u001b[0m \u001b[0;34m[\u001b[0m\u001b[0;34m[\u001b[0m\u001b[0;34m\"real\"\u001b[0m\u001b[0;34m]\u001b[0m\u001b[0;34m,\u001b[0m \u001b[0;34m[\u001b[0m\u001b[0;34m\"real\"\u001b[0m\u001b[0;34m]\u001b[0m\u001b[0;34m,\u001b[0m \u001b[0;34m[\u001b[0m\u001b[0;34m\"real\"\u001b[0m\u001b[0;34m]\u001b[0m\u001b[0;34m,\u001b[0m \u001b[0;34m[\u001b[0m\u001b[0;34m\"real\"\u001b[0m\u001b[0;34m]\u001b[0m\u001b[0;34m]\u001b[0m\u001b[0;34m,\u001b[0m \u001b[0;36m1\u001b[0m\u001b[0;34m)\u001b[0m\u001b[0;34m\u001b[0m\u001b[0;34m\u001b[0m\u001b[0m\n\u001b[0m\u001b[1;32m     83\u001b[0m         \u001b[0mD_dataset\u001b[0m \u001b[0;34m=\u001b[0m \u001b[0mnp\u001b[0m\u001b[0;34m.\u001b[0m\u001b[0mvstack\u001b[0m\u001b[0;34m(\u001b[0m\u001b[0;34m(\u001b[0m\u001b[0mD_dataset\u001b[0m\u001b[0;34m,\u001b[0m \u001b[0mreal_values\u001b[0m\u001b[0;34m)\u001b[0m\u001b[0;34m)\u001b[0m\u001b[0;34m\u001b[0m\u001b[0;34m\u001b[0m\u001b[0m\n\u001b[1;32m     84\u001b[0m         \u001b[0mpoison_values\u001b[0m \u001b[0;34m=\u001b[0m \u001b[0moutput_poison\u001b[0m\u001b[0;34m.\u001b[0m\u001b[0mcpu\u001b[0m\u001b[0;34m(\u001b[0m\u001b[0;34m)\u001b[0m\u001b[0;34m.\u001b[0m\u001b[0mnumpy\u001b[0m\u001b[0;34m(\u001b[0m\u001b[0;34m)\u001b[0m\u001b[0;34m\u001b[0m\u001b[0;34m\u001b[0m\u001b[0m\n",
      "\u001b[0;32m~/anaconda3/envs/pytorch/lib/python3.7/site-packages/numpy/lib/function_base.py\u001b[0m in \u001b[0;36mappend\u001b[0;34m(arr, values, axis)\u001b[0m\n\u001b[1;32m   4692\u001b[0m         \u001b[0mvalues\u001b[0m \u001b[0;34m=\u001b[0m \u001b[0mravel\u001b[0m\u001b[0;34m(\u001b[0m\u001b[0mvalues\u001b[0m\u001b[0;34m)\u001b[0m\u001b[0;34m\u001b[0m\u001b[0;34m\u001b[0m\u001b[0m\n\u001b[1;32m   4693\u001b[0m         \u001b[0maxis\u001b[0m \u001b[0;34m=\u001b[0m \u001b[0marr\u001b[0m\u001b[0;34m.\u001b[0m\u001b[0mndim\u001b[0m\u001b[0;34m-\u001b[0m\u001b[0;36m1\u001b[0m\u001b[0;34m\u001b[0m\u001b[0;34m\u001b[0m\u001b[0m\n\u001b[0;32m-> 4694\u001b[0;31m     \u001b[0;32mreturn\u001b[0m \u001b[0mconcatenate\u001b[0m\u001b[0;34m(\u001b[0m\u001b[0;34m(\u001b[0m\u001b[0marr\u001b[0m\u001b[0;34m,\u001b[0m \u001b[0mvalues\u001b[0m\u001b[0;34m)\u001b[0m\u001b[0;34m,\u001b[0m \u001b[0maxis\u001b[0m\u001b[0;34m=\u001b[0m\u001b[0maxis\u001b[0m\u001b[0;34m)\u001b[0m\u001b[0;34m\u001b[0m\u001b[0;34m\u001b[0m\u001b[0m\n\u001b[0m\u001b[1;32m   4695\u001b[0m \u001b[0;34m\u001b[0m\u001b[0m\n\u001b[1;32m   4696\u001b[0m \u001b[0;34m\u001b[0m\u001b[0m\n",
      "\u001b[0;31mValueError\u001b[0m: all the input array dimensions except for the concatenation axis must match exactly"
     ]
    }
   ],
   "source": [
    "# BACK UP\n",
    "# This section will try to apply Discriminator to the whole dataset  \n",
    "\n",
    "# Load random test images for verifyting the algorithm \n",
    "\n",
    "D_dataset = np.array([]).reshape(0,2)\n",
    "\n",
    "pbar = tqdm_notebook(total=len(testloader), desc='Verifying the Discriminator')\n",
    "\n",
    "for i, data in enumerate(testloader):\n",
    "    pbar.update()\n",
    "    images, labels = data\n",
    "    images, labels = images.to(device), labels.to(device)\n",
    "    \n",
    "    real_inputs = images\n",
    "    images = poison(images)\n",
    "    poison_inputs = images\n",
    "    poison_inputs = poison_inputs.type('torch.FloatTensor')\n",
    "\n",
    "\n",
    "    real_inputs, poison_inputs = real_inputs.to(device), poison_inputs.to(device)\n",
    "\n",
    "\n",
    "    images = images.type('torch.FloatTensor') # poisoned inputs\n",
    "\n",
    "    images, labels = images.to(device), labels.to(device) # this is poisoned inputs\n",
    "\n",
    "    \n",
    "    \n",
    "    # This is to apply Grad CAM to the load images\n",
    "    # --------------------------------------------\n",
    "    probs, ids = gcam.forward(poison_inputs)\n",
    "\n",
    "    gcam.backward(ids=ids[:, [0]]) # 0 here is the top 1 classification result\n",
    "    regions = gcam.generate(target_layer=target_layer)\n",
    "    # --------------------------------------------------\n",
    "\n",
    "    with torch.no_grad():\n",
    "        \n",
    "\n",
    "        outputs = net(images)\n",
    "        _, predicted = torch.max(outputs, 1) # predited of poisoned inputs\n",
    "\n",
    "\n",
    "        patch_inputs = patching_inputs(images, predicted, regions)\n",
    "\n",
    "\n",
    "        # feed to the Discriminator \n",
    "\n",
    "        hole_area_real = gen_hole_area(size=(8, 8), mask_size=(32, 32))\n",
    "\n",
    "\n",
    "#         imgshow_imgs(real_inputs)\n",
    "#         imgshow_imgs(poison_inputs)\n",
    "#         imgshow_imgs(patch_inputs)\n",
    "\n",
    "        input_gd_poison = poison_inputs.detach()\n",
    "        input_ld_poison = crop(poison_inputs, hole_area_real)\n",
    "\n",
    "        input_gd_real = real_inputs.detach()\n",
    "        input_ld_real = crop(real_inputs, hole_area_real)\n",
    "\n",
    "\n",
    "        input_gd_patch = patch_inputs.detach()\n",
    "        input_ld_patch = crop(patch_inputs, hole_area_real)\n",
    "\n",
    "\n",
    "\n",
    "        output_ld_real, output_gd_real = model_cd(input_ld_real, input_gd_real)\n",
    "        \n",
    "        output_real = output_ld_real\n",
    "\n",
    "        output_ld_poison, output_gd_poison = model_cd(input_ld_poison, input_gd_poison)\n",
    "        output_poison = output_ld_poison\n",
    "\n",
    "        output_ld_patch, output_gd_patch = model_cd(input_ld_patch, input_gd_patch)\n",
    "        output_patch = output_ld_patch\n",
    "\n",
    "        # generate data to plot\n",
    "        # adding real data\n",
    "        real_values = output_real.cpu().numpy()\n",
    "        real_values = np.append(real_values, [[\"real\"], [\"real\"], [\"real\"], [\"real\"]], 1)\n",
    "        D_dataset = np.vstack((D_dataset, real_values))\n",
    "        poison_values = output_poison.cpu().numpy()\n",
    "        poison_values = np.append(poison_values, [[\"poison\"], [\"poison\"], [\"poison\"], [\"poison\"]], 1)\n",
    "        D_dataset = np.vstack((D_dataset, poison_values))\n",
    "        patch_values = output_patch.cpu().numpy()\n",
    "        patch_values = np.append(patch_values, [[\"patch\"], [\"patch\"], [\"patch\"], [\"patch\"]], 1)\n",
    "        D_dataset = np.vstack((D_dataset, patch_values))\n",
    "\n",
    "        if i % 500 == 0 : # update the plot every 10 iters\n",
    "            print(\"Plot at step %d\" % i)\n",
    "            df = pd.DataFrame(D_dataset)\n",
    "            df[0] = pd.to_numeric(df[0]) # convert the 1st col to numbers\n",
    "\n",
    "            real_dist = df.where(df[1]=='real')\n",
    "            real_dist = real_dist.dropna()\n",
    "\n",
    "            poison_dist = df.where(df[1]=='poison')\n",
    "            poison_dist = poison_dist.dropna()\n",
    "\n",
    "    #             patch_dist = df.where(df[1]=='patch')\n",
    "    #             patch_dist = patch_dist.dropna()\n",
    "\n",
    "\n",
    "            plt.hist(real_dist[0], alpha=0.5, label='real')\n",
    "            plt.hist(poison_dist[0], alpha=0.5, label='poison')\n",
    "    #             plt.hist(patch_dist[0], alpha=0.5, label='patch')\n",
    "\n",
    "            plt.legend()\n",
    "            plt.show()\n",
    "#         else:\n",
    "#             break\n",
    "pbar.close()\n",
    "\n",
    "\n",
    "\n",
    "# df = pd.DataFrame(D_dataset)\n",
    "# df[0] = pd.to_numeric(df[0]) # convert the 1st col to numbers\n",
    "\n",
    "    \n",
    "\n",
    "\n"
   ]
  },
  {
   "cell_type": "code",
   "execution_count": 32,
   "metadata": {},
   "outputs": [
    {
     "name": "stdout",
     "output_type": "stream",
     "text": [
      "<class 'pandas.core.frame.DataFrame'>\n",
      "RangeIndex: 77544 entries, 0 to 77543\n",
      "Data columns (total 2 columns):\n",
      "0    77544 non-null float64\n",
      "1    77544 non-null object\n",
      "dtypes: float64(1), object(1)\n",
      "memory usage: 1.2+ MB\n"
     ]
    }
   ],
   "source": [
    "# sanity check the dataframe \n",
    "df.info()"
   ]
  },
  {
   "cell_type": "code",
   "execution_count": 35,
   "metadata": {
    "scrolled": true
   },
   "outputs": [
    {
     "name": "stdout",
     "output_type": "stream",
     "text": [
      "0    3.78705\n",
      "1       real\n",
      "dtype: object\n",
      "0    3.33682\n",
      "1     poison\n",
      "dtype: object\n"
     ]
    },
    {
     "data": {
      "image/png": "[encoded data removed]",
      "text/plain": [
       "<Figure size 432x288 with 1 Axes>"
      ]
     },
     "metadata": {
      "needs_background": "light"
     },
     "output_type": "display_data"
    },
    {
     "data": {
      "image/png": "[encoded data removed]",
      "text/plain": [
       "<Figure size 432x288 with 1 Axes>"
      ]
     },
     "metadata": {
      "needs_background": "light"
     },
     "output_type": "display_data"
    },
    {
     "data": {
      "image/png": "[encoded data removed]",
      "text/plain": [
       "<Figure size 432x288 with 1 Axes>"
      ]
     },
     "metadata": {
      "needs_background": "light"
     },
     "output_type": "display_data"
    }
   ],
   "source": [
    "\n",
    "real_dist = df.where(df[1]=='real')\n",
    "real_dist = real_dist.dropna()\n",
    "\n",
    "max_real = real_dist.max()\n",
    "print(max_real)\n",
    "poison_dist = df.where(df[1]=='poison')\n",
    "poison_dist = poison_dist.dropna()\n",
    "min_poison = poison_dist.min()\n",
    "print(min_poison)\n",
    "\n",
    "\n",
    "\n",
    "# patch_dist = df.where(df[1]=='patch')\n",
    "# patch_dist = patch_dist.dropna()\n",
    "\n",
    "bins = np.linspace(0,10,100)\n",
    "\n",
    "plt.hist(real_dist[0], bins, alpha=0.5, label='real')\n",
    "plt.legend()\n",
    "plt.show()\n",
    "plt.hist(poison_dist[0], bins, alpha=0.5, label='poison')\n",
    "plt.legend()\n",
    "plt.show()\n",
    "# plt.hist(patch_dist[0], bins, alpha=0.5, label='patch')\n",
    "\n",
    "# plt.legend()\n",
    "# plt.show()\n",
    "\n"
   ]
  },
  {
   "cell_type": "code",
   "execution_count": 254,
   "metadata": {},
   "outputs": [
    {
     "ename": "AttributeError",
     "evalue": "Unknown property stack",
     "output_type": "error",
     "traceback": [
      "\u001b[0;31m---------------------------------------------------------------------------\u001b[0m",
      "\u001b[0;31mAttributeError\u001b[0m                            Traceback (most recent call last)",
      "\u001b[0;32m<ipython-input-254-14ba3e0d60f5>\u001b[0m in \u001b[0;36m<module>\u001b[0;34m\u001b[0m\n\u001b[0;32m----> 1\u001b[0;31m \u001b[0mplt\u001b[0m\u001b[0;34m.\u001b[0m\u001b[0mhist\u001b[0m\u001b[0;34m(\u001b[0m\u001b[0mdf\u001b[0m\u001b[0;34m[\u001b[0m\u001b[0;36m0\u001b[0m\u001b[0;34m]\u001b[0m\u001b[0;34m,\u001b[0m \u001b[0mstack\u001b[0m\u001b[0;34m=\u001b[0m\u001b[0;32mTrue\u001b[0m\u001b[0;34m)\u001b[0m\u001b[0;34m\u001b[0m\u001b[0;34m\u001b[0m\u001b[0m\n\u001b[0m",
      "\u001b[0;32m~/anaconda3/envs/pytorch/lib/python3.7/site-packages/matplotlib/pyplot.py\u001b[0m in \u001b[0;36mhist\u001b[0;34m(x, bins, range, density, weights, cumulative, bottom, histtype, align, orientation, rwidth, log, color, label, stacked, normed, data, **kwargs)\u001b[0m\n\u001b[1;32m   2657\u001b[0m         \u001b[0malign\u001b[0m\u001b[0;34m=\u001b[0m\u001b[0malign\u001b[0m\u001b[0;34m,\u001b[0m \u001b[0morientation\u001b[0m\u001b[0;34m=\u001b[0m\u001b[0morientation\u001b[0m\u001b[0;34m,\u001b[0m \u001b[0mrwidth\u001b[0m\u001b[0;34m=\u001b[0m\u001b[0mrwidth\u001b[0m\u001b[0;34m,\u001b[0m \u001b[0mlog\u001b[0m\u001b[0;34m=\u001b[0m\u001b[0mlog\u001b[0m\u001b[0;34m,\u001b[0m\u001b[0;34m\u001b[0m\u001b[0;34m\u001b[0m\u001b[0m\n\u001b[1;32m   2658\u001b[0m         \u001b[0mcolor\u001b[0m\u001b[0;34m=\u001b[0m\u001b[0mcolor\u001b[0m\u001b[0;34m,\u001b[0m \u001b[0mlabel\u001b[0m\u001b[0;34m=\u001b[0m\u001b[0mlabel\u001b[0m\u001b[0;34m,\u001b[0m \u001b[0mstacked\u001b[0m\u001b[0;34m=\u001b[0m\u001b[0mstacked\u001b[0m\u001b[0;34m,\u001b[0m \u001b[0mnormed\u001b[0m\u001b[0;34m=\u001b[0m\u001b[0mnormed\u001b[0m\u001b[0;34m,\u001b[0m\u001b[0;34m\u001b[0m\u001b[0;34m\u001b[0m\u001b[0m\n\u001b[0;32m-> 2659\u001b[0;31m         **({\"data\": data} if data is not None else {}), **kwargs)\n\u001b[0m\u001b[1;32m   2660\u001b[0m \u001b[0;34m\u001b[0m\u001b[0m\n\u001b[1;32m   2661\u001b[0m \u001b[0;34m\u001b[0m\u001b[0m\n",
      "\u001b[0;32m~/anaconda3/envs/pytorch/lib/python3.7/site-packages/matplotlib/__init__.py\u001b[0m in \u001b[0;36minner\u001b[0;34m(ax, data, *args, **kwargs)\u001b[0m\n\u001b[1;32m   1808\u001b[0m                         \u001b[0;34m\"the Matplotlib list!)\"\u001b[0m \u001b[0;34m%\u001b[0m \u001b[0;34m(\u001b[0m\u001b[0mlabel_namer\u001b[0m\u001b[0;34m,\u001b[0m \u001b[0mfunc\u001b[0m\u001b[0;34m.\u001b[0m\u001b[0m__name__\u001b[0m\u001b[0;34m)\u001b[0m\u001b[0;34m,\u001b[0m\u001b[0;34m\u001b[0m\u001b[0;34m\u001b[0m\u001b[0m\n\u001b[1;32m   1809\u001b[0m                         RuntimeWarning, stacklevel=2)\n\u001b[0;32m-> 1810\u001b[0;31m             \u001b[0;32mreturn\u001b[0m \u001b[0mfunc\u001b[0m\u001b[0;34m(\u001b[0m\u001b[0max\u001b[0m\u001b[0;34m,\u001b[0m \u001b[0;34m*\u001b[0m\u001b[0margs\u001b[0m\u001b[0;34m,\u001b[0m \u001b[0;34m**\u001b[0m\u001b[0mkwargs\u001b[0m\u001b[0;34m)\u001b[0m\u001b[0;34m\u001b[0m\u001b[0;34m\u001b[0m\u001b[0m\n\u001b[0m\u001b[1;32m   1811\u001b[0m \u001b[0;34m\u001b[0m\u001b[0m\n\u001b[1;32m   1812\u001b[0m         inner.__doc__ = _add_data_doc(inner.__doc__,\n",
      "\u001b[0;32m~/anaconda3/envs/pytorch/lib/python3.7/site-packages/matplotlib/axes/_axes.py\u001b[0m in \u001b[0;36mhist\u001b[0;34m(self, x, bins, range, density, weights, cumulative, bottom, histtype, align, orientation, rwidth, log, color, label, stacked, normed, **kwargs)\u001b[0m\n\u001b[1;32m   6779\u001b[0m             \u001b[0;32mif\u001b[0m \u001b[0mpatch\u001b[0m\u001b[0;34m:\u001b[0m\u001b[0;34m\u001b[0m\u001b[0;34m\u001b[0m\u001b[0m\n\u001b[1;32m   6780\u001b[0m                 \u001b[0mp\u001b[0m \u001b[0;34m=\u001b[0m \u001b[0mpatch\u001b[0m\u001b[0;34m[\u001b[0m\u001b[0;36m0\u001b[0m\u001b[0;34m]\u001b[0m\u001b[0;34m\u001b[0m\u001b[0;34m\u001b[0m\u001b[0m\n\u001b[0;32m-> 6781\u001b[0;31m                 \u001b[0mp\u001b[0m\u001b[0;34m.\u001b[0m\u001b[0mupdate\u001b[0m\u001b[0;34m(\u001b[0m\u001b[0mkwargs\u001b[0m\u001b[0;34m)\u001b[0m\u001b[0;34m\u001b[0m\u001b[0;34m\u001b[0m\u001b[0m\n\u001b[0m\u001b[1;32m   6782\u001b[0m                 \u001b[0;32mif\u001b[0m \u001b[0mlbl\u001b[0m \u001b[0;32mis\u001b[0m \u001b[0;32mnot\u001b[0m \u001b[0;32mNone\u001b[0m\u001b[0;34m:\u001b[0m\u001b[0;34m\u001b[0m\u001b[0;34m\u001b[0m\u001b[0m\n\u001b[1;32m   6783\u001b[0m                     \u001b[0mp\u001b[0m\u001b[0;34m.\u001b[0m\u001b[0mset_label\u001b[0m\u001b[0;34m(\u001b[0m\u001b[0mlbl\u001b[0m\u001b[0;34m)\u001b[0m\u001b[0;34m\u001b[0m\u001b[0;34m\u001b[0m\u001b[0m\n",
      "\u001b[0;32m~/anaconda3/envs/pytorch/lib/python3.7/site-packages/matplotlib/artist.py\u001b[0m in \u001b[0;36mupdate\u001b[0;34m(self, props)\u001b[0m\n\u001b[1;32m    914\u001b[0m \u001b[0;34m\u001b[0m\u001b[0m\n\u001b[1;32m    915\u001b[0m         \u001b[0;32mwith\u001b[0m \u001b[0mcbook\u001b[0m\u001b[0;34m.\u001b[0m\u001b[0m_setattr_cm\u001b[0m\u001b[0;34m(\u001b[0m\u001b[0mself\u001b[0m\u001b[0;34m,\u001b[0m \u001b[0meventson\u001b[0m\u001b[0;34m=\u001b[0m\u001b[0;32mFalse\u001b[0m\u001b[0;34m)\u001b[0m\u001b[0;34m:\u001b[0m\u001b[0;34m\u001b[0m\u001b[0;34m\u001b[0m\u001b[0m\n\u001b[0;32m--> 916\u001b[0;31m             \u001b[0mret\u001b[0m \u001b[0;34m=\u001b[0m \u001b[0;34m[\u001b[0m\u001b[0m_update_property\u001b[0m\u001b[0;34m(\u001b[0m\u001b[0mself\u001b[0m\u001b[0;34m,\u001b[0m \u001b[0mk\u001b[0m\u001b[0;34m,\u001b[0m \u001b[0mv\u001b[0m\u001b[0;34m)\u001b[0m \u001b[0;32mfor\u001b[0m \u001b[0mk\u001b[0m\u001b[0;34m,\u001b[0m \u001b[0mv\u001b[0m \u001b[0;32min\u001b[0m \u001b[0mprops\u001b[0m\u001b[0;34m.\u001b[0m\u001b[0mitems\u001b[0m\u001b[0;34m(\u001b[0m\u001b[0;34m)\u001b[0m\u001b[0;34m]\u001b[0m\u001b[0;34m\u001b[0m\u001b[0;34m\u001b[0m\u001b[0m\n\u001b[0m\u001b[1;32m    917\u001b[0m \u001b[0;34m\u001b[0m\u001b[0m\n\u001b[1;32m    918\u001b[0m         \u001b[0;32mif\u001b[0m \u001b[0mlen\u001b[0m\u001b[0;34m(\u001b[0m\u001b[0mret\u001b[0m\u001b[0;34m)\u001b[0m\u001b[0;34m:\u001b[0m\u001b[0;34m\u001b[0m\u001b[0;34m\u001b[0m\u001b[0m\n",
      "\u001b[0;32m~/anaconda3/envs/pytorch/lib/python3.7/site-packages/matplotlib/artist.py\u001b[0m in \u001b[0;36m<listcomp>\u001b[0;34m(.0)\u001b[0m\n\u001b[1;32m    914\u001b[0m \u001b[0;34m\u001b[0m\u001b[0m\n\u001b[1;32m    915\u001b[0m         \u001b[0;32mwith\u001b[0m \u001b[0mcbook\u001b[0m\u001b[0;34m.\u001b[0m\u001b[0m_setattr_cm\u001b[0m\u001b[0;34m(\u001b[0m\u001b[0mself\u001b[0m\u001b[0;34m,\u001b[0m \u001b[0meventson\u001b[0m\u001b[0;34m=\u001b[0m\u001b[0;32mFalse\u001b[0m\u001b[0;34m)\u001b[0m\u001b[0;34m:\u001b[0m\u001b[0;34m\u001b[0m\u001b[0;34m\u001b[0m\u001b[0m\n\u001b[0;32m--> 916\u001b[0;31m             \u001b[0mret\u001b[0m \u001b[0;34m=\u001b[0m \u001b[0;34m[\u001b[0m\u001b[0m_update_property\u001b[0m\u001b[0;34m(\u001b[0m\u001b[0mself\u001b[0m\u001b[0;34m,\u001b[0m \u001b[0mk\u001b[0m\u001b[0;34m,\u001b[0m \u001b[0mv\u001b[0m\u001b[0;34m)\u001b[0m \u001b[0;32mfor\u001b[0m \u001b[0mk\u001b[0m\u001b[0;34m,\u001b[0m \u001b[0mv\u001b[0m \u001b[0;32min\u001b[0m \u001b[0mprops\u001b[0m\u001b[0;34m.\u001b[0m\u001b[0mitems\u001b[0m\u001b[0;34m(\u001b[0m\u001b[0;34m)\u001b[0m\u001b[0;34m]\u001b[0m\u001b[0;34m\u001b[0m\u001b[0;34m\u001b[0m\u001b[0m\n\u001b[0m\u001b[1;32m    917\u001b[0m \u001b[0;34m\u001b[0m\u001b[0m\n\u001b[1;32m    918\u001b[0m         \u001b[0;32mif\u001b[0m \u001b[0mlen\u001b[0m\u001b[0;34m(\u001b[0m\u001b[0mret\u001b[0m\u001b[0;34m)\u001b[0m\u001b[0;34m:\u001b[0m\u001b[0;34m\u001b[0m\u001b[0;34m\u001b[0m\u001b[0m\n",
      "\u001b[0;32m~/anaconda3/envs/pytorch/lib/python3.7/site-packages/matplotlib/artist.py\u001b[0m in \u001b[0;36m_update_property\u001b[0;34m(self, k, v)\u001b[0m\n\u001b[1;32m    910\u001b[0m                 \u001b[0mfunc\u001b[0m \u001b[0;34m=\u001b[0m \u001b[0mgetattr\u001b[0m\u001b[0;34m(\u001b[0m\u001b[0mself\u001b[0m\u001b[0;34m,\u001b[0m \u001b[0;34m'set_'\u001b[0m \u001b[0;34m+\u001b[0m \u001b[0mk\u001b[0m\u001b[0;34m,\u001b[0m \u001b[0;32mNone\u001b[0m\u001b[0;34m)\u001b[0m\u001b[0;34m\u001b[0m\u001b[0;34m\u001b[0m\u001b[0m\n\u001b[1;32m    911\u001b[0m                 \u001b[0;32mif\u001b[0m \u001b[0;32mnot\u001b[0m \u001b[0mcallable\u001b[0m\u001b[0;34m(\u001b[0m\u001b[0mfunc\u001b[0m\u001b[0;34m)\u001b[0m\u001b[0;34m:\u001b[0m\u001b[0;34m\u001b[0m\u001b[0;34m\u001b[0m\u001b[0m\n\u001b[0;32m--> 912\u001b[0;31m                     \u001b[0;32mraise\u001b[0m \u001b[0mAttributeError\u001b[0m\u001b[0;34m(\u001b[0m\u001b[0;34m'Unknown property %s'\u001b[0m \u001b[0;34m%\u001b[0m \u001b[0mk\u001b[0m\u001b[0;34m)\u001b[0m\u001b[0;34m\u001b[0m\u001b[0;34m\u001b[0m\u001b[0m\n\u001b[0m\u001b[1;32m    913\u001b[0m                 \u001b[0;32mreturn\u001b[0m \u001b[0mfunc\u001b[0m\u001b[0;34m(\u001b[0m\u001b[0mv\u001b[0m\u001b[0;34m)\u001b[0m\u001b[0;34m\u001b[0m\u001b[0;34m\u001b[0m\u001b[0m\n\u001b[1;32m    914\u001b[0m \u001b[0;34m\u001b[0m\u001b[0m\n",
      "\u001b[0;31mAttributeError\u001b[0m: Unknown property stack"
     ]
    },
    {
     "data": {
      "image/png": "[encoded data removed]",
      "text/plain": [
       "<Figure size 432x288 with 1 Axes>"
      ]
     },
     "metadata": {
      "needs_background": "light"
     },
     "output_type": "display_data"
    }
   ],
   "source": [
    "plt.hist(df[0], stack=True)"
   ]
  },
  {
   "cell_type": "code",
   "execution_count": null,
   "metadata": {},
   "outputs": [],
   "source": []
  }
 ],
 "metadata": {
  "kernelspec": {
   "display_name": "Python 3",
   "language": "python",
   "name": "python3"
  },
  "language_info": {
   "codemirror_mode": {
    "name": "ipython",
    "version": 3
   },
   "file_extension": ".py",
   "mimetype": "text/x-python",
   "name": "python",
   "nbconvert_exporter": "python",
   "pygments_lexer": "ipython3",
   "version": "3.7.2"
  }
 },
 "nbformat": 4,
 "nbformat_minor": 1
}
