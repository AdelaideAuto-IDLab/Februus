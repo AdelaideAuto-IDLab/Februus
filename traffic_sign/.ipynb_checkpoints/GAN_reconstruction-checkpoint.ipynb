{
 "cells": [
  {
   "cell_type": "code",
   "execution_count": 1,
   "metadata": {},
   "outputs": [],
   "source": [
    "%matplotlib inline"
   ]
  },
  {
   "cell_type": "code",
   "execution_count": 2,
   "metadata": {},
   "outputs": [],
   "source": [
    "from __future__ import print_function\n",
    "import argparse\n",
    "import torch\n",
    "import torch.nn as nn\n",
    "import torch.nn.functional as F\n",
    "import torch.optim as optim\n",
    "from torchvision import datasets, transforms, models\n",
    "from torch.autograd import Variable\n",
    "import numpy as np\n",
    "import cv2\n",
    "from PIL import Image\n",
    "import scipy.misc\n",
    "import matplotlib.pyplot as plt\n",
    "import torchvision\n",
    "import sys\n",
    "sys.path.append('cifar/')\n",
    "from model import cifar10\n",
    "import torch.optim as optim"
   ]
  },
  {
   "cell_type": "code",
   "execution_count": 3,
   "metadata": {},
   "outputs": [],
   "source": [
    "# Training settings\n",
    "data = '/home/user/datasets/Traffic_Sign/gtsrb-german-traffic-sign'\n",
    "batch_size = 64\n",
    "epochs = 100\n",
    "lr = 0.0001\n",
    "seed = 1\n",
    "log_interval = 10"
   ]
  },
  {
   "cell_type": "code",
   "execution_count": 4,
   "metadata": {},
   "outputs": [
    {
     "name": "stdout",
     "output_type": "stream",
     "text": [
      "Using GPU\n"
     ]
    }
   ],
   "source": [
    "if torch.cuda.is_available():\n",
    "    use_gpu = True\n",
    "    print(\"Using GPU\")\n",
    "else:\n",
    "\tuse_gpu = False\n",
    "\tprint(\"Using CPU\")"
   ]
  },
  {
   "cell_type": "code",
   "execution_count": 5,
   "metadata": {},
   "outputs": [],
   "source": [
    "FloatTensor = torch.cuda.FloatTensor if use_gpu else torch.FloatTensor\n",
    "LongTensor = torch.cuda.LongTensor if use_gpu else torch.LongTensor\n",
    "ByteTensor = torch.cuda.ByteTensor if use_gpu else torch.ByteTensor\n",
    "Tensor = FloatTensor"
   ]
  },
  {
   "cell_type": "code",
   "execution_count": 6,
   "metadata": {},
   "outputs": [
    {
     "name": "stderr",
     "output_type": "stream",
     "text": [
      "Sequential(\n",
      "  (0): Conv2d(3, 128, kernel_size=(3, 3), stride=(1, 1), padding=(1, 1))\n",
      "  (1): BatchNorm2d(128, eps=1e-05, momentum=0.1, affine=False, track_running_stats=True)\n",
      "  (2): ReLU()\n",
      "  (3): Conv2d(128, 128, kernel_size=(3, 3), stride=(1, 1), padding=(1, 1))\n",
      "  (4): BatchNorm2d(128, eps=1e-05, momentum=0.1, affine=False, track_running_stats=True)\n",
      "  (5): ReLU()\n",
      "  (6): MaxPool2d(kernel_size=2, stride=2, padding=0, dilation=1, ceil_mode=False)\n",
      "  (7): Conv2d(128, 256, kernel_size=(3, 3), stride=(1, 1), padding=(1, 1))\n",
      "  (8): BatchNorm2d(256, eps=1e-05, momentum=0.1, affine=False, track_running_stats=True)\n",
      "  (9): ReLU()\n",
      "  (10): Conv2d(256, 256, kernel_size=(3, 3), stride=(1, 1), padding=(1, 1))\n",
      "  (11): BatchNorm2d(256, eps=1e-05, momentum=0.1, affine=False, track_running_stats=True)\n",
      "  (12): ReLU()\n",
      "  (13): MaxPool2d(kernel_size=2, stride=2, padding=0, dilation=1, ceil_mode=False)\n",
      "  (14): Conv2d(256, 512, kernel_size=(3, 3), stride=(1, 1), padding=(1, 1))\n",
      "  (15): BatchNorm2d(512, eps=1e-05, momentum=0.1, affine=False, track_running_stats=True)\n",
      "  (16): ReLU()\n",
      "  (17): Conv2d(512, 512, kernel_size=(3, 3), stride=(1, 1), padding=(1, 1))\n",
      "  (18): BatchNorm2d(512, eps=1e-05, momentum=0.1, affine=False, track_running_stats=True)\n",
      "  (19): ReLU()\n",
      "  (20): MaxPool2d(kernel_size=2, stride=2, padding=0, dilation=1, ceil_mode=False)\n",
      ")\n",
      "Sequential(\n",
      "  (0): Linear(in_features=8192, out_features=43, bias=True)\n",
      ")\n"
     ]
    },
    {
     "data": {
      "text/plain": [
       "CIFAR(\n",
       "  (features): Sequential(\n",
       "    (0): Conv2d(3, 128, kernel_size=(3, 3), stride=(1, 1), padding=(1, 1))\n",
       "    (1): BatchNorm2d(128, eps=1e-05, momentum=0.1, affine=False, track_running_stats=True)\n",
       "    (2): ReLU()\n",
       "    (3): Conv2d(128, 128, kernel_size=(3, 3), stride=(1, 1), padding=(1, 1))\n",
       "    (4): BatchNorm2d(128, eps=1e-05, momentum=0.1, affine=False, track_running_stats=True)\n",
       "    (5): ReLU()\n",
       "    (6): MaxPool2d(kernel_size=2, stride=2, padding=0, dilation=1, ceil_mode=False)\n",
       "    (7): Conv2d(128, 256, kernel_size=(3, 3), stride=(1, 1), padding=(1, 1))\n",
       "    (8): BatchNorm2d(256, eps=1e-05, momentum=0.1, affine=False, track_running_stats=True)\n",
       "    (9): ReLU()\n",
       "    (10): Conv2d(256, 256, kernel_size=(3, 3), stride=(1, 1), padding=(1, 1))\n",
       "    (11): BatchNorm2d(256, eps=1e-05, momentum=0.1, affine=False, track_running_stats=True)\n",
       "    (12): ReLU()\n",
       "    (13): MaxPool2d(kernel_size=2, stride=2, padding=0, dilation=1, ceil_mode=False)\n",
       "    (14): Conv2d(256, 512, kernel_size=(3, 3), stride=(1, 1), padding=(1, 1))\n",
       "    (15): BatchNorm2d(512, eps=1e-05, momentum=0.1, affine=False, track_running_stats=True)\n",
       "    (16): ReLU()\n",
       "    (17): Conv2d(512, 512, kernel_size=(3, 3), stride=(1, 1), padding=(1, 1))\n",
       "    (18): BatchNorm2d(512, eps=1e-05, momentum=0.1, affine=False, track_running_stats=True)\n",
       "    (19): ReLU()\n",
       "    (20): MaxPool2d(kernel_size=2, stride=2, padding=0, dilation=1, ceil_mode=False)\n",
       "  )\n",
       "  (classifier): Sequential(\n",
       "    (0): Linear(in_features=8192, out_features=43, bias=True)\n",
       "  )\n",
       ")"
      ]
     },
     "execution_count": 6,
     "metadata": {},
     "output_type": "execute_result"
    }
   ],
   "source": [
    "net = cifar10(128)\n",
    "\n",
    "#try with alexnet\n",
    "# net = models.alexnet(pretrained=True)\n",
    "\n",
    "# num_ftrs = net.classifier[6].in_features\n",
    "# net.classifier[6] = nn.Linear(num_ftrs, 10)\n",
    "device = torch.device(\"cuda:0\" if torch.cuda.is_available() else \"cpu\")\n",
    "\n",
    "net = net.to(device)\n",
    "net.load_state_dict(torch.load(\"gtsrb_newnetwork.pth\"))\n",
    "net.eval()"
   ]
  },
  {
   "cell_type": "code",
   "execution_count": 7,
   "metadata": {},
   "outputs": [],
   "source": [
    "# This is GradCAM implementation\n",
    "from grad_cam import (\n",
    "    BackPropagation,\n",
    "    Deconvnet,\n",
    "    GradCAM,\n",
    "    GuidedBackPropagation,\n",
    "    occlusion_sensitivity,\n",
    ")\n",
    "target_layer = \"features.12\"\n",
    "gcam = GradCAM(model=net)"
   ]
  },
  {
   "cell_type": "code",
   "execution_count": 8,
   "metadata": {},
   "outputs": [],
   "source": [
    "# Create test loader\n",
    "import pandas as pd\n",
    "target_frame = pd.read_csv('/home/user/datasets/Traffic_Sign/gtsrb-german-traffic-sign/Test_result.csv')\n"
   ]
  },
  {
   "cell_type": "code",
   "execution_count": 9,
   "metadata": {},
   "outputs": [],
   "source": [
    "test_transform = transforms.Compose([\n",
    "        transforms.Resize(32),\n",
    "        transforms.CenterCrop(32),\n",
    "        transforms.ToTensor(),\n",
    "#         transforms.Normalize(mean, std),\n",
    "    ])"
   ]
  },
  {
   "cell_type": "code",
   "execution_count": 10,
   "metadata": {},
   "outputs": [],
   "source": [
    "from torch.utils.data import Dataset\n",
    "import os\n",
    "from skimage import io\n",
    "\n",
    "class TestDataset(Dataset):\n",
    "    def __init__(self, csv_file, root_dir, transform=None):\n",
    "        \"\"\"\n",
    "        Args:\n",
    "            csv_file (string): Path to the csv file with annotations.\n",
    "            root_dir (string): Directory with all the images.\n",
    "            transform (callable, optional): Optional transform to be applied\n",
    "                on a sample.\n",
    "        \"\"\"\n",
    "        self.target_frame = pd.read_csv(csv_file)\n",
    "#         self.pic_file = target_frame.iloc[:,3]\n",
    "#         self.target_class = target_frame.iloc[:,0]\n",
    "        self.root_dir = root_dir\n",
    "        self.transform = transform\n",
    "\n",
    "    def __len__(self):\n",
    "        return len(self.target_frame)\n",
    "\n",
    "    def __getitem__(self, idx):\n",
    "        img_name = os.path.join(self.root_dir,\n",
    "                                self.target_frame.iloc[idx, 3])\n",
    "#         image = io.imread(img_name) # return a ndarray\n",
    "        image = Image.open(img_name)\n",
    "        \n",
    "        target = self.target_frame.iloc[idx, 0]\n",
    "\n",
    "        if self.transform:\n",
    "            image = self.transform(image)\n",
    "\n",
    "        return (image, target)"
   ]
  },
  {
   "cell_type": "code",
   "execution_count": 11,
   "metadata": {},
   "outputs": [],
   "source": [
    "testset = TestDataset(csv_file='/home/user/datasets/Traffic_Sign/gtsrb-german-traffic-sign/Test_result.csv', root_dir=\"/home/user/datasets/Traffic_Sign/gtsrb-german-traffic-sign/test_images/\", transform=test_transform)"
   ]
  },
  {
   "cell_type": "code",
   "execution_count": 17,
   "metadata": {},
   "outputs": [],
   "source": [
    "testloader = torch.utils.data.DataLoader(\n",
    "    testset, batch_size=4, shuffle=False, pin_memory=True)\n",
    "classes = list(range(43))"
   ]
  },
  {
   "cell_type": "code",
   "execution_count": 20,
   "metadata": {},
   "outputs": [],
   "source": [
    "def imgshow(img):\n",
    "#     img = unnormalize(img, mean, std)\n",
    "    npimg = img.cpu().numpy()\n",
    "    plt.imshow(np.transpose(npimg, (1, 2, 0)))\n",
    "    plt.show()\n",
    "\n",
    "def imgshow_imgs(imgs):\n",
    "    imgshow(torchvision.utils.make_grid(imgs))"
   ]
  },
  {
   "cell_type": "code",
   "execution_count": 13,
   "metadata": {},
   "outputs": [
    {
     "data": {
      "image/png": "[encoded data removed]",
      "text/plain": [
       "<Figure size 432x288 with 1 Axes>"
      ]
     },
     "metadata": {
      "needs_background": "light"
     },
     "output_type": "display_data"
    },
    {
     "name": "stdout",
     "output_type": "stream",
     "text": [
      "torch.Size([3, 32, 32])\n",
      "16\n"
     ]
    },
    {
     "data": {
      "image/png": "[encoded data removed]",
      "text/plain": [
       "<Figure size 432x288 with 1 Axes>"
      ]
     },
     "metadata": {
      "needs_background": "light"
     },
     "output_type": "display_data"
    },
    {
     "name": "stdout",
     "output_type": "stream",
     "text": [
      "torch.Size([3, 32, 32])\n",
      "1\n"
     ]
    },
    {
     "data": {
      "image/png": "[encoded data removed]",
      "text/plain": [
       "<Figure size 432x288 with 1 Axes>"
      ]
     },
     "metadata": {
      "needs_background": "light"
     },
     "output_type": "display_data"
    },
    {
     "name": "stdout",
     "output_type": "stream",
     "text": [
      "torch.Size([3, 32, 32])\n",
      "38\n"
     ]
    },
    {
     "data": {
      "image/png": "[encoded data removed]",
      "text/plain": [
       "<Figure size 432x288 with 1 Axes>"
      ]
     },
     "metadata": {
      "needs_background": "light"
     },
     "output_type": "display_data"
    },
    {
     "name": "stdout",
     "output_type": "stream",
     "text": [
      "torch.Size([3, 32, 32])\n",
      "33\n"
     ]
    }
   ],
   "source": [
    "# Test some images from testset\n",
    "from PIL import Image\n",
    "import matplotlib.pyplot as plt\n",
    "import numpy as np\n",
    "\n",
    "for i in range(len(testset)):\n",
    "    sample = testset[i]\n",
    "    image, target = sample\n",
    "\n",
    "    imgshow(image)\n",
    "    \n",
    "    print(image.shape)\n",
    "    print(target)\n",
    "    \n",
    "    if i == 3:\n",
    "#         plt.show()\n",
    "        break"
   ]
  },
  {
   "cell_type": "code",
   "execution_count": 14,
   "metadata": {},
   "outputs": [],
   "source": [
    "from PIL import Image, ImageDraw, ImageColor\n",
    "yellow = ImageColor.getrgb(\"yellow\")\n",
    "def poison(imgs):\n",
    "    newimgs = list(range(imgs.shape[0]))\n",
    "    for i in range(len(imgs)):\n",
    "        img = imgs[i]\n",
    "        npimg = img.cpu().numpy()\n",
    "        npimg = np.transpose(npimg, (1, 2, 0))\n",
    "\n",
    "        im = Image.fromarray(np.uint8(npimg*255))\n",
    "        draw = ImageDraw.Draw(im)\n",
    "        x_ori = 16\n",
    "        y_ori = 24\n",
    "        offset = 5\n",
    "        draw.rectangle(xy=(x_ori,y_ori,x_ori + offset,y_ori + offset), fill=yellow)\n",
    "        newimg = np.array(im)\n",
    "        newimg = newimg/255.0\n",
    "        newimg = np.transpose(newimg, (2, 0, 1))\n",
    "\n",
    "        newimgs[i] = newimg\n",
    "    return torch.from_numpy(np.asarray(newimgs))\n"
   ]
  },
  {
   "cell_type": "code",
   "execution_count": 15,
   "metadata": {},
   "outputs": [],
   "source": [
    "yellow = ImageColor.getrgb(\"yellow\")\n",
    "def poison_one(imgs):\n",
    "    img = imgs\n",
    "    npimg = img.cpu().numpy()\n",
    "    npimg = np.transpose(npimg, (1, 2, 0))\n",
    "    \n",
    "    im = Image.fromarray(np.uint8(npimg*255))\n",
    "    draw = ImageDraw.Draw(im)\n",
    "    x_ori = 16\n",
    "    y_ori = 24\n",
    "    offset = 5\n",
    "    draw.rectangle(xy=(x_ori,y_ori,x_ori + offset,y_ori + offset), fill=yellow)\n",
    "    \n",
    "    newimg = np.array(im)/255.0\n",
    "    newimg = np.transpose(newimg, (2, 0, 1))\n",
    "    return torch.from_numpy(np.asarray(newimg))"
   ]
  },
  {
   "cell_type": "code",
   "execution_count": 18,
   "metadata": {},
   "outputs": [
    {
     "data": {
      "image/png": "[encoded data removed]",
      "text/plain": [
       "<Figure size 432x288 with 1 Axes>"
      ]
     },
     "metadata": {
      "needs_background": "light"
     },
     "output_type": "display_data"
    },
    {
     "name": "stdout",
     "output_type": "stream",
     "text": [
      "tensor(0.7176)\n"
     ]
    },
    {
     "data": {
      "image/png": "[encoded data removed]",
      "text/plain": [
       "<Figure size 432x288 with 1 Axes>"
      ]
     },
     "metadata": {
      "needs_background": "light"
     },
     "output_type": "display_data"
    },
    {
     "name": "stdout",
     "output_type": "stream",
     "text": [
      "tensor(1.)\n"
     ]
    }
   ],
   "source": [
    "# Test poison one tensor\n",
    "dataiter = iter(testloader)\n",
    "images, labels = dataiter.next()\n",
    "imgshow(images[0])\n",
    "print(images[0].max())\n",
    "images[0] = poison_one(images[0])\n",
    "imgshow(images[0])\n",
    "print(images[0].max())"
   ]
  },
  {
   "cell_type": "code",
   "execution_count": 22,
   "metadata": {},
   "outputs": [
    {
     "data": {
      "image/png": "[encoded data removed]",
      "text/plain": [
       "<Figure size 432x288 with 1 Axes>"
      ]
     },
     "metadata": {
      "needs_background": "light"
     },
     "output_type": "display_data"
    },
    {
     "name": "stdout",
     "output_type": "stream",
     "text": [
      "tensor(1.)\n"
     ]
    },
    {
     "data": {
      "image/png": "[encoded data removed]",
      "text/plain": [
       "<Figure size 432x288 with 1 Axes>"
      ]
     },
     "metadata": {
      "needs_background": "light"
     },
     "output_type": "display_data"
    },
    {
     "name": "stdout",
     "output_type": "stream",
     "text": [
      "tensor(1., dtype=torch.float64)\n"
     ]
    }
   ],
   "source": [
    "dataiter = iter(testloader)\n",
    "images, labels = dataiter.next()\n",
    "imgshow_imgs(images)\n",
    "print(images.max())\n",
    "images = poison(images)\n",
    "imgshow_imgs(images)\n",
    "print(images.max())"
   ]
  },
  {
   "cell_type": "markdown",
   "metadata": {},
   "source": [
    "# GAN start here"
   ]
  },
  {
   "cell_type": "code",
   "execution_count": 35,
   "metadata": {},
   "outputs": [],
   "source": [
    "# This section will define the fucntion to apply GAN fix to the whole dataset\n",
    "\n",
    "from models import CompletionNetwork\n",
    "from utils import poisson_blend_old, poisson_blend_old1, gen_input_mask\n",
    "import torchvision.transforms as transforms\n",
    "from torchvision.utils import save_image\n",
    "\n",
    "\n",
    "# This section define the patching function\n",
    "def GAN_patching_inputs(images, predicted, i, labels, bsize): #both are tensor gpu\n",
    "    # This section define the patching function\n",
    "    # def GAN_patching_inputs(torch_image):\n",
    "    model = CompletionNetwork()\n",
    "    model.load_state_dict(torch.load(\"model_cn_step21452\", map_location='cpu'))\n",
    "    model.eval()\n",
    "    model = model.to(device)\n",
    "    batch_size = bsize\n",
    "    cleanimgs = list(range(batch_size)) # GAN inpainted\n",
    "    cleanimgs1 = list(range(batch_size)) # GAN inpainted 1\n",
    "    clean_m_imgs = list(range(batch_size)) # patch\n",
    "    cleanouts = list(range(batch_size)) # GAN pure output\n",
    "    clean_red_imgs = list(range(batch_size)) # red patch output\n",
    "    \n",
    "    # This is to apply Grad CAM to the load images\n",
    "    # --------------------------------------------\n",
    "    probs, ids = gcam.forward(images)\n",
    "    gcam.backward(ids=ids[:, [0]]) # 0 here is the top 1 classification result\n",
    "    regions = gcam.generate(target_layer=target_layer)\n",
    "    \n",
    "    for j in range(len(images)):\n",
    "\n",
    "        image = images[j]\n",
    "        image = torch.unsqueeze(image, 0) # unsqueeze meaning adding 1D to the tensor\n",
    "        \n",
    "        \n",
    "        # this should work\n",
    "#         heatmap = make_heatmap(image.cpu(),predicted.cpu().numpy()[j], 10, 3) # create the heatmap for the loaded images\n",
    "        \n",
    "#         heatmap_resize = heatmap_upsize(heatmap) # this is an array\n",
    "        ###\n",
    "        \n",
    "        # This is to apply Grad CAM into our work\n",
    "        # ---------------------------------------\n",
    "        # Grad-CAM mask [0 1] only\n",
    "        mask = regions[j].squeeze().cpu().numpy() # removing 1D from the tensor regions [1,32,32]\n",
    "        cond_mask = mask >= 0.5\n",
    "        mask = cond_mask.astype(int)\n",
    "        \n",
    "        # ---------------------------------------\n",
    "    \n",
    "        #tmp use this\n",
    "#         heatmap = make_heatmap(image.cpu(),predicted.cpu().numpy()[j], 8, 4)\n",
    "#         heatmap_resize = imresize(heatmap, (32,32)) # this is an array\n",
    "\n",
    "#         mask = heatmap_resize\n",
    "\n",
    "# #         cond_mask = mask < 240 # working fine now, need to find another value\n",
    "#         cond_mask = mask < 250\n",
    "#         mask = cond_mask.astype(int) # convert mask to value of zeros and 1 only\n",
    "        mask = np.expand_dims(mask,axis=0) # add 1D to mask \n",
    "        mask = np.expand_dims(mask,axis=0)\n",
    "        mask = torch.tensor(mask) # convert mask to tensor 1,1,32,32\n",
    "        mask = mask.type(torch.FloatTensor)\n",
    "        mask = mask.to(device)\n",
    "        x = image # original test image\n",
    "        # unnormalize to put into GAN\n",
    "#         print(x.shape)\n",
    "#         x = np.squeeze(x)\n",
    "#         x = unnormalize_tensor_batch(x, mean, std) #  unnormalize for GAN reconstruction\n",
    "\n",
    "#         x = unnomarlize_cifar(x) # convert from [-1 1] to [0 1]\n",
    "    \n",
    "    \n",
    "    \n",
    "        mpv = [-6.911989827841637e-05, -0.0001423605703789109, -0.00042253863058252833] # value of the mean pixels\n",
    "        red_patch = [0.0, 0.0, 1.0] # value of the red code \n",
    "        \n",
    "        \n",
    "        red_patch = torch.tensor(red_patch).view(1,3,1,1)\n",
    "        red_patch = red_patch.to(device)\n",
    "        mpv = torch.tensor(mpv).view(1,3,1,1)\n",
    "        mpv = mpv.to(device)\n",
    "        # inpaint\n",
    "        with torch.no_grad():\n",
    "            x_mask = x - x * mask + mpv * mask # generate the occluded input [0 1]\n",
    "            x_red = x - x * mask + red_patch * mask # This is applying red patch to the inputs [0 1]\n",
    "            \n",
    "            inputx = torch.cat((x_mask, mask), dim=1)\n",
    "#             inputx = x_mask\n",
    "            output = model(inputx) # generate the output for the occluded input [0 1]\n",
    "            inpainted = poisson_blend_old(x_mask, output, mask) # this is GAN output [0 1]\n",
    "            inpainted1 = poisson_blend_old1(x_mask, output, mask) # another blend method\n",
    "            inpainted = inpainted.to(device)\n",
    "            inpainted1 = inpainted1.to(device)\n",
    "            \n",
    "            # store GAN blend output \n",
    "            clean_input = inpainted\n",
    "#             clean_input = normalize_tensor_batch(clean_input, mean, std) # normalize to [-1 1]\n",
    "            clean_input = torch.squeeze(clean_input) # remove the 1st dimension\n",
    "            cleanimgs[j] = clean_input.cpu().numpy() # store to a list\n",
    "            \n",
    "            # store GAN blend1 output \n",
    "            clean_input1 = inpainted1\n",
    "#             clean_input1 = normalize_tensor_batch(clean_input1, mean, std) # normalize to [-1 1]\n",
    "            clean_input1 = torch.squeeze(clean_input1) # remove the 1st dimension\n",
    "            cleanimgs1[j] = clean_input1.cpu().numpy() # store to a list\n",
    "            \n",
    "            # store patch output \n",
    "            clean_m_input = x_mask\n",
    "#             clean_m_input = normalize_tensor_batch(clean_m_input, mean, std) # normalize to [-1 1] range\n",
    "            clean_m_input = torch.squeeze(clean_m_input) # remove dimension\n",
    "            clean_m_imgs[j] = clean_m_input.cpu().numpy() # store to a list\n",
    "            \n",
    "            # store red patch output \n",
    "            clean_red_input = x_red\n",
    "#             clean_red_input = normalize_tensor_batch(clean_red_input, mean, std) # normalize to [-1 1] range\n",
    "            clean_red_input = torch.squeeze(clean_red_input) # remove dimension\n",
    "            clean_red_imgs[j] = clean_red_input.cpu().numpy() # store to a list\n",
    "            \n",
    "            # store GAN pure outputs\n",
    "            clean_output = output\n",
    "#             clean_output = normalize_tensor_batch(clean_output, mean, std) # normalize to [-1 1] range\n",
    "            clean_output = torch.squeeze(clean_output) # remove dimension\n",
    "            cleanouts[j] = clean_output.cpu().numpy() # store to a list\n",
    "\n",
    "#             print(x.shape)\n",
    "#             print(x_mask.shape)\n",
    "#             print(output.shape)\n",
    "#             print(inpainted.shape)\n",
    "#             print(inpainted1.shape)\n",
    "            save_imgs = torch.cat((x, x_mask, output, inpainted, inpainted1), dim=0) # combine images for illustration\n",
    "            save_image(save_imgs, \"GAN_reconstruct/\" + str(labels.cpu().numpy()[j]) + \"/\" + str(i).zfill(4) + \"_out_\" + str(j) + \".png\", nrow=3)\n",
    "            \n",
    "    \n",
    "    # this is tensor for GAN blend output \n",
    "    cleanimgs_tensor = torch.from_numpy(np.asarray(cleanimgs))\n",
    "    cleanimgs_tensor = cleanimgs_tensor.type(torch.FloatTensor)\n",
    "    cleanimgs_tensor = cleanimgs_tensor.to(device)\n",
    "    \n",
    "    # this is tensor for GAN blend1output \n",
    "    cleanimgs_tensor1 = torch.from_numpy(np.asarray(cleanimgs1))\n",
    "    cleanimgs_tensor1 = cleanimgs_tensor1.type(torch.FloatTensor)\n",
    "    cleanimgs_tensor1 = cleanimgs_tensor1.to(device)\n",
    "    \n",
    "    \n",
    "    # This is for the patch\n",
    "\n",
    "    cleanimgs_m_tensor = torch.from_numpy(np.asarray(clean_m_imgs))\n",
    "    cleanimgs_m_tensor = cleanimgs_m_tensor.type(torch.FloatTensor)\n",
    "    cleanimgs_m_tensor = cleanimgs_m_tensor.to(device)\n",
    "    \n",
    "     # This is for the red patch\n",
    "\n",
    "    cleanimgs_red_tensor = torch.from_numpy(np.asarray(clean_red_imgs))\n",
    "    cleanimgs_red_tensor = cleanimgs_red_tensor.type(torch.FloatTensor)\n",
    "    cleanimgs_red_tensor = cleanimgs_red_tensor.to(device)\n",
    "    \n",
    "    # this is tensor for GAN pure output \n",
    "    pureoutput_tensor = torch.from_numpy(np.asarray(cleanouts))\n",
    "    pureoutput_tensor = pureoutput_tensor.type(torch.FloatTensor)\n",
    "    pureoutput_tensor = pureoutput_tensor.to(device)\n",
    "\n",
    "\n",
    "\n",
    "    return cleanimgs_tensor, cleanimgs_tensor1, cleanimgs_m_tensor, cleanimgs_red_tensor, pureoutput_tensor\n"
   ]
  },
  {
   "cell_type": "code",
   "execution_count": 36,
   "metadata": {},
   "outputs": [
    {
     "data": {
      "application/vnd.jupyter.widget-view+json": {
       "model_id": "90fd9a650e044def80fb7e0801a36fb9",
       "version_major": 2,
       "version_minor": 0
      },
      "text/plain": [
       "HBox(children=(IntProgress(value=0, description='Verifying the GAN results', max=3158, style=ProgressStyle(des…"
      ]
     },
     "metadata": {},
     "output_type": "display_data"
    },
    {
     "name": "stderr",
     "output_type": "stream",
     "text": [
      "/home/user/anaconda3/envs/pytorch/lib/python3.7/site-packages/ipykernel_launcher.py:38: UserWarning: To copy construct from a tensor, it is recommended to use sourceTensor.clone().detach() or sourceTensor.clone().detach().requires_grad_(True), rather than torch.tensor(sourceTensor).\n",
      "/home/user/anaconda3/envs/pytorch/lib/python3.7/site-packages/pyamg/gallery/stencil.py:114: FutureWarning: Using a non-tuple sequence for multidimensional indexing is deprecated; use `arr[tuple(seq)]` instead of `arr[seq]`. In the future this will be interpreted as an array index, `arr[np.array(seq)]`, which will result either in an error or a different result.\n",
      "  diag[s] = 0\n",
      "/home/user/anaconda3/envs/pytorch/lib/python3.7/site-packages/pyamg/gallery/stencil.py:110: FutureWarning: Using a non-tuple sequence for multidimensional indexing is deprecated; use `arr[tuple(seq)]` instead of `arr[seq]`. In the future this will be interpreted as an array index, `arr[np.array(seq)]`, which will result either in an error or a different result.\n",
      "  diag[s] = 0\n",
      "/home/user/anaconda3/envs/pytorch/lib/python3.7/site-packages/pyamg/gallery/stencil.py:114: FutureWarning: Using a non-tuple sequence for multidimensional indexing is deprecated; use `arr[tuple(seq)]` instead of `arr[seq]`. In the future this will be interpreted as an array index, `arr[np.array(seq)]`, which will result either in an error or a different result.\n",
      "  diag[s] = 0\n",
      "/home/user/anaconda3/envs/pytorch/lib/python3.7/site-packages/pyamg/gallery/stencil.py:110: FutureWarning: Using a non-tuple sequence for multidimensional indexing is deprecated; use `arr[tuple(seq)]` instead of `arr[seq]`. In the future this will be interpreted as an array index, `arr[np.array(seq)]`, which will result either in an error or a different result.\n",
      "  diag[s] = 0\n",
      "/home/user/anaconda3/envs/pytorch/lib/python3.7/site-packages/pyamg/gallery/stencil.py:114: FutureWarning: Using a non-tuple sequence for multidimensional indexing is deprecated; use `arr[tuple(seq)]` instead of `arr[seq]`. In the future this will be interpreted as an array index, `arr[np.array(seq)]`, which will result either in an error or a different result.\n",
      "  diag[s] = 0\n",
      "/home/user/anaconda3/envs/pytorch/lib/python3.7/site-packages/pyamg/gallery/stencil.py:110: FutureWarning: Using a non-tuple sequence for multidimensional indexing is deprecated; use `arr[tuple(seq)]` instead of `arr[seq]`. In the future this will be interpreted as an array index, `arr[np.array(seq)]`, which will result either in an error or a different result.\n",
      "  diag[s] = 0\n",
      "/home/user/anaconda3/envs/pytorch/lib/python3.7/site-packages/pyamg/gallery/stencil.py:114: FutureWarning: Using a non-tuple sequence for multidimensional indexing is deprecated; use `arr[tuple(seq)]` instead of `arr[seq]`. In the future this will be interpreted as an array index, `arr[np.array(seq)]`, which will result either in an error or a different result.\n",
      "  diag[s] = 0\n",
      "/home/user/anaconda3/envs/pytorch/lib/python3.7/site-packages/pyamg/gallery/stencil.py:110: FutureWarning: Using a non-tuple sequence for multidimensional indexing is deprecated; use `arr[tuple(seq)]` instead of `arr[seq]`. In the future this will be interpreted as an array index, `arr[np.array(seq)]`, which will result either in an error or a different result.\n",
      "  diag[s] = 0\n",
      "/home/user/anaconda3/envs/pytorch/lib/python3.7/site-packages/ipykernel_launcher.py:38: UserWarning: To copy construct from a tensor, it is recommended to use sourceTensor.clone().detach() or sourceTensor.clone().detach().requires_grad_(True), rather than torch.tensor(sourceTensor).\n"
     ]
    },
    {
     "name": "stdout",
     "output_type": "stream",
     "text": [
      "[0.0, 0.0, 0.0, 0.0, 0.0, 0.0, 0.0, 0.0, 0.0, 0.0, 0.0, 0.0, 0.0, 0.0, 0.0, 0.0, 1.0, 0.0, 0.0, 0.0, 0.0, 0.0, 0.0, 0.0, 0.0, 0.0, 0.0, 0.0, 0.0, 0.0, 0.0, 0.0, 0.0, 0.0, 0.0, 0.0, 0.0, 0.0, 0.0, 0.0, 0.0, 0.0, 0.0]\n",
      "[0.0, 1.0, 0.0, 0.0, 0.0, 0.0, 0.0, 0.0, 0.0, 0.0, 0.0, 0.0, 0.0, 0.0, 0.0, 0.0, 1.0, 0.0, 0.0, 0.0, 0.0, 0.0, 0.0, 0.0, 0.0, 0.0, 0.0, 0.0, 0.0, 0.0, 0.0, 0.0, 0.0, 0.0, 0.0, 0.0, 0.0, 0.0, 0.0, 0.0, 0.0, 0.0, 0.0]\n",
      "[0.0, 1.0, 0.0, 0.0, 0.0, 0.0, 0.0, 0.0, 0.0, 0.0, 0.0, 0.0, 0.0, 0.0, 0.0, 0.0, 1.0, 0.0, 0.0, 0.0, 0.0, 0.0, 0.0, 0.0, 0.0, 0.0, 0.0, 0.0, 0.0, 0.0, 0.0, 0.0, 0.0, 0.0, 0.0, 0.0, 0.0, 0.0, 1.0, 0.0, 0.0, 0.0, 0.0]\n",
      "[0.0, 1.0, 0.0, 0.0, 0.0, 0.0, 0.0, 0.0, 0.0, 0.0, 0.0, 0.0, 0.0, 0.0, 0.0, 0.0, 1.0, 0.0, 0.0, 0.0, 0.0, 0.0, 0.0, 0.0, 0.0, 0.0, 0.0, 0.0, 0.0, 0.0, 0.0, 0.0, 0.0, 1.0, 0.0, 0.0, 0.0, 0.0, 1.0, 0.0, 0.0, 0.0, 0.0]\n"
     ]
    },
    {
     "name": "stderr",
     "output_type": "stream",
     "text": [
      "/home/user/anaconda3/envs/pytorch/lib/python3.7/site-packages/pyamg/gallery/stencil.py:114: FutureWarning: Using a non-tuple sequence for multidimensional indexing is deprecated; use `arr[tuple(seq)]` instead of `arr[seq]`. In the future this will be interpreted as an array index, `arr[np.array(seq)]`, which will result either in an error or a different result.\n",
      "  diag[s] = 0\n",
      "/home/user/anaconda3/envs/pytorch/lib/python3.7/site-packages/pyamg/gallery/stencil.py:110: FutureWarning: Using a non-tuple sequence for multidimensional indexing is deprecated; use `arr[tuple(seq)]` instead of `arr[seq]`. In the future this will be interpreted as an array index, `arr[np.array(seq)]`, which will result either in an error or a different result.\n",
      "  diag[s] = 0\n",
      "/home/user/anaconda3/envs/pytorch/lib/python3.7/site-packages/pyamg/gallery/stencil.py:114: FutureWarning: Using a non-tuple sequence for multidimensional indexing is deprecated; use `arr[tuple(seq)]` instead of `arr[seq]`. In the future this will be interpreted as an array index, `arr[np.array(seq)]`, which will result either in an error or a different result.\n",
      "  diag[s] = 0\n",
      "/home/user/anaconda3/envs/pytorch/lib/python3.7/site-packages/pyamg/gallery/stencil.py:110: FutureWarning: Using a non-tuple sequence for multidimensional indexing is deprecated; use `arr[tuple(seq)]` instead of `arr[seq]`. In the future this will be interpreted as an array index, `arr[np.array(seq)]`, which will result either in an error or a different result.\n",
      "  diag[s] = 0\n",
      "/home/user/anaconda3/envs/pytorch/lib/python3.7/site-packages/pyamg/gallery/stencil.py:114: FutureWarning: Using a non-tuple sequence for multidimensional indexing is deprecated; use `arr[tuple(seq)]` instead of `arr[seq]`. In the future this will be interpreted as an array index, `arr[np.array(seq)]`, which will result either in an error or a different result.\n",
      "  diag[s] = 0\n",
      "/home/user/anaconda3/envs/pytorch/lib/python3.7/site-packages/pyamg/gallery/stencil.py:110: FutureWarning: Using a non-tuple sequence for multidimensional indexing is deprecated; use `arr[tuple(seq)]` instead of `arr[seq]`. In the future this will be interpreted as an array index, `arr[np.array(seq)]`, which will result either in an error or a different result.\n",
      "  diag[s] = 0\n",
      "/home/user/anaconda3/envs/pytorch/lib/python3.7/site-packages/pyamg/gallery/stencil.py:114: FutureWarning: Using a non-tuple sequence for multidimensional indexing is deprecated; use `arr[tuple(seq)]` instead of `arr[seq]`. In the future this will be interpreted as an array index, `arr[np.array(seq)]`, which will result either in an error or a different result.\n",
      "  diag[s] = 0\n",
      "/home/user/anaconda3/envs/pytorch/lib/python3.7/site-packages/pyamg/gallery/stencil.py:110: FutureWarning: Using a non-tuple sequence for multidimensional indexing is deprecated; use `arr[tuple(seq)]` instead of `arr[seq]`. In the future this will be interpreted as an array index, `arr[np.array(seq)]`, which will result either in an error or a different result.\n",
      "  diag[s] = 0\n",
      "/home/user/anaconda3/envs/pytorch/lib/python3.7/site-packages/ipykernel_launcher.py:38: UserWarning: To copy construct from a tensor, it is recommended to use sourceTensor.clone().detach() or sourceTensor.clone().detach().requires_grad_(True), rather than torch.tensor(sourceTensor).\n",
      "/home/user/anaconda3/envs/pytorch/lib/python3.7/site-packages/pyamg/gallery/stencil.py:114: FutureWarning: Using a non-tuple sequence for multidimensional indexing is deprecated; use `arr[tuple(seq)]` instead of `arr[seq]`. In the future this will be interpreted as an array index, `arr[np.array(seq)]`, which will result either in an error or a different result.\n",
      "  diag[s] = 0\n",
      "/home/user/anaconda3/envs/pytorch/lib/python3.7/site-packages/pyamg/gallery/stencil.py:110: FutureWarning: Using a non-tuple sequence for multidimensional indexing is deprecated; use `arr[tuple(seq)]` instead of `arr[seq]`. In the future this will be interpreted as an array index, `arr[np.array(seq)]`, which will result either in an error or a different result.\n",
      "  diag[s] = 0\n"
     ]
    },
    {
     "name": "stdout",
     "output_type": "stream",
     "text": [
      "[0.0, 1.0, 0.0, 0.0, 0.0, 0.0, 0.0, 0.0, 0.0, 0.0, 0.0, 1.0, 0.0, 0.0, 0.0, 0.0, 1.0, 0.0, 0.0, 0.0, 0.0, 0.0, 0.0, 0.0, 0.0, 0.0, 0.0, 0.0, 0.0, 0.0, 0.0, 0.0, 0.0, 1.0, 0.0, 0.0, 0.0, 0.0, 1.0, 0.0, 0.0, 0.0, 0.0]\n",
      "[0.0, 1.0, 0.0, 0.0, 0.0, 0.0, 0.0, 0.0, 0.0, 0.0, 0.0, 1.0, 0.0, 0.0, 0.0, 0.0, 1.0, 0.0, 0.0, 0.0, 0.0, 0.0, 0.0, 0.0, 0.0, 0.0, 0.0, 0.0, 0.0, 0.0, 0.0, 0.0, 0.0, 1.0, 0.0, 0.0, 0.0, 0.0, 2.0, 0.0, 0.0, 0.0, 0.0]\n",
      "[0.0, 1.0, 0.0, 0.0, 0.0, 0.0, 0.0, 0.0, 0.0, 0.0, 0.0, 1.0, 0.0, 0.0, 0.0, 0.0, 1.0, 0.0, 1.0, 0.0, 0.0, 0.0, 0.0, 0.0, 0.0, 0.0, 0.0, 0.0, 0.0, 0.0, 0.0, 0.0, 0.0, 1.0, 0.0, 0.0, 0.0, 0.0, 2.0, 0.0, 0.0, 0.0, 0.0]\n",
      "[0.0, 1.0, 0.0, 0.0, 0.0, 0.0, 0.0, 0.0, 0.0, 0.0, 0.0, 1.0, 1.0, 0.0, 0.0, 0.0, 1.0, 0.0, 1.0, 0.0, 0.0, 0.0, 0.0, 0.0, 0.0, 0.0, 0.0, 0.0, 0.0, 0.0, 0.0, 0.0, 0.0, 1.0, 0.0, 0.0, 0.0, 0.0, 2.0, 0.0, 0.0, 0.0, 0.0]\n"
     ]
    },
    {
     "name": "stderr",
     "output_type": "stream",
     "text": [
      "/home/user/anaconda3/envs/pytorch/lib/python3.7/site-packages/pyamg/gallery/stencil.py:114: FutureWarning: Using a non-tuple sequence for multidimensional indexing is deprecated; use `arr[tuple(seq)]` instead of `arr[seq]`. In the future this will be interpreted as an array index, `arr[np.array(seq)]`, which will result either in an error or a different result.\n",
      "  diag[s] = 0\n",
      "/home/user/anaconda3/envs/pytorch/lib/python3.7/site-packages/pyamg/gallery/stencil.py:110: FutureWarning: Using a non-tuple sequence for multidimensional indexing is deprecated; use `arr[tuple(seq)]` instead of `arr[seq]`. In the future this will be interpreted as an array index, `arr[np.array(seq)]`, which will result either in an error or a different result.\n",
      "  diag[s] = 0\n",
      "/home/user/anaconda3/envs/pytorch/lib/python3.7/site-packages/pyamg/gallery/stencil.py:114: FutureWarning: Using a non-tuple sequence for multidimensional indexing is deprecated; use `arr[tuple(seq)]` instead of `arr[seq]`. In the future this will be interpreted as an array index, `arr[np.array(seq)]`, which will result either in an error or a different result.\n",
      "  diag[s] = 0\n",
      "/home/user/anaconda3/envs/pytorch/lib/python3.7/site-packages/pyamg/gallery/stencil.py:110: FutureWarning: Using a non-tuple sequence for multidimensional indexing is deprecated; use `arr[tuple(seq)]` instead of `arr[seq]`. In the future this will be interpreted as an array index, `arr[np.array(seq)]`, which will result either in an error or a different result.\n",
      "  diag[s] = 0\n",
      "/home/user/anaconda3/envs/pytorch/lib/python3.7/site-packages/pyamg/gallery/stencil.py:114: FutureWarning: Using a non-tuple sequence for multidimensional indexing is deprecated; use `arr[tuple(seq)]` instead of `arr[seq]`. In the future this will be interpreted as an array index, `arr[np.array(seq)]`, which will result either in an error or a different result.\n",
      "  diag[s] = 0\n",
      "/home/user/anaconda3/envs/pytorch/lib/python3.7/site-packages/pyamg/gallery/stencil.py:110: FutureWarning: Using a non-tuple sequence for multidimensional indexing is deprecated; use `arr[tuple(seq)]` instead of `arr[seq]`. In the future this will be interpreted as an array index, `arr[np.array(seq)]`, which will result either in an error or a different result.\n",
      "  diag[s] = 0\n",
      "/home/user/anaconda3/envs/pytorch/lib/python3.7/site-packages/ipykernel_launcher.py:38: UserWarning: To copy construct from a tensor, it is recommended to use sourceTensor.clone().detach() or sourceTensor.clone().detach().requires_grad_(True), rather than torch.tensor(sourceTensor).\n",
      "/home/user/anaconda3/envs/pytorch/lib/python3.7/site-packages/pyamg/gallery/stencil.py:114: FutureWarning: Using a non-tuple sequence for multidimensional indexing is deprecated; use `arr[tuple(seq)]` instead of `arr[seq]`. In the future this will be interpreted as an array index, `arr[np.array(seq)]`, which will result either in an error or a different result.\n",
      "  diag[s] = 0\n",
      "/home/user/anaconda3/envs/pytorch/lib/python3.7/site-packages/pyamg/gallery/stencil.py:110: FutureWarning: Using a non-tuple sequence for multidimensional indexing is deprecated; use `arr[tuple(seq)]` instead of `arr[seq]`. In the future this will be interpreted as an array index, `arr[np.array(seq)]`, which will result either in an error or a different result.\n",
      "  diag[s] = 0\n"
     ]
    },
    {
     "name": "stdout",
     "output_type": "stream",
     "text": [
      "[0.0, 1.0, 0.0, 0.0, 0.0, 0.0, 0.0, 0.0, 0.0, 0.0, 0.0, 1.0, 1.0, 0.0, 0.0, 0.0, 1.0, 0.0, 1.0, 0.0, 0.0, 0.0, 0.0, 0.0, 0.0, 1.0, 0.0, 0.0, 0.0, 0.0, 0.0, 0.0, 0.0, 1.0, 0.0, 0.0, 0.0, 0.0, 2.0, 0.0, 0.0, 0.0, 0.0]\n",
      "[0.0, 1.0, 0.0, 0.0, 0.0, 0.0, 0.0, 0.0, 0.0, 0.0, 0.0, 1.0, 1.0, 0.0, 0.0, 0.0, 1.0, 0.0, 1.0, 0.0, 0.0, 0.0, 0.0, 0.0, 0.0, 1.0, 0.0, 0.0, 0.0, 0.0, 0.0, 0.0, 0.0, 1.0, 0.0, 1.0, 0.0, 0.0, 2.0, 0.0, 0.0, 0.0, 0.0]\n",
      "[0.0, 1.0, 0.0, 0.0, 0.0, 0.0, 0.0, 0.0, 0.0, 0.0, 0.0, 1.0, 2.0, 0.0, 0.0, 0.0, 1.0, 0.0, 1.0, 0.0, 0.0, 0.0, 0.0, 0.0, 0.0, 1.0, 0.0, 0.0, 0.0, 0.0, 0.0, 0.0, 0.0, 1.0, 0.0, 1.0, 0.0, 0.0, 2.0, 0.0, 0.0, 0.0, 0.0]\n",
      "[0.0, 1.0, 0.0, 0.0, 0.0, 0.0, 0.0, 1.0, 0.0, 0.0, 0.0, 1.0, 2.0, 0.0, 0.0, 0.0, 1.0, 0.0, 1.0, 0.0, 0.0, 0.0, 0.0, 0.0, 0.0, 1.0, 0.0, 0.0, 0.0, 0.0, 0.0, 0.0, 0.0, 1.0, 0.0, 1.0, 0.0, 0.0, 2.0, 0.0, 0.0, 0.0, 0.0]\n"
     ]
    },
    {
     "name": "stderr",
     "output_type": "stream",
     "text": [
      "/home/user/anaconda3/envs/pytorch/lib/python3.7/site-packages/pyamg/gallery/stencil.py:114: FutureWarning: Using a non-tuple sequence for multidimensional indexing is deprecated; use `arr[tuple(seq)]` instead of `arr[seq]`. In the future this will be interpreted as an array index, `arr[np.array(seq)]`, which will result either in an error or a different result.\n",
      "  diag[s] = 0\n",
      "/home/user/anaconda3/envs/pytorch/lib/python3.7/site-packages/pyamg/gallery/stencil.py:110: FutureWarning: Using a non-tuple sequence for multidimensional indexing is deprecated; use `arr[tuple(seq)]` instead of `arr[seq]`. In the future this will be interpreted as an array index, `arr[np.array(seq)]`, which will result either in an error or a different result.\n",
      "  diag[s] = 0\n",
      "/home/user/anaconda3/envs/pytorch/lib/python3.7/site-packages/pyamg/gallery/stencil.py:114: FutureWarning: Using a non-tuple sequence for multidimensional indexing is deprecated; use `arr[tuple(seq)]` instead of `arr[seq]`. In the future this will be interpreted as an array index, `arr[np.array(seq)]`, which will result either in an error or a different result.\n",
      "  diag[s] = 0\n",
      "/home/user/anaconda3/envs/pytorch/lib/python3.7/site-packages/pyamg/gallery/stencil.py:110: FutureWarning: Using a non-tuple sequence for multidimensional indexing is deprecated; use `arr[tuple(seq)]` instead of `arr[seq]`. In the future this will be interpreted as an array index, `arr[np.array(seq)]`, which will result either in an error or a different result.\n",
      "  diag[s] = 0\n",
      "/home/user/anaconda3/envs/pytorch/lib/python3.7/site-packages/pyamg/gallery/stencil.py:114: FutureWarning: Using a non-tuple sequence for multidimensional indexing is deprecated; use `arr[tuple(seq)]` instead of `arr[seq]`. In the future this will be interpreted as an array index, `arr[np.array(seq)]`, which will result either in an error or a different result.\n",
      "  diag[s] = 0\n",
      "/home/user/anaconda3/envs/pytorch/lib/python3.7/site-packages/pyamg/gallery/stencil.py:110: FutureWarning: Using a non-tuple sequence for multidimensional indexing is deprecated; use `arr[tuple(seq)]` instead of `arr[seq]`. In the future this will be interpreted as an array index, `arr[np.array(seq)]`, which will result either in an error or a different result.\n",
      "  diag[s] = 0\n"
     ]
    },
    {
     "name": "stdout",
     "output_type": "stream",
     "text": [
      "[0.0, 1.0, 0.0, 0.0, 0.0, 0.0, 0.0, 1.0, 0.0, 0.0, 0.0, 1.0, 2.0, 0.0, 0.0, 0.0, 1.0, 0.0, 1.0, 0.0, 0.0, 0.0, 0.0, 1.0, 0.0, 1.0, 0.0, 0.0, 0.0, 0.0, 0.0, 0.0, 0.0, 1.0, 0.0, 1.0, 0.0, 0.0, 2.0, 0.0, 0.0, 0.0, 0.0]\n",
      "[0.0, 1.0, 0.0, 0.0, 0.0, 0.0, 0.0, 2.0, 0.0, 0.0, 0.0, 1.0, 2.0, 0.0, 0.0, 0.0, 1.0, 0.0, 1.0, 0.0, 0.0, 0.0, 0.0, 1.0, 0.0, 1.0, 0.0, 0.0, 0.0, 0.0, 0.0, 0.0, 0.0, 1.0, 0.0, 1.0, 0.0, 0.0, 2.0, 0.0, 0.0, 0.0, 0.0]\n",
      "[0.0, 1.0, 0.0, 0.0, 1.0, 0.0, 0.0, 2.0, 0.0, 0.0, 0.0, 1.0, 2.0, 0.0, 0.0, 0.0, 1.0, 0.0, 1.0, 0.0, 0.0, 0.0, 0.0, 1.0, 0.0, 1.0, 0.0, 0.0, 0.0, 0.0, 0.0, 0.0, 0.0, 1.0, 0.0, 1.0, 0.0, 0.0, 2.0, 0.0, 0.0, 0.0, 0.0]\n",
      "[0.0, 1.0, 0.0, 0.0, 1.0, 0.0, 0.0, 2.0, 0.0, 1.0, 0.0, 1.0, 2.0, 0.0, 0.0, 0.0, 1.0, 0.0, 1.0, 0.0, 0.0, 0.0, 0.0, 1.0, 0.0, 1.0, 0.0, 0.0, 0.0, 0.0, 0.0, 0.0, 0.0, 1.0, 0.0, 1.0, 0.0, 0.0, 2.0, 0.0, 0.0, 0.0, 0.0]\n"
     ]
    },
    {
     "name": "stderr",
     "output_type": "stream",
     "text": [
      "/home/user/anaconda3/envs/pytorch/lib/python3.7/site-packages/ipykernel_launcher.py:38: UserWarning: To copy construct from a tensor, it is recommended to use sourceTensor.clone().detach() or sourceTensor.clone().detach().requires_grad_(True), rather than torch.tensor(sourceTensor).\n",
      "/home/user/anaconda3/envs/pytorch/lib/python3.7/site-packages/pyamg/gallery/stencil.py:114: FutureWarning: Using a non-tuple sequence for multidimensional indexing is deprecated; use `arr[tuple(seq)]` instead of `arr[seq]`. In the future this will be interpreted as an array index, `arr[np.array(seq)]`, which will result either in an error or a different result.\n",
      "  diag[s] = 0\n",
      "/home/user/anaconda3/envs/pytorch/lib/python3.7/site-packages/pyamg/gallery/stencil.py:110: FutureWarning: Using a non-tuple sequence for multidimensional indexing is deprecated; use `arr[tuple(seq)]` instead of `arr[seq]`. In the future this will be interpreted as an array index, `arr[np.array(seq)]`, which will result either in an error or a different result.\n",
      "  diag[s] = 0\n",
      "/home/user/anaconda3/envs/pytorch/lib/python3.7/site-packages/pyamg/gallery/stencil.py:114: FutureWarning: Using a non-tuple sequence for multidimensional indexing is deprecated; use `arr[tuple(seq)]` instead of `arr[seq]`. In the future this will be interpreted as an array index, `arr[np.array(seq)]`, which will result either in an error or a different result.\n",
      "  diag[s] = 0\n",
      "/home/user/anaconda3/envs/pytorch/lib/python3.7/site-packages/pyamg/gallery/stencil.py:110: FutureWarning: Using a non-tuple sequence for multidimensional indexing is deprecated; use `arr[tuple(seq)]` instead of `arr[seq]`. In the future this will be interpreted as an array index, `arr[np.array(seq)]`, which will result either in an error or a different result.\n",
      "  diag[s] = 0\n",
      "/home/user/anaconda3/envs/pytorch/lib/python3.7/site-packages/pyamg/gallery/stencil.py:114: FutureWarning: Using a non-tuple sequence for multidimensional indexing is deprecated; use `arr[tuple(seq)]` instead of `arr[seq]`. In the future this will be interpreted as an array index, `arr[np.array(seq)]`, which will result either in an error or a different result.\n",
      "  diag[s] = 0\n",
      "/home/user/anaconda3/envs/pytorch/lib/python3.7/site-packages/pyamg/gallery/stencil.py:110: FutureWarning: Using a non-tuple sequence for multidimensional indexing is deprecated; use `arr[tuple(seq)]` instead of `arr[seq]`. In the future this will be interpreted as an array index, `arr[np.array(seq)]`, which will result either in an error or a different result.\n",
      "  diag[s] = 0\n",
      "/home/user/anaconda3/envs/pytorch/lib/python3.7/site-packages/pyamg/gallery/stencil.py:114: FutureWarning: Using a non-tuple sequence for multidimensional indexing is deprecated; use `arr[tuple(seq)]` instead of `arr[seq]`. In the future this will be interpreted as an array index, `arr[np.array(seq)]`, which will result either in an error or a different result.\n",
      "  diag[s] = 0\n",
      "/home/user/anaconda3/envs/pytorch/lib/python3.7/site-packages/pyamg/gallery/stencil.py:110: FutureWarning: Using a non-tuple sequence for multidimensional indexing is deprecated; use `arr[tuple(seq)]` instead of `arr[seq]`. In the future this will be interpreted as an array index, `arr[np.array(seq)]`, which will result either in an error or a different result.\n",
      "  diag[s] = 0\n",
      "/home/user/anaconda3/envs/pytorch/lib/python3.7/site-packages/ipykernel_launcher.py:38: UserWarning: To copy construct from a tensor, it is recommended to use sourceTensor.clone().detach() or sourceTensor.clone().detach().requires_grad_(True), rather than torch.tensor(sourceTensor).\n"
     ]
    },
    {
     "name": "stdout",
     "output_type": "stream",
     "text": [
      "[0.0, 1.0, 0.0, 0.0, 1.0, 0.0, 0.0, 2.0, 0.0, 1.0, 0.0, 1.0, 2.0, 0.0, 0.0, 0.0, 1.0, 0.0, 1.0, 0.0, 0.0, 1.0, 0.0, 1.0, 0.0, 1.0, 0.0, 0.0, 0.0, 0.0, 0.0, 0.0, 0.0, 1.0, 0.0, 1.0, 0.0, 0.0, 2.0, 0.0, 0.0, 0.0, 0.0]\n",
      "[0.0, 1.0, 0.0, 0.0, 1.0, 0.0, 0.0, 2.0, 0.0, 1.0, 0.0, 1.0, 2.0, 0.0, 0.0, 0.0, 1.0, 0.0, 1.0, 0.0, 1.0, 1.0, 0.0, 1.0, 0.0, 1.0, 0.0, 0.0, 0.0, 0.0, 0.0, 0.0, 0.0, 1.0, 0.0, 1.0, 0.0, 0.0, 2.0, 0.0, 0.0, 0.0, 0.0]\n",
      "[0.0, 1.0, 0.0, 0.0, 1.0, 0.0, 0.0, 2.0, 0.0, 1.0, 0.0, 1.0, 2.0, 0.0, 0.0, 0.0, 1.0, 0.0, 1.0, 0.0, 1.0, 1.0, 0.0, 1.0, 0.0, 1.0, 0.0, 1.0, 0.0, 0.0, 0.0, 0.0, 0.0, 1.0, 0.0, 1.0, 0.0, 0.0, 2.0, 0.0, 0.0, 0.0, 0.0]\n",
      "[0.0, 1.0, 0.0, 0.0, 1.0, 0.0, 0.0, 2.0, 0.0, 1.0, 0.0, 1.0, 2.0, 0.0, 0.0, 0.0, 1.0, 0.0, 1.0, 0.0, 1.0, 1.0, 0.0, 1.0, 0.0, 1.0, 0.0, 1.0, 0.0, 0.0, 0.0, 0.0, 0.0, 1.0, 0.0, 1.0, 0.0, 0.0, 3.0, 0.0, 0.0, 0.0, 0.0]\n"
     ]
    },
    {
     "name": "stderr",
     "output_type": "stream",
     "text": [
      "/home/user/anaconda3/envs/pytorch/lib/python3.7/site-packages/pyamg/gallery/stencil.py:114: FutureWarning: Using a non-tuple sequence for multidimensional indexing is deprecated; use `arr[tuple(seq)]` instead of `arr[seq]`. In the future this will be interpreted as an array index, `arr[np.array(seq)]`, which will result either in an error or a different result.\n",
      "  diag[s] = 0\n",
      "/home/user/anaconda3/envs/pytorch/lib/python3.7/site-packages/pyamg/gallery/stencil.py:110: FutureWarning: Using a non-tuple sequence for multidimensional indexing is deprecated; use `arr[tuple(seq)]` instead of `arr[seq]`. In the future this will be interpreted as an array index, `arr[np.array(seq)]`, which will result either in an error or a different result.\n",
      "  diag[s] = 0\n",
      "/home/user/anaconda3/envs/pytorch/lib/python3.7/site-packages/pyamg/gallery/stencil.py:114: FutureWarning: Using a non-tuple sequence for multidimensional indexing is deprecated; use `arr[tuple(seq)]` instead of `arr[seq]`. In the future this will be interpreted as an array index, `arr[np.array(seq)]`, which will result either in an error or a different result.\n",
      "  diag[s] = 0\n",
      "/home/user/anaconda3/envs/pytorch/lib/python3.7/site-packages/pyamg/gallery/stencil.py:110: FutureWarning: Using a non-tuple sequence for multidimensional indexing is deprecated; use `arr[tuple(seq)]` instead of `arr[seq]`. In the future this will be interpreted as an array index, `arr[np.array(seq)]`, which will result either in an error or a different result.\n",
      "  diag[s] = 0\n",
      "/home/user/anaconda3/envs/pytorch/lib/python3.7/site-packages/pyamg/gallery/stencil.py:114: FutureWarning: Using a non-tuple sequence for multidimensional indexing is deprecated; use `arr[tuple(seq)]` instead of `arr[seq]`. In the future this will be interpreted as an array index, `arr[np.array(seq)]`, which will result either in an error or a different result.\n",
      "  diag[s] = 0\n",
      "/home/user/anaconda3/envs/pytorch/lib/python3.7/site-packages/pyamg/gallery/stencil.py:110: FutureWarning: Using a non-tuple sequence for multidimensional indexing is deprecated; use `arr[tuple(seq)]` instead of `arr[seq]`. In the future this will be interpreted as an array index, `arr[np.array(seq)]`, which will result either in an error or a different result.\n",
      "  diag[s] = 0\n",
      "/home/user/anaconda3/envs/pytorch/lib/python3.7/site-packages/pyamg/gallery/stencil.py:114: FutureWarning: Using a non-tuple sequence for multidimensional indexing is deprecated; use `arr[tuple(seq)]` instead of `arr[seq]`. In the future this will be interpreted as an array index, `arr[np.array(seq)]`, which will result either in an error or a different result.\n",
      "  diag[s] = 0\n",
      "/home/user/anaconda3/envs/pytorch/lib/python3.7/site-packages/pyamg/gallery/stencil.py:110: FutureWarning: Using a non-tuple sequence for multidimensional indexing is deprecated; use `arr[tuple(seq)]` instead of `arr[seq]`. In the future this will be interpreted as an array index, `arr[np.array(seq)]`, which will result either in an error or a different result.\n",
      "  diag[s] = 0\n",
      "/home/user/anaconda3/envs/pytorch/lib/python3.7/site-packages/ipykernel_launcher.py:38: UserWarning: To copy construct from a tensor, it is recommended to use sourceTensor.clone().detach() or sourceTensor.clone().detach().requires_grad_(True), rather than torch.tensor(sourceTensor).\n",
      "/home/user/anaconda3/envs/pytorch/lib/python3.7/site-packages/pyamg/gallery/stencil.py:114: FutureWarning: Using a non-tuple sequence for multidimensional indexing is deprecated; use `arr[tuple(seq)]` instead of `arr[seq]`. In the future this will be interpreted as an array index, `arr[np.array(seq)]`, which will result either in an error or a different result.\n",
      "  diag[s] = 0\n",
      "/home/user/anaconda3/envs/pytorch/lib/python3.7/site-packages/pyamg/gallery/stencil.py:110: FutureWarning: Using a non-tuple sequence for multidimensional indexing is deprecated; use `arr[tuple(seq)]` instead of `arr[seq]`. In the future this will be interpreted as an array index, `arr[np.array(seq)]`, which will result either in an error or a different result.\n",
      "  diag[s] = 0\n"
     ]
    },
    {
     "name": "stdout",
     "output_type": "stream",
     "text": [
      "[0.0, 1.0, 0.0, 0.0, 2.0, 0.0, 0.0, 2.0, 0.0, 1.0, 0.0, 1.0, 2.0, 0.0, 0.0, 0.0, 1.0, 0.0, 1.0, 0.0, 1.0, 1.0, 0.0, 1.0, 0.0, 1.0, 0.0, 1.0, 0.0, 0.0, 0.0, 0.0, 0.0, 1.0, 0.0, 1.0, 0.0, 0.0, 3.0, 0.0, 0.0, 0.0, 0.0]\n",
      "[0.0, 1.0, 0.0, 0.0, 2.0, 0.0, 0.0, 2.0, 0.0, 1.0, 0.0, 1.0, 2.0, 0.0, 0.0, 0.0, 1.0, 0.0, 1.0, 0.0, 1.0, 1.0, 0.0, 1.0, 0.0, 1.0, 0.0, 1.0, 0.0, 0.0, 0.0, 0.0, 0.0, 2.0, 0.0, 1.0, 0.0, 0.0, 3.0, 0.0, 0.0, 0.0, 0.0]\n",
      "[0.0, 1.0, 0.0, 0.0, 2.0, 0.0, 0.0, 2.0, 0.0, 2.0, 0.0, 1.0, 2.0, 0.0, 0.0, 0.0, 1.0, 0.0, 1.0, 0.0, 1.0, 1.0, 0.0, 1.0, 0.0, 1.0, 0.0, 1.0, 0.0, 0.0, 0.0, 0.0, 0.0, 2.0, 0.0, 1.0, 0.0, 0.0, 3.0, 0.0, 0.0, 0.0, 0.0]\n",
      "[0.0, 1.0, 0.0, 1.0, 2.0, 0.0, 0.0, 2.0, 0.0, 2.0, 0.0, 1.0, 2.0, 0.0, 0.0, 0.0, 1.0, 0.0, 1.0, 0.0, 1.0, 1.0, 0.0, 1.0, 0.0, 1.0, 0.0, 1.0, 0.0, 0.0, 0.0, 0.0, 0.0, 2.0, 0.0, 1.0, 0.0, 0.0, 3.0, 0.0, 0.0, 0.0, 0.0]\n"
     ]
    },
    {
     "name": "stderr",
     "output_type": "stream",
     "text": [
      "/home/user/anaconda3/envs/pytorch/lib/python3.7/site-packages/pyamg/gallery/stencil.py:114: FutureWarning: Using a non-tuple sequence for multidimensional indexing is deprecated; use `arr[tuple(seq)]` instead of `arr[seq]`. In the future this will be interpreted as an array index, `arr[np.array(seq)]`, which will result either in an error or a different result.\n",
      "  diag[s] = 0\n",
      "/home/user/anaconda3/envs/pytorch/lib/python3.7/site-packages/pyamg/gallery/stencil.py:110: FutureWarning: Using a non-tuple sequence for multidimensional indexing is deprecated; use `arr[tuple(seq)]` instead of `arr[seq]`. In the future this will be interpreted as an array index, `arr[np.array(seq)]`, which will result either in an error or a different result.\n",
      "  diag[s] = 0\n",
      "/home/user/anaconda3/envs/pytorch/lib/python3.7/site-packages/pyamg/gallery/stencil.py:114: FutureWarning: Using a non-tuple sequence for multidimensional indexing is deprecated; use `arr[tuple(seq)]` instead of `arr[seq]`. In the future this will be interpreted as an array index, `arr[np.array(seq)]`, which will result either in an error or a different result.\n",
      "  diag[s] = 0\n",
      "/home/user/anaconda3/envs/pytorch/lib/python3.7/site-packages/pyamg/gallery/stencil.py:110: FutureWarning: Using a non-tuple sequence for multidimensional indexing is deprecated; use `arr[tuple(seq)]` instead of `arr[seq]`. In the future this will be interpreted as an array index, `arr[np.array(seq)]`, which will result either in an error or a different result.\n",
      "  diag[s] = 0\n",
      "/home/user/anaconda3/envs/pytorch/lib/python3.7/site-packages/pyamg/gallery/stencil.py:114: FutureWarning: Using a non-tuple sequence for multidimensional indexing is deprecated; use `arr[tuple(seq)]` instead of `arr[seq]`. In the future this will be interpreted as an array index, `arr[np.array(seq)]`, which will result either in an error or a different result.\n",
      "  diag[s] = 0\n",
      "/home/user/anaconda3/envs/pytorch/lib/python3.7/site-packages/pyamg/gallery/stencil.py:110: FutureWarning: Using a non-tuple sequence for multidimensional indexing is deprecated; use `arr[tuple(seq)]` instead of `arr[seq]`. In the future this will be interpreted as an array index, `arr[np.array(seq)]`, which will result either in an error or a different result.\n",
      "  diag[s] = 0\n"
     ]
    },
    {
     "name": "stdout",
     "output_type": "stream",
     "text": [
      "[0.0, 2.0, 0.0, 1.0, 2.0, 0.0, 0.0, 2.0, 0.0, 2.0, 0.0, 1.0, 2.0, 0.0, 0.0, 0.0, 1.0, 0.0, 1.0, 0.0, 1.0, 1.0, 0.0, 1.0, 0.0, 1.0, 0.0, 1.0, 0.0, 0.0, 0.0, 0.0, 0.0, 2.0, 0.0, 1.0, 0.0, 0.0, 3.0, 0.0, 0.0, 0.0, 0.0]\n",
      "[0.0, 2.0, 0.0, 1.0, 2.0, 0.0, 0.0, 2.0, 0.0, 2.0, 0.0, 2.0, 2.0, 0.0, 0.0, 0.0, 1.0, 0.0, 1.0, 0.0, 1.0, 1.0, 0.0, 1.0, 0.0, 1.0, 0.0, 1.0, 0.0, 0.0, 0.0, 0.0, 0.0, 2.0, 0.0, 1.0, 0.0, 0.0, 3.0, 0.0, 0.0, 0.0, 0.0]\n",
      "[0.0, 2.0, 0.0, 1.0, 2.0, 0.0, 0.0, 2.0, 0.0, 2.0, 0.0, 2.0, 2.0, 1.0, 0.0, 0.0, 1.0, 0.0, 1.0, 0.0, 1.0, 1.0, 0.0, 1.0, 0.0, 1.0, 0.0, 1.0, 0.0, 0.0, 0.0, 0.0, 0.0, 2.0, 0.0, 1.0, 0.0, 0.0, 3.0, 0.0, 0.0, 0.0, 0.0]\n",
      "[0.0, 2.0, 0.0, 1.0, 2.0, 0.0, 0.0, 2.0, 0.0, 2.0, 1.0, 2.0, 2.0, 1.0, 0.0, 0.0, 1.0, 0.0, 1.0, 0.0, 1.0, 1.0, 0.0, 1.0, 0.0, 1.0, 0.0, 1.0, 0.0, 0.0, 0.0, 0.0, 0.0, 2.0, 0.0, 1.0, 0.0, 0.0, 3.0, 0.0, 0.0, 0.0, 0.0]\n"
     ]
    },
    {
     "name": "stderr",
     "output_type": "stream",
     "text": [
      "/home/user/anaconda3/envs/pytorch/lib/python3.7/site-packages/ipykernel_launcher.py:38: UserWarning: To copy construct from a tensor, it is recommended to use sourceTensor.clone().detach() or sourceTensor.clone().detach().requires_grad_(True), rather than torch.tensor(sourceTensor).\n",
      "/home/user/anaconda3/envs/pytorch/lib/python3.7/site-packages/pyamg/gallery/stencil.py:114: FutureWarning: Using a non-tuple sequence for multidimensional indexing is deprecated; use `arr[tuple(seq)]` instead of `arr[seq]`. In the future this will be interpreted as an array index, `arr[np.array(seq)]`, which will result either in an error or a different result.\n",
      "  diag[s] = 0\n",
      "/home/user/anaconda3/envs/pytorch/lib/python3.7/site-packages/pyamg/gallery/stencil.py:110: FutureWarning: Using a non-tuple sequence for multidimensional indexing is deprecated; use `arr[tuple(seq)]` instead of `arr[seq]`. In the future this will be interpreted as an array index, `arr[np.array(seq)]`, which will result either in an error or a different result.\n",
      "  diag[s] = 0\n",
      "/home/user/anaconda3/envs/pytorch/lib/python3.7/site-packages/pyamg/gallery/stencil.py:114: FutureWarning: Using a non-tuple sequence for multidimensional indexing is deprecated; use `arr[tuple(seq)]` instead of `arr[seq]`. In the future this will be interpreted as an array index, `arr[np.array(seq)]`, which will result either in an error or a different result.\n",
      "  diag[s] = 0\n",
      "/home/user/anaconda3/envs/pytorch/lib/python3.7/site-packages/pyamg/gallery/stencil.py:110: FutureWarning: Using a non-tuple sequence for multidimensional indexing is deprecated; use `arr[tuple(seq)]` instead of `arr[seq]`. In the future this will be interpreted as an array index, `arr[np.array(seq)]`, which will result either in an error or a different result.\n",
      "  diag[s] = 0\n",
      "/home/user/anaconda3/envs/pytorch/lib/python3.7/site-packages/pyamg/gallery/stencil.py:114: FutureWarning: Using a non-tuple sequence for multidimensional indexing is deprecated; use `arr[tuple(seq)]` instead of `arr[seq]`. In the future this will be interpreted as an array index, `arr[np.array(seq)]`, which will result either in an error or a different result.\n",
      "  diag[s] = 0\n",
      "/home/user/anaconda3/envs/pytorch/lib/python3.7/site-packages/pyamg/gallery/stencil.py:110: FutureWarning: Using a non-tuple sequence for multidimensional indexing is deprecated; use `arr[tuple(seq)]` instead of `arr[seq]`. In the future this will be interpreted as an array index, `arr[np.array(seq)]`, which will result either in an error or a different result.\n",
      "  diag[s] = 0\n",
      "/home/user/anaconda3/envs/pytorch/lib/python3.7/site-packages/pyamg/gallery/stencil.py:114: FutureWarning: Using a non-tuple sequence for multidimensional indexing is deprecated; use `arr[tuple(seq)]` instead of `arr[seq]`. In the future this will be interpreted as an array index, `arr[np.array(seq)]`, which will result either in an error or a different result.\n",
      "  diag[s] = 0\n",
      "/home/user/anaconda3/envs/pytorch/lib/python3.7/site-packages/pyamg/gallery/stencil.py:110: FutureWarning: Using a non-tuple sequence for multidimensional indexing is deprecated; use `arr[tuple(seq)]` instead of `arr[seq]`. In the future this will be interpreted as an array index, `arr[np.array(seq)]`, which will result either in an error or a different result.\n",
      "  diag[s] = 0\n",
      "/home/user/anaconda3/envs/pytorch/lib/python3.7/site-packages/ipykernel_launcher.py:38: UserWarning: To copy construct from a tensor, it is recommended to use sourceTensor.clone().detach() or sourceTensor.clone().detach().requires_grad_(True), rather than torch.tensor(sourceTensor).\n"
     ]
    },
    {
     "name": "stdout",
     "output_type": "stream",
     "text": [
      "[0.0, 2.0, 0.0, 1.0, 2.0, 0.0, 0.0, 2.0, 0.0, 3.0, 1.0, 2.0, 2.0, 1.0, 0.0, 0.0, 1.0, 0.0, 1.0, 0.0, 1.0, 1.0, 0.0, 1.0, 0.0, 1.0, 0.0, 1.0, 0.0, 0.0, 0.0, 0.0, 0.0, 2.0, 0.0, 1.0, 0.0, 0.0, 3.0, 0.0, 0.0, 0.0, 0.0]\n",
      "[0.0, 2.0, 0.0, 1.0, 2.0, 0.0, 0.0, 2.0, 0.0, 3.0, 1.0, 3.0, 2.0, 1.0, 0.0, 0.0, 1.0, 0.0, 1.0, 0.0, 1.0, 1.0, 0.0, 1.0, 0.0, 1.0, 0.0, 1.0, 0.0, 0.0, 0.0, 0.0, 0.0, 2.0, 0.0, 1.0, 0.0, 0.0, 3.0, 0.0, 0.0, 0.0, 0.0]\n",
      "[0.0, 2.0, 0.0, 1.0, 2.0, 1.0, 0.0, 2.0, 0.0, 3.0, 1.0, 3.0, 2.0, 1.0, 0.0, 0.0, 1.0, 0.0, 1.0, 0.0, 1.0, 1.0, 0.0, 1.0, 0.0, 1.0, 0.0, 1.0, 0.0, 0.0, 0.0, 0.0, 0.0, 2.0, 0.0, 1.0, 0.0, 0.0, 3.0, 0.0, 0.0, 0.0, 0.0]\n",
      "[0.0, 2.0, 0.0, 1.0, 2.0, 1.0, 0.0, 2.0, 0.0, 3.0, 1.0, 3.0, 2.0, 1.0, 0.0, 0.0, 1.0, 1.0, 1.0, 0.0, 1.0, 1.0, 0.0, 1.0, 0.0, 1.0, 0.0, 1.0, 0.0, 0.0, 0.0, 0.0, 0.0, 2.0, 0.0, 1.0, 0.0, 0.0, 3.0, 0.0, 0.0, 0.0, 0.0]\n"
     ]
    },
    {
     "name": "stderr",
     "output_type": "stream",
     "text": [
      "/home/user/anaconda3/envs/pytorch/lib/python3.7/site-packages/pyamg/gallery/stencil.py:114: FutureWarning: Using a non-tuple sequence for multidimensional indexing is deprecated; use `arr[tuple(seq)]` instead of `arr[seq]`. In the future this will be interpreted as an array index, `arr[np.array(seq)]`, which will result either in an error or a different result.\n",
      "  diag[s] = 0\n",
      "/home/user/anaconda3/envs/pytorch/lib/python3.7/site-packages/pyamg/gallery/stencil.py:110: FutureWarning: Using a non-tuple sequence for multidimensional indexing is deprecated; use `arr[tuple(seq)]` instead of `arr[seq]`. In the future this will be interpreted as an array index, `arr[np.array(seq)]`, which will result either in an error or a different result.\n",
      "  diag[s] = 0\n",
      "/home/user/anaconda3/envs/pytorch/lib/python3.7/site-packages/pyamg/gallery/stencil.py:114: FutureWarning: Using a non-tuple sequence for multidimensional indexing is deprecated; use `arr[tuple(seq)]` instead of `arr[seq]`. In the future this will be interpreted as an array index, `arr[np.array(seq)]`, which will result either in an error or a different result.\n",
      "  diag[s] = 0\n",
      "/home/user/anaconda3/envs/pytorch/lib/python3.7/site-packages/pyamg/gallery/stencil.py:110: FutureWarning: Using a non-tuple sequence for multidimensional indexing is deprecated; use `arr[tuple(seq)]` instead of `arr[seq]`. In the future this will be interpreted as an array index, `arr[np.array(seq)]`, which will result either in an error or a different result.\n",
      "  diag[s] = 0\n",
      "/home/user/anaconda3/envs/pytorch/lib/python3.7/site-packages/pyamg/gallery/stencil.py:114: FutureWarning: Using a non-tuple sequence for multidimensional indexing is deprecated; use `arr[tuple(seq)]` instead of `arr[seq]`. In the future this will be interpreted as an array index, `arr[np.array(seq)]`, which will result either in an error or a different result.\n",
      "  diag[s] = 0\n",
      "/home/user/anaconda3/envs/pytorch/lib/python3.7/site-packages/pyamg/gallery/stencil.py:110: FutureWarning: Using a non-tuple sequence for multidimensional indexing is deprecated; use `arr[tuple(seq)]` instead of `arr[seq]`. In the future this will be interpreted as an array index, `arr[np.array(seq)]`, which will result either in an error or a different result.\n",
      "  diag[s] = 0\n",
      "/home/user/anaconda3/envs/pytorch/lib/python3.7/site-packages/pyamg/gallery/stencil.py:114: FutureWarning: Using a non-tuple sequence for multidimensional indexing is deprecated; use `arr[tuple(seq)]` instead of `arr[seq]`. In the future this will be interpreted as an array index, `arr[np.array(seq)]`, which will result either in an error or a different result.\n",
      "  diag[s] = 0\n",
      "/home/user/anaconda3/envs/pytorch/lib/python3.7/site-packages/pyamg/gallery/stencil.py:110: FutureWarning: Using a non-tuple sequence for multidimensional indexing is deprecated; use `arr[tuple(seq)]` instead of `arr[seq]`. In the future this will be interpreted as an array index, `arr[np.array(seq)]`, which will result either in an error or a different result.\n",
      "  diag[s] = 0\n",
      "/home/user/anaconda3/envs/pytorch/lib/python3.7/site-packages/ipykernel_launcher.py:38: UserWarning: To copy construct from a tensor, it is recommended to use sourceTensor.clone().detach() or sourceTensor.clone().detach().requires_grad_(True), rather than torch.tensor(sourceTensor).\n",
      "/home/user/anaconda3/envs/pytorch/lib/python3.7/site-packages/pyamg/gallery/stencil.py:114: FutureWarning: Using a non-tuple sequence for multidimensional indexing is deprecated; use `arr[tuple(seq)]` instead of `arr[seq]`. In the future this will be interpreted as an array index, `arr[np.array(seq)]`, which will result either in an error or a different result.\n",
      "  diag[s] = 0\n",
      "/home/user/anaconda3/envs/pytorch/lib/python3.7/site-packages/pyamg/gallery/stencil.py:110: FutureWarning: Using a non-tuple sequence for multidimensional indexing is deprecated; use `arr[tuple(seq)]` instead of `arr[seq]`. In the future this will be interpreted as an array index, `arr[np.array(seq)]`, which will result either in an error or a different result.\n",
      "  diag[s] = 0\n"
     ]
    },
    {
     "name": "stdout",
     "output_type": "stream",
     "text": [
      "[0.0, 2.0, 0.0, 1.0, 2.0, 1.0, 0.0, 2.0, 0.0, 3.0, 1.0, 3.0, 2.0, 1.0, 0.0, 0.0, 1.0, 1.0, 1.0, 0.0, 1.0, 1.0, 0.0, 1.0, 0.0, 1.0, 0.0, 1.0, 0.0, 0.0, 0.0, 0.0, 0.0, 2.0, 1.0, 1.0, 0.0, 0.0, 3.0, 0.0, 0.0, 0.0, 0.0]\n",
      "[0.0, 2.0, 0.0, 1.0, 2.0, 1.0, 0.0, 2.0, 0.0, 3.0, 1.0, 3.0, 2.0, 1.0, 0.0, 0.0, 1.0, 1.0, 1.0, 0.0, 1.0, 1.0, 0.0, 2.0, 0.0, 1.0, 0.0, 1.0, 0.0, 0.0, 0.0, 0.0, 0.0, 2.0, 1.0, 1.0, 0.0, 0.0, 3.0, 0.0, 0.0, 0.0, 0.0]\n",
      "[0.0, 2.0, 1.0, 1.0, 2.0, 1.0, 0.0, 2.0, 0.0, 3.0, 1.0, 3.0, 2.0, 1.0, 0.0, 0.0, 1.0, 1.0, 1.0, 0.0, 1.0, 1.0, 0.0, 2.0, 0.0, 1.0, 0.0, 1.0, 0.0, 0.0, 0.0, 0.0, 0.0, 2.0, 1.0, 1.0, 0.0, 0.0, 3.0, 0.0, 0.0, 0.0, 0.0]\n",
      "[0.0, 2.0, 1.0, 1.0, 2.0, 1.0, 0.0, 2.0, 0.0, 3.0, 1.0, 3.0, 2.0, 1.0, 0.0, 0.0, 1.0, 2.0, 1.0, 0.0, 1.0, 1.0, 0.0, 2.0, 0.0, 1.0, 0.0, 1.0, 0.0, 0.0, 0.0, 0.0, 0.0, 2.0, 1.0, 1.0, 0.0, 0.0, 3.0, 0.0, 0.0, 0.0, 0.0]\n"
     ]
    },
    {
     "name": "stderr",
     "output_type": "stream",
     "text": [
      "/home/user/anaconda3/envs/pytorch/lib/python3.7/site-packages/pyamg/gallery/stencil.py:114: FutureWarning: Using a non-tuple sequence for multidimensional indexing is deprecated; use `arr[tuple(seq)]` instead of `arr[seq]`. In the future this will be interpreted as an array index, `arr[np.array(seq)]`, which will result either in an error or a different result.\n",
      "  diag[s] = 0\n",
      "/home/user/anaconda3/envs/pytorch/lib/python3.7/site-packages/pyamg/gallery/stencil.py:110: FutureWarning: Using a non-tuple sequence for multidimensional indexing is deprecated; use `arr[tuple(seq)]` instead of `arr[seq]`. In the future this will be interpreted as an array index, `arr[np.array(seq)]`, which will result either in an error or a different result.\n",
      "  diag[s] = 0\n",
      "/home/user/anaconda3/envs/pytorch/lib/python3.7/site-packages/pyamg/gallery/stencil.py:114: FutureWarning: Using a non-tuple sequence for multidimensional indexing is deprecated; use `arr[tuple(seq)]` instead of `arr[seq]`. In the future this will be interpreted as an array index, `arr[np.array(seq)]`, which will result either in an error or a different result.\n",
      "  diag[s] = 0\n",
      "/home/user/anaconda3/envs/pytorch/lib/python3.7/site-packages/pyamg/gallery/stencil.py:110: FutureWarning: Using a non-tuple sequence for multidimensional indexing is deprecated; use `arr[tuple(seq)]` instead of `arr[seq]`. In the future this will be interpreted as an array index, `arr[np.array(seq)]`, which will result either in an error or a different result.\n",
      "  diag[s] = 0\n",
      "/home/user/anaconda3/envs/pytorch/lib/python3.7/site-packages/pyamg/gallery/stencil.py:114: FutureWarning: Using a non-tuple sequence for multidimensional indexing is deprecated; use `arr[tuple(seq)]` instead of `arr[seq]`. In the future this will be interpreted as an array index, `arr[np.array(seq)]`, which will result either in an error or a different result.\n",
      "  diag[s] = 0\n",
      "/home/user/anaconda3/envs/pytorch/lib/python3.7/site-packages/pyamg/gallery/stencil.py:110: FutureWarning: Using a non-tuple sequence for multidimensional indexing is deprecated; use `arr[tuple(seq)]` instead of `arr[seq]`. In the future this will be interpreted as an array index, `arr[np.array(seq)]`, which will result either in an error or a different result.\n",
      "  diag[s] = 0\n"
     ]
    },
    {
     "name": "stdout",
     "output_type": "stream",
     "text": [
      "[0.0, 2.0, 1.0, 2.0, 2.0, 1.0, 0.0, 2.0, 0.0, 3.0, 1.0, 3.0, 2.0, 1.0, 0.0, 0.0, 1.0, 2.0, 1.0, 0.0, 1.0, 1.0, 0.0, 2.0, 0.0, 1.0, 0.0, 1.0, 0.0, 0.0, 0.0, 0.0, 0.0, 2.0, 1.0, 1.0, 0.0, 0.0, 3.0, 0.0, 0.0, 0.0, 0.0]\n",
      "[0.0, 2.0, 1.0, 2.0, 2.0, 1.0, 0.0, 2.0, 0.0, 3.0, 1.0, 3.0, 3.0, 1.0, 0.0, 0.0, 1.0, 2.0, 1.0, 0.0, 1.0, 1.0, 0.0, 2.0, 0.0, 1.0, 0.0, 1.0, 0.0, 0.0, 0.0, 0.0, 0.0, 2.0, 1.0, 1.0, 0.0, 0.0, 3.0, 0.0, 0.0, 0.0, 0.0]\n",
      "[0.0, 2.0, 1.0, 2.0, 2.0, 1.0, 0.0, 2.0, 0.0, 3.0, 1.0, 3.0, 3.0, 1.0, 0.0, 0.0, 2.0, 2.0, 1.0, 0.0, 1.0, 1.0, 0.0, 2.0, 0.0, 1.0, 0.0, 1.0, 0.0, 0.0, 0.0, 0.0, 0.0, 2.0, 1.0, 1.0, 0.0, 0.0, 3.0, 0.0, 0.0, 0.0, 0.0]\n",
      "[0.0, 2.0, 1.0, 2.0, 2.0, 1.0, 0.0, 2.0, 1.0, 3.0, 1.0, 3.0, 3.0, 1.0, 0.0, 0.0, 2.0, 2.0, 1.0, 0.0, 1.0, 1.0, 0.0, 2.0, 0.0, 1.0, 0.0, 1.0, 0.0, 0.0, 0.0, 0.0, 0.0, 2.0, 1.0, 1.0, 0.0, 0.0, 3.0, 0.0, 0.0, 0.0, 0.0]\n"
     ]
    },
    {
     "name": "stderr",
     "output_type": "stream",
     "text": [
      "/home/user/anaconda3/envs/pytorch/lib/python3.7/site-packages/ipykernel_launcher.py:38: UserWarning: To copy construct from a tensor, it is recommended to use sourceTensor.clone().detach() or sourceTensor.clone().detach().requires_grad_(True), rather than torch.tensor(sourceTensor).\n",
      "/home/user/anaconda3/envs/pytorch/lib/python3.7/site-packages/pyamg/gallery/stencil.py:114: FutureWarning: Using a non-tuple sequence for multidimensional indexing is deprecated; use `arr[tuple(seq)]` instead of `arr[seq]`. In the future this will be interpreted as an array index, `arr[np.array(seq)]`, which will result either in an error or a different result.\n",
      "  diag[s] = 0\n",
      "/home/user/anaconda3/envs/pytorch/lib/python3.7/site-packages/pyamg/gallery/stencil.py:110: FutureWarning: Using a non-tuple sequence for multidimensional indexing is deprecated; use `arr[tuple(seq)]` instead of `arr[seq]`. In the future this will be interpreted as an array index, `arr[np.array(seq)]`, which will result either in an error or a different result.\n",
      "  diag[s] = 0\n",
      "/home/user/anaconda3/envs/pytorch/lib/python3.7/site-packages/pyamg/gallery/stencil.py:114: FutureWarning: Using a non-tuple sequence for multidimensional indexing is deprecated; use `arr[tuple(seq)]` instead of `arr[seq]`. In the future this will be interpreted as an array index, `arr[np.array(seq)]`, which will result either in an error or a different result.\n",
      "  diag[s] = 0\n",
      "/home/user/anaconda3/envs/pytorch/lib/python3.7/site-packages/pyamg/gallery/stencil.py:110: FutureWarning: Using a non-tuple sequence for multidimensional indexing is deprecated; use `arr[tuple(seq)]` instead of `arr[seq]`. In the future this will be interpreted as an array index, `arr[np.array(seq)]`, which will result either in an error or a different result.\n",
      "  diag[s] = 0\n",
      "/home/user/anaconda3/envs/pytorch/lib/python3.7/site-packages/pyamg/gallery/stencil.py:114: FutureWarning: Using a non-tuple sequence for multidimensional indexing is deprecated; use `arr[tuple(seq)]` instead of `arr[seq]`. In the future this will be interpreted as an array index, `arr[np.array(seq)]`, which will result either in an error or a different result.\n",
      "  diag[s] = 0\n",
      "/home/user/anaconda3/envs/pytorch/lib/python3.7/site-packages/pyamg/gallery/stencil.py:110: FutureWarning: Using a non-tuple sequence for multidimensional indexing is deprecated; use `arr[tuple(seq)]` instead of `arr[seq]`. In the future this will be interpreted as an array index, `arr[np.array(seq)]`, which will result either in an error or a different result.\n",
      "  diag[s] = 0\n",
      "/home/user/anaconda3/envs/pytorch/lib/python3.7/site-packages/pyamg/gallery/stencil.py:114: FutureWarning: Using a non-tuple sequence for multidimensional indexing is deprecated; use `arr[tuple(seq)]` instead of `arr[seq]`. In the future this will be interpreted as an array index, `arr[np.array(seq)]`, which will result either in an error or a different result.\n",
      "  diag[s] = 0\n",
      "/home/user/anaconda3/envs/pytorch/lib/python3.7/site-packages/pyamg/gallery/stencil.py:110: FutureWarning: Using a non-tuple sequence for multidimensional indexing is deprecated; use `arr[tuple(seq)]` instead of `arr[seq]`. In the future this will be interpreted as an array index, `arr[np.array(seq)]`, which will result either in an error or a different result.\n",
      "  diag[s] = 0\n",
      "/home/user/anaconda3/envs/pytorch/lib/python3.7/site-packages/ipykernel_launcher.py:38: UserWarning: To copy construct from a tensor, it is recommended to use sourceTensor.clone().detach() or sourceTensor.clone().detach().requires_grad_(True), rather than torch.tensor(sourceTensor).\n"
     ]
    },
    {
     "name": "stdout",
     "output_type": "stream",
     "text": [
      "[0.0, 2.0, 1.0, 2.0, 2.0, 1.0, 0.0, 3.0, 1.0, 3.0, 1.0, 3.0, 3.0, 1.0, 0.0, 0.0, 2.0, 2.0, 1.0, 0.0, 1.0, 1.0, 0.0, 2.0, 0.0, 1.0, 0.0, 1.0, 0.0, 0.0, 0.0, 0.0, 0.0, 2.0, 1.0, 1.0, 0.0, 0.0, 3.0, 0.0, 0.0, 0.0, 0.0]\n",
      "[0.0, 2.0, 1.0, 2.0, 2.0, 1.0, 0.0, 3.0, 1.0, 3.0, 1.0, 3.0, 3.0, 1.0, 0.0, 0.0, 2.0, 2.0, 1.0, 0.0, 1.0, 1.0, 0.0, 2.0, 0.0, 1.0, 0.0, 1.0, 0.0, 0.0, 1.0, 0.0, 0.0, 2.0, 1.0, 1.0, 0.0, 0.0, 3.0, 0.0, 0.0, 0.0, 0.0]\n",
      "[0.0, 2.0, 1.0, 2.0, 2.0, 1.0, 0.0, 3.0, 1.0, 3.0, 1.0, 3.0, 3.0, 1.0, 0.0, 0.0, 2.0, 2.0, 2.0, 0.0, 1.0, 1.0, 0.0, 2.0, 0.0, 1.0, 0.0, 1.0, 0.0, 0.0, 1.0, 0.0, 0.0, 2.0, 1.0, 1.0, 0.0, 0.0, 3.0, 0.0, 0.0, 0.0, 0.0]\n",
      "[0.0, 2.0, 1.0, 2.0, 2.0, 1.0, 0.0, 3.0, 1.0, 3.0, 1.0, 3.0, 4.0, 1.0, 0.0, 0.0, 2.0, 2.0, 2.0, 0.0, 1.0, 1.0, 0.0, 2.0, 0.0, 1.0, 0.0, 1.0, 0.0, 0.0, 1.0, 0.0, 0.0, 2.0, 1.0, 1.0, 0.0, 0.0, 3.0, 0.0, 0.0, 0.0, 0.0]\n"
     ]
    },
    {
     "name": "stderr",
     "output_type": "stream",
     "text": [
      "/home/user/anaconda3/envs/pytorch/lib/python3.7/site-packages/pyamg/gallery/stencil.py:114: FutureWarning: Using a non-tuple sequence for multidimensional indexing is deprecated; use `arr[tuple(seq)]` instead of `arr[seq]`. In the future this will be interpreted as an array index, `arr[np.array(seq)]`, which will result either in an error or a different result.\n",
      "  diag[s] = 0\n",
      "/home/user/anaconda3/envs/pytorch/lib/python3.7/site-packages/pyamg/gallery/stencil.py:110: FutureWarning: Using a non-tuple sequence for multidimensional indexing is deprecated; use `arr[tuple(seq)]` instead of `arr[seq]`. In the future this will be interpreted as an array index, `arr[np.array(seq)]`, which will result either in an error or a different result.\n",
      "  diag[s] = 0\n",
      "/home/user/anaconda3/envs/pytorch/lib/python3.7/site-packages/pyamg/gallery/stencil.py:114: FutureWarning: Using a non-tuple sequence for multidimensional indexing is deprecated; use `arr[tuple(seq)]` instead of `arr[seq]`. In the future this will be interpreted as an array index, `arr[np.array(seq)]`, which will result either in an error or a different result.\n",
      "  diag[s] = 0\n",
      "/home/user/anaconda3/envs/pytorch/lib/python3.7/site-packages/pyamg/gallery/stencil.py:110: FutureWarning: Using a non-tuple sequence for multidimensional indexing is deprecated; use `arr[tuple(seq)]` instead of `arr[seq]`. In the future this will be interpreted as an array index, `arr[np.array(seq)]`, which will result either in an error or a different result.\n",
      "  diag[s] = 0\n",
      "/home/user/anaconda3/envs/pytorch/lib/python3.7/site-packages/pyamg/gallery/stencil.py:114: FutureWarning: Using a non-tuple sequence for multidimensional indexing is deprecated; use `arr[tuple(seq)]` instead of `arr[seq]`. In the future this will be interpreted as an array index, `arr[np.array(seq)]`, which will result either in an error or a different result.\n",
      "  diag[s] = 0\n",
      "/home/user/anaconda3/envs/pytorch/lib/python3.7/site-packages/pyamg/gallery/stencil.py:110: FutureWarning: Using a non-tuple sequence for multidimensional indexing is deprecated; use `arr[tuple(seq)]` instead of `arr[seq]`. In the future this will be interpreted as an array index, `arr[np.array(seq)]`, which will result either in an error or a different result.\n",
      "  diag[s] = 0\n",
      "/home/user/anaconda3/envs/pytorch/lib/python3.7/site-packages/pyamg/gallery/stencil.py:114: FutureWarning: Using a non-tuple sequence for multidimensional indexing is deprecated; use `arr[tuple(seq)]` instead of `arr[seq]`. In the future this will be interpreted as an array index, `arr[np.array(seq)]`, which will result either in an error or a different result.\n",
      "  diag[s] = 0\n",
      "/home/user/anaconda3/envs/pytorch/lib/python3.7/site-packages/pyamg/gallery/stencil.py:110: FutureWarning: Using a non-tuple sequence for multidimensional indexing is deprecated; use `arr[tuple(seq)]` instead of `arr[seq]`. In the future this will be interpreted as an array index, `arr[np.array(seq)]`, which will result either in an error or a different result.\n",
      "  diag[s] = 0\n",
      "/home/user/anaconda3/envs/pytorch/lib/python3.7/site-packages/ipykernel_launcher.py:38: UserWarning: To copy construct from a tensor, it is recommended to use sourceTensor.clone().detach() or sourceTensor.clone().detach().requires_grad_(True), rather than torch.tensor(sourceTensor).\n",
      "/home/user/anaconda3/envs/pytorch/lib/python3.7/site-packages/pyamg/gallery/stencil.py:114: FutureWarning: Using a non-tuple sequence for multidimensional indexing is deprecated; use `arr[tuple(seq)]` instead of `arr[seq]`. In the future this will be interpreted as an array index, `arr[np.array(seq)]`, which will result either in an error or a different result.\n",
      "  diag[s] = 0\n",
      "/home/user/anaconda3/envs/pytorch/lib/python3.7/site-packages/pyamg/gallery/stencil.py:110: FutureWarning: Using a non-tuple sequence for multidimensional indexing is deprecated; use `arr[tuple(seq)]` instead of `arr[seq]`. In the future this will be interpreted as an array index, `arr[np.array(seq)]`, which will result either in an error or a different result.\n",
      "  diag[s] = 0\n"
     ]
    },
    {
     "name": "stdout",
     "output_type": "stream",
     "text": [
      "[0.0, 2.0, 1.0, 2.0, 2.0, 1.0, 0.0, 3.0, 1.0, 3.0, 1.0, 3.0, 4.0, 1.0, 0.0, 0.0, 2.0, 2.0, 2.0, 0.0, 1.0, 1.0, 0.0, 2.0, 1.0, 1.0, 0.0, 1.0, 0.0, 0.0, 1.0, 0.0, 0.0, 2.0, 1.0, 1.0, 0.0, 0.0, 3.0, 0.0, 0.0, 0.0, 0.0]\n",
      "[0.0, 2.0, 1.0, 2.0, 2.0, 1.0, 0.0, 3.0, 1.0, 3.0, 1.0, 3.0, 4.0, 1.0, 0.0, 0.0, 2.0, 2.0, 2.0, 0.0, 1.0, 1.0, 0.0, 2.0, 1.0, 2.0, 0.0, 1.0, 0.0, 0.0, 1.0, 0.0, 0.0, 2.0, 1.0, 1.0, 0.0, 0.0, 3.0, 0.0, 0.0, 0.0, 0.0]\n",
      "[0.0, 2.0, 1.0, 3.0, 2.0, 1.0, 0.0, 3.0, 1.0, 3.0, 1.0, 3.0, 4.0, 1.0, 0.0, 0.0, 2.0, 2.0, 2.0, 0.0, 1.0, 1.0, 0.0, 2.0, 1.0, 2.0, 0.0, 1.0, 0.0, 0.0, 1.0, 0.0, 0.0, 2.0, 1.0, 1.0, 0.0, 0.0, 3.0, 0.0, 0.0, 0.0, 0.0]\n",
      "[0.0, 2.0, 1.0, 3.0, 2.0, 1.0, 0.0, 3.0, 1.0, 3.0, 2.0, 3.0, 4.0, 1.0, 0.0, 0.0, 2.0, 2.0, 2.0, 0.0, 1.0, 1.0, 0.0, 2.0, 1.0, 2.0, 0.0, 1.0, 0.0, 0.0, 1.0, 0.0, 0.0, 2.0, 1.0, 1.0, 0.0, 0.0, 3.0, 0.0, 0.0, 0.0, 0.0]\n"
     ]
    },
    {
     "name": "stderr",
     "output_type": "stream",
     "text": [
      "/home/user/anaconda3/envs/pytorch/lib/python3.7/site-packages/pyamg/gallery/stencil.py:114: FutureWarning: Using a non-tuple sequence for multidimensional indexing is deprecated; use `arr[tuple(seq)]` instead of `arr[seq]`. In the future this will be interpreted as an array index, `arr[np.array(seq)]`, which will result either in an error or a different result.\n",
      "  diag[s] = 0\n",
      "/home/user/anaconda3/envs/pytorch/lib/python3.7/site-packages/pyamg/gallery/stencil.py:110: FutureWarning: Using a non-tuple sequence for multidimensional indexing is deprecated; use `arr[tuple(seq)]` instead of `arr[seq]`. In the future this will be interpreted as an array index, `arr[np.array(seq)]`, which will result either in an error or a different result.\n",
      "  diag[s] = 0\n",
      "/home/user/anaconda3/envs/pytorch/lib/python3.7/site-packages/pyamg/gallery/stencil.py:114: FutureWarning: Using a non-tuple sequence for multidimensional indexing is deprecated; use `arr[tuple(seq)]` instead of `arr[seq]`. In the future this will be interpreted as an array index, `arr[np.array(seq)]`, which will result either in an error or a different result.\n",
      "  diag[s] = 0\n",
      "/home/user/anaconda3/envs/pytorch/lib/python3.7/site-packages/pyamg/gallery/stencil.py:110: FutureWarning: Using a non-tuple sequence for multidimensional indexing is deprecated; use `arr[tuple(seq)]` instead of `arr[seq]`. In the future this will be interpreted as an array index, `arr[np.array(seq)]`, which will result either in an error or a different result.\n",
      "  diag[s] = 0\n",
      "/home/user/anaconda3/envs/pytorch/lib/python3.7/site-packages/pyamg/gallery/stencil.py:114: FutureWarning: Using a non-tuple sequence for multidimensional indexing is deprecated; use `arr[tuple(seq)]` instead of `arr[seq]`. In the future this will be interpreted as an array index, `arr[np.array(seq)]`, which will result either in an error or a different result.\n",
      "  diag[s] = 0\n",
      "/home/user/anaconda3/envs/pytorch/lib/python3.7/site-packages/pyamg/gallery/stencil.py:110: FutureWarning: Using a non-tuple sequence for multidimensional indexing is deprecated; use `arr[tuple(seq)]` instead of `arr[seq]`. In the future this will be interpreted as an array index, `arr[np.array(seq)]`, which will result either in an error or a different result.\n",
      "  diag[s] = 0\n"
     ]
    },
    {
     "name": "stdout",
     "output_type": "stream",
     "text": [
      "[0.0, 2.0, 1.0, 3.0, 2.0, 1.0, 0.0, 3.0, 1.0, 3.0, 2.0, 3.0, 4.0, 1.0, 0.0, 0.0, 2.0, 2.0, 3.0, 0.0, 1.0, 1.0, 0.0, 2.0, 1.0, 2.0, 0.0, 1.0, 0.0, 0.0, 1.0, 0.0, 0.0, 2.0, 1.0, 1.0, 0.0, 0.0, 3.0, 0.0, 0.0, 0.0, 0.0]\n",
      "[0.0, 2.0, 1.0, 3.0, 2.0, 1.0, 0.0, 3.0, 2.0, 3.0, 2.0, 3.0, 4.0, 1.0, 0.0, 0.0, 2.0, 2.0, 3.0, 0.0, 1.0, 1.0, 0.0, 2.0, 1.0, 2.0, 0.0, 1.0, 0.0, 0.0, 1.0, 0.0, 0.0, 2.0, 1.0, 1.0, 0.0, 0.0, 3.0, 0.0, 0.0, 0.0, 0.0]\n",
      "[0.0, 2.0, 1.0, 3.0, 2.0, 1.0, 0.0, 3.0, 2.0, 3.0, 2.0, 3.0, 4.0, 1.0, 0.0, 0.0, 2.0, 2.0, 3.0, 0.0, 1.0, 1.0, 0.0, 2.0, 1.0, 3.0, 0.0, 1.0, 0.0, 0.0, 1.0, 0.0, 0.0, 2.0, 1.0, 1.0, 0.0, 0.0, 3.0, 0.0, 0.0, 0.0, 0.0]\n",
      "[0.0, 2.0, 1.0, 3.0, 2.0, 1.0, 0.0, 3.0, 2.0, 3.0, 2.0, 3.0, 4.0, 2.0, 0.0, 0.0, 2.0, 2.0, 3.0, 0.0, 1.0, 1.0, 0.0, 2.0, 1.0, 3.0, 0.0, 1.0, 0.0, 0.0, 1.0, 0.0, 0.0, 2.0, 1.0, 1.0, 0.0, 0.0, 3.0, 0.0, 0.0, 0.0, 0.0]\n"
     ]
    },
    {
     "name": "stderr",
     "output_type": "stream",
     "text": [
      "/home/user/anaconda3/envs/pytorch/lib/python3.7/site-packages/ipykernel_launcher.py:38: UserWarning: To copy construct from a tensor, it is recommended to use sourceTensor.clone().detach() or sourceTensor.clone().detach().requires_grad_(True), rather than torch.tensor(sourceTensor).\n",
      "/home/user/anaconda3/envs/pytorch/lib/python3.7/site-packages/pyamg/gallery/stencil.py:114: FutureWarning: Using a non-tuple sequence for multidimensional indexing is deprecated; use `arr[tuple(seq)]` instead of `arr[seq]`. In the future this will be interpreted as an array index, `arr[np.array(seq)]`, which will result either in an error or a different result.\n",
      "  diag[s] = 0\n",
      "/home/user/anaconda3/envs/pytorch/lib/python3.7/site-packages/pyamg/gallery/stencil.py:110: FutureWarning: Using a non-tuple sequence for multidimensional indexing is deprecated; use `arr[tuple(seq)]` instead of `arr[seq]`. In the future this will be interpreted as an array index, `arr[np.array(seq)]`, which will result either in an error or a different result.\n",
      "  diag[s] = 0\n",
      "/home/user/anaconda3/envs/pytorch/lib/python3.7/site-packages/pyamg/gallery/stencil.py:114: FutureWarning: Using a non-tuple sequence for multidimensional indexing is deprecated; use `arr[tuple(seq)]` instead of `arr[seq]`. In the future this will be interpreted as an array index, `arr[np.array(seq)]`, which will result either in an error or a different result.\n",
      "  diag[s] = 0\n",
      "/home/user/anaconda3/envs/pytorch/lib/python3.7/site-packages/pyamg/gallery/stencil.py:110: FutureWarning: Using a non-tuple sequence for multidimensional indexing is deprecated; use `arr[tuple(seq)]` instead of `arr[seq]`. In the future this will be interpreted as an array index, `arr[np.array(seq)]`, which will result either in an error or a different result.\n",
      "  diag[s] = 0\n",
      "/home/user/anaconda3/envs/pytorch/lib/python3.7/site-packages/pyamg/gallery/stencil.py:114: FutureWarning: Using a non-tuple sequence for multidimensional indexing is deprecated; use `arr[tuple(seq)]` instead of `arr[seq]`. In the future this will be interpreted as an array index, `arr[np.array(seq)]`, which will result either in an error or a different result.\n",
      "  diag[s] = 0\n",
      "/home/user/anaconda3/envs/pytorch/lib/python3.7/site-packages/pyamg/gallery/stencil.py:110: FutureWarning: Using a non-tuple sequence for multidimensional indexing is deprecated; use `arr[tuple(seq)]` instead of `arr[seq]`. In the future this will be interpreted as an array index, `arr[np.array(seq)]`, which will result either in an error or a different result.\n",
      "  diag[s] = 0\n",
      "/home/user/anaconda3/envs/pytorch/lib/python3.7/site-packages/pyamg/gallery/stencil.py:114: FutureWarning: Using a non-tuple sequence for multidimensional indexing is deprecated; use `arr[tuple(seq)]` instead of `arr[seq]`. In the future this will be interpreted as an array index, `arr[np.array(seq)]`, which will result either in an error or a different result.\n",
      "  diag[s] = 0\n",
      "/home/user/anaconda3/envs/pytorch/lib/python3.7/site-packages/pyamg/gallery/stencil.py:110: FutureWarning: Using a non-tuple sequence for multidimensional indexing is deprecated; use `arr[tuple(seq)]` instead of `arr[seq]`. In the future this will be interpreted as an array index, `arr[np.array(seq)]`, which will result either in an error or a different result.\n",
      "  diag[s] = 0\n",
      "/home/user/anaconda3/envs/pytorch/lib/python3.7/site-packages/ipykernel_launcher.py:38: UserWarning: To copy construct from a tensor, it is recommended to use sourceTensor.clone().detach() or sourceTensor.clone().detach().requires_grad_(True), rather than torch.tensor(sourceTensor).\n"
     ]
    },
    {
     "name": "stdout",
     "output_type": "stream",
     "text": [
      "[0.0, 2.0, 1.0, 3.0, 2.0, 1.0, 0.0, 3.0, 2.0, 3.0, 2.0, 3.0, 4.0, 2.0, 0.0, 1.0, 2.0, 2.0, 3.0, 0.0, 1.0, 1.0, 0.0, 2.0, 1.0, 3.0, 0.0, 1.0, 0.0, 0.0, 1.0, 0.0, 0.0, 2.0, 1.0, 1.0, 0.0, 0.0, 3.0, 0.0, 0.0, 0.0, 0.0]\n",
      "[0.0, 2.0, 1.0, 3.0, 2.0, 1.0, 0.0, 3.0, 2.0, 4.0, 2.0, 3.0, 4.0, 2.0, 0.0, 1.0, 2.0, 2.0, 3.0, 0.0, 1.0, 1.0, 0.0, 2.0, 1.0, 3.0, 0.0, 1.0, 0.0, 0.0, 1.0, 0.0, 0.0, 2.0, 1.0, 1.0, 0.0, 0.0, 3.0, 0.0, 0.0, 0.0, 0.0]\n",
      "[0.0, 2.0, 1.0, 3.0, 2.0, 1.0, 0.0, 3.0, 2.0, 4.0, 2.0, 3.0, 4.0, 3.0, 0.0, 1.0, 2.0, 2.0, 3.0, 0.0, 1.0, 1.0, 0.0, 2.0, 1.0, 3.0, 0.0, 1.0, 0.0, 0.0, 1.0, 0.0, 0.0, 2.0, 1.0, 1.0, 0.0, 0.0, 3.0, 0.0, 0.0, 0.0, 0.0]\n",
      "[0.0, 2.0, 1.0, 3.0, 2.0, 1.0, 0.0, 3.0, 2.0, 4.0, 2.0, 3.0, 4.0, 3.0, 0.0, 1.0, 2.0, 2.0, 3.0, 0.0, 1.0, 1.0, 0.0, 2.0, 1.0, 3.0, 0.0, 1.0, 0.0, 0.0, 1.0, 0.0, 0.0, 2.0, 1.0, 2.0, 0.0, 0.0, 3.0, 0.0, 0.0, 0.0, 0.0]\n"
     ]
    },
    {
     "name": "stderr",
     "output_type": "stream",
     "text": [
      "/home/user/anaconda3/envs/pytorch/lib/python3.7/site-packages/pyamg/gallery/stencil.py:114: FutureWarning: Using a non-tuple sequence for multidimensional indexing is deprecated; use `arr[tuple(seq)]` instead of `arr[seq]`. In the future this will be interpreted as an array index, `arr[np.array(seq)]`, which will result either in an error or a different result.\n",
      "  diag[s] = 0\n",
      "/home/user/anaconda3/envs/pytorch/lib/python3.7/site-packages/pyamg/gallery/stencil.py:110: FutureWarning: Using a non-tuple sequence for multidimensional indexing is deprecated; use `arr[tuple(seq)]` instead of `arr[seq]`. In the future this will be interpreted as an array index, `arr[np.array(seq)]`, which will result either in an error or a different result.\n",
      "  diag[s] = 0\n",
      "/home/user/anaconda3/envs/pytorch/lib/python3.7/site-packages/pyamg/gallery/stencil.py:114: FutureWarning: Using a non-tuple sequence for multidimensional indexing is deprecated; use `arr[tuple(seq)]` instead of `arr[seq]`. In the future this will be interpreted as an array index, `arr[np.array(seq)]`, which will result either in an error or a different result.\n",
      "  diag[s] = 0\n",
      "/home/user/anaconda3/envs/pytorch/lib/python3.7/site-packages/pyamg/gallery/stencil.py:110: FutureWarning: Using a non-tuple sequence for multidimensional indexing is deprecated; use `arr[tuple(seq)]` instead of `arr[seq]`. In the future this will be interpreted as an array index, `arr[np.array(seq)]`, which will result either in an error or a different result.\n",
      "  diag[s] = 0\n",
      "/home/user/anaconda3/envs/pytorch/lib/python3.7/site-packages/pyamg/gallery/stencil.py:114: FutureWarning: Using a non-tuple sequence for multidimensional indexing is deprecated; use `arr[tuple(seq)]` instead of `arr[seq]`. In the future this will be interpreted as an array index, `arr[np.array(seq)]`, which will result either in an error or a different result.\n",
      "  diag[s] = 0\n",
      "/home/user/anaconda3/envs/pytorch/lib/python3.7/site-packages/pyamg/gallery/stencil.py:110: FutureWarning: Using a non-tuple sequence for multidimensional indexing is deprecated; use `arr[tuple(seq)]` instead of `arr[seq]`. In the future this will be interpreted as an array index, `arr[np.array(seq)]`, which will result either in an error or a different result.\n",
      "  diag[s] = 0\n",
      "/home/user/anaconda3/envs/pytorch/lib/python3.7/site-packages/pyamg/gallery/stencil.py:114: FutureWarning: Using a non-tuple sequence for multidimensional indexing is deprecated; use `arr[tuple(seq)]` instead of `arr[seq]`. In the future this will be interpreted as an array index, `arr[np.array(seq)]`, which will result either in an error or a different result.\n",
      "  diag[s] = 0\n",
      "/home/user/anaconda3/envs/pytorch/lib/python3.7/site-packages/pyamg/gallery/stencil.py:110: FutureWarning: Using a non-tuple sequence for multidimensional indexing is deprecated; use `arr[tuple(seq)]` instead of `arr[seq]`. In the future this will be interpreted as an array index, `arr[np.array(seq)]`, which will result either in an error or a different result.\n",
      "  diag[s] = 0\n",
      "/home/user/anaconda3/envs/pytorch/lib/python3.7/site-packages/ipykernel_launcher.py:38: UserWarning: To copy construct from a tensor, it is recommended to use sourceTensor.clone().detach() or sourceTensor.clone().detach().requires_grad_(True), rather than torch.tensor(sourceTensor).\n",
      "/home/user/anaconda3/envs/pytorch/lib/python3.7/site-packages/pyamg/gallery/stencil.py:114: FutureWarning: Using a non-tuple sequence for multidimensional indexing is deprecated; use `arr[tuple(seq)]` instead of `arr[seq]`. In the future this will be interpreted as an array index, `arr[np.array(seq)]`, which will result either in an error or a different result.\n",
      "  diag[s] = 0\n",
      "/home/user/anaconda3/envs/pytorch/lib/python3.7/site-packages/pyamg/gallery/stencil.py:110: FutureWarning: Using a non-tuple sequence for multidimensional indexing is deprecated; use `arr[tuple(seq)]` instead of `arr[seq]`. In the future this will be interpreted as an array index, `arr[np.array(seq)]`, which will result either in an error or a different result.\n",
      "  diag[s] = 0\n"
     ]
    },
    {
     "name": "stdout",
     "output_type": "stream",
     "text": [
      "[0.0, 2.0, 1.0, 3.0, 2.0, 2.0, 0.0, 3.0, 2.0, 4.0, 2.0, 3.0, 4.0, 3.0, 0.0, 1.0, 2.0, 2.0, 3.0, 0.0, 1.0, 1.0, 0.0, 2.0, 1.0, 3.0, 0.0, 1.0, 0.0, 0.0, 1.0, 0.0, 0.0, 2.0, 1.0, 2.0, 0.0, 0.0, 3.0, 0.0, 0.0, 0.0, 0.0]\n",
      "[0.0, 2.0, 1.0, 3.0, 2.0, 2.0, 0.0, 3.0, 2.0, 4.0, 2.0, 3.0, 4.0, 3.0, 0.0, 1.0, 2.0, 2.0, 3.0, 0.0, 1.0, 1.0, 0.0, 2.0, 1.0, 3.0, 1.0, 1.0, 0.0, 0.0, 1.0, 0.0, 0.0, 2.0, 1.0, 2.0, 0.0, 0.0, 3.0, 0.0, 0.0, 0.0, 0.0]\n",
      "[0.0, 2.0, 1.0, 3.0, 2.0, 2.0, 0.0, 3.0, 2.0, 5.0, 2.0, 3.0, 4.0, 3.0, 0.0, 1.0, 2.0, 2.0, 3.0, 0.0, 1.0, 1.0, 0.0, 2.0, 1.0, 3.0, 1.0, 1.0, 0.0, 0.0, 1.0, 0.0, 0.0, 2.0, 1.0, 2.0, 0.0, 0.0, 3.0, 0.0, 0.0, 0.0, 0.0]\n",
      "[0.0, 2.0, 1.0, 3.0, 2.0, 2.0, 0.0, 3.0, 2.0, 5.0, 2.0, 3.0, 4.0, 3.0, 0.0, 1.0, 3.0, 2.0, 3.0, 0.0, 1.0, 1.0, 0.0, 2.0, 1.0, 3.0, 1.0, 1.0, 0.0, 0.0, 1.0, 0.0, 0.0, 2.0, 1.0, 2.0, 0.0, 0.0, 3.0, 0.0, 0.0, 0.0, 0.0]\n"
     ]
    },
    {
     "name": "stderr",
     "output_type": "stream",
     "text": [
      "/home/user/anaconda3/envs/pytorch/lib/python3.7/site-packages/pyamg/gallery/stencil.py:114: FutureWarning: Using a non-tuple sequence for multidimensional indexing is deprecated; use `arr[tuple(seq)]` instead of `arr[seq]`. In the future this will be interpreted as an array index, `arr[np.array(seq)]`, which will result either in an error or a different result.\n",
      "  diag[s] = 0\n",
      "/home/user/anaconda3/envs/pytorch/lib/python3.7/site-packages/pyamg/gallery/stencil.py:110: FutureWarning: Using a non-tuple sequence for multidimensional indexing is deprecated; use `arr[tuple(seq)]` instead of `arr[seq]`. In the future this will be interpreted as an array index, `arr[np.array(seq)]`, which will result either in an error or a different result.\n",
      "  diag[s] = 0\n",
      "/home/user/anaconda3/envs/pytorch/lib/python3.7/site-packages/pyamg/gallery/stencil.py:114: FutureWarning: Using a non-tuple sequence for multidimensional indexing is deprecated; use `arr[tuple(seq)]` instead of `arr[seq]`. In the future this will be interpreted as an array index, `arr[np.array(seq)]`, which will result either in an error or a different result.\n",
      "  diag[s] = 0\n",
      "/home/user/anaconda3/envs/pytorch/lib/python3.7/site-packages/pyamg/gallery/stencil.py:110: FutureWarning: Using a non-tuple sequence for multidimensional indexing is deprecated; use `arr[tuple(seq)]` instead of `arr[seq]`. In the future this will be interpreted as an array index, `arr[np.array(seq)]`, which will result either in an error or a different result.\n",
      "  diag[s] = 0\n",
      "/home/user/anaconda3/envs/pytorch/lib/python3.7/site-packages/pyamg/gallery/stencil.py:114: FutureWarning: Using a non-tuple sequence for multidimensional indexing is deprecated; use `arr[tuple(seq)]` instead of `arr[seq]`. In the future this will be interpreted as an array index, `arr[np.array(seq)]`, which will result either in an error or a different result.\n",
      "  diag[s] = 0\n",
      "/home/user/anaconda3/envs/pytorch/lib/python3.7/site-packages/pyamg/gallery/stencil.py:110: FutureWarning: Using a non-tuple sequence for multidimensional indexing is deprecated; use `arr[tuple(seq)]` instead of `arr[seq]`. In the future this will be interpreted as an array index, `arr[np.array(seq)]`, which will result either in an error or a different result.\n",
      "  diag[s] = 0\n"
     ]
    },
    {
     "name": "stdout",
     "output_type": "stream",
     "text": [
      "[0.0, 2.0, 1.0, 3.0, 2.0, 2.0, 0.0, 3.0, 2.0, 5.0, 2.0, 3.0, 4.0, 3.0, 0.0, 1.0, 3.0, 2.0, 3.0, 0.0, 1.0, 1.0, 0.0, 2.0, 1.0, 3.0, 1.0, 1.0, 0.0, 0.0, 1.0, 0.0, 0.0, 2.0, 1.0, 2.0, 0.0, 0.0, 4.0, 0.0, 0.0, 0.0, 0.0]\n",
      "[0.0, 2.0, 1.0, 3.0, 2.0, 2.0, 0.0, 3.0, 2.0, 5.0, 3.0, 3.0, 4.0, 3.0, 0.0, 1.0, 3.0, 2.0, 3.0, 0.0, 1.0, 1.0, 0.0, 2.0, 1.0, 3.0, 1.0, 1.0, 0.0, 0.0, 1.0, 0.0, 0.0, 2.0, 1.0, 2.0, 0.0, 0.0, 4.0, 0.0, 0.0, 0.0, 0.0]\n",
      "[0.0, 2.0, 1.0, 3.0, 3.0, 2.0, 0.0, 3.0, 2.0, 5.0, 3.0, 3.0, 4.0, 3.0, 0.0, 1.0, 3.0, 2.0, 3.0, 0.0, 1.0, 1.0, 0.0, 2.0, 1.0, 3.0, 1.0, 1.0, 0.0, 0.0, 1.0, 0.0, 0.0, 2.0, 1.0, 2.0, 0.0, 0.0, 4.0, 0.0, 0.0, 0.0, 0.0]\n",
      "[0.0, 2.0, 1.0, 3.0, 3.0, 2.0, 0.0, 3.0, 2.0, 6.0, 3.0, 3.0, 4.0, 3.0, 0.0, 1.0, 3.0, 2.0, 3.0, 0.0, 1.0, 1.0, 0.0, 2.0, 1.0, 3.0, 1.0, 1.0, 0.0, 0.0, 1.0, 0.0, 0.0, 2.0, 1.0, 2.0, 0.0, 0.0, 4.0, 0.0, 0.0, 0.0, 0.0]\n"
     ]
    },
    {
     "name": "stderr",
     "output_type": "stream",
     "text": [
      "/home/user/anaconda3/envs/pytorch/lib/python3.7/site-packages/ipykernel_launcher.py:38: UserWarning: To copy construct from a tensor, it is recommended to use sourceTensor.clone().detach() or sourceTensor.clone().detach().requires_grad_(True), rather than torch.tensor(sourceTensor).\n",
      "/home/user/anaconda3/envs/pytorch/lib/python3.7/site-packages/pyamg/gallery/stencil.py:114: FutureWarning: Using a non-tuple sequence for multidimensional indexing is deprecated; use `arr[tuple(seq)]` instead of `arr[seq]`. In the future this will be interpreted as an array index, `arr[np.array(seq)]`, which will result either in an error or a different result.\n",
      "  diag[s] = 0\n",
      "/home/user/anaconda3/envs/pytorch/lib/python3.7/site-packages/pyamg/gallery/stencil.py:110: FutureWarning: Using a non-tuple sequence for multidimensional indexing is deprecated; use `arr[tuple(seq)]` instead of `arr[seq]`. In the future this will be interpreted as an array index, `arr[np.array(seq)]`, which will result either in an error or a different result.\n",
      "  diag[s] = 0\n",
      "/home/user/anaconda3/envs/pytorch/lib/python3.7/site-packages/pyamg/gallery/stencil.py:114: FutureWarning: Using a non-tuple sequence for multidimensional indexing is deprecated; use `arr[tuple(seq)]` instead of `arr[seq]`. In the future this will be interpreted as an array index, `arr[np.array(seq)]`, which will result either in an error or a different result.\n",
      "  diag[s] = 0\n",
      "/home/user/anaconda3/envs/pytorch/lib/python3.7/site-packages/pyamg/gallery/stencil.py:110: FutureWarning: Using a non-tuple sequence for multidimensional indexing is deprecated; use `arr[tuple(seq)]` instead of `arr[seq]`. In the future this will be interpreted as an array index, `arr[np.array(seq)]`, which will result either in an error or a different result.\n",
      "  diag[s] = 0\n",
      "/home/user/anaconda3/envs/pytorch/lib/python3.7/site-packages/pyamg/gallery/stencil.py:114: FutureWarning: Using a non-tuple sequence for multidimensional indexing is deprecated; use `arr[tuple(seq)]` instead of `arr[seq]`. In the future this will be interpreted as an array index, `arr[np.array(seq)]`, which will result either in an error or a different result.\n",
      "  diag[s] = 0\n",
      "/home/user/anaconda3/envs/pytorch/lib/python3.7/site-packages/pyamg/gallery/stencil.py:110: FutureWarning: Using a non-tuple sequence for multidimensional indexing is deprecated; use `arr[tuple(seq)]` instead of `arr[seq]`. In the future this will be interpreted as an array index, `arr[np.array(seq)]`, which will result either in an error or a different result.\n",
      "  diag[s] = 0\n",
      "/home/user/anaconda3/envs/pytorch/lib/python3.7/site-packages/pyamg/gallery/stencil.py:114: FutureWarning: Using a non-tuple sequence for multidimensional indexing is deprecated; use `arr[tuple(seq)]` instead of `arr[seq]`. In the future this will be interpreted as an array index, `arr[np.array(seq)]`, which will result either in an error or a different result.\n",
      "  diag[s] = 0\n",
      "/home/user/anaconda3/envs/pytorch/lib/python3.7/site-packages/pyamg/gallery/stencil.py:110: FutureWarning: Using a non-tuple sequence for multidimensional indexing is deprecated; use `arr[tuple(seq)]` instead of `arr[seq]`. In the future this will be interpreted as an array index, `arr[np.array(seq)]`, which will result either in an error or a different result.\n",
      "  diag[s] = 0\n",
      "/home/user/anaconda3/envs/pytorch/lib/python3.7/site-packages/ipykernel_launcher.py:38: UserWarning: To copy construct from a tensor, it is recommended to use sourceTensor.clone().detach() or sourceTensor.clone().detach().requires_grad_(True), rather than torch.tensor(sourceTensor).\n"
     ]
    },
    {
     "name": "stdout",
     "output_type": "stream",
     "text": [
      "[0.0, 2.0, 1.0, 3.0, 3.0, 2.0, 0.0, 3.0, 2.0, 6.0, 3.0, 3.0, 4.0, 3.0, 0.0, 2.0, 3.0, 2.0, 3.0, 0.0, 1.0, 1.0, 0.0, 2.0, 1.0, 3.0, 1.0, 1.0, 0.0, 0.0, 1.0, 0.0, 0.0, 2.0, 1.0, 2.0, 0.0, 0.0, 4.0, 0.0, 0.0, 0.0, 0.0]\n",
      "[0.0, 2.0, 1.0, 3.0, 3.0, 2.0, 0.0, 3.0, 2.0, 7.0, 3.0, 3.0, 4.0, 3.0, 0.0, 2.0, 3.0, 2.0, 3.0, 0.0, 1.0, 1.0, 0.0, 2.0, 1.0, 3.0, 1.0, 1.0, 0.0, 0.0, 1.0, 0.0, 0.0, 2.0, 1.0, 2.0, 0.0, 0.0, 4.0, 0.0, 0.0, 0.0, 0.0]\n",
      "[0.0, 2.0, 1.0, 3.0, 3.0, 2.0, 0.0, 3.0, 2.0, 7.0, 3.0, 3.0, 4.0, 3.0, 0.0, 2.0, 3.0, 2.0, 3.0, 0.0, 1.0, 1.0, 0.0, 2.0, 1.0, 3.0, 2.0, 1.0, 0.0, 0.0, 1.0, 0.0, 0.0, 2.0, 1.0, 2.0, 0.0, 0.0, 4.0, 0.0, 0.0, 0.0, 0.0]\n",
      "[0.0, 2.0, 2.0, 3.0, 3.0, 2.0, 0.0, 3.0, 2.0, 7.0, 3.0, 3.0, 4.0, 3.0, 0.0, 2.0, 3.0, 2.0, 3.0, 0.0, 1.0, 1.0, 0.0, 2.0, 1.0, 3.0, 2.0, 1.0, 0.0, 0.0, 1.0, 0.0, 0.0, 2.0, 1.0, 2.0, 0.0, 0.0, 4.0, 0.0, 0.0, 0.0, 0.0]\n"
     ]
    },
    {
     "name": "stderr",
     "output_type": "stream",
     "text": [
      "/home/user/anaconda3/envs/pytorch/lib/python3.7/site-packages/pyamg/gallery/stencil.py:114: FutureWarning: Using a non-tuple sequence for multidimensional indexing is deprecated; use `arr[tuple(seq)]` instead of `arr[seq]`. In the future this will be interpreted as an array index, `arr[np.array(seq)]`, which will result either in an error or a different result.\n",
      "  diag[s] = 0\n",
      "/home/user/anaconda3/envs/pytorch/lib/python3.7/site-packages/pyamg/gallery/stencil.py:110: FutureWarning: Using a non-tuple sequence for multidimensional indexing is deprecated; use `arr[tuple(seq)]` instead of `arr[seq]`. In the future this will be interpreted as an array index, `arr[np.array(seq)]`, which will result either in an error or a different result.\n",
      "  diag[s] = 0\n",
      "/home/user/anaconda3/envs/pytorch/lib/python3.7/site-packages/pyamg/gallery/stencil.py:114: FutureWarning: Using a non-tuple sequence for multidimensional indexing is deprecated; use `arr[tuple(seq)]` instead of `arr[seq]`. In the future this will be interpreted as an array index, `arr[np.array(seq)]`, which will result either in an error or a different result.\n",
      "  diag[s] = 0\n",
      "/home/user/anaconda3/envs/pytorch/lib/python3.7/site-packages/pyamg/gallery/stencil.py:110: FutureWarning: Using a non-tuple sequence for multidimensional indexing is deprecated; use `arr[tuple(seq)]` instead of `arr[seq]`. In the future this will be interpreted as an array index, `arr[np.array(seq)]`, which will result either in an error or a different result.\n",
      "  diag[s] = 0\n",
      "/home/user/anaconda3/envs/pytorch/lib/python3.7/site-packages/pyamg/gallery/stencil.py:114: FutureWarning: Using a non-tuple sequence for multidimensional indexing is deprecated; use `arr[tuple(seq)]` instead of `arr[seq]`. In the future this will be interpreted as an array index, `arr[np.array(seq)]`, which will result either in an error or a different result.\n",
      "  diag[s] = 0\n",
      "/home/user/anaconda3/envs/pytorch/lib/python3.7/site-packages/pyamg/gallery/stencil.py:110: FutureWarning: Using a non-tuple sequence for multidimensional indexing is deprecated; use `arr[tuple(seq)]` instead of `arr[seq]`. In the future this will be interpreted as an array index, `arr[np.array(seq)]`, which will result either in an error or a different result.\n",
      "  diag[s] = 0\n",
      "/home/user/anaconda3/envs/pytorch/lib/python3.7/site-packages/pyamg/gallery/stencil.py:114: FutureWarning: Using a non-tuple sequence for multidimensional indexing is deprecated; use `arr[tuple(seq)]` instead of `arr[seq]`. In the future this will be interpreted as an array index, `arr[np.array(seq)]`, which will result either in an error or a different result.\n",
      "  diag[s] = 0\n",
      "/home/user/anaconda3/envs/pytorch/lib/python3.7/site-packages/pyamg/gallery/stencil.py:110: FutureWarning: Using a non-tuple sequence for multidimensional indexing is deprecated; use `arr[tuple(seq)]` instead of `arr[seq]`. In the future this will be interpreted as an array index, `arr[np.array(seq)]`, which will result either in an error or a different result.\n",
      "  diag[s] = 0\n",
      "/home/user/anaconda3/envs/pytorch/lib/python3.7/site-packages/ipykernel_launcher.py:38: UserWarning: To copy construct from a tensor, it is recommended to use sourceTensor.clone().detach() or sourceTensor.clone().detach().requires_grad_(True), rather than torch.tensor(sourceTensor).\n",
      "/home/user/anaconda3/envs/pytorch/lib/python3.7/site-packages/pyamg/gallery/stencil.py:114: FutureWarning: Using a non-tuple sequence for multidimensional indexing is deprecated; use `arr[tuple(seq)]` instead of `arr[seq]`. In the future this will be interpreted as an array index, `arr[np.array(seq)]`, which will result either in an error or a different result.\n",
      "  diag[s] = 0\n",
      "/home/user/anaconda3/envs/pytorch/lib/python3.7/site-packages/pyamg/gallery/stencil.py:110: FutureWarning: Using a non-tuple sequence for multidimensional indexing is deprecated; use `arr[tuple(seq)]` instead of `arr[seq]`. In the future this will be interpreted as an array index, `arr[np.array(seq)]`, which will result either in an error or a different result.\n",
      "  diag[s] = 0\n"
     ]
    },
    {
     "name": "stdout",
     "output_type": "stream",
     "text": [
      "[0.0, 2.0, 2.0, 3.0, 3.0, 3.0, 0.0, 3.0, 2.0, 7.0, 3.0, 3.0, 4.0, 3.0, 0.0, 2.0, 3.0, 2.0, 3.0, 0.0, 1.0, 1.0, 0.0, 2.0, 1.0, 3.0, 2.0, 1.0, 0.0, 0.0, 1.0, 0.0, 0.0, 2.0, 1.0, 2.0, 0.0, 0.0, 4.0, 0.0, 0.0, 0.0, 0.0]\n",
      "[0.0, 2.0, 2.0, 3.0, 3.0, 3.0, 0.0, 3.0, 2.0, 7.0, 3.0, 3.0, 4.0, 3.0, 0.0, 2.0, 3.0, 2.0, 3.0, 0.0, 1.0, 1.0, 0.0, 2.0, 1.0, 3.0, 2.0, 1.0, 1.0, 0.0, 1.0, 0.0, 0.0, 2.0, 1.0, 2.0, 0.0, 0.0, 4.0, 0.0, 0.0, 0.0, 0.0]\n",
      "[0.0, 2.0, 2.0, 3.0, 3.0, 3.0, 0.0, 3.0, 2.0, 7.0, 3.0, 4.0, 4.0, 3.0, 0.0, 2.0, 3.0, 2.0, 3.0, 0.0, 1.0, 1.0, 0.0, 2.0, 1.0, 3.0, 2.0, 1.0, 1.0, 0.0, 1.0, 0.0, 0.0, 2.0, 1.0, 2.0, 0.0, 0.0, 4.0, 0.0, 0.0, 0.0, 0.0]\n",
      "[0.0, 2.0, 2.0, 3.0, 3.0, 3.0, 0.0, 3.0, 2.0, 7.0, 3.0, 4.0, 4.0, 3.0, 0.0, 2.0, 3.0, 2.0, 3.0, 0.0, 1.0, 1.0, 0.0, 2.0, 1.0, 4.0, 2.0, 1.0, 1.0, 0.0, 1.0, 0.0, 0.0, 2.0, 1.0, 2.0, 0.0, 0.0, 4.0, 0.0, 0.0, 0.0, 0.0]\n"
     ]
    },
    {
     "name": "stderr",
     "output_type": "stream",
     "text": [
      "/home/user/anaconda3/envs/pytorch/lib/python3.7/site-packages/pyamg/gallery/stencil.py:114: FutureWarning: Using a non-tuple sequence for multidimensional indexing is deprecated; use `arr[tuple(seq)]` instead of `arr[seq]`. In the future this will be interpreted as an array index, `arr[np.array(seq)]`, which will result either in an error or a different result.\n",
      "  diag[s] = 0\n",
      "/home/user/anaconda3/envs/pytorch/lib/python3.7/site-packages/pyamg/gallery/stencil.py:110: FutureWarning: Using a non-tuple sequence for multidimensional indexing is deprecated; use `arr[tuple(seq)]` instead of `arr[seq]`. In the future this will be interpreted as an array index, `arr[np.array(seq)]`, which will result either in an error or a different result.\n",
      "  diag[s] = 0\n",
      "/home/user/anaconda3/envs/pytorch/lib/python3.7/site-packages/pyamg/gallery/stencil.py:114: FutureWarning: Using a non-tuple sequence for multidimensional indexing is deprecated; use `arr[tuple(seq)]` instead of `arr[seq]`. In the future this will be interpreted as an array index, `arr[np.array(seq)]`, which will result either in an error or a different result.\n",
      "  diag[s] = 0\n",
      "/home/user/anaconda3/envs/pytorch/lib/python3.7/site-packages/pyamg/gallery/stencil.py:110: FutureWarning: Using a non-tuple sequence for multidimensional indexing is deprecated; use `arr[tuple(seq)]` instead of `arr[seq]`. In the future this will be interpreted as an array index, `arr[np.array(seq)]`, which will result either in an error or a different result.\n",
      "  diag[s] = 0\n",
      "/home/user/anaconda3/envs/pytorch/lib/python3.7/site-packages/pyamg/gallery/stencil.py:114: FutureWarning: Using a non-tuple sequence for multidimensional indexing is deprecated; use `arr[tuple(seq)]` instead of `arr[seq]`. In the future this will be interpreted as an array index, `arr[np.array(seq)]`, which will result either in an error or a different result.\n",
      "  diag[s] = 0\n",
      "/home/user/anaconda3/envs/pytorch/lib/python3.7/site-packages/pyamg/gallery/stencil.py:110: FutureWarning: Using a non-tuple sequence for multidimensional indexing is deprecated; use `arr[tuple(seq)]` instead of `arr[seq]`. In the future this will be interpreted as an array index, `arr[np.array(seq)]`, which will result either in an error or a different result.\n",
      "  diag[s] = 0\n"
     ]
    },
    {
     "name": "stdout",
     "output_type": "stream",
     "text": [
      "[0.0, 2.0, 2.0, 3.0, 3.0, 3.0, 0.0, 3.0, 2.0, 7.0, 3.0, 4.0, 4.0, 3.0, 0.0, 2.0, 3.0, 2.0, 3.0, 0.0, 1.0, 1.0, 0.0, 2.0, 1.0, 4.0, 2.0, 1.0, 1.0, 0.0, 2.0, 0.0, 0.0, 2.0, 1.0, 2.0, 0.0, 0.0, 4.0, 0.0, 0.0, 0.0, 0.0]\n",
      "[0.0, 2.0, 2.0, 3.0, 3.0, 3.0, 0.0, 3.0, 2.0, 7.0, 3.0, 4.0, 4.0, 3.0, 0.0, 2.0, 3.0, 2.0, 3.0, 0.0, 1.0, 1.0, 0.0, 2.0, 1.0, 4.0, 2.0, 1.0, 1.0, 0.0, 2.0, 0.0, 0.0, 2.0, 2.0, 2.0, 0.0, 0.0, 4.0, 0.0, 0.0, 0.0, 0.0]\n",
      "[0.0, 2.0, 2.0, 3.0, 3.0, 4.0, 0.0, 3.0, 2.0, 7.0, 3.0, 4.0, 4.0, 3.0, 0.0, 2.0, 3.0, 2.0, 3.0, 0.0, 1.0, 1.0, 0.0, 2.0, 1.0, 4.0, 2.0, 1.0, 1.0, 0.0, 2.0, 0.0, 0.0, 2.0, 2.0, 2.0, 0.0, 0.0, 4.0, 0.0, 0.0, 0.0, 0.0]\n",
      "[0.0, 2.0, 2.0, 3.0, 3.0, 4.0, 0.0, 3.0, 2.0, 7.0, 3.0, 4.0, 5.0, 3.0, 0.0, 2.0, 3.0, 2.0, 3.0, 0.0, 1.0, 1.0, 0.0, 2.0, 1.0, 4.0, 2.0, 1.0, 1.0, 0.0, 2.0, 0.0, 0.0, 2.0, 2.0, 2.0, 0.0, 0.0, 4.0, 0.0, 0.0, 0.0, 0.0]\n"
     ]
    },
    {
     "name": "stderr",
     "output_type": "stream",
     "text": [
      "/home/user/anaconda3/envs/pytorch/lib/python3.7/site-packages/ipykernel_launcher.py:38: UserWarning: To copy construct from a tensor, it is recommended to use sourceTensor.clone().detach() or sourceTensor.clone().detach().requires_grad_(True), rather than torch.tensor(sourceTensor).\n",
      "/home/user/anaconda3/envs/pytorch/lib/python3.7/site-packages/pyamg/gallery/stencil.py:114: FutureWarning: Using a non-tuple sequence for multidimensional indexing is deprecated; use `arr[tuple(seq)]` instead of `arr[seq]`. In the future this will be interpreted as an array index, `arr[np.array(seq)]`, which will result either in an error or a different result.\n",
      "  diag[s] = 0\n",
      "/home/user/anaconda3/envs/pytorch/lib/python3.7/site-packages/pyamg/gallery/stencil.py:110: FutureWarning: Using a non-tuple sequence for multidimensional indexing is deprecated; use `arr[tuple(seq)]` instead of `arr[seq]`. In the future this will be interpreted as an array index, `arr[np.array(seq)]`, which will result either in an error or a different result.\n",
      "  diag[s] = 0\n",
      "/home/user/anaconda3/envs/pytorch/lib/python3.7/site-packages/pyamg/gallery/stencil.py:114: FutureWarning: Using a non-tuple sequence for multidimensional indexing is deprecated; use `arr[tuple(seq)]` instead of `arr[seq]`. In the future this will be interpreted as an array index, `arr[np.array(seq)]`, which will result either in an error or a different result.\n",
      "  diag[s] = 0\n",
      "/home/user/anaconda3/envs/pytorch/lib/python3.7/site-packages/pyamg/gallery/stencil.py:110: FutureWarning: Using a non-tuple sequence for multidimensional indexing is deprecated; use `arr[tuple(seq)]` instead of `arr[seq]`. In the future this will be interpreted as an array index, `arr[np.array(seq)]`, which will result either in an error or a different result.\n",
      "  diag[s] = 0\n",
      "/home/user/anaconda3/envs/pytorch/lib/python3.7/site-packages/pyamg/gallery/stencil.py:114: FutureWarning: Using a non-tuple sequence for multidimensional indexing is deprecated; use `arr[tuple(seq)]` instead of `arr[seq]`. In the future this will be interpreted as an array index, `arr[np.array(seq)]`, which will result either in an error or a different result.\n",
      "  diag[s] = 0\n",
      "/home/user/anaconda3/envs/pytorch/lib/python3.7/site-packages/pyamg/gallery/stencil.py:110: FutureWarning: Using a non-tuple sequence for multidimensional indexing is deprecated; use `arr[tuple(seq)]` instead of `arr[seq]`. In the future this will be interpreted as an array index, `arr[np.array(seq)]`, which will result either in an error or a different result.\n",
      "  diag[s] = 0\n",
      "/home/user/anaconda3/envs/pytorch/lib/python3.7/site-packages/pyamg/gallery/stencil.py:114: FutureWarning: Using a non-tuple sequence for multidimensional indexing is deprecated; use `arr[tuple(seq)]` instead of `arr[seq]`. In the future this will be interpreted as an array index, `arr[np.array(seq)]`, which will result either in an error or a different result.\n",
      "  diag[s] = 0\n",
      "/home/user/anaconda3/envs/pytorch/lib/python3.7/site-packages/pyamg/gallery/stencil.py:110: FutureWarning: Using a non-tuple sequence for multidimensional indexing is deprecated; use `arr[tuple(seq)]` instead of `arr[seq]`. In the future this will be interpreted as an array index, `arr[np.array(seq)]`, which will result either in an error or a different result.\n",
      "  diag[s] = 0\n",
      "/home/user/anaconda3/envs/pytorch/lib/python3.7/site-packages/ipykernel_launcher.py:38: UserWarning: To copy construct from a tensor, it is recommended to use sourceTensor.clone().detach() or sourceTensor.clone().detach().requires_grad_(True), rather than torch.tensor(sourceTensor).\n"
     ]
    },
    {
     "name": "stdout",
     "output_type": "stream",
     "text": [
      "[0.0, 3.0, 2.0, 3.0, 3.0, 4.0, 0.0, 3.0, 2.0, 7.0, 3.0, 4.0, 5.0, 3.0, 0.0, 2.0, 3.0, 2.0, 3.0, 0.0, 1.0, 1.0, 0.0, 2.0, 1.0, 4.0, 2.0, 1.0, 1.0, 0.0, 2.0, 0.0, 0.0, 2.0, 2.0, 2.0, 0.0, 0.0, 4.0, 0.0, 0.0, 0.0, 0.0]\n",
      "[0.0, 3.0, 2.0, 3.0, 3.0, 4.0, 0.0, 3.0, 2.0, 7.0, 4.0, 4.0, 5.0, 3.0, 0.0, 2.0, 3.0, 2.0, 3.0, 0.0, 1.0, 1.0, 0.0, 2.0, 1.0, 4.0, 2.0, 1.0, 1.0, 0.0, 2.0, 0.0, 0.0, 2.0, 2.0, 2.0, 0.0, 0.0, 4.0, 0.0, 0.0, 0.0, 0.0]\n",
      "[0.0, 3.0, 2.0, 3.0, 3.0, 4.0, 0.0, 3.0, 2.0, 7.0, 4.0, 4.0, 5.0, 3.0, 0.0, 2.0, 3.0, 2.0, 3.0, 0.0, 1.0, 1.0, 0.0, 2.0, 1.0, 5.0, 2.0, 1.0, 1.0, 0.0, 2.0, 0.0, 0.0, 2.0, 2.0, 2.0, 0.0, 0.0, 4.0, 0.0, 0.0, 0.0, 0.0]\n",
      "[0.0, 3.0, 2.0, 3.0, 3.0, 4.0, 0.0, 3.0, 2.0, 7.0, 4.0, 4.0, 5.0, 3.0, 0.0, 2.0, 3.0, 2.0, 3.0, 0.0, 1.0, 1.0, 0.0, 2.0, 1.0, 6.0, 2.0, 1.0, 1.0, 0.0, 2.0, 0.0, 0.0, 2.0, 2.0, 2.0, 0.0, 0.0, 4.0, 0.0, 0.0, 0.0, 0.0]\n"
     ]
    },
    {
     "name": "stderr",
     "output_type": "stream",
     "text": [
      "/home/user/anaconda3/envs/pytorch/lib/python3.7/site-packages/pyamg/gallery/stencil.py:114: FutureWarning: Using a non-tuple sequence for multidimensional indexing is deprecated; use `arr[tuple(seq)]` instead of `arr[seq]`. In the future this will be interpreted as an array index, `arr[np.array(seq)]`, which will result either in an error or a different result.\n",
      "  diag[s] = 0\n",
      "/home/user/anaconda3/envs/pytorch/lib/python3.7/site-packages/pyamg/gallery/stencil.py:110: FutureWarning: Using a non-tuple sequence for multidimensional indexing is deprecated; use `arr[tuple(seq)]` instead of `arr[seq]`. In the future this will be interpreted as an array index, `arr[np.array(seq)]`, which will result either in an error or a different result.\n",
      "  diag[s] = 0\n",
      "/home/user/anaconda3/envs/pytorch/lib/python3.7/site-packages/pyamg/gallery/stencil.py:114: FutureWarning: Using a non-tuple sequence for multidimensional indexing is deprecated; use `arr[tuple(seq)]` instead of `arr[seq]`. In the future this will be interpreted as an array index, `arr[np.array(seq)]`, which will result either in an error or a different result.\n",
      "  diag[s] = 0\n",
      "/home/user/anaconda3/envs/pytorch/lib/python3.7/site-packages/pyamg/gallery/stencil.py:110: FutureWarning: Using a non-tuple sequence for multidimensional indexing is deprecated; use `arr[tuple(seq)]` instead of `arr[seq]`. In the future this will be interpreted as an array index, `arr[np.array(seq)]`, which will result either in an error or a different result.\n",
      "  diag[s] = 0\n",
      "/home/user/anaconda3/envs/pytorch/lib/python3.7/site-packages/pyamg/gallery/stencil.py:114: FutureWarning: Using a non-tuple sequence for multidimensional indexing is deprecated; use `arr[tuple(seq)]` instead of `arr[seq]`. In the future this will be interpreted as an array index, `arr[np.array(seq)]`, which will result either in an error or a different result.\n",
      "  diag[s] = 0\n",
      "/home/user/anaconda3/envs/pytorch/lib/python3.7/site-packages/pyamg/gallery/stencil.py:110: FutureWarning: Using a non-tuple sequence for multidimensional indexing is deprecated; use `arr[tuple(seq)]` instead of `arr[seq]`. In the future this will be interpreted as an array index, `arr[np.array(seq)]`, which will result either in an error or a different result.\n",
      "  diag[s] = 0\n",
      "/home/user/anaconda3/envs/pytorch/lib/python3.7/site-packages/pyamg/gallery/stencil.py:114: FutureWarning: Using a non-tuple sequence for multidimensional indexing is deprecated; use `arr[tuple(seq)]` instead of `arr[seq]`. In the future this will be interpreted as an array index, `arr[np.array(seq)]`, which will result either in an error or a different result.\n",
      "  diag[s] = 0\n",
      "/home/user/anaconda3/envs/pytorch/lib/python3.7/site-packages/pyamg/gallery/stencil.py:110: FutureWarning: Using a non-tuple sequence for multidimensional indexing is deprecated; use `arr[tuple(seq)]` instead of `arr[seq]`. In the future this will be interpreted as an array index, `arr[np.array(seq)]`, which will result either in an error or a different result.\n",
      "  diag[s] = 0\n",
      "/home/user/anaconda3/envs/pytorch/lib/python3.7/site-packages/ipykernel_launcher.py:38: UserWarning: To copy construct from a tensor, it is recommended to use sourceTensor.clone().detach() or sourceTensor.clone().detach().requires_grad_(True), rather than torch.tensor(sourceTensor).\n",
      "/home/user/anaconda3/envs/pytorch/lib/python3.7/site-packages/pyamg/gallery/stencil.py:114: FutureWarning: Using a non-tuple sequence for multidimensional indexing is deprecated; use `arr[tuple(seq)]` instead of `arr[seq]`. In the future this will be interpreted as an array index, `arr[np.array(seq)]`, which will result either in an error or a different result.\n",
      "  diag[s] = 0\n",
      "/home/user/anaconda3/envs/pytorch/lib/python3.7/site-packages/pyamg/gallery/stencil.py:110: FutureWarning: Using a non-tuple sequence for multidimensional indexing is deprecated; use `arr[tuple(seq)]` instead of `arr[seq]`. In the future this will be interpreted as an array index, `arr[np.array(seq)]`, which will result either in an error or a different result.\n",
      "  diag[s] = 0\n"
     ]
    },
    {
     "name": "stdout",
     "output_type": "stream",
     "text": [
      "[0.0, 3.0, 2.0, 3.0, 3.0, 4.0, 0.0, 3.0, 2.0, 7.0, 4.0, 4.0, 5.0, 3.0, 0.0, 2.0, 3.0, 2.0, 3.0, 0.0, 1.0, 2.0, 0.0, 2.0, 1.0, 6.0, 2.0, 1.0, 1.0, 0.0, 2.0, 0.0, 0.0, 2.0, 2.0, 2.0, 0.0, 0.0, 4.0, 0.0, 0.0, 0.0, 0.0]\n",
      "[0.0, 3.0, 2.0, 3.0, 3.0, 4.0, 0.0, 3.0, 2.0, 7.0, 4.0, 4.0, 5.0, 3.0, 0.0, 2.0, 3.0, 2.0, 3.0, 0.0, 1.0, 2.0, 0.0, 2.0, 1.0, 6.0, 2.0, 1.0, 1.0, 0.0, 2.0, 0.0, 0.0, 3.0, 2.0, 2.0, 0.0, 0.0, 4.0, 0.0, 0.0, 0.0, 0.0]\n",
      "[0.0, 3.0, 2.0, 3.0, 3.0, 4.0, 0.0, 3.0, 2.0, 7.0, 4.0, 4.0, 5.0, 3.0, 0.0, 2.0, 3.0, 2.0, 3.0, 0.0, 1.0, 2.0, 0.0, 2.0, 1.0, 7.0, 2.0, 1.0, 1.0, 0.0, 2.0, 0.0, 0.0, 3.0, 2.0, 2.0, 0.0, 0.0, 4.0, 0.0, 0.0, 0.0, 0.0]\n",
      "[0.0, 3.0, 2.0, 3.0, 3.0, 4.0, 0.0, 4.0, 2.0, 7.0, 4.0, 4.0, 5.0, 3.0, 0.0, 2.0, 3.0, 2.0, 3.0, 0.0, 1.0, 2.0, 0.0, 2.0, 1.0, 7.0, 2.0, 1.0, 1.0, 0.0, 2.0, 0.0, 0.0, 3.0, 2.0, 2.0, 0.0, 0.0, 4.0, 0.0, 0.0, 0.0, 0.0]\n"
     ]
    },
    {
     "name": "stderr",
     "output_type": "stream",
     "text": [
      "/home/user/anaconda3/envs/pytorch/lib/python3.7/site-packages/pyamg/gallery/stencil.py:114: FutureWarning: Using a non-tuple sequence for multidimensional indexing is deprecated; use `arr[tuple(seq)]` instead of `arr[seq]`. In the future this will be interpreted as an array index, `arr[np.array(seq)]`, which will result either in an error or a different result.\n",
      "  diag[s] = 0\n",
      "/home/user/anaconda3/envs/pytorch/lib/python3.7/site-packages/pyamg/gallery/stencil.py:110: FutureWarning: Using a non-tuple sequence for multidimensional indexing is deprecated; use `arr[tuple(seq)]` instead of `arr[seq]`. In the future this will be interpreted as an array index, `arr[np.array(seq)]`, which will result either in an error or a different result.\n",
      "  diag[s] = 0\n",
      "/home/user/anaconda3/envs/pytorch/lib/python3.7/site-packages/pyamg/gallery/stencil.py:114: FutureWarning: Using a non-tuple sequence for multidimensional indexing is deprecated; use `arr[tuple(seq)]` instead of `arr[seq]`. In the future this will be interpreted as an array index, `arr[np.array(seq)]`, which will result either in an error or a different result.\n",
      "  diag[s] = 0\n",
      "/home/user/anaconda3/envs/pytorch/lib/python3.7/site-packages/pyamg/gallery/stencil.py:110: FutureWarning: Using a non-tuple sequence for multidimensional indexing is deprecated; use `arr[tuple(seq)]` instead of `arr[seq]`. In the future this will be interpreted as an array index, `arr[np.array(seq)]`, which will result either in an error or a different result.\n",
      "  diag[s] = 0\n",
      "/home/user/anaconda3/envs/pytorch/lib/python3.7/site-packages/pyamg/gallery/stencil.py:114: FutureWarning: Using a non-tuple sequence for multidimensional indexing is deprecated; use `arr[tuple(seq)]` instead of `arr[seq]`. In the future this will be interpreted as an array index, `arr[np.array(seq)]`, which will result either in an error or a different result.\n",
      "  diag[s] = 0\n",
      "/home/user/anaconda3/envs/pytorch/lib/python3.7/site-packages/pyamg/gallery/stencil.py:110: FutureWarning: Using a non-tuple sequence for multidimensional indexing is deprecated; use `arr[tuple(seq)]` instead of `arr[seq]`. In the future this will be interpreted as an array index, `arr[np.array(seq)]`, which will result either in an error or a different result.\n",
      "  diag[s] = 0\n"
     ]
    },
    {
     "name": "stdout",
     "output_type": "stream",
     "text": [
      "[0.0, 3.0, 2.0, 3.0, 3.0, 4.0, 0.0, 4.0, 2.0, 7.0, 5.0, 4.0, 5.0, 3.0, 0.0, 2.0, 3.0, 2.0, 3.0, 0.0, 1.0, 2.0, 0.0, 2.0, 1.0, 7.0, 2.0, 1.0, 1.0, 0.0, 2.0, 0.0, 0.0, 3.0, 2.0, 2.0, 0.0, 0.0, 4.0, 0.0, 0.0, 0.0, 0.0]\n",
      "[0.0, 3.0, 2.0, 3.0, 3.0, 4.0, 0.0, 4.0, 2.0, 7.0, 5.0, 4.0, 5.0, 3.0, 0.0, 2.0, 3.0, 2.0, 3.0, 0.0, 1.0, 2.0, 0.0, 2.0, 1.0, 7.0, 2.0, 1.0, 1.0, 0.0, 2.0, 0.0, 0.0, 3.0, 2.0, 3.0, 0.0, 0.0, 4.0, 0.0, 0.0, 0.0, 0.0]\n",
      "[0.0, 3.0, 2.0, 4.0, 3.0, 4.0, 0.0, 4.0, 2.0, 7.0, 5.0, 4.0, 5.0, 3.0, 0.0, 2.0, 3.0, 2.0, 3.0, 0.0, 1.0, 2.0, 0.0, 2.0, 1.0, 7.0, 2.0, 1.0, 1.0, 0.0, 2.0, 0.0, 0.0, 3.0, 2.0, 3.0, 0.0, 0.0, 4.0, 0.0, 0.0, 0.0, 0.0]\n",
      "[0.0, 3.0, 2.0, 4.0, 3.0, 4.0, 0.0, 5.0, 2.0, 7.0, 5.0, 4.0, 5.0, 3.0, 0.0, 2.0, 3.0, 2.0, 3.0, 0.0, 1.0, 2.0, 0.0, 2.0, 1.0, 7.0, 2.0, 1.0, 1.0, 0.0, 2.0, 0.0, 0.0, 3.0, 2.0, 3.0, 0.0, 0.0, 4.0, 0.0, 0.0, 0.0, 0.0]\n"
     ]
    },
    {
     "name": "stderr",
     "output_type": "stream",
     "text": [
      "/home/user/anaconda3/envs/pytorch/lib/python3.7/site-packages/ipykernel_launcher.py:38: UserWarning: To copy construct from a tensor, it is recommended to use sourceTensor.clone().detach() or sourceTensor.clone().detach().requires_grad_(True), rather than torch.tensor(sourceTensor).\n",
      "/home/user/anaconda3/envs/pytorch/lib/python3.7/site-packages/pyamg/gallery/stencil.py:114: FutureWarning: Using a non-tuple sequence for multidimensional indexing is deprecated; use `arr[tuple(seq)]` instead of `arr[seq]`. In the future this will be interpreted as an array index, `arr[np.array(seq)]`, which will result either in an error or a different result.\n",
      "  diag[s] = 0\n",
      "/home/user/anaconda3/envs/pytorch/lib/python3.7/site-packages/pyamg/gallery/stencil.py:110: FutureWarning: Using a non-tuple sequence for multidimensional indexing is deprecated; use `arr[tuple(seq)]` instead of `arr[seq]`. In the future this will be interpreted as an array index, `arr[np.array(seq)]`, which will result either in an error or a different result.\n",
      "  diag[s] = 0\n",
      "/home/user/anaconda3/envs/pytorch/lib/python3.7/site-packages/pyamg/gallery/stencil.py:114: FutureWarning: Using a non-tuple sequence for multidimensional indexing is deprecated; use `arr[tuple(seq)]` instead of `arr[seq]`. In the future this will be interpreted as an array index, `arr[np.array(seq)]`, which will result either in an error or a different result.\n",
      "  diag[s] = 0\n",
      "/home/user/anaconda3/envs/pytorch/lib/python3.7/site-packages/pyamg/gallery/stencil.py:110: FutureWarning: Using a non-tuple sequence for multidimensional indexing is deprecated; use `arr[tuple(seq)]` instead of `arr[seq]`. In the future this will be interpreted as an array index, `arr[np.array(seq)]`, which will result either in an error or a different result.\n",
      "  diag[s] = 0\n",
      "/home/user/anaconda3/envs/pytorch/lib/python3.7/site-packages/pyamg/gallery/stencil.py:114: FutureWarning: Using a non-tuple sequence for multidimensional indexing is deprecated; use `arr[tuple(seq)]` instead of `arr[seq]`. In the future this will be interpreted as an array index, `arr[np.array(seq)]`, which will result either in an error or a different result.\n",
      "  diag[s] = 0\n",
      "/home/user/anaconda3/envs/pytorch/lib/python3.7/site-packages/pyamg/gallery/stencil.py:110: FutureWarning: Using a non-tuple sequence for multidimensional indexing is deprecated; use `arr[tuple(seq)]` instead of `arr[seq]`. In the future this will be interpreted as an array index, `arr[np.array(seq)]`, which will result either in an error or a different result.\n",
      "  diag[s] = 0\n",
      "/home/user/anaconda3/envs/pytorch/lib/python3.7/site-packages/pyamg/gallery/stencil.py:114: FutureWarning: Using a non-tuple sequence for multidimensional indexing is deprecated; use `arr[tuple(seq)]` instead of `arr[seq]`. In the future this will be interpreted as an array index, `arr[np.array(seq)]`, which will result either in an error or a different result.\n",
      "  diag[s] = 0\n",
      "/home/user/anaconda3/envs/pytorch/lib/python3.7/site-packages/pyamg/gallery/stencil.py:110: FutureWarning: Using a non-tuple sequence for multidimensional indexing is deprecated; use `arr[tuple(seq)]` instead of `arr[seq]`. In the future this will be interpreted as an array index, `arr[np.array(seq)]`, which will result either in an error or a different result.\n",
      "  diag[s] = 0\n",
      "/home/user/anaconda3/envs/pytorch/lib/python3.7/site-packages/ipykernel_launcher.py:38: UserWarning: To copy construct from a tensor, it is recommended to use sourceTensor.clone().detach() or sourceTensor.clone().detach().requires_grad_(True), rather than torch.tensor(sourceTensor).\n"
     ]
    },
    {
     "name": "stdout",
     "output_type": "stream",
     "text": [
      "[0.0, 3.0, 2.0, 4.0, 3.0, 4.0, 0.0, 5.0, 2.0, 7.0, 5.0, 4.0, 5.0, 3.0, 0.0, 2.0, 3.0, 2.0, 3.0, 0.0, 1.0, 2.0, 1.0, 2.0, 1.0, 7.0, 2.0, 1.0, 1.0, 0.0, 2.0, 0.0, 0.0, 3.0, 2.0, 3.0, 0.0, 0.0, 4.0, 0.0, 0.0, 0.0, 0.0]\n",
      "[0.0, 3.0, 2.0, 4.0, 3.0, 4.0, 0.0, 5.0, 2.0, 7.0, 5.0, 4.0, 5.0, 4.0, 0.0, 2.0, 3.0, 2.0, 3.0, 0.0, 1.0, 2.0, 1.0, 2.0, 1.0, 7.0, 2.0, 1.0, 1.0, 0.0, 2.0, 0.0, 0.0, 3.0, 2.0, 3.0, 0.0, 0.0, 4.0, 0.0, 0.0, 0.0, 0.0]\n",
      "[0.0, 3.0, 2.0, 5.0, 3.0, 4.0, 0.0, 5.0, 2.0, 7.0, 5.0, 4.0, 5.0, 4.0, 0.0, 2.0, 3.0, 2.0, 3.0, 0.0, 1.0, 2.0, 1.0, 2.0, 1.0, 7.0, 2.0, 1.0, 1.0, 0.0, 2.0, 0.0, 0.0, 3.0, 2.0, 3.0, 0.0, 0.0, 4.0, 0.0, 0.0, 0.0, 0.0]\n",
      "[0.0, 4.0, 2.0, 5.0, 3.0, 4.0, 0.0, 5.0, 2.0, 7.0, 5.0, 4.0, 5.0, 4.0, 0.0, 2.0, 3.0, 2.0, 3.0, 0.0, 1.0, 2.0, 1.0, 2.0, 1.0, 7.0, 2.0, 1.0, 1.0, 0.0, 2.0, 0.0, 0.0, 3.0, 2.0, 3.0, 0.0, 0.0, 4.0, 0.0, 0.0, 0.0, 0.0]\n"
     ]
    },
    {
     "name": "stderr",
     "output_type": "stream",
     "text": [
      "/home/user/anaconda3/envs/pytorch/lib/python3.7/site-packages/pyamg/gallery/stencil.py:114: FutureWarning: Using a non-tuple sequence for multidimensional indexing is deprecated; use `arr[tuple(seq)]` instead of `arr[seq]`. In the future this will be interpreted as an array index, `arr[np.array(seq)]`, which will result either in an error or a different result.\n",
      "  diag[s] = 0\n",
      "/home/user/anaconda3/envs/pytorch/lib/python3.7/site-packages/pyamg/gallery/stencil.py:110: FutureWarning: Using a non-tuple sequence for multidimensional indexing is deprecated; use `arr[tuple(seq)]` instead of `arr[seq]`. In the future this will be interpreted as an array index, `arr[np.array(seq)]`, which will result either in an error or a different result.\n",
      "  diag[s] = 0\n",
      "/home/user/anaconda3/envs/pytorch/lib/python3.7/site-packages/pyamg/gallery/stencil.py:114: FutureWarning: Using a non-tuple sequence for multidimensional indexing is deprecated; use `arr[tuple(seq)]` instead of `arr[seq]`. In the future this will be interpreted as an array index, `arr[np.array(seq)]`, which will result either in an error or a different result.\n",
      "  diag[s] = 0\n",
      "/home/user/anaconda3/envs/pytorch/lib/python3.7/site-packages/pyamg/gallery/stencil.py:110: FutureWarning: Using a non-tuple sequence for multidimensional indexing is deprecated; use `arr[tuple(seq)]` instead of `arr[seq]`. In the future this will be interpreted as an array index, `arr[np.array(seq)]`, which will result either in an error or a different result.\n",
      "  diag[s] = 0\n",
      "/home/user/anaconda3/envs/pytorch/lib/python3.7/site-packages/pyamg/gallery/stencil.py:114: FutureWarning: Using a non-tuple sequence for multidimensional indexing is deprecated; use `arr[tuple(seq)]` instead of `arr[seq]`. In the future this will be interpreted as an array index, `arr[np.array(seq)]`, which will result either in an error or a different result.\n",
      "  diag[s] = 0\n",
      "/home/user/anaconda3/envs/pytorch/lib/python3.7/site-packages/pyamg/gallery/stencil.py:110: FutureWarning: Using a non-tuple sequence for multidimensional indexing is deprecated; use `arr[tuple(seq)]` instead of `arr[seq]`. In the future this will be interpreted as an array index, `arr[np.array(seq)]`, which will result either in an error or a different result.\n",
      "  diag[s] = 0\n",
      "/home/user/anaconda3/envs/pytorch/lib/python3.7/site-packages/pyamg/gallery/stencil.py:114: FutureWarning: Using a non-tuple sequence for multidimensional indexing is deprecated; use `arr[tuple(seq)]` instead of `arr[seq]`. In the future this will be interpreted as an array index, `arr[np.array(seq)]`, which will result either in an error or a different result.\n",
      "  diag[s] = 0\n",
      "/home/user/anaconda3/envs/pytorch/lib/python3.7/site-packages/pyamg/gallery/stencil.py:110: FutureWarning: Using a non-tuple sequence for multidimensional indexing is deprecated; use `arr[tuple(seq)]` instead of `arr[seq]`. In the future this will be interpreted as an array index, `arr[np.array(seq)]`, which will result either in an error or a different result.\n",
      "  diag[s] = 0\n",
      "/home/user/anaconda3/envs/pytorch/lib/python3.7/site-packages/ipykernel_launcher.py:38: UserWarning: To copy construct from a tensor, it is recommended to use sourceTensor.clone().detach() or sourceTensor.clone().detach().requires_grad_(True), rather than torch.tensor(sourceTensor).\n",
      "/home/user/anaconda3/envs/pytorch/lib/python3.7/site-packages/pyamg/gallery/stencil.py:114: FutureWarning: Using a non-tuple sequence for multidimensional indexing is deprecated; use `arr[tuple(seq)]` instead of `arr[seq]`. In the future this will be interpreted as an array index, `arr[np.array(seq)]`, which will result either in an error or a different result.\n",
      "  diag[s] = 0\n",
      "/home/user/anaconda3/envs/pytorch/lib/python3.7/site-packages/pyamg/gallery/stencil.py:110: FutureWarning: Using a non-tuple sequence for multidimensional indexing is deprecated; use `arr[tuple(seq)]` instead of `arr[seq]`. In the future this will be interpreted as an array index, `arr[np.array(seq)]`, which will result either in an error or a different result.\n",
      "  diag[s] = 0\n"
     ]
    },
    {
     "name": "stdout",
     "output_type": "stream",
     "text": [
      "[0.0, 4.0, 3.0, 5.0, 3.0, 4.0, 0.0, 5.0, 2.0, 7.0, 5.0, 4.0, 5.0, 4.0, 0.0, 2.0, 3.0, 2.0, 3.0, 0.0, 1.0, 2.0, 1.0, 2.0, 1.0, 7.0, 2.0, 1.0, 1.0, 0.0, 2.0, 0.0, 0.0, 3.0, 2.0, 3.0, 0.0, 0.0, 4.0, 0.0, 0.0, 0.0, 0.0]\n",
      "[0.0, 4.0, 3.0, 5.0, 3.0, 4.0, 0.0, 5.0, 2.0, 7.0, 5.0, 4.0, 5.0, 4.0, 1.0, 2.0, 3.0, 2.0, 3.0, 0.0, 1.0, 2.0, 1.0, 2.0, 1.0, 7.0, 2.0, 1.0, 1.0, 0.0, 2.0, 0.0, 0.0, 3.0, 2.0, 3.0, 0.0, 0.0, 4.0, 0.0, 0.0, 0.0, 0.0]\n",
      "[0.0, 4.0, 3.0, 5.0, 3.0, 4.0, 0.0, 5.0, 2.0, 7.0, 5.0, 4.0, 6.0, 4.0, 1.0, 2.0, 3.0, 2.0, 3.0, 0.0, 1.0, 2.0, 1.0, 2.0, 1.0, 7.0, 2.0, 1.0, 1.0, 0.0, 2.0, 0.0, 0.0, 3.0, 2.0, 3.0, 0.0, 0.0, 4.0, 0.0, 0.0, 0.0, 0.0]\n",
      "[0.0, 4.0, 3.0, 5.0, 3.0, 4.0, 0.0, 5.0, 2.0, 7.0, 5.0, 4.0, 6.0, 4.0, 1.0, 2.0, 3.0, 2.0, 3.0, 0.0, 1.0, 2.0, 1.0, 2.0, 1.0, 7.0, 2.0, 1.0, 1.0, 0.0, 2.0, 0.0, 1.0, 3.0, 2.0, 3.0, 0.0, 0.0, 4.0, 0.0, 0.0, 0.0, 0.0]\n"
     ]
    },
    {
     "name": "stderr",
     "output_type": "stream",
     "text": [
      "/home/user/anaconda3/envs/pytorch/lib/python3.7/site-packages/pyamg/gallery/stencil.py:114: FutureWarning: Using a non-tuple sequence for multidimensional indexing is deprecated; use `arr[tuple(seq)]` instead of `arr[seq]`. In the future this will be interpreted as an array index, `arr[np.array(seq)]`, which will result either in an error or a different result.\n",
      "  diag[s] = 0\n",
      "/home/user/anaconda3/envs/pytorch/lib/python3.7/site-packages/pyamg/gallery/stencil.py:110: FutureWarning: Using a non-tuple sequence for multidimensional indexing is deprecated; use `arr[tuple(seq)]` instead of `arr[seq]`. In the future this will be interpreted as an array index, `arr[np.array(seq)]`, which will result either in an error or a different result.\n",
      "  diag[s] = 0\n",
      "/home/user/anaconda3/envs/pytorch/lib/python3.7/site-packages/pyamg/gallery/stencil.py:114: FutureWarning: Using a non-tuple sequence for multidimensional indexing is deprecated; use `arr[tuple(seq)]` instead of `arr[seq]`. In the future this will be interpreted as an array index, `arr[np.array(seq)]`, which will result either in an error or a different result.\n",
      "  diag[s] = 0\n",
      "/home/user/anaconda3/envs/pytorch/lib/python3.7/site-packages/pyamg/gallery/stencil.py:110: FutureWarning: Using a non-tuple sequence for multidimensional indexing is deprecated; use `arr[tuple(seq)]` instead of `arr[seq]`. In the future this will be interpreted as an array index, `arr[np.array(seq)]`, which will result either in an error or a different result.\n",
      "  diag[s] = 0\n",
      "/home/user/anaconda3/envs/pytorch/lib/python3.7/site-packages/pyamg/gallery/stencil.py:114: FutureWarning: Using a non-tuple sequence for multidimensional indexing is deprecated; use `arr[tuple(seq)]` instead of `arr[seq]`. In the future this will be interpreted as an array index, `arr[np.array(seq)]`, which will result either in an error or a different result.\n",
      "  diag[s] = 0\n",
      "/home/user/anaconda3/envs/pytorch/lib/python3.7/site-packages/pyamg/gallery/stencil.py:110: FutureWarning: Using a non-tuple sequence for multidimensional indexing is deprecated; use `arr[tuple(seq)]` instead of `arr[seq]`. In the future this will be interpreted as an array index, `arr[np.array(seq)]`, which will result either in an error or a different result.\n",
      "  diag[s] = 0\n"
     ]
    },
    {
     "name": "stdout",
     "output_type": "stream",
     "text": [
      "[0.0, 4.0, 3.0, 6.0, 3.0, 4.0, 0.0, 5.0, 2.0, 7.0, 5.0, 4.0, 6.0, 4.0, 1.0, 2.0, 3.0, 2.0, 3.0, 0.0, 1.0, 2.0, 1.0, 2.0, 1.0, 7.0, 2.0, 1.0, 1.0, 0.0, 2.0, 0.0, 1.0, 3.0, 2.0, 3.0, 0.0, 0.0, 4.0, 0.0, 0.0, 0.0, 0.0]\n",
      "[0.0, 4.0, 3.0, 6.0, 3.0, 4.0, 0.0, 5.0, 2.0, 7.0, 5.0, 4.0, 6.0, 4.0, 1.0, 2.0, 3.0, 2.0, 3.0, 0.0, 1.0, 2.0, 1.0, 2.0, 1.0, 7.0, 2.0, 1.0, 1.0, 0.0, 2.0, 0.0, 1.0, 3.0, 2.0, 3.0, 0.0, 0.0, 5.0, 0.0, 0.0, 0.0, 0.0]\n",
      "[0.0, 4.0, 3.0, 6.0, 3.0, 4.0, 0.0, 5.0, 2.0, 8.0, 5.0, 4.0, 6.0, 4.0, 1.0, 2.0, 3.0, 2.0, 3.0, 0.0, 1.0, 2.0, 1.0, 2.0, 1.0, 7.0, 2.0, 1.0, 1.0, 0.0, 2.0, 0.0, 1.0, 3.0, 2.0, 3.0, 0.0, 0.0, 5.0, 0.0, 0.0, 0.0, 0.0]\n",
      "[0.0, 4.0, 3.0, 6.0, 3.0, 4.0, 0.0, 5.0, 2.0, 8.0, 5.0, 4.0, 6.0, 4.0, 1.0, 2.0, 3.0, 2.0, 3.0, 0.0, 1.0, 2.0, 1.0, 2.0, 1.0, 7.0, 2.0, 1.0, 1.0, 0.0, 2.0, 0.0, 1.0, 4.0, 2.0, 3.0, 0.0, 0.0, 5.0, 0.0, 0.0, 0.0, 0.0]\n"
     ]
    },
    {
     "name": "stderr",
     "output_type": "stream",
     "text": [
      "/home/user/anaconda3/envs/pytorch/lib/python3.7/site-packages/ipykernel_launcher.py:38: UserWarning: To copy construct from a tensor, it is recommended to use sourceTensor.clone().detach() or sourceTensor.clone().detach().requires_grad_(True), rather than torch.tensor(sourceTensor).\n",
      "/home/user/anaconda3/envs/pytorch/lib/python3.7/site-packages/pyamg/gallery/stencil.py:114: FutureWarning: Using a non-tuple sequence for multidimensional indexing is deprecated; use `arr[tuple(seq)]` instead of `arr[seq]`. In the future this will be interpreted as an array index, `arr[np.array(seq)]`, which will result either in an error or a different result.\n",
      "  diag[s] = 0\n",
      "/home/user/anaconda3/envs/pytorch/lib/python3.7/site-packages/pyamg/gallery/stencil.py:110: FutureWarning: Using a non-tuple sequence for multidimensional indexing is deprecated; use `arr[tuple(seq)]` instead of `arr[seq]`. In the future this will be interpreted as an array index, `arr[np.array(seq)]`, which will result either in an error or a different result.\n",
      "  diag[s] = 0\n",
      "/home/user/anaconda3/envs/pytorch/lib/python3.7/site-packages/pyamg/gallery/stencil.py:114: FutureWarning: Using a non-tuple sequence for multidimensional indexing is deprecated; use `arr[tuple(seq)]` instead of `arr[seq]`. In the future this will be interpreted as an array index, `arr[np.array(seq)]`, which will result either in an error or a different result.\n",
      "  diag[s] = 0\n",
      "/home/user/anaconda3/envs/pytorch/lib/python3.7/site-packages/pyamg/gallery/stencil.py:110: FutureWarning: Using a non-tuple sequence for multidimensional indexing is deprecated; use `arr[tuple(seq)]` instead of `arr[seq]`. In the future this will be interpreted as an array index, `arr[np.array(seq)]`, which will result either in an error or a different result.\n",
      "  diag[s] = 0\n",
      "/home/user/anaconda3/envs/pytorch/lib/python3.7/site-packages/pyamg/gallery/stencil.py:114: FutureWarning: Using a non-tuple sequence for multidimensional indexing is deprecated; use `arr[tuple(seq)]` instead of `arr[seq]`. In the future this will be interpreted as an array index, `arr[np.array(seq)]`, which will result either in an error or a different result.\n",
      "  diag[s] = 0\n",
      "/home/user/anaconda3/envs/pytorch/lib/python3.7/site-packages/pyamg/gallery/stencil.py:110: FutureWarning: Using a non-tuple sequence for multidimensional indexing is deprecated; use `arr[tuple(seq)]` instead of `arr[seq]`. In the future this will be interpreted as an array index, `arr[np.array(seq)]`, which will result either in an error or a different result.\n",
      "  diag[s] = 0\n",
      "/home/user/anaconda3/envs/pytorch/lib/python3.7/site-packages/pyamg/gallery/stencil.py:114: FutureWarning: Using a non-tuple sequence for multidimensional indexing is deprecated; use `arr[tuple(seq)]` instead of `arr[seq]`. In the future this will be interpreted as an array index, `arr[np.array(seq)]`, which will result either in an error or a different result.\n",
      "  diag[s] = 0\n",
      "/home/user/anaconda3/envs/pytorch/lib/python3.7/site-packages/pyamg/gallery/stencil.py:110: FutureWarning: Using a non-tuple sequence for multidimensional indexing is deprecated; use `arr[tuple(seq)]` instead of `arr[seq]`. In the future this will be interpreted as an array index, `arr[np.array(seq)]`, which will result either in an error or a different result.\n",
      "  diag[s] = 0\n",
      "/home/user/anaconda3/envs/pytorch/lib/python3.7/site-packages/ipykernel_launcher.py:38: UserWarning: To copy construct from a tensor, it is recommended to use sourceTensor.clone().detach() or sourceTensor.clone().detach().requires_grad_(True), rather than torch.tensor(sourceTensor).\n"
     ]
    },
    {
     "name": "stdout",
     "output_type": "stream",
     "text": [
      "[0.0, 5.0, 3.0, 6.0, 3.0, 4.0, 0.0, 5.0, 2.0, 8.0, 5.0, 4.0, 6.0, 4.0, 1.0, 2.0, 3.0, 2.0, 3.0, 0.0, 1.0, 2.0, 1.0, 2.0, 1.0, 7.0, 2.0, 1.0, 1.0, 0.0, 2.0, 0.0, 1.0, 4.0, 2.0, 3.0, 0.0, 0.0, 5.0, 0.0, 0.0, 0.0, 0.0]\n",
      "[0.0, 5.0, 3.0, 6.0, 3.0, 4.0, 0.0, 5.0, 2.0, 8.0, 6.0, 4.0, 6.0, 4.0, 1.0, 2.0, 3.0, 2.0, 3.0, 0.0, 1.0, 2.0, 1.0, 2.0, 1.0, 7.0, 2.0, 1.0, 1.0, 0.0, 2.0, 0.0, 1.0, 4.0, 2.0, 3.0, 0.0, 0.0, 5.0, 0.0, 0.0, 0.0, 0.0]\n",
      "[0.0, 5.0, 3.0, 6.0, 3.0, 5.0, 0.0, 5.0, 2.0, 8.0, 6.0, 4.0, 6.0, 4.0, 1.0, 2.0, 3.0, 2.0, 3.0, 0.0, 1.0, 2.0, 1.0, 2.0, 1.0, 7.0, 2.0, 1.0, 1.0, 0.0, 2.0, 0.0, 1.0, 4.0, 2.0, 3.0, 0.0, 0.0, 5.0, 0.0, 0.0, 0.0, 0.0]\n",
      "[0.0, 5.0, 3.0, 6.0, 3.0, 5.0, 0.0, 5.0, 2.0, 8.0, 6.0, 5.0, 6.0, 4.0, 1.0, 2.0, 3.0, 2.0, 3.0, 0.0, 1.0, 2.0, 1.0, 2.0, 1.0, 7.0, 2.0, 1.0, 1.0, 0.0, 2.0, 0.0, 1.0, 4.0, 2.0, 3.0, 0.0, 0.0, 5.0, 0.0, 0.0, 0.0, 0.0]\n"
     ]
    },
    {
     "name": "stderr",
     "output_type": "stream",
     "text": [
      "/home/user/anaconda3/envs/pytorch/lib/python3.7/site-packages/pyamg/gallery/stencil.py:114: FutureWarning: Using a non-tuple sequence for multidimensional indexing is deprecated; use `arr[tuple(seq)]` instead of `arr[seq]`. In the future this will be interpreted as an array index, `arr[np.array(seq)]`, which will result either in an error or a different result.\n",
      "  diag[s] = 0\n",
      "/home/user/anaconda3/envs/pytorch/lib/python3.7/site-packages/pyamg/gallery/stencil.py:110: FutureWarning: Using a non-tuple sequence for multidimensional indexing is deprecated; use `arr[tuple(seq)]` instead of `arr[seq]`. In the future this will be interpreted as an array index, `arr[np.array(seq)]`, which will result either in an error or a different result.\n",
      "  diag[s] = 0\n",
      "/home/user/anaconda3/envs/pytorch/lib/python3.7/site-packages/pyamg/gallery/stencil.py:114: FutureWarning: Using a non-tuple sequence for multidimensional indexing is deprecated; use `arr[tuple(seq)]` instead of `arr[seq]`. In the future this will be interpreted as an array index, `arr[np.array(seq)]`, which will result either in an error or a different result.\n",
      "  diag[s] = 0\n",
      "/home/user/anaconda3/envs/pytorch/lib/python3.7/site-packages/pyamg/gallery/stencil.py:110: FutureWarning: Using a non-tuple sequence for multidimensional indexing is deprecated; use `arr[tuple(seq)]` instead of `arr[seq]`. In the future this will be interpreted as an array index, `arr[np.array(seq)]`, which will result either in an error or a different result.\n",
      "  diag[s] = 0\n",
      "/home/user/anaconda3/envs/pytorch/lib/python3.7/site-packages/pyamg/gallery/stencil.py:114: FutureWarning: Using a non-tuple sequence for multidimensional indexing is deprecated; use `arr[tuple(seq)]` instead of `arr[seq]`. In the future this will be interpreted as an array index, `arr[np.array(seq)]`, which will result either in an error or a different result.\n",
      "  diag[s] = 0\n",
      "/home/user/anaconda3/envs/pytorch/lib/python3.7/site-packages/pyamg/gallery/stencil.py:110: FutureWarning: Using a non-tuple sequence for multidimensional indexing is deprecated; use `arr[tuple(seq)]` instead of `arr[seq]`. In the future this will be interpreted as an array index, `arr[np.array(seq)]`, which will result either in an error or a different result.\n",
      "  diag[s] = 0\n",
      "/home/user/anaconda3/envs/pytorch/lib/python3.7/site-packages/pyamg/gallery/stencil.py:114: FutureWarning: Using a non-tuple sequence for multidimensional indexing is deprecated; use `arr[tuple(seq)]` instead of `arr[seq]`. In the future this will be interpreted as an array index, `arr[np.array(seq)]`, which will result either in an error or a different result.\n",
      "  diag[s] = 0\n",
      "/home/user/anaconda3/envs/pytorch/lib/python3.7/site-packages/pyamg/gallery/stencil.py:110: FutureWarning: Using a non-tuple sequence for multidimensional indexing is deprecated; use `arr[tuple(seq)]` instead of `arr[seq]`. In the future this will be interpreted as an array index, `arr[np.array(seq)]`, which will result either in an error or a different result.\n",
      "  diag[s] = 0\n",
      "/home/user/anaconda3/envs/pytorch/lib/python3.7/site-packages/ipykernel_launcher.py:38: UserWarning: To copy construct from a tensor, it is recommended to use sourceTensor.clone().detach() or sourceTensor.clone().detach().requires_grad_(True), rather than torch.tensor(sourceTensor).\n",
      "/home/user/anaconda3/envs/pytorch/lib/python3.7/site-packages/pyamg/gallery/stencil.py:114: FutureWarning: Using a non-tuple sequence for multidimensional indexing is deprecated; use `arr[tuple(seq)]` instead of `arr[seq]`. In the future this will be interpreted as an array index, `arr[np.array(seq)]`, which will result either in an error or a different result.\n",
      "  diag[s] = 0\n",
      "/home/user/anaconda3/envs/pytorch/lib/python3.7/site-packages/pyamg/gallery/stencil.py:110: FutureWarning: Using a non-tuple sequence for multidimensional indexing is deprecated; use `arr[tuple(seq)]` instead of `arr[seq]`. In the future this will be interpreted as an array index, `arr[np.array(seq)]`, which will result either in an error or a different result.\n",
      "  diag[s] = 0\n"
     ]
    },
    {
     "name": "stdout",
     "output_type": "stream",
     "text": [
      "[0.0, 5.0, 3.0, 6.0, 3.0, 5.0, 0.0, 5.0, 2.0, 8.0, 6.0, 5.0, 6.0, 4.0, 1.0, 2.0, 3.0, 2.0, 3.0, 0.0, 1.0, 2.0, 1.0, 2.0, 1.0, 7.0, 2.0, 1.0, 1.0, 0.0, 2.0, 0.0, 1.0, 5.0, 2.0, 3.0, 0.0, 0.0, 5.0, 0.0, 0.0, 0.0, 0.0]\n",
      "[0.0, 5.0, 3.0, 6.0, 4.0, 5.0, 0.0, 5.0, 2.0, 8.0, 6.0, 5.0, 6.0, 4.0, 1.0, 2.0, 3.0, 2.0, 3.0, 0.0, 1.0, 2.0, 1.0, 2.0, 1.0, 7.0, 2.0, 1.0, 1.0, 0.0, 2.0, 0.0, 1.0, 5.0, 2.0, 3.0, 0.0, 0.0, 5.0, 0.0, 0.0, 0.0, 0.0]\n",
      "[0.0, 5.0, 3.0, 6.0, 4.0, 5.0, 0.0, 5.0, 2.0, 8.0, 6.0, 5.0, 6.0, 4.0, 1.0, 2.0, 3.0, 2.0, 3.0, 0.0, 1.0, 2.0, 1.0, 2.0, 1.0, 7.0, 2.0, 1.0, 1.0, 0.0, 2.0, 0.0, 1.0, 5.0, 2.0, 4.0, 0.0, 0.0, 5.0, 0.0, 0.0, 0.0, 0.0]\n",
      "[0.0, 5.0, 3.0, 6.0, 4.0, 5.0, 0.0, 5.0, 2.0, 8.0, 6.0, 5.0, 6.0, 4.0, 1.0, 2.0, 3.0, 2.0, 3.0, 0.0, 1.0, 2.0, 1.0, 2.0, 1.0, 8.0, 2.0, 1.0, 1.0, 0.0, 2.0, 0.0, 1.0, 5.0, 2.0, 4.0, 0.0, 0.0, 5.0, 0.0, 0.0, 0.0, 0.0]\n"
     ]
    },
    {
     "name": "stderr",
     "output_type": "stream",
     "text": [
      "/home/user/anaconda3/envs/pytorch/lib/python3.7/site-packages/pyamg/gallery/stencil.py:114: FutureWarning: Using a non-tuple sequence for multidimensional indexing is deprecated; use `arr[tuple(seq)]` instead of `arr[seq]`. In the future this will be interpreted as an array index, `arr[np.array(seq)]`, which will result either in an error or a different result.\n",
      "  diag[s] = 0\n",
      "/home/user/anaconda3/envs/pytorch/lib/python3.7/site-packages/pyamg/gallery/stencil.py:110: FutureWarning: Using a non-tuple sequence for multidimensional indexing is deprecated; use `arr[tuple(seq)]` instead of `arr[seq]`. In the future this will be interpreted as an array index, `arr[np.array(seq)]`, which will result either in an error or a different result.\n",
      "  diag[s] = 0\n",
      "/home/user/anaconda3/envs/pytorch/lib/python3.7/site-packages/pyamg/gallery/stencil.py:114: FutureWarning: Using a non-tuple sequence for multidimensional indexing is deprecated; use `arr[tuple(seq)]` instead of `arr[seq]`. In the future this will be interpreted as an array index, `arr[np.array(seq)]`, which will result either in an error or a different result.\n",
      "  diag[s] = 0\n",
      "/home/user/anaconda3/envs/pytorch/lib/python3.7/site-packages/pyamg/gallery/stencil.py:110: FutureWarning: Using a non-tuple sequence for multidimensional indexing is deprecated; use `arr[tuple(seq)]` instead of `arr[seq]`. In the future this will be interpreted as an array index, `arr[np.array(seq)]`, which will result either in an error or a different result.\n",
      "  diag[s] = 0\n",
      "/home/user/anaconda3/envs/pytorch/lib/python3.7/site-packages/pyamg/gallery/stencil.py:114: FutureWarning: Using a non-tuple sequence for multidimensional indexing is deprecated; use `arr[tuple(seq)]` instead of `arr[seq]`. In the future this will be interpreted as an array index, `arr[np.array(seq)]`, which will result either in an error or a different result.\n",
      "  diag[s] = 0\n",
      "/home/user/anaconda3/envs/pytorch/lib/python3.7/site-packages/pyamg/gallery/stencil.py:110: FutureWarning: Using a non-tuple sequence for multidimensional indexing is deprecated; use `arr[tuple(seq)]` instead of `arr[seq]`. In the future this will be interpreted as an array index, `arr[np.array(seq)]`, which will result either in an error or a different result.\n",
      "  diag[s] = 0\n"
     ]
    },
    {
     "name": "stdout",
     "output_type": "stream",
     "text": [
      "[0.0, 5.0, 3.0, 6.0, 4.0, 5.0, 0.0, 5.0, 2.0, 8.0, 6.0, 5.0, 6.0, 4.0, 1.0, 2.0, 3.0, 2.0, 3.0, 0.0, 1.0, 2.0, 1.0, 2.0, 1.0, 8.0, 2.0, 1.0, 1.0, 0.0, 2.0, 0.0, 1.0, 6.0, 2.0, 4.0, 0.0, 0.0, 5.0, 0.0, 0.0, 0.0, 0.0]\n",
      "[0.0, 5.0, 3.0, 6.0, 5.0, 5.0, 0.0, 5.0, 2.0, 8.0, 6.0, 5.0, 6.0, 4.0, 1.0, 2.0, 3.0, 2.0, 3.0, 0.0, 1.0, 2.0, 1.0, 2.0, 1.0, 8.0, 2.0, 1.0, 1.0, 0.0, 2.0, 0.0, 1.0, 6.0, 2.0, 4.0, 0.0, 0.0, 5.0, 0.0, 0.0, 0.0, 0.0]\n",
      "[0.0, 6.0, 3.0, 6.0, 5.0, 5.0, 0.0, 5.0, 2.0, 8.0, 6.0, 5.0, 6.0, 4.0, 1.0, 2.0, 3.0, 2.0, 3.0, 0.0, 1.0, 2.0, 1.0, 2.0, 1.0, 8.0, 2.0, 1.0, 1.0, 0.0, 2.0, 0.0, 1.0, 6.0, 2.0, 4.0, 0.0, 0.0, 5.0, 0.0, 0.0, 0.0, 0.0]\n",
      "[0.0, 6.0, 3.0, 6.0, 5.0, 5.0, 0.0, 5.0, 2.0, 8.0, 6.0, 5.0, 6.0, 4.0, 2.0, 2.0, 3.0, 2.0, 3.0, 0.0, 1.0, 2.0, 1.0, 2.0, 1.0, 8.0, 2.0, 1.0, 1.0, 0.0, 2.0, 0.0, 1.0, 6.0, 2.0, 4.0, 0.0, 0.0, 5.0, 0.0, 0.0, 0.0, 0.0]\n"
     ]
    },
    {
     "name": "stderr",
     "output_type": "stream",
     "text": [
      "/home/user/anaconda3/envs/pytorch/lib/python3.7/site-packages/ipykernel_launcher.py:38: UserWarning: To copy construct from a tensor, it is recommended to use sourceTensor.clone().detach() or sourceTensor.clone().detach().requires_grad_(True), rather than torch.tensor(sourceTensor).\n",
      "/home/user/anaconda3/envs/pytorch/lib/python3.7/site-packages/pyamg/gallery/stencil.py:114: FutureWarning: Using a non-tuple sequence for multidimensional indexing is deprecated; use `arr[tuple(seq)]` instead of `arr[seq]`. In the future this will be interpreted as an array index, `arr[np.array(seq)]`, which will result either in an error or a different result.\n",
      "  diag[s] = 0\n",
      "/home/user/anaconda3/envs/pytorch/lib/python3.7/site-packages/pyamg/gallery/stencil.py:110: FutureWarning: Using a non-tuple sequence for multidimensional indexing is deprecated; use `arr[tuple(seq)]` instead of `arr[seq]`. In the future this will be interpreted as an array index, `arr[np.array(seq)]`, which will result either in an error or a different result.\n",
      "  diag[s] = 0\n",
      "/home/user/anaconda3/envs/pytorch/lib/python3.7/site-packages/pyamg/gallery/stencil.py:114: FutureWarning: Using a non-tuple sequence for multidimensional indexing is deprecated; use `arr[tuple(seq)]` instead of `arr[seq]`. In the future this will be interpreted as an array index, `arr[np.array(seq)]`, which will result either in an error or a different result.\n",
      "  diag[s] = 0\n",
      "/home/user/anaconda3/envs/pytorch/lib/python3.7/site-packages/pyamg/gallery/stencil.py:110: FutureWarning: Using a non-tuple sequence for multidimensional indexing is deprecated; use `arr[tuple(seq)]` instead of `arr[seq]`. In the future this will be interpreted as an array index, `arr[np.array(seq)]`, which will result either in an error or a different result.\n",
      "  diag[s] = 0\n",
      "/home/user/anaconda3/envs/pytorch/lib/python3.7/site-packages/pyamg/gallery/stencil.py:114: FutureWarning: Using a non-tuple sequence for multidimensional indexing is deprecated; use `arr[tuple(seq)]` instead of `arr[seq]`. In the future this will be interpreted as an array index, `arr[np.array(seq)]`, which will result either in an error or a different result.\n",
      "  diag[s] = 0\n",
      "/home/user/anaconda3/envs/pytorch/lib/python3.7/site-packages/pyamg/gallery/stencil.py:110: FutureWarning: Using a non-tuple sequence for multidimensional indexing is deprecated; use `arr[tuple(seq)]` instead of `arr[seq]`. In the future this will be interpreted as an array index, `arr[np.array(seq)]`, which will result either in an error or a different result.\n",
      "  diag[s] = 0\n",
      "/home/user/anaconda3/envs/pytorch/lib/python3.7/site-packages/pyamg/gallery/stencil.py:114: FutureWarning: Using a non-tuple sequence for multidimensional indexing is deprecated; use `arr[tuple(seq)]` instead of `arr[seq]`. In the future this will be interpreted as an array index, `arr[np.array(seq)]`, which will result either in an error or a different result.\n",
      "  diag[s] = 0\n",
      "/home/user/anaconda3/envs/pytorch/lib/python3.7/site-packages/pyamg/gallery/stencil.py:110: FutureWarning: Using a non-tuple sequence for multidimensional indexing is deprecated; use `arr[tuple(seq)]` instead of `arr[seq]`. In the future this will be interpreted as an array index, `arr[np.array(seq)]`, which will result either in an error or a different result.\n",
      "  diag[s] = 0\n",
      "/home/user/anaconda3/envs/pytorch/lib/python3.7/site-packages/ipykernel_launcher.py:38: UserWarning: To copy construct from a tensor, it is recommended to use sourceTensor.clone().detach() or sourceTensor.clone().detach().requires_grad_(True), rather than torch.tensor(sourceTensor).\n"
     ]
    },
    {
     "name": "stdout",
     "output_type": "stream",
     "text": [
      "[0.0, 6.0, 3.0, 6.0, 5.0, 5.0, 0.0, 5.0, 2.0, 8.0, 6.0, 5.0, 6.0, 4.0, 2.0, 2.0, 4.0, 2.0, 3.0, 0.0, 1.0, 2.0, 1.0, 2.0, 1.0, 8.0, 2.0, 1.0, 1.0, 0.0, 2.0, 0.0, 1.0, 6.0, 2.0, 4.0, 0.0, 0.0, 5.0, 0.0, 0.0, 0.0, 0.0]\n",
      "[0.0, 6.0, 3.0, 6.0, 5.0, 5.0, 0.0, 5.0, 2.0, 8.0, 7.0, 5.0, 6.0, 4.0, 2.0, 2.0, 4.0, 2.0, 3.0, 0.0, 1.0, 2.0, 1.0, 2.0, 1.0, 8.0, 2.0, 1.0, 1.0, 0.0, 2.0, 0.0, 1.0, 6.0, 2.0, 4.0, 0.0, 0.0, 5.0, 0.0, 0.0, 0.0, 0.0]\n",
      "[0.0, 6.0, 3.0, 6.0, 5.0, 5.0, 0.0, 5.0, 2.0, 8.0, 7.0, 5.0, 6.0, 4.0, 2.0, 2.0, 4.0, 2.0, 3.0, 0.0, 1.0, 2.0, 1.0, 2.0, 1.0, 8.0, 2.0, 1.0, 1.0, 0.0, 3.0, 0.0, 1.0, 6.0, 2.0, 4.0, 0.0, 0.0, 5.0, 0.0, 0.0, 0.0, 0.0]\n",
      "[0.0, 6.0, 3.0, 7.0, 5.0, 5.0, 0.0, 5.0, 2.0, 8.0, 7.0, 5.0, 6.0, 4.0, 2.0, 2.0, 4.0, 2.0, 3.0, 0.0, 1.0, 2.0, 1.0, 2.0, 1.0, 8.0, 2.0, 1.0, 1.0, 0.0, 3.0, 0.0, 1.0, 6.0, 2.0, 4.0, 0.0, 0.0, 5.0, 0.0, 0.0, 0.0, 0.0]\n"
     ]
    },
    {
     "name": "stderr",
     "output_type": "stream",
     "text": [
      "/home/user/anaconda3/envs/pytorch/lib/python3.7/site-packages/pyamg/gallery/stencil.py:114: FutureWarning: Using a non-tuple sequence for multidimensional indexing is deprecated; use `arr[tuple(seq)]` instead of `arr[seq]`. In the future this will be interpreted as an array index, `arr[np.array(seq)]`, which will result either in an error or a different result.\n",
      "  diag[s] = 0\n",
      "/home/user/anaconda3/envs/pytorch/lib/python3.7/site-packages/pyamg/gallery/stencil.py:110: FutureWarning: Using a non-tuple sequence for multidimensional indexing is deprecated; use `arr[tuple(seq)]` instead of `arr[seq]`. In the future this will be interpreted as an array index, `arr[np.array(seq)]`, which will result either in an error or a different result.\n",
      "  diag[s] = 0\n",
      "/home/user/anaconda3/envs/pytorch/lib/python3.7/site-packages/pyamg/gallery/stencil.py:114: FutureWarning: Using a non-tuple sequence for multidimensional indexing is deprecated; use `arr[tuple(seq)]` instead of `arr[seq]`. In the future this will be interpreted as an array index, `arr[np.array(seq)]`, which will result either in an error or a different result.\n",
      "  diag[s] = 0\n",
      "/home/user/anaconda3/envs/pytorch/lib/python3.7/site-packages/pyamg/gallery/stencil.py:110: FutureWarning: Using a non-tuple sequence for multidimensional indexing is deprecated; use `arr[tuple(seq)]` instead of `arr[seq]`. In the future this will be interpreted as an array index, `arr[np.array(seq)]`, which will result either in an error or a different result.\n",
      "  diag[s] = 0\n",
      "/home/user/anaconda3/envs/pytorch/lib/python3.7/site-packages/pyamg/gallery/stencil.py:114: FutureWarning: Using a non-tuple sequence for multidimensional indexing is deprecated; use `arr[tuple(seq)]` instead of `arr[seq]`. In the future this will be interpreted as an array index, `arr[np.array(seq)]`, which will result either in an error or a different result.\n",
      "  diag[s] = 0\n",
      "/home/user/anaconda3/envs/pytorch/lib/python3.7/site-packages/pyamg/gallery/stencil.py:110: FutureWarning: Using a non-tuple sequence for multidimensional indexing is deprecated; use `arr[tuple(seq)]` instead of `arr[seq]`. In the future this will be interpreted as an array index, `arr[np.array(seq)]`, which will result either in an error or a different result.\n",
      "  diag[s] = 0\n",
      "/home/user/anaconda3/envs/pytorch/lib/python3.7/site-packages/pyamg/gallery/stencil.py:114: FutureWarning: Using a non-tuple sequence for multidimensional indexing is deprecated; use `arr[tuple(seq)]` instead of `arr[seq]`. In the future this will be interpreted as an array index, `arr[np.array(seq)]`, which will result either in an error or a different result.\n",
      "  diag[s] = 0\n",
      "/home/user/anaconda3/envs/pytorch/lib/python3.7/site-packages/pyamg/gallery/stencil.py:110: FutureWarning: Using a non-tuple sequence for multidimensional indexing is deprecated; use `arr[tuple(seq)]` instead of `arr[seq]`. In the future this will be interpreted as an array index, `arr[np.array(seq)]`, which will result either in an error or a different result.\n",
      "  diag[s] = 0\n",
      "/home/user/anaconda3/envs/pytorch/lib/python3.7/site-packages/ipykernel_launcher.py:38: UserWarning: To copy construct from a tensor, it is recommended to use sourceTensor.clone().detach() or sourceTensor.clone().detach().requires_grad_(True), rather than torch.tensor(sourceTensor).\n",
      "/home/user/anaconda3/envs/pytorch/lib/python3.7/site-packages/pyamg/gallery/stencil.py:114: FutureWarning: Using a non-tuple sequence for multidimensional indexing is deprecated; use `arr[tuple(seq)]` instead of `arr[seq]`. In the future this will be interpreted as an array index, `arr[np.array(seq)]`, which will result either in an error or a different result.\n",
      "  diag[s] = 0\n",
      "/home/user/anaconda3/envs/pytorch/lib/python3.7/site-packages/pyamg/gallery/stencil.py:110: FutureWarning: Using a non-tuple sequence for multidimensional indexing is deprecated; use `arr[tuple(seq)]` instead of `arr[seq]`. In the future this will be interpreted as an array index, `arr[np.array(seq)]`, which will result either in an error or a different result.\n",
      "  diag[s] = 0\n"
     ]
    },
    {
     "name": "stdout",
     "output_type": "stream",
     "text": [
      "[0.0, 6.0, 3.0, 7.0, 5.0, 5.0, 0.0, 5.0, 2.0, 8.0, 7.0, 5.0, 6.0, 4.0, 2.0, 2.0, 4.0, 2.0, 3.0, 0.0, 1.0, 2.0, 1.0, 2.0, 1.0, 8.0, 2.0, 2.0, 1.0, 0.0, 3.0, 0.0, 1.0, 6.0, 2.0, 4.0, 0.0, 0.0, 5.0, 0.0, 0.0, 0.0, 0.0]\n",
      "[0.0, 6.0, 3.0, 7.0, 5.0, 5.0, 0.0, 5.0, 2.0, 8.0, 7.0, 5.0, 6.0, 4.0, 2.0, 2.0, 4.0, 2.0, 3.0, 0.0, 1.0, 2.0, 1.0, 2.0, 1.0, 8.0, 2.0, 2.0, 1.0, 1.0, 3.0, 0.0, 1.0, 6.0, 2.0, 4.0, 0.0, 0.0, 5.0, 0.0, 0.0, 0.0, 0.0]\n",
      "[0.0, 7.0, 3.0, 7.0, 5.0, 5.0, 0.0, 5.0, 2.0, 8.0, 7.0, 5.0, 6.0, 4.0, 2.0, 2.0, 4.0, 2.0, 3.0, 0.0, 1.0, 2.0, 1.0, 2.0, 1.0, 8.0, 2.0, 2.0, 1.0, 1.0, 3.0, 0.0, 1.0, 6.0, 2.0, 4.0, 0.0, 0.0, 5.0, 0.0, 0.0, 0.0, 0.0]\n",
      "[0.0, 7.0, 3.0, 7.0, 5.0, 5.0, 0.0, 5.0, 2.0, 8.0, 7.0, 5.0, 6.0, 4.0, 2.0, 2.0, 4.0, 3.0, 3.0, 0.0, 1.0, 2.0, 1.0, 2.0, 1.0, 8.0, 2.0, 2.0, 1.0, 1.0, 3.0, 0.0, 1.0, 6.0, 2.0, 4.0, 0.0, 0.0, 5.0, 0.0, 0.0, 0.0, 0.0]\n"
     ]
    },
    {
     "name": "stderr",
     "output_type": "stream",
     "text": [
      "/home/user/anaconda3/envs/pytorch/lib/python3.7/site-packages/pyamg/gallery/stencil.py:114: FutureWarning: Using a non-tuple sequence for multidimensional indexing is deprecated; use `arr[tuple(seq)]` instead of `arr[seq]`. In the future this will be interpreted as an array index, `arr[np.array(seq)]`, which will result either in an error or a different result.\n",
      "  diag[s] = 0\n",
      "/home/user/anaconda3/envs/pytorch/lib/python3.7/site-packages/pyamg/gallery/stencil.py:110: FutureWarning: Using a non-tuple sequence for multidimensional indexing is deprecated; use `arr[tuple(seq)]` instead of `arr[seq]`. In the future this will be interpreted as an array index, `arr[np.array(seq)]`, which will result either in an error or a different result.\n",
      "  diag[s] = 0\n",
      "/home/user/anaconda3/envs/pytorch/lib/python3.7/site-packages/pyamg/gallery/stencil.py:114: FutureWarning: Using a non-tuple sequence for multidimensional indexing is deprecated; use `arr[tuple(seq)]` instead of `arr[seq]`. In the future this will be interpreted as an array index, `arr[np.array(seq)]`, which will result either in an error or a different result.\n",
      "  diag[s] = 0\n",
      "/home/user/anaconda3/envs/pytorch/lib/python3.7/site-packages/pyamg/gallery/stencil.py:110: FutureWarning: Using a non-tuple sequence for multidimensional indexing is deprecated; use `arr[tuple(seq)]` instead of `arr[seq]`. In the future this will be interpreted as an array index, `arr[np.array(seq)]`, which will result either in an error or a different result.\n",
      "  diag[s] = 0\n",
      "/home/user/anaconda3/envs/pytorch/lib/python3.7/site-packages/pyamg/gallery/stencil.py:114: FutureWarning: Using a non-tuple sequence for multidimensional indexing is deprecated; use `arr[tuple(seq)]` instead of `arr[seq]`. In the future this will be interpreted as an array index, `arr[np.array(seq)]`, which will result either in an error or a different result.\n",
      "  diag[s] = 0\n",
      "/home/user/anaconda3/envs/pytorch/lib/python3.7/site-packages/pyamg/gallery/stencil.py:110: FutureWarning: Using a non-tuple sequence for multidimensional indexing is deprecated; use `arr[tuple(seq)]` instead of `arr[seq]`. In the future this will be interpreted as an array index, `arr[np.array(seq)]`, which will result either in an error or a different result.\n",
      "  diag[s] = 0\n"
     ]
    },
    {
     "name": "stdout",
     "output_type": "stream",
     "text": [
      "[0.0, 7.0, 3.0, 7.0, 5.0, 5.0, 0.0, 5.0, 2.0, 8.0, 7.0, 5.0, 6.0, 5.0, 2.0, 2.0, 4.0, 3.0, 3.0, 0.0, 1.0, 2.0, 1.0, 2.0, 1.0, 8.0, 2.0, 2.0, 1.0, 1.0, 3.0, 0.0, 1.0, 6.0, 2.0, 4.0, 0.0, 0.0, 5.0, 0.0, 0.0, 0.0, 0.0]\n",
      "[0.0, 7.0, 3.0, 7.0, 5.0, 5.0, 0.0, 6.0, 2.0, 8.0, 7.0, 5.0, 6.0, 5.0, 2.0, 2.0, 4.0, 3.0, 3.0, 0.0, 1.0, 2.0, 1.0, 2.0, 1.0, 8.0, 2.0, 2.0, 1.0, 1.0, 3.0, 0.0, 1.0, 6.0, 2.0, 4.0, 0.0, 0.0, 5.0, 0.0, 0.0, 0.0, 0.0]\n",
      "[0.0, 8.0, 3.0, 7.0, 5.0, 5.0, 0.0, 6.0, 2.0, 8.0, 7.0, 5.0, 6.0, 5.0, 2.0, 2.0, 4.0, 3.0, 3.0, 0.0, 1.0, 2.0, 1.0, 2.0, 1.0, 8.0, 2.0, 2.0, 1.0, 1.0, 3.0, 0.0, 1.0, 6.0, 2.0, 4.0, 0.0, 0.0, 5.0, 0.0, 0.0, 0.0, 0.0]\n",
      "[0.0, 8.0, 3.0, 7.0, 5.0, 5.0, 0.0, 6.0, 3.0, 8.0, 7.0, 5.0, 6.0, 5.0, 2.0, 2.0, 4.0, 3.0, 3.0, 0.0, 1.0, 2.0, 1.0, 2.0, 1.0, 8.0, 2.0, 2.0, 1.0, 1.0, 3.0, 0.0, 1.0, 6.0, 2.0, 4.0, 0.0, 0.0, 5.0, 0.0, 0.0, 0.0, 0.0]\n"
     ]
    },
    {
     "name": "stderr",
     "output_type": "stream",
     "text": [
      "/home/user/anaconda3/envs/pytorch/lib/python3.7/site-packages/ipykernel_launcher.py:38: UserWarning: To copy construct from a tensor, it is recommended to use sourceTensor.clone().detach() or sourceTensor.clone().detach().requires_grad_(True), rather than torch.tensor(sourceTensor).\n",
      "/home/user/anaconda3/envs/pytorch/lib/python3.7/site-packages/pyamg/gallery/stencil.py:114: FutureWarning: Using a non-tuple sequence for multidimensional indexing is deprecated; use `arr[tuple(seq)]` instead of `arr[seq]`. In the future this will be interpreted as an array index, `arr[np.array(seq)]`, which will result either in an error or a different result.\n",
      "  diag[s] = 0\n",
      "/home/user/anaconda3/envs/pytorch/lib/python3.7/site-packages/pyamg/gallery/stencil.py:110: FutureWarning: Using a non-tuple sequence for multidimensional indexing is deprecated; use `arr[tuple(seq)]` instead of `arr[seq]`. In the future this will be interpreted as an array index, `arr[np.array(seq)]`, which will result either in an error or a different result.\n",
      "  diag[s] = 0\n",
      "/home/user/anaconda3/envs/pytorch/lib/python3.7/site-packages/pyamg/gallery/stencil.py:114: FutureWarning: Using a non-tuple sequence for multidimensional indexing is deprecated; use `arr[tuple(seq)]` instead of `arr[seq]`. In the future this will be interpreted as an array index, `arr[np.array(seq)]`, which will result either in an error or a different result.\n",
      "  diag[s] = 0\n",
      "/home/user/anaconda3/envs/pytorch/lib/python3.7/site-packages/pyamg/gallery/stencil.py:110: FutureWarning: Using a non-tuple sequence for multidimensional indexing is deprecated; use `arr[tuple(seq)]` instead of `arr[seq]`. In the future this will be interpreted as an array index, `arr[np.array(seq)]`, which will result either in an error or a different result.\n",
      "  diag[s] = 0\n",
      "/home/user/anaconda3/envs/pytorch/lib/python3.7/site-packages/pyamg/gallery/stencil.py:114: FutureWarning: Using a non-tuple sequence for multidimensional indexing is deprecated; use `arr[tuple(seq)]` instead of `arr[seq]`. In the future this will be interpreted as an array index, `arr[np.array(seq)]`, which will result either in an error or a different result.\n",
      "  diag[s] = 0\n",
      "/home/user/anaconda3/envs/pytorch/lib/python3.7/site-packages/pyamg/gallery/stencil.py:110: FutureWarning: Using a non-tuple sequence for multidimensional indexing is deprecated; use `arr[tuple(seq)]` instead of `arr[seq]`. In the future this will be interpreted as an array index, `arr[np.array(seq)]`, which will result either in an error or a different result.\n",
      "  diag[s] = 0\n",
      "/home/user/anaconda3/envs/pytorch/lib/python3.7/site-packages/pyamg/gallery/stencil.py:114: FutureWarning: Using a non-tuple sequence for multidimensional indexing is deprecated; use `arr[tuple(seq)]` instead of `arr[seq]`. In the future this will be interpreted as an array index, `arr[np.array(seq)]`, which will result either in an error or a different result.\n",
      "  diag[s] = 0\n",
      "/home/user/anaconda3/envs/pytorch/lib/python3.7/site-packages/pyamg/gallery/stencil.py:110: FutureWarning: Using a non-tuple sequence for multidimensional indexing is deprecated; use `arr[tuple(seq)]` instead of `arr[seq]`. In the future this will be interpreted as an array index, `arr[np.array(seq)]`, which will result either in an error or a different result.\n",
      "  diag[s] = 0\n",
      "/home/user/anaconda3/envs/pytorch/lib/python3.7/site-packages/ipykernel_launcher.py:38: UserWarning: To copy construct from a tensor, it is recommended to use sourceTensor.clone().detach() or sourceTensor.clone().detach().requires_grad_(True), rather than torch.tensor(sourceTensor).\n"
     ]
    },
    {
     "name": "stdout",
     "output_type": "stream",
     "text": [
      "[0.0, 8.0, 4.0, 7.0, 5.0, 5.0, 0.0, 6.0, 3.0, 8.0, 7.0, 5.0, 6.0, 5.0, 2.0, 2.0, 4.0, 3.0, 3.0, 0.0, 1.0, 2.0, 1.0, 2.0, 1.0, 8.0, 2.0, 2.0, 1.0, 1.0, 3.0, 0.0, 1.0, 6.0, 2.0, 4.0, 0.0, 0.0, 5.0, 0.0, 0.0, 0.0, 0.0]\n",
      "[0.0, 8.0, 4.0, 7.0, 5.0, 5.0, 0.0, 6.0, 3.0, 8.0, 8.0, 5.0, 6.0, 5.0, 2.0, 2.0, 4.0, 3.0, 3.0, 0.0, 1.0, 2.0, 1.0, 2.0, 1.0, 8.0, 2.0, 2.0, 1.0, 1.0, 3.0, 0.0, 1.0, 6.0, 2.0, 4.0, 0.0, 0.0, 5.0, 0.0, 0.0, 0.0, 0.0]\n",
      "[0.0, 8.0, 4.0, 7.0, 5.0, 5.0, 0.0, 6.0, 3.0, 8.0, 9.0, 5.0, 6.0, 5.0, 2.0, 2.0, 4.0, 3.0, 3.0, 0.0, 1.0, 2.0, 1.0, 2.0, 1.0, 8.0, 2.0, 2.0, 1.0, 1.0, 3.0, 0.0, 1.0, 6.0, 2.0, 4.0, 0.0, 0.0, 5.0, 0.0, 0.0, 0.0, 0.0]\n",
      "[0.0, 8.0, 4.0, 7.0, 5.0, 5.0, 0.0, 6.0, 3.0, 8.0, 9.0, 5.0, 6.0, 5.0, 2.0, 2.0, 4.0, 3.0, 3.0, 0.0, 1.0, 2.0, 1.0, 2.0, 1.0, 8.0, 2.0, 2.0, 1.0, 1.0, 4.0, 0.0, 1.0, 6.0, 2.0, 4.0, 0.0, 0.0, 5.0, 0.0, 0.0, 0.0, 0.0]\n"
     ]
    },
    {
     "name": "stderr",
     "output_type": "stream",
     "text": [
      "/home/user/anaconda3/envs/pytorch/lib/python3.7/site-packages/pyamg/gallery/stencil.py:114: FutureWarning: Using a non-tuple sequence for multidimensional indexing is deprecated; use `arr[tuple(seq)]` instead of `arr[seq]`. In the future this will be interpreted as an array index, `arr[np.array(seq)]`, which will result either in an error or a different result.\n",
      "  diag[s] = 0\n",
      "/home/user/anaconda3/envs/pytorch/lib/python3.7/site-packages/pyamg/gallery/stencil.py:110: FutureWarning: Using a non-tuple sequence for multidimensional indexing is deprecated; use `arr[tuple(seq)]` instead of `arr[seq]`. In the future this will be interpreted as an array index, `arr[np.array(seq)]`, which will result either in an error or a different result.\n",
      "  diag[s] = 0\n",
      "/home/user/anaconda3/envs/pytorch/lib/python3.7/site-packages/pyamg/gallery/stencil.py:114: FutureWarning: Using a non-tuple sequence for multidimensional indexing is deprecated; use `arr[tuple(seq)]` instead of `arr[seq]`. In the future this will be interpreted as an array index, `arr[np.array(seq)]`, which will result either in an error or a different result.\n",
      "  diag[s] = 0\n",
      "/home/user/anaconda3/envs/pytorch/lib/python3.7/site-packages/pyamg/gallery/stencil.py:110: FutureWarning: Using a non-tuple sequence for multidimensional indexing is deprecated; use `arr[tuple(seq)]` instead of `arr[seq]`. In the future this will be interpreted as an array index, `arr[np.array(seq)]`, which will result either in an error or a different result.\n",
      "  diag[s] = 0\n",
      "/home/user/anaconda3/envs/pytorch/lib/python3.7/site-packages/pyamg/gallery/stencil.py:114: FutureWarning: Using a non-tuple sequence for multidimensional indexing is deprecated; use `arr[tuple(seq)]` instead of `arr[seq]`. In the future this will be interpreted as an array index, `arr[np.array(seq)]`, which will result either in an error or a different result.\n",
      "  diag[s] = 0\n",
      "/home/user/anaconda3/envs/pytorch/lib/python3.7/site-packages/pyamg/gallery/stencil.py:110: FutureWarning: Using a non-tuple sequence for multidimensional indexing is deprecated; use `arr[tuple(seq)]` instead of `arr[seq]`. In the future this will be interpreted as an array index, `arr[np.array(seq)]`, which will result either in an error or a different result.\n",
      "  diag[s] = 0\n",
      "/home/user/anaconda3/envs/pytorch/lib/python3.7/site-packages/pyamg/gallery/stencil.py:114: FutureWarning: Using a non-tuple sequence for multidimensional indexing is deprecated; use `arr[tuple(seq)]` instead of `arr[seq]`. In the future this will be interpreted as an array index, `arr[np.array(seq)]`, which will result either in an error or a different result.\n",
      "  diag[s] = 0\n",
      "/home/user/anaconda3/envs/pytorch/lib/python3.7/site-packages/pyamg/gallery/stencil.py:110: FutureWarning: Using a non-tuple sequence for multidimensional indexing is deprecated; use `arr[tuple(seq)]` instead of `arr[seq]`. In the future this will be interpreted as an array index, `arr[np.array(seq)]`, which will result either in an error or a different result.\n",
      "  diag[s] = 0\n",
      "/home/user/anaconda3/envs/pytorch/lib/python3.7/site-packages/ipykernel_launcher.py:38: UserWarning: To copy construct from a tensor, it is recommended to use sourceTensor.clone().detach() or sourceTensor.clone().detach().requires_grad_(True), rather than torch.tensor(sourceTensor).\n",
      "/home/user/anaconda3/envs/pytorch/lib/python3.7/site-packages/pyamg/gallery/stencil.py:114: FutureWarning: Using a non-tuple sequence for multidimensional indexing is deprecated; use `arr[tuple(seq)]` instead of `arr[seq]`. In the future this will be interpreted as an array index, `arr[np.array(seq)]`, which will result either in an error or a different result.\n",
      "  diag[s] = 0\n",
      "/home/user/anaconda3/envs/pytorch/lib/python3.7/site-packages/pyamg/gallery/stencil.py:110: FutureWarning: Using a non-tuple sequence for multidimensional indexing is deprecated; use `arr[tuple(seq)]` instead of `arr[seq]`. In the future this will be interpreted as an array index, `arr[np.array(seq)]`, which will result either in an error or a different result.\n",
      "  diag[s] = 0\n"
     ]
    },
    {
     "name": "stdout",
     "output_type": "stream",
     "text": [
      "[0.0, 9.0, 4.0, 7.0, 5.0, 5.0, 0.0, 6.0, 3.0, 8.0, 9.0, 5.0, 6.0, 5.0, 2.0, 2.0, 4.0, 3.0, 3.0, 0.0, 1.0, 2.0, 1.0, 2.0, 1.0, 8.0, 2.0, 2.0, 1.0, 1.0, 4.0, 0.0, 1.0, 6.0, 2.0, 4.0, 0.0, 0.0, 5.0, 0.0, 0.0, 0.0, 0.0]\n",
      "[0.0, 9.0, 4.0, 7.0, 5.0, 5.0, 1.0, 6.0, 3.0, 8.0, 9.0, 5.0, 6.0, 5.0, 2.0, 2.0, 4.0, 3.0, 3.0, 0.0, 1.0, 2.0, 1.0, 2.0, 1.0, 8.0, 2.0, 2.0, 1.0, 1.0, 4.0, 0.0, 1.0, 6.0, 2.0, 4.0, 0.0, 0.0, 5.0, 0.0, 0.0, 0.0, 0.0]\n",
      "[0.0, 9.0, 4.0, 7.0, 5.0, 5.0, 1.0, 6.0, 3.0, 8.0, 9.0, 5.0, 6.0, 5.0, 2.0, 2.0, 4.0, 3.0, 3.0, 0.0, 1.0, 2.0, 1.0, 2.0, 1.0, 8.0, 2.0, 2.0, 1.0, 1.0, 4.0, 0.0, 1.0, 6.0, 2.0, 4.0, 1.0, 0.0, 5.0, 0.0, 0.0, 0.0, 0.0]\n",
      "[0.0, 9.0, 4.0, 8.0, 5.0, 5.0, 1.0, 6.0, 3.0, 8.0, 9.0, 5.0, 6.0, 5.0, 2.0, 2.0, 4.0, 3.0, 3.0, 0.0, 1.0, 2.0, 1.0, 2.0, 1.0, 8.0, 2.0, 2.0, 1.0, 1.0, 4.0, 0.0, 1.0, 6.0, 2.0, 4.0, 1.0, 0.0, 5.0, 0.0, 0.0, 0.0, 0.0]\n"
     ]
    },
    {
     "name": "stderr",
     "output_type": "stream",
     "text": [
      "/home/user/anaconda3/envs/pytorch/lib/python3.7/site-packages/pyamg/gallery/stencil.py:114: FutureWarning: Using a non-tuple sequence for multidimensional indexing is deprecated; use `arr[tuple(seq)]` instead of `arr[seq]`. In the future this will be interpreted as an array index, `arr[np.array(seq)]`, which will result either in an error or a different result.\n",
      "  diag[s] = 0\n",
      "/home/user/anaconda3/envs/pytorch/lib/python3.7/site-packages/pyamg/gallery/stencil.py:110: FutureWarning: Using a non-tuple sequence for multidimensional indexing is deprecated; use `arr[tuple(seq)]` instead of `arr[seq]`. In the future this will be interpreted as an array index, `arr[np.array(seq)]`, which will result either in an error or a different result.\n",
      "  diag[s] = 0\n",
      "/home/user/anaconda3/envs/pytorch/lib/python3.7/site-packages/pyamg/gallery/stencil.py:114: FutureWarning: Using a non-tuple sequence for multidimensional indexing is deprecated; use `arr[tuple(seq)]` instead of `arr[seq]`. In the future this will be interpreted as an array index, `arr[np.array(seq)]`, which will result either in an error or a different result.\n",
      "  diag[s] = 0\n",
      "/home/user/anaconda3/envs/pytorch/lib/python3.7/site-packages/pyamg/gallery/stencil.py:110: FutureWarning: Using a non-tuple sequence for multidimensional indexing is deprecated; use `arr[tuple(seq)]` instead of `arr[seq]`. In the future this will be interpreted as an array index, `arr[np.array(seq)]`, which will result either in an error or a different result.\n",
      "  diag[s] = 0\n",
      "/home/user/anaconda3/envs/pytorch/lib/python3.7/site-packages/pyamg/gallery/stencil.py:114: FutureWarning: Using a non-tuple sequence for multidimensional indexing is deprecated; use `arr[tuple(seq)]` instead of `arr[seq]`. In the future this will be interpreted as an array index, `arr[np.array(seq)]`, which will result either in an error or a different result.\n",
      "  diag[s] = 0\n",
      "/home/user/anaconda3/envs/pytorch/lib/python3.7/site-packages/pyamg/gallery/stencil.py:110: FutureWarning: Using a non-tuple sequence for multidimensional indexing is deprecated; use `arr[tuple(seq)]` instead of `arr[seq]`. In the future this will be interpreted as an array index, `arr[np.array(seq)]`, which will result either in an error or a different result.\n",
      "  diag[s] = 0\n"
     ]
    },
    {
     "name": "stdout",
     "output_type": "stream",
     "text": [
      "[0.0, 9.0, 4.0, 8.0, 5.0, 5.0, 1.0, 6.0, 3.0, 8.0, 9.0, 5.0, 6.0, 5.0, 3.0, 2.0, 4.0, 3.0, 3.0, 0.0, 1.0, 2.0, 1.0, 2.0, 1.0, 8.0, 2.0, 2.0, 1.0, 1.0, 4.0, 0.0, 1.0, 6.0, 2.0, 4.0, 1.0, 0.0, 5.0, 0.0, 0.0, 0.0, 0.0]\n",
      "[0.0, 9.0, 4.0, 8.0, 5.0, 5.0, 1.0, 6.0, 3.0, 8.0, 9.0, 5.0, 6.0, 6.0, 3.0, 2.0, 4.0, 3.0, 3.0, 0.0, 1.0, 2.0, 1.0, 2.0, 1.0, 8.0, 2.0, 2.0, 1.0, 1.0, 4.0, 0.0, 1.0, 6.0, 2.0, 4.0, 1.0, 0.0, 5.0, 0.0, 0.0, 0.0, 0.0]\n",
      "[0.0, 9.0, 4.0, 8.0, 5.0, 5.0, 1.0, 6.0, 3.0, 8.0, 9.0, 6.0, 6.0, 6.0, 3.0, 2.0, 4.0, 3.0, 3.0, 0.0, 1.0, 2.0, 1.0, 2.0, 1.0, 8.0, 2.0, 2.0, 1.0, 1.0, 4.0, 0.0, 1.0, 6.0, 2.0, 4.0, 1.0, 0.0, 5.0, 0.0, 0.0, 0.0, 0.0]\n",
      "[0.0, 9.0, 4.0, 8.0, 5.0, 5.0, 1.0, 6.0, 3.0, 8.0, 10.0, 6.0, 6.0, 6.0, 3.0, 2.0, 4.0, 3.0, 3.0, 0.0, 1.0, 2.0, 1.0, 2.0, 1.0, 8.0, 2.0, 2.0, 1.0, 1.0, 4.0, 0.0, 1.0, 6.0, 2.0, 4.0, 1.0, 0.0, 5.0, 0.0, 0.0, 0.0, 0.0]\n"
     ]
    },
    {
     "name": "stderr",
     "output_type": "stream",
     "text": [
      "/home/user/anaconda3/envs/pytorch/lib/python3.7/site-packages/ipykernel_launcher.py:38: UserWarning: To copy construct from a tensor, it is recommended to use sourceTensor.clone().detach() or sourceTensor.clone().detach().requires_grad_(True), rather than torch.tensor(sourceTensor).\n",
      "/home/user/anaconda3/envs/pytorch/lib/python3.7/site-packages/pyamg/gallery/stencil.py:114: FutureWarning: Using a non-tuple sequence for multidimensional indexing is deprecated; use `arr[tuple(seq)]` instead of `arr[seq]`. In the future this will be interpreted as an array index, `arr[np.array(seq)]`, which will result either in an error or a different result.\n",
      "  diag[s] = 0\n",
      "/home/user/anaconda3/envs/pytorch/lib/python3.7/site-packages/pyamg/gallery/stencil.py:110: FutureWarning: Using a non-tuple sequence for multidimensional indexing is deprecated; use `arr[tuple(seq)]` instead of `arr[seq]`. In the future this will be interpreted as an array index, `arr[np.array(seq)]`, which will result either in an error or a different result.\n",
      "  diag[s] = 0\n",
      "/home/user/anaconda3/envs/pytorch/lib/python3.7/site-packages/pyamg/gallery/stencil.py:114: FutureWarning: Using a non-tuple sequence for multidimensional indexing is deprecated; use `arr[tuple(seq)]` instead of `arr[seq]`. In the future this will be interpreted as an array index, `arr[np.array(seq)]`, which will result either in an error or a different result.\n",
      "  diag[s] = 0\n",
      "/home/user/anaconda3/envs/pytorch/lib/python3.7/site-packages/pyamg/gallery/stencil.py:110: FutureWarning: Using a non-tuple sequence for multidimensional indexing is deprecated; use `arr[tuple(seq)]` instead of `arr[seq]`. In the future this will be interpreted as an array index, `arr[np.array(seq)]`, which will result either in an error or a different result.\n",
      "  diag[s] = 0\n",
      "/home/user/anaconda3/envs/pytorch/lib/python3.7/site-packages/pyamg/gallery/stencil.py:114: FutureWarning: Using a non-tuple sequence for multidimensional indexing is deprecated; use `arr[tuple(seq)]` instead of `arr[seq]`. In the future this will be interpreted as an array index, `arr[np.array(seq)]`, which will result either in an error or a different result.\n",
      "  diag[s] = 0\n",
      "/home/user/anaconda3/envs/pytorch/lib/python3.7/site-packages/pyamg/gallery/stencil.py:110: FutureWarning: Using a non-tuple sequence for multidimensional indexing is deprecated; use `arr[tuple(seq)]` instead of `arr[seq]`. In the future this will be interpreted as an array index, `arr[np.array(seq)]`, which will result either in an error or a different result.\n",
      "  diag[s] = 0\n",
      "/home/user/anaconda3/envs/pytorch/lib/python3.7/site-packages/pyamg/gallery/stencil.py:114: FutureWarning: Using a non-tuple sequence for multidimensional indexing is deprecated; use `arr[tuple(seq)]` instead of `arr[seq]`. In the future this will be interpreted as an array index, `arr[np.array(seq)]`, which will result either in an error or a different result.\n",
      "  diag[s] = 0\n",
      "/home/user/anaconda3/envs/pytorch/lib/python3.7/site-packages/pyamg/gallery/stencil.py:110: FutureWarning: Using a non-tuple sequence for multidimensional indexing is deprecated; use `arr[tuple(seq)]` instead of `arr[seq]`. In the future this will be interpreted as an array index, `arr[np.array(seq)]`, which will result either in an error or a different result.\n",
      "  diag[s] = 0\n",
      "/home/user/anaconda3/envs/pytorch/lib/python3.7/site-packages/ipykernel_launcher.py:38: UserWarning: To copy construct from a tensor, it is recommended to use sourceTensor.clone().detach() or sourceTensor.clone().detach().requires_grad_(True), rather than torch.tensor(sourceTensor).\n"
     ]
    },
    {
     "name": "stdout",
     "output_type": "stream",
     "text": [
      "[0.0, 9.0, 4.0, 8.0, 5.0, 5.0, 1.0, 6.0, 3.0, 8.0, 10.0, 6.0, 6.0, 6.0, 3.0, 2.0, 4.0, 3.0, 4.0, 0.0, 1.0, 2.0, 1.0, 2.0, 1.0, 8.0, 2.0, 2.0, 1.0, 1.0, 4.0, 0.0, 1.0, 6.0, 2.0, 4.0, 1.0, 0.0, 5.0, 0.0, 0.0, 0.0, 0.0]\n",
      "[0.0, 9.0, 4.0, 8.0, 5.0, 5.0, 1.0, 6.0, 3.0, 8.0, 10.0, 6.0, 6.0, 6.0, 3.0, 2.0, 4.0, 3.0, 4.0, 0.0, 1.0, 2.0, 1.0, 2.0, 1.0, 8.0, 2.0, 2.0, 1.0, 1.0, 4.0, 0.0, 1.0, 6.0, 2.0, 4.0, 1.0, 0.0, 5.0, 0.0, 1.0, 0.0, 0.0]\n",
      "[0.0, 9.0, 5.0, 8.0, 5.0, 5.0, 1.0, 6.0, 3.0, 8.0, 10.0, 6.0, 6.0, 6.0, 3.0, 2.0, 4.0, 3.0, 4.0, 0.0, 1.0, 2.0, 1.0, 2.0, 1.0, 8.0, 2.0, 2.0, 1.0, 1.0, 4.0, 0.0, 1.0, 6.0, 2.0, 4.0, 1.0, 0.0, 5.0, 0.0, 1.0, 0.0, 0.0]\n",
      "[0.0, 9.0, 5.0, 8.0, 5.0, 5.0, 1.0, 6.0, 3.0, 8.0, 10.0, 6.0, 6.0, 6.0, 3.0, 2.0, 4.0, 3.0, 4.0, 0.0, 1.0, 2.0, 1.0, 2.0, 1.0, 8.0, 2.0, 2.0, 1.0, 1.0, 4.0, 0.0, 1.0, 6.0, 2.0, 4.0, 1.0, 0.0, 6.0, 0.0, 1.0, 0.0, 0.0]\n"
     ]
    },
    {
     "name": "stderr",
     "output_type": "stream",
     "text": [
      "/home/user/anaconda3/envs/pytorch/lib/python3.7/site-packages/pyamg/gallery/stencil.py:114: FutureWarning: Using a non-tuple sequence for multidimensional indexing is deprecated; use `arr[tuple(seq)]` instead of `arr[seq]`. In the future this will be interpreted as an array index, `arr[np.array(seq)]`, which will result either in an error or a different result.\n",
      "  diag[s] = 0\n",
      "/home/user/anaconda3/envs/pytorch/lib/python3.7/site-packages/pyamg/gallery/stencil.py:110: FutureWarning: Using a non-tuple sequence for multidimensional indexing is deprecated; use `arr[tuple(seq)]` instead of `arr[seq]`. In the future this will be interpreted as an array index, `arr[np.array(seq)]`, which will result either in an error or a different result.\n",
      "  diag[s] = 0\n",
      "/home/user/anaconda3/envs/pytorch/lib/python3.7/site-packages/pyamg/gallery/stencil.py:114: FutureWarning: Using a non-tuple sequence for multidimensional indexing is deprecated; use `arr[tuple(seq)]` instead of `arr[seq]`. In the future this will be interpreted as an array index, `arr[np.array(seq)]`, which will result either in an error or a different result.\n",
      "  diag[s] = 0\n",
      "/home/user/anaconda3/envs/pytorch/lib/python3.7/site-packages/pyamg/gallery/stencil.py:110: FutureWarning: Using a non-tuple sequence for multidimensional indexing is deprecated; use `arr[tuple(seq)]` instead of `arr[seq]`. In the future this will be interpreted as an array index, `arr[np.array(seq)]`, which will result either in an error or a different result.\n",
      "  diag[s] = 0\n",
      "/home/user/anaconda3/envs/pytorch/lib/python3.7/site-packages/pyamg/gallery/stencil.py:114: FutureWarning: Using a non-tuple sequence for multidimensional indexing is deprecated; use `arr[tuple(seq)]` instead of `arr[seq]`. In the future this will be interpreted as an array index, `arr[np.array(seq)]`, which will result either in an error or a different result.\n",
      "  diag[s] = 0\n",
      "/home/user/anaconda3/envs/pytorch/lib/python3.7/site-packages/pyamg/gallery/stencil.py:110: FutureWarning: Using a non-tuple sequence for multidimensional indexing is deprecated; use `arr[tuple(seq)]` instead of `arr[seq]`. In the future this will be interpreted as an array index, `arr[np.array(seq)]`, which will result either in an error or a different result.\n",
      "  diag[s] = 0\n",
      "/home/user/anaconda3/envs/pytorch/lib/python3.7/site-packages/pyamg/gallery/stencil.py:114: FutureWarning: Using a non-tuple sequence for multidimensional indexing is deprecated; use `arr[tuple(seq)]` instead of `arr[seq]`. In the future this will be interpreted as an array index, `arr[np.array(seq)]`, which will result either in an error or a different result.\n",
      "  diag[s] = 0\n",
      "/home/user/anaconda3/envs/pytorch/lib/python3.7/site-packages/pyamg/gallery/stencil.py:110: FutureWarning: Using a non-tuple sequence for multidimensional indexing is deprecated; use `arr[tuple(seq)]` instead of `arr[seq]`. In the future this will be interpreted as an array index, `arr[np.array(seq)]`, which will result either in an error or a different result.\n",
      "  diag[s] = 0\n",
      "/home/user/anaconda3/envs/pytorch/lib/python3.7/site-packages/ipykernel_launcher.py:38: UserWarning: To copy construct from a tensor, it is recommended to use sourceTensor.clone().detach() or sourceTensor.clone().detach().requires_grad_(True), rather than torch.tensor(sourceTensor).\n",
      "/home/user/anaconda3/envs/pytorch/lib/python3.7/site-packages/pyamg/gallery/stencil.py:114: FutureWarning: Using a non-tuple sequence for multidimensional indexing is deprecated; use `arr[tuple(seq)]` instead of `arr[seq]`. In the future this will be interpreted as an array index, `arr[np.array(seq)]`, which will result either in an error or a different result.\n",
      "  diag[s] = 0\n",
      "/home/user/anaconda3/envs/pytorch/lib/python3.7/site-packages/pyamg/gallery/stencil.py:110: FutureWarning: Using a non-tuple sequence for multidimensional indexing is deprecated; use `arr[tuple(seq)]` instead of `arr[seq]`. In the future this will be interpreted as an array index, `arr[np.array(seq)]`, which will result either in an error or a different result.\n",
      "  diag[s] = 0\n"
     ]
    },
    {
     "name": "stdout",
     "output_type": "stream",
     "text": [
      "[0.0, 9.0, 5.0, 8.0, 5.0, 5.0, 1.0, 6.0, 3.0, 8.0, 10.0, 6.0, 6.0, 6.0, 3.0, 2.0, 4.0, 3.0, 4.0, 0.0, 1.0, 2.0, 1.0, 2.0, 1.0, 8.0, 2.0, 2.0, 1.0, 1.0, 4.0, 0.0, 1.0, 6.0, 2.0, 4.0, 1.0, 0.0, 6.0, 0.0, 1.0, 1.0, 0.0]\n",
      "[0.0, 9.0, 5.0, 8.0, 6.0, 5.0, 1.0, 6.0, 3.0, 8.0, 10.0, 6.0, 6.0, 6.0, 3.0, 2.0, 4.0, 3.0, 4.0, 0.0, 1.0, 2.0, 1.0, 2.0, 1.0, 8.0, 2.0, 2.0, 1.0, 1.0, 4.0, 0.0, 1.0, 6.0, 2.0, 4.0, 1.0, 0.0, 6.0, 0.0, 1.0, 1.0, 0.0]\n",
      "[0.0, 9.0, 5.0, 8.0, 6.0, 5.0, 2.0, 6.0, 3.0, 8.0, 10.0, 6.0, 6.0, 6.0, 3.0, 2.0, 4.0, 3.0, 4.0, 0.0, 1.0, 2.0, 1.0, 2.0, 1.0, 8.0, 2.0, 2.0, 1.0, 1.0, 4.0, 0.0, 1.0, 6.0, 2.0, 4.0, 1.0, 0.0, 6.0, 0.0, 1.0, 1.0, 0.0]\n",
      "[0.0, 9.0, 5.0, 8.0, 6.0, 5.0, 2.0, 6.0, 3.0, 8.0, 10.0, 6.0, 6.0, 6.0, 3.0, 2.0, 4.0, 3.0, 5.0, 0.0, 1.0, 2.0, 1.0, 2.0, 1.0, 8.0, 2.0, 2.0, 1.0, 1.0, 4.0, 0.0, 1.0, 6.0, 2.0, 4.0, 1.0, 0.0, 6.0, 0.0, 1.0, 1.0, 0.0]\n"
     ]
    },
    {
     "name": "stderr",
     "output_type": "stream",
     "text": [
      "/home/user/anaconda3/envs/pytorch/lib/python3.7/site-packages/pyamg/gallery/stencil.py:114: FutureWarning: Using a non-tuple sequence for multidimensional indexing is deprecated; use `arr[tuple(seq)]` instead of `arr[seq]`. In the future this will be interpreted as an array index, `arr[np.array(seq)]`, which will result either in an error or a different result.\n",
      "  diag[s] = 0\n",
      "/home/user/anaconda3/envs/pytorch/lib/python3.7/site-packages/pyamg/gallery/stencil.py:110: FutureWarning: Using a non-tuple sequence for multidimensional indexing is deprecated; use `arr[tuple(seq)]` instead of `arr[seq]`. In the future this will be interpreted as an array index, `arr[np.array(seq)]`, which will result either in an error or a different result.\n",
      "  diag[s] = 0\n",
      "/home/user/anaconda3/envs/pytorch/lib/python3.7/site-packages/pyamg/gallery/stencil.py:114: FutureWarning: Using a non-tuple sequence for multidimensional indexing is deprecated; use `arr[tuple(seq)]` instead of `arr[seq]`. In the future this will be interpreted as an array index, `arr[np.array(seq)]`, which will result either in an error or a different result.\n",
      "  diag[s] = 0\n",
      "/home/user/anaconda3/envs/pytorch/lib/python3.7/site-packages/pyamg/gallery/stencil.py:110: FutureWarning: Using a non-tuple sequence for multidimensional indexing is deprecated; use `arr[tuple(seq)]` instead of `arr[seq]`. In the future this will be interpreted as an array index, `arr[np.array(seq)]`, which will result either in an error or a different result.\n",
      "  diag[s] = 0\n",
      "/home/user/anaconda3/envs/pytorch/lib/python3.7/site-packages/pyamg/gallery/stencil.py:114: FutureWarning: Using a non-tuple sequence for multidimensional indexing is deprecated; use `arr[tuple(seq)]` instead of `arr[seq]`. In the future this will be interpreted as an array index, `arr[np.array(seq)]`, which will result either in an error or a different result.\n",
      "  diag[s] = 0\n",
      "/home/user/anaconda3/envs/pytorch/lib/python3.7/site-packages/pyamg/gallery/stencil.py:110: FutureWarning: Using a non-tuple sequence for multidimensional indexing is deprecated; use `arr[tuple(seq)]` instead of `arr[seq]`. In the future this will be interpreted as an array index, `arr[np.array(seq)]`, which will result either in an error or a different result.\n",
      "  diag[s] = 0\n"
     ]
    },
    {
     "name": "stdout",
     "output_type": "stream",
     "text": [
      "[0.0, 9.0, 5.0, 8.0, 6.0, 5.0, 2.0, 6.0, 3.0, 8.0, 10.0, 6.0, 6.0, 6.0, 3.0, 2.0, 4.0, 4.0, 5.0, 0.0, 1.0, 2.0, 1.0, 2.0, 1.0, 8.0, 2.0, 2.0, 1.0, 1.0, 4.0, 0.0, 1.0, 6.0, 2.0, 4.0, 1.0, 0.0, 6.0, 0.0, 1.0, 1.0, 0.0]\n",
      "[0.0, 9.0, 5.0, 8.0, 6.0, 5.0, 2.0, 6.0, 3.0, 8.0, 10.0, 6.0, 6.0, 6.0, 3.0, 2.0, 4.0, 4.0, 5.0, 0.0, 1.0, 2.0, 1.0, 2.0, 1.0, 9.0, 2.0, 2.0, 1.0, 1.0, 4.0, 0.0, 1.0, 6.0, 2.0, 4.0, 1.0, 0.0, 6.0, 0.0, 1.0, 1.0, 0.0]\n",
      "[0.0, 9.0, 6.0, 8.0, 6.0, 5.0, 2.0, 6.0, 3.0, 8.0, 10.0, 6.0, 6.0, 6.0, 3.0, 2.0, 4.0, 4.0, 5.0, 0.0, 1.0, 2.0, 1.0, 2.0, 1.0, 9.0, 2.0, 2.0, 1.0, 1.0, 4.0, 0.0, 1.0, 6.0, 2.0, 4.0, 1.0, 0.0, 6.0, 0.0, 1.0, 1.0, 0.0]\n",
      "[0.0, 9.0, 6.0, 8.0, 6.0, 5.0, 2.0, 6.0, 3.0, 8.0, 10.0, 6.0, 6.0, 6.0, 3.0, 2.0, 4.0, 4.0, 5.0, 0.0, 1.0, 2.0, 1.0, 2.0, 1.0, 9.0, 2.0, 2.0, 1.0, 1.0, 4.0, 0.0, 1.0, 6.0, 2.0, 4.0, 1.0, 0.0, 6.0, 0.0, 1.0, 2.0, 0.0]\n"
     ]
    },
    {
     "name": "stderr",
     "output_type": "stream",
     "text": [
      "/home/user/anaconda3/envs/pytorch/lib/python3.7/site-packages/ipykernel_launcher.py:38: UserWarning: To copy construct from a tensor, it is recommended to use sourceTensor.clone().detach() or sourceTensor.clone().detach().requires_grad_(True), rather than torch.tensor(sourceTensor).\n",
      "/home/user/anaconda3/envs/pytorch/lib/python3.7/site-packages/pyamg/gallery/stencil.py:114: FutureWarning: Using a non-tuple sequence for multidimensional indexing is deprecated; use `arr[tuple(seq)]` instead of `arr[seq]`. In the future this will be interpreted as an array index, `arr[np.array(seq)]`, which will result either in an error or a different result.\n",
      "  diag[s] = 0\n",
      "/home/user/anaconda3/envs/pytorch/lib/python3.7/site-packages/pyamg/gallery/stencil.py:110: FutureWarning: Using a non-tuple sequence for multidimensional indexing is deprecated; use `arr[tuple(seq)]` instead of `arr[seq]`. In the future this will be interpreted as an array index, `arr[np.array(seq)]`, which will result either in an error or a different result.\n",
      "  diag[s] = 0\n",
      "/home/user/anaconda3/envs/pytorch/lib/python3.7/site-packages/pyamg/gallery/stencil.py:114: FutureWarning: Using a non-tuple sequence for multidimensional indexing is deprecated; use `arr[tuple(seq)]` instead of `arr[seq]`. In the future this will be interpreted as an array index, `arr[np.array(seq)]`, which will result either in an error or a different result.\n",
      "  diag[s] = 0\n",
      "/home/user/anaconda3/envs/pytorch/lib/python3.7/site-packages/pyamg/gallery/stencil.py:110: FutureWarning: Using a non-tuple sequence for multidimensional indexing is deprecated; use `arr[tuple(seq)]` instead of `arr[seq]`. In the future this will be interpreted as an array index, `arr[np.array(seq)]`, which will result either in an error or a different result.\n",
      "  diag[s] = 0\n",
      "/home/user/anaconda3/envs/pytorch/lib/python3.7/site-packages/pyamg/gallery/stencil.py:114: FutureWarning: Using a non-tuple sequence for multidimensional indexing is deprecated; use `arr[tuple(seq)]` instead of `arr[seq]`. In the future this will be interpreted as an array index, `arr[np.array(seq)]`, which will result either in an error or a different result.\n",
      "  diag[s] = 0\n",
      "/home/user/anaconda3/envs/pytorch/lib/python3.7/site-packages/pyamg/gallery/stencil.py:110: FutureWarning: Using a non-tuple sequence for multidimensional indexing is deprecated; use `arr[tuple(seq)]` instead of `arr[seq]`. In the future this will be interpreted as an array index, `arr[np.array(seq)]`, which will result either in an error or a different result.\n",
      "  diag[s] = 0\n",
      "/home/user/anaconda3/envs/pytorch/lib/python3.7/site-packages/pyamg/gallery/stencil.py:114: FutureWarning: Using a non-tuple sequence for multidimensional indexing is deprecated; use `arr[tuple(seq)]` instead of `arr[seq]`. In the future this will be interpreted as an array index, `arr[np.array(seq)]`, which will result either in an error or a different result.\n",
      "  diag[s] = 0\n",
      "/home/user/anaconda3/envs/pytorch/lib/python3.7/site-packages/pyamg/gallery/stencil.py:110: FutureWarning: Using a non-tuple sequence for multidimensional indexing is deprecated; use `arr[tuple(seq)]` instead of `arr[seq]`. In the future this will be interpreted as an array index, `arr[np.array(seq)]`, which will result either in an error or a different result.\n",
      "  diag[s] = 0\n",
      "/home/user/anaconda3/envs/pytorch/lib/python3.7/site-packages/ipykernel_launcher.py:38: UserWarning: To copy construct from a tensor, it is recommended to use sourceTensor.clone().detach() or sourceTensor.clone().detach().requires_grad_(True), rather than torch.tensor(sourceTensor).\n"
     ]
    },
    {
     "name": "stdout",
     "output_type": "stream",
     "text": [
      "[0.0, 9.0, 6.0, 8.0, 6.0, 5.0, 2.0, 6.0, 3.0, 8.0, 10.0, 7.0, 6.0, 6.0, 3.0, 2.0, 4.0, 4.0, 5.0, 0.0, 1.0, 2.0, 1.0, 2.0, 1.0, 9.0, 2.0, 2.0, 1.0, 1.0, 4.0, 0.0, 1.0, 6.0, 2.0, 4.0, 1.0, 0.0, 6.0, 0.0, 1.0, 2.0, 0.0]\n",
      "[0.0, 9.0, 6.0, 8.0, 6.0, 5.0, 2.0, 6.0, 3.0, 8.0, 10.0, 7.0, 6.0, 6.0, 3.0, 2.0, 4.0, 4.0, 5.0, 0.0, 1.0, 3.0, 1.0, 2.0, 1.0, 9.0, 2.0, 2.0, 1.0, 1.0, 4.0, 0.0, 1.0, 6.0, 2.0, 4.0, 1.0, 0.0, 6.0, 0.0, 1.0, 2.0, 0.0]\n",
      "[0.0, 9.0, 6.0, 8.0, 6.0, 5.0, 2.0, 7.0, 3.0, 8.0, 10.0, 7.0, 6.0, 6.0, 3.0, 2.0, 4.0, 4.0, 5.0, 0.0, 1.0, 3.0, 1.0, 2.0, 1.0, 9.0, 2.0, 2.0, 1.0, 1.0, 4.0, 0.0, 1.0, 6.0, 2.0, 4.0, 1.0, 0.0, 6.0, 0.0, 1.0, 2.0, 0.0]\n",
      "[0.0, 9.0, 6.0, 8.0, 6.0, 5.0, 2.0, 7.0, 3.0, 8.0, 10.0, 7.0, 6.0, 6.0, 3.0, 2.0, 4.0, 4.0, 5.0, 0.0, 1.0, 3.0, 1.0, 2.0, 2.0, 9.0, 2.0, 2.0, 1.0, 1.0, 4.0, 0.0, 1.0, 6.0, 2.0, 4.0, 1.0, 0.0, 6.0, 0.0, 1.0, 2.0, 0.0]\n"
     ]
    },
    {
     "name": "stderr",
     "output_type": "stream",
     "text": [
      "/home/user/anaconda3/envs/pytorch/lib/python3.7/site-packages/pyamg/gallery/stencil.py:114: FutureWarning: Using a non-tuple sequence for multidimensional indexing is deprecated; use `arr[tuple(seq)]` instead of `arr[seq]`. In the future this will be interpreted as an array index, `arr[np.array(seq)]`, which will result either in an error or a different result.\n",
      "  diag[s] = 0\n",
      "/home/user/anaconda3/envs/pytorch/lib/python3.7/site-packages/pyamg/gallery/stencil.py:110: FutureWarning: Using a non-tuple sequence for multidimensional indexing is deprecated; use `arr[tuple(seq)]` instead of `arr[seq]`. In the future this will be interpreted as an array index, `arr[np.array(seq)]`, which will result either in an error or a different result.\n",
      "  diag[s] = 0\n",
      "/home/user/anaconda3/envs/pytorch/lib/python3.7/site-packages/pyamg/gallery/stencil.py:114: FutureWarning: Using a non-tuple sequence for multidimensional indexing is deprecated; use `arr[tuple(seq)]` instead of `arr[seq]`. In the future this will be interpreted as an array index, `arr[np.array(seq)]`, which will result either in an error or a different result.\n",
      "  diag[s] = 0\n",
      "/home/user/anaconda3/envs/pytorch/lib/python3.7/site-packages/pyamg/gallery/stencil.py:110: FutureWarning: Using a non-tuple sequence for multidimensional indexing is deprecated; use `arr[tuple(seq)]` instead of `arr[seq]`. In the future this will be interpreted as an array index, `arr[np.array(seq)]`, which will result either in an error or a different result.\n",
      "  diag[s] = 0\n",
      "/home/user/anaconda3/envs/pytorch/lib/python3.7/site-packages/pyamg/gallery/stencil.py:114: FutureWarning: Using a non-tuple sequence for multidimensional indexing is deprecated; use `arr[tuple(seq)]` instead of `arr[seq]`. In the future this will be interpreted as an array index, `arr[np.array(seq)]`, which will result either in an error or a different result.\n",
      "  diag[s] = 0\n",
      "/home/user/anaconda3/envs/pytorch/lib/python3.7/site-packages/pyamg/gallery/stencil.py:110: FutureWarning: Using a non-tuple sequence for multidimensional indexing is deprecated; use `arr[tuple(seq)]` instead of `arr[seq]`. In the future this will be interpreted as an array index, `arr[np.array(seq)]`, which will result either in an error or a different result.\n",
      "  diag[s] = 0\n",
      "/home/user/anaconda3/envs/pytorch/lib/python3.7/site-packages/pyamg/gallery/stencil.py:114: FutureWarning: Using a non-tuple sequence for multidimensional indexing is deprecated; use `arr[tuple(seq)]` instead of `arr[seq]`. In the future this will be interpreted as an array index, `arr[np.array(seq)]`, which will result either in an error or a different result.\n",
      "  diag[s] = 0\n",
      "/home/user/anaconda3/envs/pytorch/lib/python3.7/site-packages/pyamg/gallery/stencil.py:110: FutureWarning: Using a non-tuple sequence for multidimensional indexing is deprecated; use `arr[tuple(seq)]` instead of `arr[seq]`. In the future this will be interpreted as an array index, `arr[np.array(seq)]`, which will result either in an error or a different result.\n",
      "  diag[s] = 0\n",
      "/home/user/anaconda3/envs/pytorch/lib/python3.7/site-packages/ipykernel_launcher.py:38: UserWarning: To copy construct from a tensor, it is recommended to use sourceTensor.clone().detach() or sourceTensor.clone().detach().requires_grad_(True), rather than torch.tensor(sourceTensor).\n",
      "/home/user/anaconda3/envs/pytorch/lib/python3.7/site-packages/pyamg/gallery/stencil.py:114: FutureWarning: Using a non-tuple sequence for multidimensional indexing is deprecated; use `arr[tuple(seq)]` instead of `arr[seq]`. In the future this will be interpreted as an array index, `arr[np.array(seq)]`, which will result either in an error or a different result.\n",
      "  diag[s] = 0\n",
      "/home/user/anaconda3/envs/pytorch/lib/python3.7/site-packages/pyamg/gallery/stencil.py:110: FutureWarning: Using a non-tuple sequence for multidimensional indexing is deprecated; use `arr[tuple(seq)]` instead of `arr[seq]`. In the future this will be interpreted as an array index, `arr[np.array(seq)]`, which will result either in an error or a different result.\n",
      "  diag[s] = 0\n"
     ]
    },
    {
     "name": "stdout",
     "output_type": "stream",
     "text": [
      "[0.0, 9.0, 6.0, 8.0, 6.0, 5.0, 2.0, 7.0, 3.0, 8.0, 10.0, 8.0, 6.0, 6.0, 3.0, 2.0, 4.0, 4.0, 5.0, 0.0, 1.0, 3.0, 1.0, 2.0, 2.0, 9.0, 2.0, 2.0, 1.0, 1.0, 4.0, 0.0, 1.0, 6.0, 2.0, 4.0, 1.0, 0.0, 6.0, 0.0, 1.0, 2.0, 0.0]\n",
      "[0.0, 9.0, 6.0, 8.0, 6.0, 5.0, 2.0, 7.0, 3.0, 8.0, 10.0, 8.0, 6.0, 6.0, 3.0, 2.0, 4.0, 4.0, 5.0, 0.0, 1.0, 3.0, 1.0, 2.0, 2.0, 10.0, 2.0, 2.0, 1.0, 1.0, 4.0, 0.0, 1.0, 6.0, 2.0, 4.0, 1.0, 0.0, 6.0, 0.0, 1.0, 2.0, 0.0]\n",
      "[0.0, 9.0, 6.0, 8.0, 6.0, 5.0, 2.0, 7.0, 3.0, 8.0, 10.0, 8.0, 6.0, 6.0, 3.0, 2.0, 4.0, 5.0, 5.0, 0.0, 1.0, 3.0, 1.0, 2.0, 2.0, 10.0, 2.0, 2.0, 1.0, 1.0, 4.0, 0.0, 1.0, 6.0, 2.0, 4.0, 1.0, 0.0, 6.0, 0.0, 1.0, 2.0, 0.0]\n",
      "[0.0, 9.0, 6.0, 9.0, 6.0, 5.0, 2.0, 7.0, 3.0, 8.0, 10.0, 8.0, 6.0, 6.0, 3.0, 2.0, 4.0, 5.0, 5.0, 0.0, 1.0, 3.0, 1.0, 2.0, 2.0, 10.0, 2.0, 2.0, 1.0, 1.0, 4.0, 0.0, 1.0, 6.0, 2.0, 4.0, 1.0, 0.0, 6.0, 0.0, 1.0, 2.0, 0.0]\n"
     ]
    },
    {
     "name": "stderr",
     "output_type": "stream",
     "text": [
      "/home/user/anaconda3/envs/pytorch/lib/python3.7/site-packages/pyamg/gallery/stencil.py:114: FutureWarning: Using a non-tuple sequence for multidimensional indexing is deprecated; use `arr[tuple(seq)]` instead of `arr[seq]`. In the future this will be interpreted as an array index, `arr[np.array(seq)]`, which will result either in an error or a different result.\n",
      "  diag[s] = 0\n",
      "/home/user/anaconda3/envs/pytorch/lib/python3.7/site-packages/pyamg/gallery/stencil.py:110: FutureWarning: Using a non-tuple sequence for multidimensional indexing is deprecated; use `arr[tuple(seq)]` instead of `arr[seq]`. In the future this will be interpreted as an array index, `arr[np.array(seq)]`, which will result either in an error or a different result.\n",
      "  diag[s] = 0\n",
      "/home/user/anaconda3/envs/pytorch/lib/python3.7/site-packages/pyamg/gallery/stencil.py:114: FutureWarning: Using a non-tuple sequence for multidimensional indexing is deprecated; use `arr[tuple(seq)]` instead of `arr[seq]`. In the future this will be interpreted as an array index, `arr[np.array(seq)]`, which will result either in an error or a different result.\n",
      "  diag[s] = 0\n",
      "/home/user/anaconda3/envs/pytorch/lib/python3.7/site-packages/pyamg/gallery/stencil.py:110: FutureWarning: Using a non-tuple sequence for multidimensional indexing is deprecated; use `arr[tuple(seq)]` instead of `arr[seq]`. In the future this will be interpreted as an array index, `arr[np.array(seq)]`, which will result either in an error or a different result.\n",
      "  diag[s] = 0\n",
      "/home/user/anaconda3/envs/pytorch/lib/python3.7/site-packages/pyamg/gallery/stencil.py:114: FutureWarning: Using a non-tuple sequence for multidimensional indexing is deprecated; use `arr[tuple(seq)]` instead of `arr[seq]`. In the future this will be interpreted as an array index, `arr[np.array(seq)]`, which will result either in an error or a different result.\n",
      "  diag[s] = 0\n",
      "/home/user/anaconda3/envs/pytorch/lib/python3.7/site-packages/pyamg/gallery/stencil.py:110: FutureWarning: Using a non-tuple sequence for multidimensional indexing is deprecated; use `arr[tuple(seq)]` instead of `arr[seq]`. In the future this will be interpreted as an array index, `arr[np.array(seq)]`, which will result either in an error or a different result.\n",
      "  diag[s] = 0\n"
     ]
    },
    {
     "name": "stdout",
     "output_type": "stream",
     "text": [
      "[0.0, 9.0, 6.0, 9.0, 6.0, 5.0, 3.0, 7.0, 3.0, 8.0, 10.0, 8.0, 6.0, 6.0, 3.0, 2.0, 4.0, 5.0, 5.0, 0.0, 1.0, 3.0, 1.0, 2.0, 2.0, 10.0, 2.0, 2.0, 1.0, 1.0, 4.0, 0.0, 1.0, 6.0, 2.0, 4.0, 1.0, 0.0, 6.0, 0.0, 1.0, 2.0, 0.0]\n",
      "[0.0, 9.0, 6.0, 9.0, 6.0, 5.0, 3.0, 7.0, 3.0, 9.0, 10.0, 8.0, 6.0, 6.0, 3.0, 2.0, 4.0, 5.0, 5.0, 0.0, 1.0, 3.0, 1.0, 2.0, 2.0, 10.0, 2.0, 2.0, 1.0, 1.0, 4.0, 0.0, 1.0, 6.0, 2.0, 4.0, 1.0, 0.0, 6.0, 0.0, 1.0, 2.0, 0.0]\n",
      "[0.0, 9.0, 6.0, 9.0, 6.0, 5.0, 3.0, 8.0, 3.0, 9.0, 10.0, 8.0, 6.0, 6.0, 3.0, 2.0, 4.0, 5.0, 5.0, 0.0, 1.0, 3.0, 1.0, 2.0, 2.0, 10.0, 2.0, 2.0, 1.0, 1.0, 4.0, 0.0, 1.0, 6.0, 2.0, 4.0, 1.0, 0.0, 6.0, 0.0, 1.0, 2.0, 0.0]\n",
      "[0.0, 9.0, 6.0, 9.0, 7.0, 5.0, 3.0, 8.0, 3.0, 9.0, 10.0, 8.0, 6.0, 6.0, 3.0, 2.0, 4.0, 5.0, 5.0, 0.0, 1.0, 3.0, 1.0, 2.0, 2.0, 10.0, 2.0, 2.0, 1.0, 1.0, 4.0, 0.0, 1.0, 6.0, 2.0, 4.0, 1.0, 0.0, 6.0, 0.0, 1.0, 2.0, 0.0]\n"
     ]
    },
    {
     "name": "stderr",
     "output_type": "stream",
     "text": [
      "/home/user/anaconda3/envs/pytorch/lib/python3.7/site-packages/ipykernel_launcher.py:38: UserWarning: To copy construct from a tensor, it is recommended to use sourceTensor.clone().detach() or sourceTensor.clone().detach().requires_grad_(True), rather than torch.tensor(sourceTensor).\n",
      "/home/user/anaconda3/envs/pytorch/lib/python3.7/site-packages/pyamg/gallery/stencil.py:114: FutureWarning: Using a non-tuple sequence for multidimensional indexing is deprecated; use `arr[tuple(seq)]` instead of `arr[seq]`. In the future this will be interpreted as an array index, `arr[np.array(seq)]`, which will result either in an error or a different result.\n",
      "  diag[s] = 0\n",
      "/home/user/anaconda3/envs/pytorch/lib/python3.7/site-packages/pyamg/gallery/stencil.py:110: FutureWarning: Using a non-tuple sequence for multidimensional indexing is deprecated; use `arr[tuple(seq)]` instead of `arr[seq]`. In the future this will be interpreted as an array index, `arr[np.array(seq)]`, which will result either in an error or a different result.\n",
      "  diag[s] = 0\n",
      "/home/user/anaconda3/envs/pytorch/lib/python3.7/site-packages/pyamg/gallery/stencil.py:114: FutureWarning: Using a non-tuple sequence for multidimensional indexing is deprecated; use `arr[tuple(seq)]` instead of `arr[seq]`. In the future this will be interpreted as an array index, `arr[np.array(seq)]`, which will result either in an error or a different result.\n",
      "  diag[s] = 0\n",
      "/home/user/anaconda3/envs/pytorch/lib/python3.7/site-packages/pyamg/gallery/stencil.py:110: FutureWarning: Using a non-tuple sequence for multidimensional indexing is deprecated; use `arr[tuple(seq)]` instead of `arr[seq]`. In the future this will be interpreted as an array index, `arr[np.array(seq)]`, which will result either in an error or a different result.\n",
      "  diag[s] = 0\n",
      "/home/user/anaconda3/envs/pytorch/lib/python3.7/site-packages/pyamg/gallery/stencil.py:114: FutureWarning: Using a non-tuple sequence for multidimensional indexing is deprecated; use `arr[tuple(seq)]` instead of `arr[seq]`. In the future this will be interpreted as an array index, `arr[np.array(seq)]`, which will result either in an error or a different result.\n",
      "  diag[s] = 0\n",
      "/home/user/anaconda3/envs/pytorch/lib/python3.7/site-packages/pyamg/gallery/stencil.py:110: FutureWarning: Using a non-tuple sequence for multidimensional indexing is deprecated; use `arr[tuple(seq)]` instead of `arr[seq]`. In the future this will be interpreted as an array index, `arr[np.array(seq)]`, which will result either in an error or a different result.\n",
      "  diag[s] = 0\n",
      "/home/user/anaconda3/envs/pytorch/lib/python3.7/site-packages/pyamg/gallery/stencil.py:114: FutureWarning: Using a non-tuple sequence for multidimensional indexing is deprecated; use `arr[tuple(seq)]` instead of `arr[seq]`. In the future this will be interpreted as an array index, `arr[np.array(seq)]`, which will result either in an error or a different result.\n",
      "  diag[s] = 0\n",
      "/home/user/anaconda3/envs/pytorch/lib/python3.7/site-packages/pyamg/gallery/stencil.py:110: FutureWarning: Using a non-tuple sequence for multidimensional indexing is deprecated; use `arr[tuple(seq)]` instead of `arr[seq]`. In the future this will be interpreted as an array index, `arr[np.array(seq)]`, which will result either in an error or a different result.\n",
      "  diag[s] = 0\n",
      "/home/user/anaconda3/envs/pytorch/lib/python3.7/site-packages/ipykernel_launcher.py:38: UserWarning: To copy construct from a tensor, it is recommended to use sourceTensor.clone().detach() or sourceTensor.clone().detach().requires_grad_(True), rather than torch.tensor(sourceTensor).\n"
     ]
    },
    {
     "name": "stdout",
     "output_type": "stream",
     "text": [
      "[0.0, 9.0, 6.0, 9.0, 7.0, 5.0, 3.0, 8.0, 3.0, 9.0, 10.0, 8.0, 6.0, 7.0, 3.0, 2.0, 4.0, 5.0, 5.0, 0.0, 1.0, 3.0, 1.0, 2.0, 2.0, 10.0, 2.0, 2.0, 1.0, 1.0, 4.0, 0.0, 1.0, 6.0, 2.0, 4.0, 1.0, 0.0, 6.0, 0.0, 1.0, 2.0, 0.0]\n",
      "[0.0, 9.0, 6.0, 9.0, 7.0, 5.0, 3.0, 8.0, 3.0, 9.0, 10.0, 8.0, 6.0, 7.0, 3.0, 2.0, 5.0, 5.0, 5.0, 0.0, 1.0, 3.0, 1.0, 2.0, 2.0, 10.0, 2.0, 2.0, 1.0, 1.0, 4.0, 0.0, 1.0, 6.0, 2.0, 4.0, 1.0, 0.0, 6.0, 0.0, 1.0, 2.0, 0.0]\n",
      "[0.0, 9.0, 6.0, 9.0, 8.0, 5.0, 3.0, 8.0, 3.0, 9.0, 10.0, 8.0, 6.0, 7.0, 3.0, 2.0, 5.0, 5.0, 5.0, 0.0, 1.0, 3.0, 1.0, 2.0, 2.0, 10.0, 2.0, 2.0, 1.0, 1.0, 4.0, 0.0, 1.0, 6.0, 2.0, 4.0, 1.0, 0.0, 6.0, 0.0, 1.0, 2.0, 0.0]\n",
      "[0.0, 9.0, 6.0, 9.0, 8.0, 5.0, 3.0, 8.0, 3.0, 9.0, 10.0, 8.0, 6.0, 7.0, 3.0, 2.0, 5.0, 5.0, 5.0, 0.0, 1.0, 3.0, 1.0, 2.0, 2.0, 11.0, 2.0, 2.0, 1.0, 1.0, 4.0, 0.0, 1.0, 6.0, 2.0, 4.0, 1.0, 0.0, 6.0, 0.0, 1.0, 2.0, 0.0]\n"
     ]
    },
    {
     "name": "stderr",
     "output_type": "stream",
     "text": [
      "/home/user/anaconda3/envs/pytorch/lib/python3.7/site-packages/pyamg/gallery/stencil.py:114: FutureWarning: Using a non-tuple sequence for multidimensional indexing is deprecated; use `arr[tuple(seq)]` instead of `arr[seq]`. In the future this will be interpreted as an array index, `arr[np.array(seq)]`, which will result either in an error or a different result.\n",
      "  diag[s] = 0\n",
      "/home/user/anaconda3/envs/pytorch/lib/python3.7/site-packages/pyamg/gallery/stencil.py:110: FutureWarning: Using a non-tuple sequence for multidimensional indexing is deprecated; use `arr[tuple(seq)]` instead of `arr[seq]`. In the future this will be interpreted as an array index, `arr[np.array(seq)]`, which will result either in an error or a different result.\n",
      "  diag[s] = 0\n",
      "/home/user/anaconda3/envs/pytorch/lib/python3.7/site-packages/pyamg/gallery/stencil.py:114: FutureWarning: Using a non-tuple sequence for multidimensional indexing is deprecated; use `arr[tuple(seq)]` instead of `arr[seq]`. In the future this will be interpreted as an array index, `arr[np.array(seq)]`, which will result either in an error or a different result.\n",
      "  diag[s] = 0\n",
      "/home/user/anaconda3/envs/pytorch/lib/python3.7/site-packages/pyamg/gallery/stencil.py:110: FutureWarning: Using a non-tuple sequence for multidimensional indexing is deprecated; use `arr[tuple(seq)]` instead of `arr[seq]`. In the future this will be interpreted as an array index, `arr[np.array(seq)]`, which will result either in an error or a different result.\n",
      "  diag[s] = 0\n",
      "/home/user/anaconda3/envs/pytorch/lib/python3.7/site-packages/pyamg/gallery/stencil.py:114: FutureWarning: Using a non-tuple sequence for multidimensional indexing is deprecated; use `arr[tuple(seq)]` instead of `arr[seq]`. In the future this will be interpreted as an array index, `arr[np.array(seq)]`, which will result either in an error or a different result.\n",
      "  diag[s] = 0\n",
      "/home/user/anaconda3/envs/pytorch/lib/python3.7/site-packages/pyamg/gallery/stencil.py:110: FutureWarning: Using a non-tuple sequence for multidimensional indexing is deprecated; use `arr[tuple(seq)]` instead of `arr[seq]`. In the future this will be interpreted as an array index, `arr[np.array(seq)]`, which will result either in an error or a different result.\n",
      "  diag[s] = 0\n",
      "/home/user/anaconda3/envs/pytorch/lib/python3.7/site-packages/pyamg/gallery/stencil.py:114: FutureWarning: Using a non-tuple sequence for multidimensional indexing is deprecated; use `arr[tuple(seq)]` instead of `arr[seq]`. In the future this will be interpreted as an array index, `arr[np.array(seq)]`, which will result either in an error or a different result.\n",
      "  diag[s] = 0\n",
      "/home/user/anaconda3/envs/pytorch/lib/python3.7/site-packages/pyamg/gallery/stencil.py:110: FutureWarning: Using a non-tuple sequence for multidimensional indexing is deprecated; use `arr[tuple(seq)]` instead of `arr[seq]`. In the future this will be interpreted as an array index, `arr[np.array(seq)]`, which will result either in an error or a different result.\n",
      "  diag[s] = 0\n",
      "/home/user/anaconda3/envs/pytorch/lib/python3.7/site-packages/ipykernel_launcher.py:38: UserWarning: To copy construct from a tensor, it is recommended to use sourceTensor.clone().detach() or sourceTensor.clone().detach().requires_grad_(True), rather than torch.tensor(sourceTensor).\n"
     ]
    },
    {
     "name": "stdout",
     "output_type": "stream",
     "text": [
      "[0.0, 9.0, 6.0, 9.0, 8.0, 5.0, 3.0, 8.0, 3.0, 9.0, 10.0, 8.0, 6.0, 7.0, 3.0, 2.0, 5.0, 5.0, 6.0, 0.0, 1.0, 3.0, 1.0, 2.0, 2.0, 11.0, 2.0, 2.0, 1.0, 1.0, 4.0, 0.0, 1.0, 6.0, 2.0, 4.0, 1.0, 0.0, 6.0, 0.0, 1.0, 2.0, 0.0]\n",
      "[0.0, 9.0, 6.0, 9.0, 8.0, 5.0, 3.0, 8.0, 3.0, 10.0, 10.0, 8.0, 6.0, 7.0, 3.0, 2.0, 5.0, 5.0, 6.0, 0.0, 1.0, 3.0, 1.0, 2.0, 2.0, 11.0, 2.0, 2.0, 1.0, 1.0, 4.0, 0.0, 1.0, 6.0, 2.0, 4.0, 1.0, 0.0, 6.0, 0.0, 1.0, 2.0, 0.0]\n",
      "[0.0, 9.0, 6.0, 9.0, 8.0, 5.0, 3.0, 8.0, 3.0, 10.0, 10.0, 8.0, 6.0, 8.0, 3.0, 2.0, 5.0, 5.0, 6.0, 0.0, 1.0, 3.0, 1.0, 2.0, 2.0, 11.0, 2.0, 2.0, 1.0, 1.0, 4.0, 0.0, 1.0, 6.0, 2.0, 4.0, 1.0, 0.0, 6.0, 0.0, 1.0, 2.0, 0.0]\n",
      "[0.0, 9.0, 6.0, 9.0, 8.0, 5.0, 3.0, 8.0, 3.0, 10.0, 10.0, 8.0, 6.0, 8.0, 4.0, 2.0, 5.0, 5.0, 6.0, 0.0, 1.0, 3.0, 1.0, 2.0, 2.0, 11.0, 2.0, 2.0, 1.0, 1.0, 4.0, 0.0, 1.0, 6.0, 2.0, 4.0, 1.0, 0.0, 6.0, 0.0, 1.0, 2.0, 0.0]\n"
     ]
    },
    {
     "name": "stderr",
     "output_type": "stream",
     "text": [
      "/home/user/anaconda3/envs/pytorch/lib/python3.7/site-packages/pyamg/gallery/stencil.py:114: FutureWarning: Using a non-tuple sequence for multidimensional indexing is deprecated; use `arr[tuple(seq)]` instead of `arr[seq]`. In the future this will be interpreted as an array index, `arr[np.array(seq)]`, which will result either in an error or a different result.\n",
      "  diag[s] = 0\n",
      "/home/user/anaconda3/envs/pytorch/lib/python3.7/site-packages/pyamg/gallery/stencil.py:110: FutureWarning: Using a non-tuple sequence for multidimensional indexing is deprecated; use `arr[tuple(seq)]` instead of `arr[seq]`. In the future this will be interpreted as an array index, `arr[np.array(seq)]`, which will result either in an error or a different result.\n",
      "  diag[s] = 0\n",
      "/home/user/anaconda3/envs/pytorch/lib/python3.7/site-packages/pyamg/gallery/stencil.py:114: FutureWarning: Using a non-tuple sequence for multidimensional indexing is deprecated; use `arr[tuple(seq)]` instead of `arr[seq]`. In the future this will be interpreted as an array index, `arr[np.array(seq)]`, which will result either in an error or a different result.\n",
      "  diag[s] = 0\n",
      "/home/user/anaconda3/envs/pytorch/lib/python3.7/site-packages/pyamg/gallery/stencil.py:110: FutureWarning: Using a non-tuple sequence for multidimensional indexing is deprecated; use `arr[tuple(seq)]` instead of `arr[seq]`. In the future this will be interpreted as an array index, `arr[np.array(seq)]`, which will result either in an error or a different result.\n",
      "  diag[s] = 0\n",
      "/home/user/anaconda3/envs/pytorch/lib/python3.7/site-packages/pyamg/gallery/stencil.py:114: FutureWarning: Using a non-tuple sequence for multidimensional indexing is deprecated; use `arr[tuple(seq)]` instead of `arr[seq]`. In the future this will be interpreted as an array index, `arr[np.array(seq)]`, which will result either in an error or a different result.\n",
      "  diag[s] = 0\n",
      "/home/user/anaconda3/envs/pytorch/lib/python3.7/site-packages/pyamg/gallery/stencil.py:110: FutureWarning: Using a non-tuple sequence for multidimensional indexing is deprecated; use `arr[tuple(seq)]` instead of `arr[seq]`. In the future this will be interpreted as an array index, `arr[np.array(seq)]`, which will result either in an error or a different result.\n",
      "  diag[s] = 0\n",
      "/home/user/anaconda3/envs/pytorch/lib/python3.7/site-packages/pyamg/gallery/stencil.py:114: FutureWarning: Using a non-tuple sequence for multidimensional indexing is deprecated; use `arr[tuple(seq)]` instead of `arr[seq]`. In the future this will be interpreted as an array index, `arr[np.array(seq)]`, which will result either in an error or a different result.\n",
      "  diag[s] = 0\n",
      "/home/user/anaconda3/envs/pytorch/lib/python3.7/site-packages/pyamg/gallery/stencil.py:110: FutureWarning: Using a non-tuple sequence for multidimensional indexing is deprecated; use `arr[tuple(seq)]` instead of `arr[seq]`. In the future this will be interpreted as an array index, `arr[np.array(seq)]`, which will result either in an error or a different result.\n",
      "  diag[s] = 0\n",
      "/home/user/anaconda3/envs/pytorch/lib/python3.7/site-packages/ipykernel_launcher.py:38: UserWarning: To copy construct from a tensor, it is recommended to use sourceTensor.clone().detach() or sourceTensor.clone().detach().requires_grad_(True), rather than torch.tensor(sourceTensor).\n",
      "/home/user/anaconda3/envs/pytorch/lib/python3.7/site-packages/pyamg/gallery/stencil.py:114: FutureWarning: Using a non-tuple sequence for multidimensional indexing is deprecated; use `arr[tuple(seq)]` instead of `arr[seq]`. In the future this will be interpreted as an array index, `arr[np.array(seq)]`, which will result either in an error or a different result.\n",
      "  diag[s] = 0\n",
      "/home/user/anaconda3/envs/pytorch/lib/python3.7/site-packages/pyamg/gallery/stencil.py:110: FutureWarning: Using a non-tuple sequence for multidimensional indexing is deprecated; use `arr[tuple(seq)]` instead of `arr[seq]`. In the future this will be interpreted as an array index, `arr[np.array(seq)]`, which will result either in an error or a different result.\n",
      "  diag[s] = 0\n"
     ]
    },
    {
     "name": "stdout",
     "output_type": "stream",
     "text": [
      "[0.0, 9.0, 6.0, 9.0, 8.0, 5.0, 3.0, 8.0, 3.0, 10.0, 10.0, 8.0, 6.0, 8.0, 4.0, 2.0, 5.0, 5.0, 6.0, 0.0, 1.0, 3.0, 1.0, 2.0, 2.0, 11.0, 2.0, 2.0, 1.0, 2.0, 4.0, 0.0, 1.0, 6.0, 2.0, 4.0, 1.0, 0.0, 6.0, 0.0, 1.0, 2.0, 0.0]\n",
      "[0.0, 9.0, 6.0, 9.0, 8.0, 5.0, 3.0, 8.0, 3.0, 10.0, 10.0, 8.0, 6.0, 8.0, 4.0, 2.0, 5.0, 6.0, 6.0, 0.0, 1.0, 3.0, 1.0, 2.0, 2.0, 11.0, 2.0, 2.0, 1.0, 2.0, 4.0, 0.0, 1.0, 6.0, 2.0, 4.0, 1.0, 0.0, 6.0, 0.0, 1.0, 2.0, 0.0]\n",
      "[0.0, 9.0, 6.0, 9.0, 8.0, 5.0, 3.0, 8.0, 3.0, 10.0, 10.0, 8.0, 6.0, 9.0, 4.0, 2.0, 5.0, 6.0, 6.0, 0.0, 1.0, 3.0, 1.0, 2.0, 2.0, 11.0, 2.0, 2.0, 1.0, 2.0, 4.0, 0.0, 1.0, 6.0, 2.0, 4.0, 1.0, 0.0, 6.0, 0.0, 1.0, 2.0, 0.0]\n",
      "[0.0, 9.0, 6.0, 9.0, 8.0, 5.0, 3.0, 8.0, 3.0, 10.0, 10.0, 8.0, 6.0, 9.0, 4.0, 2.0, 5.0, 6.0, 6.0, 0.0, 1.0, 3.0, 1.0, 2.0, 2.0, 11.0, 2.0, 2.0, 1.0, 2.0, 4.0, 0.0, 1.0, 6.0, 2.0, 4.0, 1.0, 0.0, 7.0, 0.0, 1.0, 2.0, 0.0]\n"
     ]
    },
    {
     "name": "stderr",
     "output_type": "stream",
     "text": [
      "/home/user/anaconda3/envs/pytorch/lib/python3.7/site-packages/pyamg/gallery/stencil.py:114: FutureWarning: Using a non-tuple sequence for multidimensional indexing is deprecated; use `arr[tuple(seq)]` instead of `arr[seq]`. In the future this will be interpreted as an array index, `arr[np.array(seq)]`, which will result either in an error or a different result.\n",
      "  diag[s] = 0\n",
      "/home/user/anaconda3/envs/pytorch/lib/python3.7/site-packages/pyamg/gallery/stencil.py:110: FutureWarning: Using a non-tuple sequence for multidimensional indexing is deprecated; use `arr[tuple(seq)]` instead of `arr[seq]`. In the future this will be interpreted as an array index, `arr[np.array(seq)]`, which will result either in an error or a different result.\n",
      "  diag[s] = 0\n",
      "/home/user/anaconda3/envs/pytorch/lib/python3.7/site-packages/pyamg/gallery/stencil.py:114: FutureWarning: Using a non-tuple sequence for multidimensional indexing is deprecated; use `arr[tuple(seq)]` instead of `arr[seq]`. In the future this will be interpreted as an array index, `arr[np.array(seq)]`, which will result either in an error or a different result.\n",
      "  diag[s] = 0\n",
      "/home/user/anaconda3/envs/pytorch/lib/python3.7/site-packages/pyamg/gallery/stencil.py:110: FutureWarning: Using a non-tuple sequence for multidimensional indexing is deprecated; use `arr[tuple(seq)]` instead of `arr[seq]`. In the future this will be interpreted as an array index, `arr[np.array(seq)]`, which will result either in an error or a different result.\n",
      "  diag[s] = 0\n",
      "/home/user/anaconda3/envs/pytorch/lib/python3.7/site-packages/pyamg/gallery/stencil.py:114: FutureWarning: Using a non-tuple sequence for multidimensional indexing is deprecated; use `arr[tuple(seq)]` instead of `arr[seq]`. In the future this will be interpreted as an array index, `arr[np.array(seq)]`, which will result either in an error or a different result.\n",
      "  diag[s] = 0\n",
      "/home/user/anaconda3/envs/pytorch/lib/python3.7/site-packages/pyamg/gallery/stencil.py:110: FutureWarning: Using a non-tuple sequence for multidimensional indexing is deprecated; use `arr[tuple(seq)]` instead of `arr[seq]`. In the future this will be interpreted as an array index, `arr[np.array(seq)]`, which will result either in an error or a different result.\n",
      "  diag[s] = 0\n"
     ]
    },
    {
     "name": "stdout",
     "output_type": "stream",
     "text": [
      "[0.0, 9.0, 6.0, 9.0, 8.0, 5.0, 3.0, 8.0, 3.0, 10.0, 10.0, 8.0, 6.0, 9.0, 4.0, 2.0, 5.0, 6.0, 6.0, 0.0, 1.0, 3.0, 1.0, 2.0, 2.0, 11.0, 3.0, 2.0, 1.0, 2.0, 4.0, 0.0, 1.0, 6.0, 2.0, 4.0, 1.0, 0.0, 7.0, 0.0, 1.0, 2.0, 0.0]\n",
      "[0.0, 9.0, 6.0, 9.0, 8.0, 5.0, 3.0, 8.0, 3.0, 10.0, 10.0, 8.0, 6.0, 9.0, 4.0, 2.0, 5.0, 6.0, 6.0, 0.0, 1.0, 3.0, 1.0, 2.0, 2.0, 12.0, 3.0, 2.0, 1.0, 2.0, 4.0, 0.0, 1.0, 6.0, 2.0, 4.0, 1.0, 0.0, 7.0, 0.0, 1.0, 2.0, 0.0]\n",
      "[0.0, 9.0, 6.0, 9.0, 8.0, 5.0, 3.0, 8.0, 3.0, 10.0, 10.0, 8.0, 6.0, 9.0, 4.0, 2.0, 5.0, 6.0, 6.0, 0.0, 1.0, 3.0, 1.0, 2.0, 2.0, 12.0, 3.0, 2.0, 1.0, 2.0, 4.0, 0.0, 1.0, 7.0, 2.0, 4.0, 1.0, 0.0, 7.0, 0.0, 1.0, 2.0, 0.0]\n",
      "[0.0, 10.0, 6.0, 9.0, 8.0, 5.0, 3.0, 8.0, 3.0, 10.0, 10.0, 8.0, 6.0, 9.0, 4.0, 2.0, 5.0, 6.0, 6.0, 0.0, 1.0, 3.0, 1.0, 2.0, 2.0, 12.0, 3.0, 2.0, 1.0, 2.0, 4.0, 0.0, 1.0, 7.0, 2.0, 4.0, 1.0, 0.0, 7.0, 0.0, 1.0, 2.0, 0.0]\n"
     ]
    },
    {
     "name": "stderr",
     "output_type": "stream",
     "text": [
      "/home/user/anaconda3/envs/pytorch/lib/python3.7/site-packages/ipykernel_launcher.py:38: UserWarning: To copy construct from a tensor, it is recommended to use sourceTensor.clone().detach() or sourceTensor.clone().detach().requires_grad_(True), rather than torch.tensor(sourceTensor).\n",
      "/home/user/anaconda3/envs/pytorch/lib/python3.7/site-packages/pyamg/gallery/stencil.py:114: FutureWarning: Using a non-tuple sequence for multidimensional indexing is deprecated; use `arr[tuple(seq)]` instead of `arr[seq]`. In the future this will be interpreted as an array index, `arr[np.array(seq)]`, which will result either in an error or a different result.\n",
      "  diag[s] = 0\n",
      "/home/user/anaconda3/envs/pytorch/lib/python3.7/site-packages/pyamg/gallery/stencil.py:110: FutureWarning: Using a non-tuple sequence for multidimensional indexing is deprecated; use `arr[tuple(seq)]` instead of `arr[seq]`. In the future this will be interpreted as an array index, `arr[np.array(seq)]`, which will result either in an error or a different result.\n",
      "  diag[s] = 0\n",
      "/home/user/anaconda3/envs/pytorch/lib/python3.7/site-packages/pyamg/gallery/stencil.py:114: FutureWarning: Using a non-tuple sequence for multidimensional indexing is deprecated; use `arr[tuple(seq)]` instead of `arr[seq]`. In the future this will be interpreted as an array index, `arr[np.array(seq)]`, which will result either in an error or a different result.\n",
      "  diag[s] = 0\n",
      "/home/user/anaconda3/envs/pytorch/lib/python3.7/site-packages/pyamg/gallery/stencil.py:110: FutureWarning: Using a non-tuple sequence for multidimensional indexing is deprecated; use `arr[tuple(seq)]` instead of `arr[seq]`. In the future this will be interpreted as an array index, `arr[np.array(seq)]`, which will result either in an error or a different result.\n",
      "  diag[s] = 0\n",
      "/home/user/anaconda3/envs/pytorch/lib/python3.7/site-packages/pyamg/gallery/stencil.py:114: FutureWarning: Using a non-tuple sequence for multidimensional indexing is deprecated; use `arr[tuple(seq)]` instead of `arr[seq]`. In the future this will be interpreted as an array index, `arr[np.array(seq)]`, which will result either in an error or a different result.\n",
      "  diag[s] = 0\n",
      "/home/user/anaconda3/envs/pytorch/lib/python3.7/site-packages/pyamg/gallery/stencil.py:110: FutureWarning: Using a non-tuple sequence for multidimensional indexing is deprecated; use `arr[tuple(seq)]` instead of `arr[seq]`. In the future this will be interpreted as an array index, `arr[np.array(seq)]`, which will result either in an error or a different result.\n",
      "  diag[s] = 0\n",
      "/home/user/anaconda3/envs/pytorch/lib/python3.7/site-packages/pyamg/gallery/stencil.py:114: FutureWarning: Using a non-tuple sequence for multidimensional indexing is deprecated; use `arr[tuple(seq)]` instead of `arr[seq]`. In the future this will be interpreted as an array index, `arr[np.array(seq)]`, which will result either in an error or a different result.\n",
      "  diag[s] = 0\n",
      "/home/user/anaconda3/envs/pytorch/lib/python3.7/site-packages/pyamg/gallery/stencil.py:110: FutureWarning: Using a non-tuple sequence for multidimensional indexing is deprecated; use `arr[tuple(seq)]` instead of `arr[seq]`. In the future this will be interpreted as an array index, `arr[np.array(seq)]`, which will result either in an error or a different result.\n",
      "  diag[s] = 0\n",
      "/home/user/anaconda3/envs/pytorch/lib/python3.7/site-packages/ipykernel_launcher.py:38: UserWarning: To copy construct from a tensor, it is recommended to use sourceTensor.clone().detach() or sourceTensor.clone().detach().requires_grad_(True), rather than torch.tensor(sourceTensor).\n"
     ]
    },
    {
     "name": "stdout",
     "output_type": "stream",
     "text": [
      "[0.0, 10.0, 6.0, 10.0, 8.0, 5.0, 3.0, 8.0, 3.0, 10.0, 10.0, 8.0, 6.0, 9.0, 4.0, 2.0, 5.0, 6.0, 6.0, 0.0, 1.0, 3.0, 1.0, 2.0, 2.0, 12.0, 3.0, 2.0, 1.0, 2.0, 4.0, 0.0, 1.0, 7.0, 2.0, 4.0, 1.0, 0.0, 7.0, 0.0, 1.0, 2.0, 0.0]\n",
      "[0.0, 10.0, 6.0, 10.0, 8.0, 5.0, 3.0, 8.0, 3.0, 10.0, 10.0, 8.0, 6.0, 9.0, 4.0, 2.0, 5.0, 6.0, 6.0, 0.0, 1.0, 3.0, 1.0, 2.0, 2.0, 12.0, 3.0, 2.0, 1.0, 2.0, 4.0, 0.0, 1.0, 7.0, 2.0, 4.0, 1.0, 0.0, 7.0, 0.0, 2.0, 2.0, 0.0]\n",
      "[0.0, 10.0, 6.0, 10.0, 8.0, 5.0, 3.0, 8.0, 3.0, 10.0, 10.0, 8.0, 6.0, 10.0, 4.0, 2.0, 5.0, 6.0, 6.0, 0.0, 1.0, 3.0, 1.0, 2.0, 2.0, 12.0, 3.0, 2.0, 1.0, 2.0, 4.0, 0.0, 1.0, 7.0, 2.0, 4.0, 1.0, 0.0, 7.0, 0.0, 2.0, 2.0, 0.0]\n",
      "[0.0, 10.0, 7.0, 10.0, 8.0, 5.0, 3.0, 8.0, 3.0, 10.0, 10.0, 8.0, 6.0, 10.0, 4.0, 2.0, 5.0, 6.0, 6.0, 0.0, 1.0, 3.0, 1.0, 2.0, 2.0, 12.0, 3.0, 2.0, 1.0, 2.0, 4.0, 0.0, 1.0, 7.0, 2.0, 4.0, 1.0, 0.0, 7.0, 0.0, 2.0, 2.0, 0.0]\n"
     ]
    },
    {
     "name": "stderr",
     "output_type": "stream",
     "text": [
      "/home/user/anaconda3/envs/pytorch/lib/python3.7/site-packages/pyamg/gallery/stencil.py:114: FutureWarning: Using a non-tuple sequence for multidimensional indexing is deprecated; use `arr[tuple(seq)]` instead of `arr[seq]`. In the future this will be interpreted as an array index, `arr[np.array(seq)]`, which will result either in an error or a different result.\n",
      "  diag[s] = 0\n",
      "/home/user/anaconda3/envs/pytorch/lib/python3.7/site-packages/pyamg/gallery/stencil.py:110: FutureWarning: Using a non-tuple sequence for multidimensional indexing is deprecated; use `arr[tuple(seq)]` instead of `arr[seq]`. In the future this will be interpreted as an array index, `arr[np.array(seq)]`, which will result either in an error or a different result.\n",
      "  diag[s] = 0\n",
      "/home/user/anaconda3/envs/pytorch/lib/python3.7/site-packages/pyamg/gallery/stencil.py:114: FutureWarning: Using a non-tuple sequence for multidimensional indexing is deprecated; use `arr[tuple(seq)]` instead of `arr[seq]`. In the future this will be interpreted as an array index, `arr[np.array(seq)]`, which will result either in an error or a different result.\n",
      "  diag[s] = 0\n",
      "/home/user/anaconda3/envs/pytorch/lib/python3.7/site-packages/pyamg/gallery/stencil.py:110: FutureWarning: Using a non-tuple sequence for multidimensional indexing is deprecated; use `arr[tuple(seq)]` instead of `arr[seq]`. In the future this will be interpreted as an array index, `arr[np.array(seq)]`, which will result either in an error or a different result.\n",
      "  diag[s] = 0\n",
      "/home/user/anaconda3/envs/pytorch/lib/python3.7/site-packages/pyamg/gallery/stencil.py:114: FutureWarning: Using a non-tuple sequence for multidimensional indexing is deprecated; use `arr[tuple(seq)]` instead of `arr[seq]`. In the future this will be interpreted as an array index, `arr[np.array(seq)]`, which will result either in an error or a different result.\n",
      "  diag[s] = 0\n",
      "/home/user/anaconda3/envs/pytorch/lib/python3.7/site-packages/pyamg/gallery/stencil.py:110: FutureWarning: Using a non-tuple sequence for multidimensional indexing is deprecated; use `arr[tuple(seq)]` instead of `arr[seq]`. In the future this will be interpreted as an array index, `arr[np.array(seq)]`, which will result either in an error or a different result.\n",
      "  diag[s] = 0\n",
      "/home/user/anaconda3/envs/pytorch/lib/python3.7/site-packages/pyamg/gallery/stencil.py:114: FutureWarning: Using a non-tuple sequence for multidimensional indexing is deprecated; use `arr[tuple(seq)]` instead of `arr[seq]`. In the future this will be interpreted as an array index, `arr[np.array(seq)]`, which will result either in an error or a different result.\n",
      "  diag[s] = 0\n",
      "/home/user/anaconda3/envs/pytorch/lib/python3.7/site-packages/pyamg/gallery/stencil.py:110: FutureWarning: Using a non-tuple sequence for multidimensional indexing is deprecated; use `arr[tuple(seq)]` instead of `arr[seq]`. In the future this will be interpreted as an array index, `arr[np.array(seq)]`, which will result either in an error or a different result.\n",
      "  diag[s] = 0\n",
      "/home/user/anaconda3/envs/pytorch/lib/python3.7/site-packages/ipykernel_launcher.py:38: UserWarning: To copy construct from a tensor, it is recommended to use sourceTensor.clone().detach() or sourceTensor.clone().detach().requires_grad_(True), rather than torch.tensor(sourceTensor).\n",
      "/home/user/anaconda3/envs/pytorch/lib/python3.7/site-packages/pyamg/gallery/stencil.py:114: FutureWarning: Using a non-tuple sequence for multidimensional indexing is deprecated; use `arr[tuple(seq)]` instead of `arr[seq]`. In the future this will be interpreted as an array index, `arr[np.array(seq)]`, which will result either in an error or a different result.\n",
      "  diag[s] = 0\n",
      "/home/user/anaconda3/envs/pytorch/lib/python3.7/site-packages/pyamg/gallery/stencil.py:110: FutureWarning: Using a non-tuple sequence for multidimensional indexing is deprecated; use `arr[tuple(seq)]` instead of `arr[seq]`. In the future this will be interpreted as an array index, `arr[np.array(seq)]`, which will result either in an error or a different result.\n",
      "  diag[s] = 0\n"
     ]
    },
    {
     "name": "stdout",
     "output_type": "stream",
     "text": [
      "[0.0, 10.0, 7.0, 10.0, 8.0, 5.0, 3.0, 8.0, 4.0, 10.0, 10.0, 8.0, 6.0, 10.0, 4.0, 2.0, 5.0, 6.0, 6.0, 0.0, 1.0, 3.0, 1.0, 2.0, 2.0, 12.0, 3.0, 2.0, 1.0, 2.0, 4.0, 0.0, 1.0, 7.0, 2.0, 4.0, 1.0, 0.0, 7.0, 0.0, 2.0, 2.0, 0.0]\n",
      "[0.0, 10.0, 7.0, 10.0, 9.0, 5.0, 3.0, 8.0, 4.0, 10.0, 10.0, 8.0, 6.0, 10.0, 4.0, 2.0, 5.0, 6.0, 6.0, 0.0, 1.0, 3.0, 1.0, 2.0, 2.0, 12.0, 3.0, 2.0, 1.0, 2.0, 4.0, 0.0, 1.0, 7.0, 2.0, 4.0, 1.0, 0.0, 7.0, 0.0, 2.0, 2.0, 0.0]\n",
      "[0.0, 10.0, 7.0, 10.0, 9.0, 5.0, 3.0, 8.0, 4.0, 10.0, 10.0, 8.0, 6.0, 10.0, 4.0, 2.0, 5.0, 6.0, 6.0, 0.0, 1.0, 3.0, 1.0, 2.0, 2.0, 12.0, 3.0, 2.0, 1.0, 2.0, 4.0, 0.0, 1.0, 7.0, 2.0, 4.0, 2.0, 0.0, 7.0, 0.0, 2.0, 2.0, 0.0]\n",
      "[0.0, 10.0, 7.0, 10.0, 9.0, 5.0, 3.0, 8.0, 4.0, 10.0, 10.0, 8.0, 6.0, 10.0, 4.0, 2.0, 5.0, 6.0, 6.0, 0.0, 1.0, 3.0, 1.0, 2.0, 2.0, 13.0, 3.0, 2.0, 1.0, 2.0, 4.0, 0.0, 1.0, 7.0, 2.0, 4.0, 2.0, 0.0, 7.0, 0.0, 2.0, 2.0, 0.0]\n"
     ]
    },
    {
     "name": "stderr",
     "output_type": "stream",
     "text": [
      "/home/user/anaconda3/envs/pytorch/lib/python3.7/site-packages/pyamg/gallery/stencil.py:114: FutureWarning: Using a non-tuple sequence for multidimensional indexing is deprecated; use `arr[tuple(seq)]` instead of `arr[seq]`. In the future this will be interpreted as an array index, `arr[np.array(seq)]`, which will result either in an error or a different result.\n",
      "  diag[s] = 0\n",
      "/home/user/anaconda3/envs/pytorch/lib/python3.7/site-packages/pyamg/gallery/stencil.py:110: FutureWarning: Using a non-tuple sequence for multidimensional indexing is deprecated; use `arr[tuple(seq)]` instead of `arr[seq]`. In the future this will be interpreted as an array index, `arr[np.array(seq)]`, which will result either in an error or a different result.\n",
      "  diag[s] = 0\n",
      "/home/user/anaconda3/envs/pytorch/lib/python3.7/site-packages/pyamg/gallery/stencil.py:114: FutureWarning: Using a non-tuple sequence for multidimensional indexing is deprecated; use `arr[tuple(seq)]` instead of `arr[seq]`. In the future this will be interpreted as an array index, `arr[np.array(seq)]`, which will result either in an error or a different result.\n",
      "  diag[s] = 0\n",
      "/home/user/anaconda3/envs/pytorch/lib/python3.7/site-packages/pyamg/gallery/stencil.py:110: FutureWarning: Using a non-tuple sequence for multidimensional indexing is deprecated; use `arr[tuple(seq)]` instead of `arr[seq]`. In the future this will be interpreted as an array index, `arr[np.array(seq)]`, which will result either in an error or a different result.\n",
      "  diag[s] = 0\n",
      "/home/user/anaconda3/envs/pytorch/lib/python3.7/site-packages/pyamg/gallery/stencil.py:114: FutureWarning: Using a non-tuple sequence for multidimensional indexing is deprecated; use `arr[tuple(seq)]` instead of `arr[seq]`. In the future this will be interpreted as an array index, `arr[np.array(seq)]`, which will result either in an error or a different result.\n",
      "  diag[s] = 0\n",
      "/home/user/anaconda3/envs/pytorch/lib/python3.7/site-packages/pyamg/gallery/stencil.py:110: FutureWarning: Using a non-tuple sequence for multidimensional indexing is deprecated; use `arr[tuple(seq)]` instead of `arr[seq]`. In the future this will be interpreted as an array index, `arr[np.array(seq)]`, which will result either in an error or a different result.\n",
      "  diag[s] = 0\n"
     ]
    },
    {
     "name": "stdout",
     "output_type": "stream",
     "text": [
      "[0.0, 10.0, 7.0, 10.0, 9.0, 5.0, 3.0, 8.0, 4.0, 10.0, 10.0, 8.0, 6.0, 10.0, 4.0, 2.0, 5.0, 6.0, 6.0, 0.0, 2.0, 3.0, 1.0, 2.0, 2.0, 13.0, 3.0, 2.0, 1.0, 2.0, 4.0, 0.0, 1.0, 7.0, 2.0, 4.0, 2.0, 0.0, 7.0, 0.0, 2.0, 2.0, 0.0]\n",
      "[0.0, 10.0, 7.0, 10.0, 9.0, 5.0, 3.0, 8.0, 4.0, 10.0, 10.0, 8.0, 6.0, 10.0, 4.0, 2.0, 5.0, 6.0, 6.0, 0.0, 2.0, 3.0, 1.0, 2.0, 2.0, 14.0, 3.0, 2.0, 1.0, 2.0, 4.0, 0.0, 1.0, 7.0, 2.0, 4.0, 2.0, 0.0, 7.0, 0.0, 2.0, 2.0, 0.0]\n",
      "[0.0, 10.0, 7.0, 10.0, 9.0, 5.0, 3.0, 8.0, 4.0, 10.0, 10.0, 8.0, 6.0, 10.0, 4.0, 2.0, 5.0, 6.0, 7.0, 0.0, 2.0, 3.0, 1.0, 2.0, 2.0, 14.0, 3.0, 2.0, 1.0, 2.0, 4.0, 0.0, 1.0, 7.0, 2.0, 4.0, 2.0, 0.0, 7.0, 0.0, 2.0, 2.0, 0.0]\n",
      "[0.0, 11.0, 7.0, 10.0, 9.0, 5.0, 3.0, 8.0, 4.0, 10.0, 10.0, 8.0, 6.0, 10.0, 4.0, 2.0, 5.0, 6.0, 7.0, 0.0, 2.0, 3.0, 1.0, 2.0, 2.0, 14.0, 3.0, 2.0, 1.0, 2.0, 4.0, 0.0, 1.0, 7.0, 2.0, 4.0, 2.0, 0.0, 7.0, 0.0, 2.0, 2.0, 0.0]\n"
     ]
    },
    {
     "name": "stderr",
     "output_type": "stream",
     "text": [
      "/home/user/anaconda3/envs/pytorch/lib/python3.7/site-packages/ipykernel_launcher.py:38: UserWarning: To copy construct from a tensor, it is recommended to use sourceTensor.clone().detach() or sourceTensor.clone().detach().requires_grad_(True), rather than torch.tensor(sourceTensor).\n",
      "/home/user/anaconda3/envs/pytorch/lib/python3.7/site-packages/pyamg/gallery/stencil.py:114: FutureWarning: Using a non-tuple sequence for multidimensional indexing is deprecated; use `arr[tuple(seq)]` instead of `arr[seq]`. In the future this will be interpreted as an array index, `arr[np.array(seq)]`, which will result either in an error or a different result.\n",
      "  diag[s] = 0\n",
      "/home/user/anaconda3/envs/pytorch/lib/python3.7/site-packages/pyamg/gallery/stencil.py:110: FutureWarning: Using a non-tuple sequence for multidimensional indexing is deprecated; use `arr[tuple(seq)]` instead of `arr[seq]`. In the future this will be interpreted as an array index, `arr[np.array(seq)]`, which will result either in an error or a different result.\n",
      "  diag[s] = 0\n",
      "/home/user/anaconda3/envs/pytorch/lib/python3.7/site-packages/pyamg/gallery/stencil.py:114: FutureWarning: Using a non-tuple sequence for multidimensional indexing is deprecated; use `arr[tuple(seq)]` instead of `arr[seq]`. In the future this will be interpreted as an array index, `arr[np.array(seq)]`, which will result either in an error or a different result.\n",
      "  diag[s] = 0\n",
      "/home/user/anaconda3/envs/pytorch/lib/python3.7/site-packages/pyamg/gallery/stencil.py:110: FutureWarning: Using a non-tuple sequence for multidimensional indexing is deprecated; use `arr[tuple(seq)]` instead of `arr[seq]`. In the future this will be interpreted as an array index, `arr[np.array(seq)]`, which will result either in an error or a different result.\n",
      "  diag[s] = 0\n",
      "/home/user/anaconda3/envs/pytorch/lib/python3.7/site-packages/pyamg/gallery/stencil.py:114: FutureWarning: Using a non-tuple sequence for multidimensional indexing is deprecated; use `arr[tuple(seq)]` instead of `arr[seq]`. In the future this will be interpreted as an array index, `arr[np.array(seq)]`, which will result either in an error or a different result.\n",
      "  diag[s] = 0\n",
      "/home/user/anaconda3/envs/pytorch/lib/python3.7/site-packages/pyamg/gallery/stencil.py:110: FutureWarning: Using a non-tuple sequence for multidimensional indexing is deprecated; use `arr[tuple(seq)]` instead of `arr[seq]`. In the future this will be interpreted as an array index, `arr[np.array(seq)]`, which will result either in an error or a different result.\n",
      "  diag[s] = 0\n",
      "/home/user/anaconda3/envs/pytorch/lib/python3.7/site-packages/pyamg/gallery/stencil.py:114: FutureWarning: Using a non-tuple sequence for multidimensional indexing is deprecated; use `arr[tuple(seq)]` instead of `arr[seq]`. In the future this will be interpreted as an array index, `arr[np.array(seq)]`, which will result either in an error or a different result.\n",
      "  diag[s] = 0\n",
      "/home/user/anaconda3/envs/pytorch/lib/python3.7/site-packages/pyamg/gallery/stencil.py:110: FutureWarning: Using a non-tuple sequence for multidimensional indexing is deprecated; use `arr[tuple(seq)]` instead of `arr[seq]`. In the future this will be interpreted as an array index, `arr[np.array(seq)]`, which will result either in an error or a different result.\n",
      "  diag[s] = 0\n",
      "/home/user/anaconda3/envs/pytorch/lib/python3.7/site-packages/ipykernel_launcher.py:38: UserWarning: To copy construct from a tensor, it is recommended to use sourceTensor.clone().detach() or sourceTensor.clone().detach().requires_grad_(True), rather than torch.tensor(sourceTensor).\n"
     ]
    },
    {
     "name": "stdout",
     "output_type": "stream",
     "text": [
      "[0.0, 11.0, 7.0, 10.0, 9.0, 5.0, 3.0, 8.0, 4.0, 10.0, 11.0, 8.0, 6.0, 10.0, 4.0, 2.0, 5.0, 6.0, 7.0, 0.0, 2.0, 3.0, 1.0, 2.0, 2.0, 14.0, 3.0, 2.0, 1.0, 2.0, 4.0, 0.0, 1.0, 7.0, 2.0, 4.0, 2.0, 0.0, 7.0, 0.0, 2.0, 2.0, 0.0]\n",
      "[0.0, 11.0, 7.0, 10.0, 9.0, 5.0, 3.0, 8.0, 5.0, 10.0, 11.0, 8.0, 6.0, 10.0, 4.0, 2.0, 5.0, 6.0, 7.0, 0.0, 2.0, 3.0, 1.0, 2.0, 2.0, 14.0, 3.0, 2.0, 1.0, 2.0, 4.0, 0.0, 1.0, 7.0, 2.0, 4.0, 2.0, 0.0, 7.0, 0.0, 2.0, 2.0, 0.0]\n",
      "[0.0, 11.0, 7.0, 10.0, 9.0, 5.0, 3.0, 8.0, 5.0, 10.0, 12.0, 8.0, 6.0, 10.0, 4.0, 2.0, 5.0, 6.0, 7.0, 0.0, 2.0, 3.0, 1.0, 2.0, 2.0, 14.0, 3.0, 2.0, 1.0, 2.0, 4.0, 0.0, 1.0, 7.0, 2.0, 4.0, 2.0, 0.0, 7.0, 0.0, 2.0, 2.0, 0.0]\n",
      "[0.0, 11.0, 7.0, 10.0, 9.0, 5.0, 3.0, 8.0, 5.0, 10.0, 12.0, 8.0, 6.0, 10.0, 4.0, 2.0, 5.0, 6.0, 7.0, 0.0, 2.0, 3.0, 1.0, 2.0, 2.0, 14.0, 3.0, 2.0, 1.0, 3.0, 4.0, 0.0, 1.0, 7.0, 2.0, 4.0, 2.0, 0.0, 7.0, 0.0, 2.0, 2.0, 0.0]\n"
     ]
    },
    {
     "name": "stderr",
     "output_type": "stream",
     "text": [
      "/home/user/anaconda3/envs/pytorch/lib/python3.7/site-packages/pyamg/gallery/stencil.py:114: FutureWarning: Using a non-tuple sequence for multidimensional indexing is deprecated; use `arr[tuple(seq)]` instead of `arr[seq]`. In the future this will be interpreted as an array index, `arr[np.array(seq)]`, which will result either in an error or a different result.\n",
      "  diag[s] = 0\n",
      "/home/user/anaconda3/envs/pytorch/lib/python3.7/site-packages/pyamg/gallery/stencil.py:110: FutureWarning: Using a non-tuple sequence for multidimensional indexing is deprecated; use `arr[tuple(seq)]` instead of `arr[seq]`. In the future this will be interpreted as an array index, `arr[np.array(seq)]`, which will result either in an error or a different result.\n",
      "  diag[s] = 0\n",
      "/home/user/anaconda3/envs/pytorch/lib/python3.7/site-packages/pyamg/gallery/stencil.py:114: FutureWarning: Using a non-tuple sequence for multidimensional indexing is deprecated; use `arr[tuple(seq)]` instead of `arr[seq]`. In the future this will be interpreted as an array index, `arr[np.array(seq)]`, which will result either in an error or a different result.\n",
      "  diag[s] = 0\n",
      "/home/user/anaconda3/envs/pytorch/lib/python3.7/site-packages/pyamg/gallery/stencil.py:110: FutureWarning: Using a non-tuple sequence for multidimensional indexing is deprecated; use `arr[tuple(seq)]` instead of `arr[seq]`. In the future this will be interpreted as an array index, `arr[np.array(seq)]`, which will result either in an error or a different result.\n",
      "  diag[s] = 0\n",
      "/home/user/anaconda3/envs/pytorch/lib/python3.7/site-packages/pyamg/gallery/stencil.py:114: FutureWarning: Using a non-tuple sequence for multidimensional indexing is deprecated; use `arr[tuple(seq)]` instead of `arr[seq]`. In the future this will be interpreted as an array index, `arr[np.array(seq)]`, which will result either in an error or a different result.\n",
      "  diag[s] = 0\n",
      "/home/user/anaconda3/envs/pytorch/lib/python3.7/site-packages/pyamg/gallery/stencil.py:110: FutureWarning: Using a non-tuple sequence for multidimensional indexing is deprecated; use `arr[tuple(seq)]` instead of `arr[seq]`. In the future this will be interpreted as an array index, `arr[np.array(seq)]`, which will result either in an error or a different result.\n",
      "  diag[s] = 0\n",
      "/home/user/anaconda3/envs/pytorch/lib/python3.7/site-packages/pyamg/gallery/stencil.py:114: FutureWarning: Using a non-tuple sequence for multidimensional indexing is deprecated; use `arr[tuple(seq)]` instead of `arr[seq]`. In the future this will be interpreted as an array index, `arr[np.array(seq)]`, which will result either in an error or a different result.\n",
      "  diag[s] = 0\n",
      "/home/user/anaconda3/envs/pytorch/lib/python3.7/site-packages/pyamg/gallery/stencil.py:110: FutureWarning: Using a non-tuple sequence for multidimensional indexing is deprecated; use `arr[tuple(seq)]` instead of `arr[seq]`. In the future this will be interpreted as an array index, `arr[np.array(seq)]`, which will result either in an error or a different result.\n",
      "  diag[s] = 0\n",
      "/home/user/anaconda3/envs/pytorch/lib/python3.7/site-packages/ipykernel_launcher.py:38: UserWarning: To copy construct from a tensor, it is recommended to use sourceTensor.clone().detach() or sourceTensor.clone().detach().requires_grad_(True), rather than torch.tensor(sourceTensor).\n",
      "/home/user/anaconda3/envs/pytorch/lib/python3.7/site-packages/pyamg/gallery/stencil.py:114: FutureWarning: Using a non-tuple sequence for multidimensional indexing is deprecated; use `arr[tuple(seq)]` instead of `arr[seq]`. In the future this will be interpreted as an array index, `arr[np.array(seq)]`, which will result either in an error or a different result.\n",
      "  diag[s] = 0\n",
      "/home/user/anaconda3/envs/pytorch/lib/python3.7/site-packages/pyamg/gallery/stencil.py:110: FutureWarning: Using a non-tuple sequence for multidimensional indexing is deprecated; use `arr[tuple(seq)]` instead of `arr[seq]`. In the future this will be interpreted as an array index, `arr[np.array(seq)]`, which will result either in an error or a different result.\n",
      "  diag[s] = 0\n"
     ]
    },
    {
     "name": "stdout",
     "output_type": "stream",
     "text": [
      "[0.0, 11.0, 7.0, 10.0, 9.0, 5.0, 3.0, 8.0, 5.0, 10.0, 12.0, 8.0, 7.0, 10.0, 4.0, 2.0, 5.0, 6.0, 7.0, 0.0, 2.0, 3.0, 1.0, 2.0, 2.0, 14.0, 3.0, 2.0, 1.0, 3.0, 4.0, 0.0, 1.0, 7.0, 2.0, 4.0, 2.0, 0.0, 7.0, 0.0, 2.0, 2.0, 0.0]\n",
      "[0.0, 11.0, 7.0, 10.0, 9.0, 5.0, 3.0, 8.0, 5.0, 10.0, 12.0, 8.0, 7.0, 10.0, 4.0, 2.0, 5.0, 6.0, 7.0, 0.0, 2.0, 3.0, 1.0, 2.0, 2.0, 14.0, 3.0, 2.0, 1.0, 3.0, 4.0, 0.0, 1.0, 7.0, 2.0, 4.0, 2.0, 0.0, 8.0, 0.0, 2.0, 2.0, 0.0]\n",
      "[0.0, 11.0, 7.0, 10.0, 9.0, 5.0, 3.0, 8.0, 5.0, 10.0, 12.0, 8.0, 7.0, 10.0, 4.0, 2.0, 5.0, 6.0, 7.0, 0.0, 2.0, 3.0, 1.0, 2.0, 2.0, 14.0, 3.0, 2.0, 1.0, 3.0, 4.0, 1.0, 1.0, 7.0, 2.0, 4.0, 2.0, 0.0, 8.0, 0.0, 2.0, 2.0, 0.0]\n",
      "[0.0, 11.0, 8.0, 10.0, 9.0, 5.0, 3.0, 8.0, 5.0, 10.0, 12.0, 8.0, 7.0, 10.0, 4.0, 2.0, 5.0, 6.0, 7.0, 0.0, 2.0, 3.0, 1.0, 2.0, 2.0, 14.0, 3.0, 2.0, 1.0, 3.0, 4.0, 1.0, 1.0, 7.0, 2.0, 4.0, 2.0, 0.0, 8.0, 0.0, 2.0, 2.0, 0.0]\n"
     ]
    },
    {
     "name": "stderr",
     "output_type": "stream",
     "text": [
      "/home/user/anaconda3/envs/pytorch/lib/python3.7/site-packages/pyamg/gallery/stencil.py:114: FutureWarning: Using a non-tuple sequence for multidimensional indexing is deprecated; use `arr[tuple(seq)]` instead of `arr[seq]`. In the future this will be interpreted as an array index, `arr[np.array(seq)]`, which will result either in an error or a different result.\n",
      "  diag[s] = 0\n",
      "/home/user/anaconda3/envs/pytorch/lib/python3.7/site-packages/pyamg/gallery/stencil.py:110: FutureWarning: Using a non-tuple sequence for multidimensional indexing is deprecated; use `arr[tuple(seq)]` instead of `arr[seq]`. In the future this will be interpreted as an array index, `arr[np.array(seq)]`, which will result either in an error or a different result.\n",
      "  diag[s] = 0\n",
      "/home/user/anaconda3/envs/pytorch/lib/python3.7/site-packages/pyamg/gallery/stencil.py:114: FutureWarning: Using a non-tuple sequence for multidimensional indexing is deprecated; use `arr[tuple(seq)]` instead of `arr[seq]`. In the future this will be interpreted as an array index, `arr[np.array(seq)]`, which will result either in an error or a different result.\n",
      "  diag[s] = 0\n",
      "/home/user/anaconda3/envs/pytorch/lib/python3.7/site-packages/pyamg/gallery/stencil.py:110: FutureWarning: Using a non-tuple sequence for multidimensional indexing is deprecated; use `arr[tuple(seq)]` instead of `arr[seq]`. In the future this will be interpreted as an array index, `arr[np.array(seq)]`, which will result either in an error or a different result.\n",
      "  diag[s] = 0\n",
      "/home/user/anaconda3/envs/pytorch/lib/python3.7/site-packages/pyamg/gallery/stencil.py:114: FutureWarning: Using a non-tuple sequence for multidimensional indexing is deprecated; use `arr[tuple(seq)]` instead of `arr[seq]`. In the future this will be interpreted as an array index, `arr[np.array(seq)]`, which will result either in an error or a different result.\n",
      "  diag[s] = 0\n",
      "/home/user/anaconda3/envs/pytorch/lib/python3.7/site-packages/pyamg/gallery/stencil.py:110: FutureWarning: Using a non-tuple sequence for multidimensional indexing is deprecated; use `arr[tuple(seq)]` instead of `arr[seq]`. In the future this will be interpreted as an array index, `arr[np.array(seq)]`, which will result either in an error or a different result.\n",
      "  diag[s] = 0\n"
     ]
    },
    {
     "name": "stdout",
     "output_type": "stream",
     "text": [
      "[0.0, 11.0, 8.0, 10.0, 9.0, 5.0, 3.0, 8.0, 6.0, 10.0, 12.0, 8.0, 7.0, 10.0, 4.0, 2.0, 5.0, 6.0, 7.0, 0.0, 2.0, 3.0, 1.0, 2.0, 2.0, 14.0, 3.0, 2.0, 1.0, 3.0, 4.0, 1.0, 1.0, 7.0, 2.0, 4.0, 2.0, 0.0, 8.0, 0.0, 2.0, 2.0, 0.0]\n",
      "[0.0, 11.0, 8.0, 10.0, 9.0, 5.0, 3.0, 8.0, 6.0, 10.0, 12.0, 8.0, 7.0, 10.0, 4.0, 2.0, 5.0, 6.0, 7.0, 0.0, 2.0, 3.0, 1.0, 2.0, 2.0, 14.0, 3.0, 2.0, 1.0, 3.0, 4.0, 1.0, 1.0, 7.0, 2.0, 4.0, 2.0, 0.0, 9.0, 0.0, 2.0, 2.0, 0.0]\n",
      "[0.0, 11.0, 8.0, 10.0, 9.0, 5.0, 3.0, 8.0, 6.0, 10.0, 12.0, 8.0, 7.0, 10.0, 4.0, 2.0, 5.0, 6.0, 8.0, 0.0, 2.0, 3.0, 1.0, 2.0, 2.0, 14.0, 3.0, 2.0, 1.0, 3.0, 4.0, 1.0, 1.0, 7.0, 2.0, 4.0, 2.0, 0.0, 9.0, 0.0, 2.0, 2.0, 0.0]\n",
      "[0.0, 11.0, 8.0, 10.0, 9.0, 5.0, 3.0, 8.0, 6.0, 10.0, 12.0, 8.0, 7.0, 10.0, 4.0, 2.0, 5.0, 6.0, 8.0, 0.0, 2.0, 3.0, 1.0, 2.0, 2.0, 14.0, 3.0, 2.0, 2.0, 3.0, 4.0, 1.0, 1.0, 7.0, 2.0, 4.0, 2.0, 0.0, 9.0, 0.0, 2.0, 2.0, 0.0]\n"
     ]
    },
    {
     "name": "stderr",
     "output_type": "stream",
     "text": [
      "/home/user/anaconda3/envs/pytorch/lib/python3.7/site-packages/ipykernel_launcher.py:38: UserWarning: To copy construct from a tensor, it is recommended to use sourceTensor.clone().detach() or sourceTensor.clone().detach().requires_grad_(True), rather than torch.tensor(sourceTensor).\n",
      "/home/user/anaconda3/envs/pytorch/lib/python3.7/site-packages/pyamg/gallery/stencil.py:114: FutureWarning: Using a non-tuple sequence for multidimensional indexing is deprecated; use `arr[tuple(seq)]` instead of `arr[seq]`. In the future this will be interpreted as an array index, `arr[np.array(seq)]`, which will result either in an error or a different result.\n",
      "  diag[s] = 0\n",
      "/home/user/anaconda3/envs/pytorch/lib/python3.7/site-packages/pyamg/gallery/stencil.py:110: FutureWarning: Using a non-tuple sequence for multidimensional indexing is deprecated; use `arr[tuple(seq)]` instead of `arr[seq]`. In the future this will be interpreted as an array index, `arr[np.array(seq)]`, which will result either in an error or a different result.\n",
      "  diag[s] = 0\n",
      "/home/user/anaconda3/envs/pytorch/lib/python3.7/site-packages/pyamg/gallery/stencil.py:114: FutureWarning: Using a non-tuple sequence for multidimensional indexing is deprecated; use `arr[tuple(seq)]` instead of `arr[seq]`. In the future this will be interpreted as an array index, `arr[np.array(seq)]`, which will result either in an error or a different result.\n",
      "  diag[s] = 0\n",
      "/home/user/anaconda3/envs/pytorch/lib/python3.7/site-packages/pyamg/gallery/stencil.py:110: FutureWarning: Using a non-tuple sequence for multidimensional indexing is deprecated; use `arr[tuple(seq)]` instead of `arr[seq]`. In the future this will be interpreted as an array index, `arr[np.array(seq)]`, which will result either in an error or a different result.\n",
      "  diag[s] = 0\n",
      "/home/user/anaconda3/envs/pytorch/lib/python3.7/site-packages/pyamg/gallery/stencil.py:114: FutureWarning: Using a non-tuple sequence for multidimensional indexing is deprecated; use `arr[tuple(seq)]` instead of `arr[seq]`. In the future this will be interpreted as an array index, `arr[np.array(seq)]`, which will result either in an error or a different result.\n",
      "  diag[s] = 0\n",
      "/home/user/anaconda3/envs/pytorch/lib/python3.7/site-packages/pyamg/gallery/stencil.py:110: FutureWarning: Using a non-tuple sequence for multidimensional indexing is deprecated; use `arr[tuple(seq)]` instead of `arr[seq]`. In the future this will be interpreted as an array index, `arr[np.array(seq)]`, which will result either in an error or a different result.\n",
      "  diag[s] = 0\n",
      "/home/user/anaconda3/envs/pytorch/lib/python3.7/site-packages/pyamg/gallery/stencil.py:114: FutureWarning: Using a non-tuple sequence for multidimensional indexing is deprecated; use `arr[tuple(seq)]` instead of `arr[seq]`. In the future this will be interpreted as an array index, `arr[np.array(seq)]`, which will result either in an error or a different result.\n",
      "  diag[s] = 0\n",
      "/home/user/anaconda3/envs/pytorch/lib/python3.7/site-packages/pyamg/gallery/stencil.py:110: FutureWarning: Using a non-tuple sequence for multidimensional indexing is deprecated; use `arr[tuple(seq)]` instead of `arr[seq]`. In the future this will be interpreted as an array index, `arr[np.array(seq)]`, which will result either in an error or a different result.\n",
      "  diag[s] = 0\n",
      "/home/user/anaconda3/envs/pytorch/lib/python3.7/site-packages/ipykernel_launcher.py:38: UserWarning: To copy construct from a tensor, it is recommended to use sourceTensor.clone().detach() or sourceTensor.clone().detach().requires_grad_(True), rather than torch.tensor(sourceTensor).\n"
     ]
    },
    {
     "name": "stdout",
     "output_type": "stream",
     "text": [
      "[0.0, 11.0, 8.0, 10.0, 9.0, 5.0, 3.0, 8.0, 6.0, 10.0, 12.0, 8.0, 7.0, 10.0, 4.0, 2.0, 5.0, 7.0, 8.0, 0.0, 2.0, 3.0, 1.0, 2.0, 2.0, 14.0, 3.0, 2.0, 2.0, 3.0, 4.0, 1.0, 1.0, 7.0, 2.0, 4.0, 2.0, 0.0, 9.0, 0.0, 2.0, 2.0, 0.0]\n",
      "[0.0, 11.0, 8.0, 10.0, 9.0, 5.0, 3.0, 8.0, 6.0, 11.0, 12.0, 8.0, 7.0, 10.0, 4.0, 2.0, 5.0, 7.0, 8.0, 0.0, 2.0, 3.0, 1.0, 2.0, 2.0, 14.0, 3.0, 2.0, 2.0, 3.0, 4.0, 1.0, 1.0, 7.0, 2.0, 4.0, 2.0, 0.0, 9.0, 0.0, 2.0, 2.0, 0.0]\n",
      "[0.0, 11.0, 8.0, 10.0, 10.0, 5.0, 3.0, 8.0, 6.0, 11.0, 12.0, 8.0, 7.0, 10.0, 4.0, 2.0, 5.0, 7.0, 8.0, 0.0, 2.0, 3.0, 1.0, 2.0, 2.0, 14.0, 3.0, 2.0, 2.0, 3.0, 4.0, 1.0, 1.0, 7.0, 2.0, 4.0, 2.0, 0.0, 9.0, 0.0, 2.0, 2.0, 0.0]\n",
      "[0.0, 12.0, 8.0, 10.0, 10.0, 5.0, 3.0, 8.0, 6.0, 11.0, 12.0, 8.0, 7.0, 10.0, 4.0, 2.0, 5.0, 7.0, 8.0, 0.0, 2.0, 3.0, 1.0, 2.0, 2.0, 14.0, 3.0, 2.0, 2.0, 3.0, 4.0, 1.0, 1.0, 7.0, 2.0, 4.0, 2.0, 0.0, 9.0, 0.0, 2.0, 2.0, 0.0]\n"
     ]
    },
    {
     "name": "stderr",
     "output_type": "stream",
     "text": [
      "/home/user/anaconda3/envs/pytorch/lib/python3.7/site-packages/pyamg/gallery/stencil.py:114: FutureWarning: Using a non-tuple sequence for multidimensional indexing is deprecated; use `arr[tuple(seq)]` instead of `arr[seq]`. In the future this will be interpreted as an array index, `arr[np.array(seq)]`, which will result either in an error or a different result.\n",
      "  diag[s] = 0\n",
      "/home/user/anaconda3/envs/pytorch/lib/python3.7/site-packages/pyamg/gallery/stencil.py:110: FutureWarning: Using a non-tuple sequence for multidimensional indexing is deprecated; use `arr[tuple(seq)]` instead of `arr[seq]`. In the future this will be interpreted as an array index, `arr[np.array(seq)]`, which will result either in an error or a different result.\n",
      "  diag[s] = 0\n",
      "/home/user/anaconda3/envs/pytorch/lib/python3.7/site-packages/pyamg/gallery/stencil.py:114: FutureWarning: Using a non-tuple sequence for multidimensional indexing is deprecated; use `arr[tuple(seq)]` instead of `arr[seq]`. In the future this will be interpreted as an array index, `arr[np.array(seq)]`, which will result either in an error or a different result.\n",
      "  diag[s] = 0\n",
      "/home/user/anaconda3/envs/pytorch/lib/python3.7/site-packages/pyamg/gallery/stencil.py:110: FutureWarning: Using a non-tuple sequence for multidimensional indexing is deprecated; use `arr[tuple(seq)]` instead of `arr[seq]`. In the future this will be interpreted as an array index, `arr[np.array(seq)]`, which will result either in an error or a different result.\n",
      "  diag[s] = 0\n",
      "/home/user/anaconda3/envs/pytorch/lib/python3.7/site-packages/pyamg/gallery/stencil.py:114: FutureWarning: Using a non-tuple sequence for multidimensional indexing is deprecated; use `arr[tuple(seq)]` instead of `arr[seq]`. In the future this will be interpreted as an array index, `arr[np.array(seq)]`, which will result either in an error or a different result.\n",
      "  diag[s] = 0\n",
      "/home/user/anaconda3/envs/pytorch/lib/python3.7/site-packages/pyamg/gallery/stencil.py:110: FutureWarning: Using a non-tuple sequence for multidimensional indexing is deprecated; use `arr[tuple(seq)]` instead of `arr[seq]`. In the future this will be interpreted as an array index, `arr[np.array(seq)]`, which will result either in an error or a different result.\n",
      "  diag[s] = 0\n",
      "/home/user/anaconda3/envs/pytorch/lib/python3.7/site-packages/pyamg/gallery/stencil.py:114: FutureWarning: Using a non-tuple sequence for multidimensional indexing is deprecated; use `arr[tuple(seq)]` instead of `arr[seq]`. In the future this will be interpreted as an array index, `arr[np.array(seq)]`, which will result either in an error or a different result.\n",
      "  diag[s] = 0\n",
      "/home/user/anaconda3/envs/pytorch/lib/python3.7/site-packages/pyamg/gallery/stencil.py:110: FutureWarning: Using a non-tuple sequence for multidimensional indexing is deprecated; use `arr[tuple(seq)]` instead of `arr[seq]`. In the future this will be interpreted as an array index, `arr[np.array(seq)]`, which will result either in an error or a different result.\n",
      "  diag[s] = 0\n"
     ]
    },
    {
     "ename": "TypeError",
     "evalue": "Failed generating smoothed_aggregation_solver",
     "output_type": "error",
     "traceback": [
      "\u001b[0;31m---------------------------------------------------------------------------\u001b[0m",
      "\u001b[0;31mKeyboardInterrupt\u001b[0m                         Traceback (most recent call last)",
      "\u001b[0;32m~/anaconda3/envs/pytorch/lib/python3.7/site-packages/pyamg/blackbox.py\u001b[0m in \u001b[0;36msolver\u001b[0;34m(A, config)\u001b[0m\n\u001b[1;32m    206\u001b[0m                                         \u001b[0mpostsmoother\u001b[0m\u001b[0;34m=\u001b[0m\u001b[0mconfig\u001b[0m\u001b[0;34m[\u001b[0m\u001b[0;34m'postsmoother'\u001b[0m\u001b[0;34m]\u001b[0m\u001b[0;34m,\u001b[0m\u001b[0;34m\u001b[0m\u001b[0;34m\u001b[0m\u001b[0m\n\u001b[0;32m--> 207\u001b[0;31m                                         keep=config['keep'])\n\u001b[0m\u001b[1;32m    208\u001b[0m     \u001b[0;32mexcept\u001b[0m \u001b[0mBaseException\u001b[0m\u001b[0;34m:\u001b[0m\u001b[0;34m\u001b[0m\u001b[0;34m\u001b[0m\u001b[0m\n",
      "\u001b[0;32m~/anaconda3/envs/pytorch/lib/python3.7/site-packages/pyamg/aggregation/aggregation.py\u001b[0m in \u001b[0;36msmoothed_aggregation_solver\u001b[0;34m(A, B, BH, symmetry, strength, aggregate, smooth, presmoother, postsmoother, improve_candidates, max_levels, max_coarse, diagonal_dominance, keep, **kwargs)\u001b[0m\n\u001b[1;32m    286\u001b[0m         extend_hierarchy(levels, strength, aggregate, smooth,\n\u001b[0;32m--> 287\u001b[0;31m                          improve_candidates, diagonal_dominance, keep)\n\u001b[0m\u001b[1;32m    288\u001b[0m \u001b[0;34m\u001b[0m\u001b[0m\n",
      "\u001b[0;32m~/anaconda3/envs/pytorch/lib/python3.7/site-packages/pyamg/aggregation/aggregation.py\u001b[0m in \u001b[0;36mextend_hierarchy\u001b[0;34m(levels, strength, aggregate, smooth, improve_candidates, diagonal_dominance, keep)\u001b[0m\n\u001b[1;32m    327\u001b[0m         \u001b[0;32melse\u001b[0m\u001b[0;34m:\u001b[0m\u001b[0;34m\u001b[0m\u001b[0;34m\u001b[0m\u001b[0m\n\u001b[0;32m--> 328\u001b[0;31m             \u001b[0mC\u001b[0m \u001b[0;34m=\u001b[0m \u001b[0mevolution_strength_of_connection\u001b[0m\u001b[0;34m(\u001b[0m\u001b[0mA\u001b[0m\u001b[0;34m,\u001b[0m \u001b[0mB\u001b[0m\u001b[0;34m,\u001b[0m \u001b[0;34m**\u001b[0m\u001b[0mkwargs\u001b[0m\u001b[0;34m)\u001b[0m\u001b[0;34m\u001b[0m\u001b[0;34m\u001b[0m\u001b[0m\n\u001b[0m\u001b[1;32m    329\u001b[0m     \u001b[0;32melif\u001b[0m \u001b[0mfn\u001b[0m \u001b[0;34m==\u001b[0m \u001b[0;34m'energy_based'\u001b[0m\u001b[0;34m:\u001b[0m\u001b[0;34m\u001b[0m\u001b[0;34m\u001b[0m\u001b[0m\n",
      "\u001b[0;32m~/anaconda3/envs/pytorch/lib/python3.7/site-packages/pyamg/strength.py\u001b[0m in \u001b[0;36mevolution_strength_of_connection\u001b[0;34m(A, B, epsilon, k, proj_type, block_flag, symmetrize_measure)\u001b[0m\n\u001b[1;32m    613\u001b[0m     \u001b[0mId\u001b[0m \u001b[0;34m=\u001b[0m \u001b[0msparse\u001b[0m\u001b[0;34m.\u001b[0m\u001b[0meye\u001b[0m\u001b[0;34m(\u001b[0m\u001b[0mdimen\u001b[0m\u001b[0;34m,\u001b[0m \u001b[0mdimen\u001b[0m\u001b[0;34m,\u001b[0m \u001b[0mformat\u001b[0m\u001b[0;34m=\u001b[0m\u001b[0;34m\"csr\"\u001b[0m\u001b[0;34m,\u001b[0m \u001b[0mdtype\u001b[0m\u001b[0;34m=\u001b[0m\u001b[0mA\u001b[0m\u001b[0;34m.\u001b[0m\u001b[0mdtype\u001b[0m\u001b[0;34m)\u001b[0m\u001b[0;34m\u001b[0m\u001b[0;34m\u001b[0m\u001b[0m\n\u001b[0;32m--> 614\u001b[0;31m     \u001b[0mAtilde\u001b[0m \u001b[0;34m=\u001b[0m \u001b[0;34m(\u001b[0m\u001b[0mId\u001b[0m \u001b[0;34m-\u001b[0m \u001b[0;34m(\u001b[0m\u001b[0;36m1.0\u001b[0m \u001b[0;34m/\u001b[0m \u001b[0mrho_DinvA\u001b[0m\u001b[0;34m)\u001b[0m \u001b[0;34m*\u001b[0m \u001b[0mDinv_A\u001b[0m\u001b[0;34m)\u001b[0m\u001b[0;34m\u001b[0m\u001b[0;34m\u001b[0m\u001b[0m\n\u001b[0m\u001b[1;32m    615\u001b[0m     \u001b[0mAtilde\u001b[0m \u001b[0;34m=\u001b[0m \u001b[0mAtilde\u001b[0m\u001b[0;34m.\u001b[0m\u001b[0mT\u001b[0m\u001b[0;34m.\u001b[0m\u001b[0mtocsr\u001b[0m\u001b[0;34m(\u001b[0m\u001b[0;34m)\u001b[0m\u001b[0;34m\u001b[0m\u001b[0;34m\u001b[0m\u001b[0m\n",
      "\u001b[0;32m~/anaconda3/envs/pytorch/lib/python3.7/site-packages/scipy/sparse/base.py\u001b[0m in \u001b[0;36m__rmul__\u001b[0;34m(self, other)\u001b[0m\n\u001b[1;32m    544\u001b[0m         \u001b[0;32mif\u001b[0m \u001b[0misscalarlike\u001b[0m\u001b[0;34m(\u001b[0m\u001b[0mother\u001b[0m\u001b[0;34m)\u001b[0m\u001b[0;34m:\u001b[0m\u001b[0;34m\u001b[0m\u001b[0;34m\u001b[0m\u001b[0m\n\u001b[0;32m--> 545\u001b[0;31m             \u001b[0;32mreturn\u001b[0m \u001b[0mself\u001b[0m\u001b[0;34m.\u001b[0m\u001b[0m__mul__\u001b[0m\u001b[0;34m(\u001b[0m\u001b[0mother\u001b[0m\u001b[0;34m)\u001b[0m\u001b[0;34m\u001b[0m\u001b[0;34m\u001b[0m\u001b[0m\n\u001b[0m\u001b[1;32m    546\u001b[0m         \u001b[0;32melse\u001b[0m\u001b[0;34m:\u001b[0m\u001b[0;34m\u001b[0m\u001b[0;34m\u001b[0m\u001b[0m\n",
      "\u001b[0;32m~/anaconda3/envs/pytorch/lib/python3.7/site-packages/scipy/sparse/base.py\u001b[0m in \u001b[0;36m__mul__\u001b[0;34m(self, other)\u001b[0m\n\u001b[1;32m    476\u001b[0m             \u001b[0;31m# scalar value\u001b[0m\u001b[0;34m\u001b[0m\u001b[0;34m\u001b[0m\u001b[0;34m\u001b[0m\u001b[0m\n\u001b[0;32m--> 477\u001b[0;31m             \u001b[0;32mreturn\u001b[0m \u001b[0mself\u001b[0m\u001b[0;34m.\u001b[0m\u001b[0m_mul_scalar\u001b[0m\u001b[0;34m(\u001b[0m\u001b[0mother\u001b[0m\u001b[0;34m)\u001b[0m\u001b[0;34m\u001b[0m\u001b[0;34m\u001b[0m\u001b[0m\n\u001b[0m\u001b[1;32m    478\u001b[0m \u001b[0;34m\u001b[0m\u001b[0m\n",
      "\u001b[0;32m~/anaconda3/envs/pytorch/lib/python3.7/site-packages/scipy/sparse/data.py\u001b[0m in \u001b[0;36m_mul_scalar\u001b[0;34m(self, other)\u001b[0m\n\u001b[1;32m    122\u001b[0m     \u001b[0;32mdef\u001b[0m \u001b[0m_mul_scalar\u001b[0m\u001b[0;34m(\u001b[0m\u001b[0mself\u001b[0m\u001b[0;34m,\u001b[0m \u001b[0mother\u001b[0m\u001b[0;34m)\u001b[0m\u001b[0;34m:\u001b[0m\u001b[0;34m\u001b[0m\u001b[0;34m\u001b[0m\u001b[0m\n\u001b[0;32m--> 123\u001b[0;31m         \u001b[0;32mreturn\u001b[0m \u001b[0mself\u001b[0m\u001b[0;34m.\u001b[0m\u001b[0m_with_data\u001b[0m\u001b[0;34m(\u001b[0m\u001b[0mself\u001b[0m\u001b[0;34m.\u001b[0m\u001b[0mdata\u001b[0m \u001b[0;34m*\u001b[0m \u001b[0mother\u001b[0m\u001b[0;34m)\u001b[0m\u001b[0;34m\u001b[0m\u001b[0;34m\u001b[0m\u001b[0m\n\u001b[0m\u001b[1;32m    124\u001b[0m \u001b[0;34m\u001b[0m\u001b[0m\n",
      "\u001b[0;32m~/anaconda3/envs/pytorch/lib/python3.7/site-packages/scipy/sparse/compressed.py\u001b[0m in \u001b[0;36m_with_data\u001b[0;34m(self, data, copy)\u001b[0m\n\u001b[1;32m   1141\u001b[0m                                   \u001b[0mshape\u001b[0m\u001b[0;34m=\u001b[0m\u001b[0mself\u001b[0m\u001b[0;34m.\u001b[0m\u001b[0mshape\u001b[0m\u001b[0;34m,\u001b[0m\u001b[0;34m\u001b[0m\u001b[0;34m\u001b[0m\u001b[0m\n\u001b[0;32m-> 1142\u001b[0;31m                                   dtype=data.dtype)\n\u001b[0m\u001b[1;32m   1143\u001b[0m         \u001b[0;32melse\u001b[0m\u001b[0;34m:\u001b[0m\u001b[0;34m\u001b[0m\u001b[0;34m\u001b[0m\u001b[0m\n",
      "\u001b[0;32m~/anaconda3/envs/pytorch/lib/python3.7/site-packages/scipy/sparse/compressed.py\u001b[0m in \u001b[0;36m__init__\u001b[0;34m(self, arg1, shape, dtype, copy)\u001b[0m\n\u001b[1;32m    102\u001b[0m \u001b[0;34m\u001b[0m\u001b[0m\n\u001b[0;32m--> 103\u001b[0;31m         \u001b[0mself\u001b[0m\u001b[0;34m.\u001b[0m\u001b[0mcheck_format\u001b[0m\u001b[0;34m(\u001b[0m\u001b[0mfull_check\u001b[0m\u001b[0;34m=\u001b[0m\u001b[0;32mFalse\u001b[0m\u001b[0;34m)\u001b[0m\u001b[0;34m\u001b[0m\u001b[0;34m\u001b[0m\u001b[0m\n\u001b[0m\u001b[1;32m    104\u001b[0m \u001b[0;34m\u001b[0m\u001b[0m\n",
      "\u001b[0;32m~/anaconda3/envs/pytorch/lib/python3.7/site-packages/scipy/sparse/compressed.py\u001b[0m in \u001b[0;36mcheck_format\u001b[0;34m(self, full_check)\u001b[0m\n\u001b[1;32m    153\u001b[0m \u001b[0;34m\u001b[0m\u001b[0m\n\u001b[0;32m--> 154\u001b[0;31m         \u001b[0midx_dtype\u001b[0m \u001b[0;34m=\u001b[0m \u001b[0mget_index_dtype\u001b[0m\u001b[0;34m(\u001b[0m\u001b[0;34m(\u001b[0m\u001b[0mself\u001b[0m\u001b[0;34m.\u001b[0m\u001b[0mindptr\u001b[0m\u001b[0;34m,\u001b[0m \u001b[0mself\u001b[0m\u001b[0;34m.\u001b[0m\u001b[0mindices\u001b[0m\u001b[0;34m)\u001b[0m\u001b[0;34m)\u001b[0m\u001b[0;34m\u001b[0m\u001b[0;34m\u001b[0m\u001b[0m\n\u001b[0m\u001b[1;32m    155\u001b[0m         \u001b[0mself\u001b[0m\u001b[0;34m.\u001b[0m\u001b[0mindptr\u001b[0m \u001b[0;34m=\u001b[0m \u001b[0mnp\u001b[0m\u001b[0;34m.\u001b[0m\u001b[0masarray\u001b[0m\u001b[0;34m(\u001b[0m\u001b[0mself\u001b[0m\u001b[0;34m.\u001b[0m\u001b[0mindptr\u001b[0m\u001b[0;34m,\u001b[0m \u001b[0mdtype\u001b[0m\u001b[0;34m=\u001b[0m\u001b[0midx_dtype\u001b[0m\u001b[0;34m)\u001b[0m\u001b[0;34m\u001b[0m\u001b[0;34m\u001b[0m\u001b[0m\n",
      "\u001b[0;32m~/anaconda3/envs/pytorch/lib/python3.7/site-packages/scipy/sparse/sputils.py\u001b[0m in \u001b[0;36mget_index_dtype\u001b[0;34m(arrays, maxval, check_contents)\u001b[0m\n\u001b[1;32m    141\u001b[0m \u001b[0;34m\u001b[0m\u001b[0m\n\u001b[0;32m--> 142\u001b[0;31m     \u001b[0mint32min\u001b[0m \u001b[0;34m=\u001b[0m \u001b[0mnp\u001b[0m\u001b[0;34m.\u001b[0m\u001b[0miinfo\u001b[0m\u001b[0;34m(\u001b[0m\u001b[0mnp\u001b[0m\u001b[0;34m.\u001b[0m\u001b[0mint32\u001b[0m\u001b[0;34m)\u001b[0m\u001b[0;34m.\u001b[0m\u001b[0mmin\u001b[0m\u001b[0;34m\u001b[0m\u001b[0;34m\u001b[0m\u001b[0m\n\u001b[0m\u001b[1;32m    143\u001b[0m     \u001b[0mint32max\u001b[0m \u001b[0;34m=\u001b[0m \u001b[0mnp\u001b[0m\u001b[0;34m.\u001b[0m\u001b[0miinfo\u001b[0m\u001b[0;34m(\u001b[0m\u001b[0mnp\u001b[0m\u001b[0;34m.\u001b[0m\u001b[0mint32\u001b[0m\u001b[0;34m)\u001b[0m\u001b[0;34m.\u001b[0m\u001b[0mmax\u001b[0m\u001b[0;34m\u001b[0m\u001b[0;34m\u001b[0m\u001b[0m\n",
      "\u001b[0;32m~/anaconda3/envs/pytorch/lib/python3.7/site-packages/numpy/core/getlimits.py\u001b[0m in \u001b[0;36m__init__\u001b[0;34m(self, int_type)\u001b[0m\n\u001b[1;32m    504\u001b[0m         \u001b[0mself\u001b[0m\u001b[0;34m.\u001b[0m\u001b[0mkey\u001b[0m \u001b[0;34m=\u001b[0m \u001b[0;34m\"%s%d\"\u001b[0m \u001b[0;34m%\u001b[0m \u001b[0;34m(\u001b[0m\u001b[0mself\u001b[0m\u001b[0;34m.\u001b[0m\u001b[0mkind\u001b[0m\u001b[0;34m,\u001b[0m \u001b[0mself\u001b[0m\u001b[0;34m.\u001b[0m\u001b[0mbits\u001b[0m\u001b[0;34m)\u001b[0m\u001b[0;34m\u001b[0m\u001b[0;34m\u001b[0m\u001b[0m\n\u001b[0;32m--> 505\u001b[0;31m         \u001b[0;32mif\u001b[0m \u001b[0mself\u001b[0m\u001b[0;34m.\u001b[0m\u001b[0mkind\u001b[0m \u001b[0;32mnot\u001b[0m \u001b[0;32min\u001b[0m \u001b[0;34m'iu'\u001b[0m\u001b[0;34m:\u001b[0m\u001b[0;34m\u001b[0m\u001b[0;34m\u001b[0m\u001b[0m\n\u001b[0m\u001b[1;32m    506\u001b[0m             \u001b[0;32mraise\u001b[0m \u001b[0mValueError\u001b[0m\u001b[0;34m(\u001b[0m\u001b[0;34m\"Invalid integer data type %r.\"\u001b[0m \u001b[0;34m%\u001b[0m \u001b[0;34m(\u001b[0m\u001b[0mself\u001b[0m\u001b[0;34m.\u001b[0m\u001b[0mkind\u001b[0m\u001b[0;34m,\u001b[0m\u001b[0;34m)\u001b[0m\u001b[0;34m)\u001b[0m\u001b[0;34m\u001b[0m\u001b[0;34m\u001b[0m\u001b[0m\n",
      "\u001b[0;31mKeyboardInterrupt\u001b[0m: ",
      "\nDuring handling of the above exception, another exception occurred:\n",
      "\u001b[0;31mTypeError\u001b[0m                                 Traceback (most recent call last)",
      "\u001b[0;32m<ipython-input-36-4252499eff98>\u001b[0m in \u001b[0;36m<module>\u001b[0;34m\u001b[0m\n\u001b[1;32m     47\u001b[0m     \u001b[0m_\u001b[0m\u001b[0;34m,\u001b[0m \u001b[0mpredicted\u001b[0m \u001b[0;34m=\u001b[0m \u001b[0mtorch\u001b[0m\u001b[0;34m.\u001b[0m\u001b[0mmax\u001b[0m\u001b[0;34m(\u001b[0m\u001b[0moutputs\u001b[0m\u001b[0;34m,\u001b[0m \u001b[0;36m1\u001b[0m\u001b[0;34m)\u001b[0m\u001b[0;34m\u001b[0m\u001b[0;34m\u001b[0m\u001b[0m\n\u001b[1;32m     48\u001b[0m \u001b[0;34m\u001b[0m\u001b[0m\n\u001b[0;32m---> 49\u001b[0;31m     \u001b[0mclean_GAN_inputs\u001b[0m\u001b[0;34m,\u001b[0m \u001b[0mclean_GAN_inputs1\u001b[0m\u001b[0;34m,\u001b[0m \u001b[0mclean_patch_inputs\u001b[0m\u001b[0;34m,\u001b[0m \u001b[0mclean_red_inputs\u001b[0m\u001b[0;34m,\u001b[0m \u001b[0mclean_pureGAN_inputs\u001b[0m \u001b[0;34m=\u001b[0m \u001b[0mGAN_patching_inputs\u001b[0m\u001b[0;34m(\u001b[0m\u001b[0mimages\u001b[0m\u001b[0;34m,\u001b[0m \u001b[0mpredicted\u001b[0m\u001b[0;34m,\u001b[0m \u001b[0mi\u001b[0m\u001b[0;34m,\u001b[0m \u001b[0mlabels\u001b[0m\u001b[0;34m,\u001b[0m \u001b[0mbatch_size\u001b[0m\u001b[0;34m)\u001b[0m\u001b[0;34m\u001b[0m\u001b[0;34m\u001b[0m\u001b[0m\n\u001b[0m\u001b[1;32m     50\u001b[0m \u001b[0;34m\u001b[0m\u001b[0m\n\u001b[1;32m     51\u001b[0m     \u001b[0mGAN_outputs\u001b[0m \u001b[0;34m=\u001b[0m \u001b[0mnet\u001b[0m\u001b[0;34m(\u001b[0m\u001b[0mclean_GAN_inputs\u001b[0m\u001b[0;34m)\u001b[0m\u001b[0;34m\u001b[0m\u001b[0;34m\u001b[0m\u001b[0m\n",
      "\u001b[0;32m<ipython-input-35-d8ad4a6ed018>\u001b[0m in \u001b[0;36mGAN_patching_inputs\u001b[0;34m(images, predicted, i, labels, bsize)\u001b[0m\n\u001b[1;32m     90\u001b[0m             \u001b[0moutput\u001b[0m \u001b[0;34m=\u001b[0m \u001b[0mmodel\u001b[0m\u001b[0;34m(\u001b[0m\u001b[0minputx\u001b[0m\u001b[0;34m)\u001b[0m \u001b[0;31m# generate the output for the occluded input [0 1]\u001b[0m\u001b[0;34m\u001b[0m\u001b[0;34m\u001b[0m\u001b[0m\n\u001b[1;32m     91\u001b[0m             \u001b[0minpainted\u001b[0m \u001b[0;34m=\u001b[0m \u001b[0mpoisson_blend_old\u001b[0m\u001b[0;34m(\u001b[0m\u001b[0mx_mask\u001b[0m\u001b[0;34m,\u001b[0m \u001b[0moutput\u001b[0m\u001b[0;34m,\u001b[0m \u001b[0mmask\u001b[0m\u001b[0;34m)\u001b[0m \u001b[0;31m# this is GAN output [0 1]\u001b[0m\u001b[0;34m\u001b[0m\u001b[0;34m\u001b[0m\u001b[0m\n\u001b[0;32m---> 92\u001b[0;31m             \u001b[0minpainted1\u001b[0m \u001b[0;34m=\u001b[0m \u001b[0mpoisson_blend_old1\u001b[0m\u001b[0;34m(\u001b[0m\u001b[0mx_mask\u001b[0m\u001b[0;34m,\u001b[0m \u001b[0moutput\u001b[0m\u001b[0;34m,\u001b[0m \u001b[0mmask\u001b[0m\u001b[0;34m)\u001b[0m \u001b[0;31m# another blend method\u001b[0m\u001b[0;34m\u001b[0m\u001b[0;34m\u001b[0m\u001b[0m\n\u001b[0m\u001b[1;32m     93\u001b[0m             \u001b[0minpainted\u001b[0m \u001b[0;34m=\u001b[0m \u001b[0minpainted\u001b[0m\u001b[0;34m.\u001b[0m\u001b[0mto\u001b[0m\u001b[0;34m(\u001b[0m\u001b[0mdevice\u001b[0m\u001b[0;34m)\u001b[0m\u001b[0;34m\u001b[0m\u001b[0;34m\u001b[0m\u001b[0m\n\u001b[1;32m     94\u001b[0m             \u001b[0minpainted1\u001b[0m \u001b[0;34m=\u001b[0m \u001b[0minpainted1\u001b[0m\u001b[0;34m.\u001b[0m\u001b[0mto\u001b[0m\u001b[0;34m(\u001b[0m\u001b[0mdevice\u001b[0m\u001b[0;34m)\u001b[0m\u001b[0;34m\u001b[0m\u001b[0;34m\u001b[0m\u001b[0m\n",
      "\u001b[0;32m~/gtsrb-pytorch-poison/utils.py\u001b[0m in \u001b[0;36mpoisson_blend_old1\u001b[0;34m(input, output, mask)\u001b[0m\n\u001b[1;32m    245\u001b[0m     \u001b[0;31m# apply poisson image editing method for each input/output image and mask.\u001b[0m\u001b[0;34m\u001b[0m\u001b[0;34m\u001b[0m\u001b[0;34m\u001b[0m\u001b[0m\n\u001b[1;32m    246\u001b[0m     \u001b[0;32mfor\u001b[0m \u001b[0mi\u001b[0m \u001b[0;32min\u001b[0m \u001b[0mrange\u001b[0m\u001b[0;34m(\u001b[0m\u001b[0mnum_samples\u001b[0m\u001b[0;34m)\u001b[0m\u001b[0;34m:\u001b[0m\u001b[0;34m\u001b[0m\u001b[0;34m\u001b[0m\u001b[0m\n\u001b[0;32m--> 247\u001b[0;31m         \u001b[0minpainted_np\u001b[0m \u001b[0;34m=\u001b[0m \u001b[0mblend\u001b[0m\u001b[0;34m(\u001b[0m\u001b[0minput_np\u001b[0m\u001b[0;34m[\u001b[0m\u001b[0mi\u001b[0m\u001b[0;34m]\u001b[0m\u001b[0;34m,\u001b[0m \u001b[0moutput_np\u001b[0m\u001b[0;34m[\u001b[0m\u001b[0mi\u001b[0m\u001b[0;34m]\u001b[0m\u001b[0;34m,\u001b[0m \u001b[0mmask_np\u001b[0m\u001b[0;34m[\u001b[0m\u001b[0mi\u001b[0m\u001b[0;34m]\u001b[0m\u001b[0;34m)\u001b[0m\u001b[0;34m\u001b[0m\u001b[0;34m\u001b[0m\u001b[0m\n\u001b[0m\u001b[1;32m    248\u001b[0m \u001b[0;31m#         inpainted_np = newblend(input_np[i], output_np[i], mask_np[i])\u001b[0m\u001b[0;34m\u001b[0m\u001b[0;34m\u001b[0m\u001b[0;34m\u001b[0m\u001b[0m\n\u001b[1;32m    249\u001b[0m         \u001b[0minpainted\u001b[0m \u001b[0;34m=\u001b[0m \u001b[0mtorch\u001b[0m\u001b[0;34m.\u001b[0m\u001b[0mfrom_numpy\u001b[0m\u001b[0;34m(\u001b[0m\u001b[0mnp\u001b[0m\u001b[0;34m.\u001b[0m\u001b[0mtranspose\u001b[0m\u001b[0;34m(\u001b[0m\u001b[0minpainted_np\u001b[0m\u001b[0;34m,\u001b[0m \u001b[0maxes\u001b[0m\u001b[0;34m=\u001b[0m\u001b[0;34m(\u001b[0m\u001b[0;36m2\u001b[0m\u001b[0;34m,\u001b[0m \u001b[0;36m0\u001b[0m\u001b[0;34m,\u001b[0m \u001b[0;36m1\u001b[0m\u001b[0;34m)\u001b[0m\u001b[0;34m)\u001b[0m\u001b[0;34m)\u001b[0m\u001b[0;34m\u001b[0m\u001b[0;34m\u001b[0m\u001b[0m\n",
      "\u001b[0;32m~/gtsrb-pytorch-poison/poissonblending.py\u001b[0m in \u001b[0;36mblend\u001b[0;34m(img_target, img_source, img_mask, offset)\u001b[0m\n\u001b[1;32m     76\u001b[0m \u001b[0;34m\u001b[0m\u001b[0m\n\u001b[1;32m     77\u001b[0m         \u001b[0;31m# solve Ax = b\u001b[0m\u001b[0;34m\u001b[0m\u001b[0;34m\u001b[0m\u001b[0;34m\u001b[0m\u001b[0m\n\u001b[0;32m---> 78\u001b[0;31m         \u001b[0mx\u001b[0m \u001b[0;34m=\u001b[0m \u001b[0mpyamg\u001b[0m\u001b[0;34m.\u001b[0m\u001b[0msolve\u001b[0m\u001b[0;34m(\u001b[0m\u001b[0mA\u001b[0m\u001b[0;34m,\u001b[0m\u001b[0mb\u001b[0m\u001b[0;34m,\u001b[0m\u001b[0mverb\u001b[0m\u001b[0;34m=\u001b[0m\u001b[0;32mFalse\u001b[0m\u001b[0;34m,\u001b[0m\u001b[0mtol\u001b[0m\u001b[0;34m=\u001b[0m\u001b[0;36m1e-10\u001b[0m\u001b[0;34m)\u001b[0m\u001b[0;34m\u001b[0m\u001b[0;34m\u001b[0m\u001b[0m\n\u001b[0m\u001b[1;32m     79\u001b[0m \u001b[0;34m\u001b[0m\u001b[0m\n\u001b[1;32m     80\u001b[0m         \u001b[0;31m# assign x to target image\u001b[0m\u001b[0;34m\u001b[0m\u001b[0;34m\u001b[0m\u001b[0;34m\u001b[0m\u001b[0m\n",
      "\u001b[0;32m~/anaconda3/envs/pytorch/lib/python3.7/site-packages/pyamg/blackbox.py\u001b[0m in \u001b[0;36msolve\u001b[0;34m(A, b, x0, tol, maxiter, return_solver, existing_solver, verb, residuals)\u001b[0m\n\u001b[1;32m    281\u001b[0m         \u001b[0mconfig\u001b[0m \u001b[0;34m=\u001b[0m \u001b[0msolver_configuration\u001b[0m\u001b[0;34m(\u001b[0m\u001b[0mA\u001b[0m\u001b[0;34m,\u001b[0m \u001b[0mB\u001b[0m\u001b[0;34m=\u001b[0m\u001b[0;32mNone\u001b[0m\u001b[0;34m,\u001b[0m \u001b[0mverb\u001b[0m\u001b[0;34m=\u001b[0m\u001b[0mverb\u001b[0m\u001b[0;34m)\u001b[0m\u001b[0;34m\u001b[0m\u001b[0;34m\u001b[0m\u001b[0m\n\u001b[1;32m    282\u001b[0m         \u001b[0;31m# Generate solver\u001b[0m\u001b[0;34m\u001b[0m\u001b[0;34m\u001b[0m\u001b[0;34m\u001b[0m\u001b[0m\n\u001b[0;32m--> 283\u001b[0;31m         \u001b[0mexisting_solver\u001b[0m \u001b[0;34m=\u001b[0m \u001b[0msolver\u001b[0m\u001b[0;34m(\u001b[0m\u001b[0mA\u001b[0m\u001b[0;34m,\u001b[0m \u001b[0mconfig\u001b[0m\u001b[0;34m)\u001b[0m\u001b[0;34m\u001b[0m\u001b[0;34m\u001b[0m\u001b[0m\n\u001b[0m\u001b[1;32m    284\u001b[0m \u001b[0;34m\u001b[0m\u001b[0m\n\u001b[1;32m    285\u001b[0m     \u001b[0;32melse\u001b[0m\u001b[0;34m:\u001b[0m\u001b[0;34m\u001b[0m\u001b[0;34m\u001b[0m\u001b[0m\n",
      "\u001b[0;32m~/anaconda3/envs/pytorch/lib/python3.7/site-packages/pyamg/blackbox.py\u001b[0m in \u001b[0;36msolver\u001b[0;34m(A, config)\u001b[0m\n\u001b[1;32m    207\u001b[0m                                         keep=config['keep'])\n\u001b[1;32m    208\u001b[0m     \u001b[0;32mexcept\u001b[0m \u001b[0mBaseException\u001b[0m\u001b[0;34m:\u001b[0m\u001b[0;34m\u001b[0m\u001b[0;34m\u001b[0m\u001b[0m\n\u001b[0;32m--> 209\u001b[0;31m         \u001b[0;32mraise\u001b[0m \u001b[0mTypeError\u001b[0m\u001b[0;34m(\u001b[0m\u001b[0;34m'Failed generating smoothed_aggregation_solver'\u001b[0m\u001b[0;34m)\u001b[0m\u001b[0;34m\u001b[0m\u001b[0;34m\u001b[0m\u001b[0m\n\u001b[0m\u001b[1;32m    210\u001b[0m \u001b[0;34m\u001b[0m\u001b[0m\n\u001b[1;32m    211\u001b[0m \u001b[0;34m\u001b[0m\u001b[0m\n",
      "\u001b[0;31mTypeError\u001b[0m: Failed generating smoothed_aggregation_solver"
     ]
    }
   ],
   "source": [
    "# This section is to re-test the performance of the input after patching the input for poisoned images\n",
    "\n",
    "############### POISONED INPUTS #####################\n",
    "#####################################################\n",
    "\n",
    "\n",
    "from tqdm import tqdm_notebook\n",
    "from PIL import Image\n",
    "# Overall performance for clean inputs\n",
    "correct_GAN = 0\n",
    "correct_GAN1 = 0\n",
    "correct_patch = 0\n",
    "corrent_pureGAN = 0\n",
    "correct_red = 0 \n",
    "total = 0\n",
    "batch_size = 4\n",
    "class_GAN_correct = list(0. for i in range(43))\n",
    "class_GAN_correct1 = list(0. for i in range(43))\n",
    "class_patch_correct = list(0. for i in range(43))\n",
    "class_red_correct = list(0. for i in range(43))\n",
    "class_pureGAN_correct = list(0. for i in range(43))\n",
    "\n",
    "class_correct = list(0. for i in range(43))\n",
    "class_total = list(0. for i in range(43))\n",
    "\n",
    "class_GAN_predict = list(0. for i in range(43))\n",
    "class_GAN_predict1 = list(0. for i in range(43))\n",
    "class_patch_predict = list(0. for i in range(43))\n",
    "class_red_predict = list(0. for i in range(43))\n",
    "class_pureGAN_predict = list(0. for i in range(43))\n",
    "target = 7\n",
    "pbar = tqdm_notebook(total=round(len(testset)/batch_size), desc='Verifying the GAN results')\n",
    "\n",
    "for i, data in enumerate(testloader):\n",
    "#     if i < 100: \n",
    "\n",
    "    images, labels = data\n",
    "    true_labels = torch.tensor(labels)\n",
    "    images = poison(images)\n",
    "    images = images.type(torch.FloatTensor)\n",
    "    # labels = torch.ones(len(labels))*target\n",
    "    # labels = labels.type(torch.LongTensor)\n",
    "    images = images.to(device)\n",
    "    labels = labels.to(device)\n",
    "\n",
    "    outputs = net(images)\n",
    "    _, predicted = torch.max(outputs, 1)\n",
    "\n",
    "    clean_GAN_inputs, clean_GAN_inputs1, clean_patch_inputs, clean_red_inputs, clean_pureGAN_inputs = GAN_patching_inputs(images, predicted, i, labels, batch_size)\n",
    "\n",
    "    GAN_outputs = net(clean_GAN_inputs)\n",
    "    _, GAN_predicted = torch.max(GAN_outputs.data, 1)\n",
    "\n",
    "    GAN_outputs1 = net(clean_GAN_inputs1)\n",
    "    _, GAN_predicted1 = torch.max(GAN_outputs1.data, 1)\n",
    "\n",
    "    patch_outputs = net(clean_patch_inputs)\n",
    "    _, patch_predicted = torch.max(patch_outputs.data, 1)\n",
    "\n",
    "    red_outputs = net(clean_red_inputs)\n",
    "    _, red_predicted = torch.max(red_outputs.data, 1)\n",
    "\n",
    "    pureGAN_outputs = net(clean_pureGAN_inputs)\n",
    "    _, pureGAN_predicted = torch.max(pureGAN_outputs.data, 1)\n",
    "\n",
    "\n",
    "    c_GAN = (GAN_predicted == labels).squeeze()\n",
    "    c_GAN1 = (GAN_predicted1 == labels).squeeze()\n",
    "    c_patch = (patch_predicted == labels).squeeze()\n",
    "    c_red = (red_predicted == labels).squeeze()\n",
    "    c_pureGAN = (pureGAN_predicted == labels).squeeze()\n",
    "\n",
    "    total += labels.size(0)\n",
    "\n",
    "\n",
    "    correct_GAN += (GAN_predicted == labels).sum().item()\n",
    "    correct_GAN1 += (GAN_predicted1 == labels).sum().item()\n",
    "    correct_patch += (patch_predicted == labels).sum().item()\n",
    "    correct_red += (red_predicted == labels).sum().item()\n",
    "    corrent_pureGAN += (pureGAN_predicted == labels).sum().item()\n",
    "\n",
    "    pbar.set_description('Running | %.2f | %.2f | %.2f | %.2f | %.2f' % (correct_GAN*100/total, correct_GAN1*100/total, corrent_pureGAN*100/total, correct_red*100/total, correct_patch*100/total))\n",
    "    pbar.update()\n",
    "    # to calculate the correctness for each label\n",
    "\n",
    "    for j in range(len(true_labels)):\n",
    "        label = labels[j]\n",
    "        GAN_predict = GAN_predicted[j]            \n",
    "        GAN_predict1 = GAN_predicted1[j]\n",
    "        patch_predict = patch_predicted[j]\n",
    "        red_predict = red_predicted[j]\n",
    "        pureGAN_predict = pureGAN_predicted[j]\n",
    "        classification_result = predicted[j]\n",
    "        if(GAN_predict != label): # To store wrong classification result to the folder\n",
    "#             images[j] = unnormalize(images[j], mean, std) # convert from [-1 1] to [0 1]\n",
    "#             clean_GAN_inputs[j] = unnormalize(clean_GAN_inputs[j], mean, std) # convert from [-1 1] to [0 1]\n",
    "#             clean_pureGAN_inputs[j] = unnormalize(clean_pureGAN_inputs[j], mean, std) # convert from [-1 1] to [0 1]\n",
    "#             clean_patch_inputs[j] = unnormalize(clean_patch_inputs[j], mean, std)\n",
    "#             clean_red_inputs[j] = unnormalize(clean_red_inputs[j], mean, std)\n",
    "            ori_pic = torch.unsqueeze(images[j], 0)\n",
    "            GAN_blend = torch.unsqueeze(clean_GAN_inputs[j], 0)\n",
    "            GAN_pure = torch.unsqueeze(clean_pureGAN_inputs[j], 0)\n",
    "            patch_pic = torch.unsqueeze(clean_patch_inputs[j], 0)\n",
    "            red_pic = torch.unsqueeze(clean_red_inputs[j], 0)\n",
    "\n",
    "\n",
    "\n",
    "            # This place is to work with PIL to draw images of multiple images and print the predicted \n",
    "            # -------------------------------------------------\n",
    "#                 print(images[j].dtype)\n",
    "#                 print(images[j].shape)\n",
    "#                 ori_pic_pil = Image.fromarray(np.uint8(cm.gist_earth(images[j].cpu().numpy())*255))\n",
    "#                 GAN_pic_pil = Image.fromarray(np.uint8(cm.gist_earth(clean_GAN_inputs[j].cpu().numpy())*255))\n",
    "#                 background = Image.new('RGBA', (64,64), (255,255,255,255))\n",
    "#                 bg_w, bg_h = background.size\n",
    "#                 offset1 = (0,0)\n",
    "#                 background.paste(ori_pic_pil, offset1)\n",
    "#                 background.show()\n",
    "\n",
    "\n",
    "            # -------------------------------------------------\n",
    "\n",
    "            save_imgs = torch.cat((ori_pic.cpu(), GAN_blend.cpu(), GAN_pure.cpu(), red_pic.cpu(), patch_pic.cpu()), dim=0) # combine images for illustration\n",
    "#                 save_imgs = save_imgs.numpy()\n",
    "#                 print(save_imgs.shape)\n",
    "#                 im = Image.fromarray(save_imgs)\n",
    "#                 im.save(\"test.jpg\")\n",
    "            save_image(save_imgs, \"GAN_wrong/\" + str(labels.cpu().numpy()[j]) + \"/\" + str(i).zfill(4) + \"_out_\" + str(j) + \".png\", nrow=5)\n",
    "        class_GAN_correct[label] += c_GAN[j].item()\n",
    "        class_GAN_correct1[label] += c_GAN1[j].item()\n",
    "        class_patch_correct[label] += c_patch[j].item()\n",
    "        class_red_correct[label] += c_red[j].item()\n",
    "        class_pureGAN_correct[label] += c_pureGAN[j].item()\n",
    "\n",
    "\n",
    "        class_GAN_predict[GAN_predict] += 1\n",
    "        class_GAN_predict1[GAN_predict1] += 1\n",
    "        class_patch_predict[patch_predict] += 1\n",
    "        class_red_predict[red_predict] += 1\n",
    "        class_pureGAN_predict[pureGAN_predict] +=1\n",
    "\n",
    "        class_total[label] += 1\n",
    "        print(class_total)\n",
    "            \n",
    "            \n",
    "#     else:\n",
    "#         break\n",
    "\n",
    "pbar.close()\n",
    "print(correct_GAN)\n",
    "print(correct_GAN1)\n",
    "print(corrent_pureGAN)\n",
    "print(correct_red)\n",
    "print(correct_patch)\n",
    "print(total)\n",
    "\n",
    "\n",
    "print('Accuracy of GAN blend for the network on the 10000 test images: %.3f %%' % (\n",
    "    100 * correct_GAN / total))\n",
    "print('Accuracy of GAN blend1 for the network on the 10000 test images: %.3f %%' % (\n",
    "    100 * correct_GAN1 / total))\n",
    "print('Accuracy of GAN pure output for the network on the 10000 test images: %.3f %%' % (\n",
    "    100 * corrent_pureGAN / total))\n",
    "print('Accuracy of red patch for the network on the 10000 test images: %.3f %%' % (\n",
    "    100 * correct_red / total))\n",
    "print('Accuracy of patch for the network on the 10000 test images: %.3f %%' % (\n",
    "    100 * correct_patch / total))\n",
    "\n",
    "print(\"GAN blend correct for each label\\n\")\n",
    "for i in range(43):\n",
    "    print('Accuracy of %5s : %.3f %%' % (\n",
    "        classes[i], 100 * class_GAN_correct[i] / class_total[i]))\n",
    "print(\"GAN blend1 correct for each label\\n\")\n",
    "for i in range(43):\n",
    "    print('Accuracy of %5s : %.3f %%' % (\n",
    "        classes[i], 100 * class_GAN_correct1[i] / class_total[i]))\n",
    "    \n",
    "print(\"GAN pure output correct for each label\\n\")\n",
    "for i in range(43):\n",
    "    print('Accuracy of %5s : %.3f %%' % (\n",
    "        classes[i], 100 * class_pureGAN_correct[i] / class_total[i]))\n",
    "print(\"patch red correct for each label\\n\")\n",
    "for i in range(43):\n",
    "    print('Accuracy of %5s : %.3f %%' % (\n",
    "        classes[i], 100 * class_red_correct[i] / class_total[i]))\n",
    "print(\"patch correct for each label\\n\")\n",
    "for i in range(43):\n",
    "    print('Accuracy of %5s : %.3f %%' % (\n",
    "        classes[i], 100 * class_patch_correct[i] / class_total[i]))\n",
    "\n",
    "\n",
    "print(\"GAN predicts correct {}\".format(class_GAN_correct))\n",
    "print(\"GAN1 predicts correct {}\".format(class_GAN_correct1))\n",
    "print(\"GAN pure output predicts correct {}\".format(class_pureGAN_correct))\n",
    "print(\"patch red predicts correct {}\".format(class_red_correct))\n",
    "print(\"patch predicts correct {}\".format(class_patch_correct))\n",
    "print(\"total class is {}\".format(class_total))\n",
    "\n",
    "print(\"The predicted result of GAN is {}\".format(class_GAN_predict))\n",
    "print(\"The predicted result of GAN1 is {}\".format(class_GAN_predict1))\n",
    "print(\"The predicted result of pure GAN is {}\".format(class_pureGAN_predict))\n",
    "print(\"The predicted result of red patch is {}\".format(class_red_predict))\n",
    "print(\"The predicted result of patch is {}\".format(class_patch_predict))"
   ]
  },
  {
   "cell_type": "code",
   "execution_count": null,
   "metadata": {},
   "outputs": [],
   "source": [
    "# This is GradCAM implementation\n",
    "from grad_cam import (\n",
    "    BackPropagation,\n",
    "    Deconvnet,\n",
    "    GradCAM,\n",
    "    GuidedBackPropagation,\n",
    "    occlusion_sensitivity,\n",
    ")\n",
    "target_layer = \"features.12\"\n",
    "gcam = GradCAM(model=net)"
   ]
  },
  {
   "cell_type": "code",
   "execution_count": null,
   "metadata": {},
   "outputs": [],
   "source": []
  }
 ],
 "metadata": {
  "kernelspec": {
   "display_name": "Python 3",
   "language": "python",
   "name": "python3"
  },
  "language_info": {
   "codemirror_mode": {
    "name": "ipython",
    "version": 3
   },
   "file_extension": ".py",
   "mimetype": "text/x-python",
   "name": "python",
   "nbconvert_exporter": "python",
   "pygments_lexer": "ipython3",
   "version": "3.7.2"
  }
 },
 "nbformat": 4,
 "nbformat_minor": 2
}
